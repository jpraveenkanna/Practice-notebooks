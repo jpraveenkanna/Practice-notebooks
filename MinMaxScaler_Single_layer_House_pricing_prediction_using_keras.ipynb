{
  "nbformat": 4,
  "nbformat_minor": 0,
  "metadata": {
    "colab": {
      "name": "MinMaxScaler - Single layer House pricing prediction using keras.ipynb",
      "provenance": [],
      "collapsed_sections": []
    },
    "kernelspec": {
      "name": "python3",
      "display_name": "Python 3"
    }
  },
  "cells": [
    {
      "cell_type": "markdown",
      "metadata": {
        "id": "aUeeQ0IyooYF",
        "colab_type": "text"
      },
      "source": [
        "Try to build a neural network that predicts the price of a house according to a simple formula.\n",
        "\n",
        "So, imagine if house pricing was as easy as a house costs 50k + 50k per bedroom, so that a 1 bedroom house costs 100k, a 2 bedroom house costs 150k etc.\n",
        "\n",
        "How would you create a neural network that learns this relationship so that it would predict a 7 bedroom house as costing close to 400k etc.\n",
        "\n",
        "Hint: Your network might work better if you scale the house price down. You don't have to give the answer 400...it might be better to create something that predicts the number 4, and then your answer is in the 'hundreds of thousands' etc."
      ]
    },
    {
      "cell_type": "code",
      "metadata": {
        "id": "K_T_LoZZos2W",
        "colab_type": "code",
        "colab": {}
      },
      "source": [
        "import tensorflow as tf\n",
        "import numpy as np\n",
        "from tensorflow import keras"
      ],
      "execution_count": 0,
      "outputs": []
    },
    {
      "cell_type": "markdown",
      "metadata": {
        "id": "vsQfzyoiqMX6",
        "colab_type": "text"
      },
      "source": [
        "#Inputs and outputs --> Data"
      ]
    },
    {
      "cell_type": "code",
      "metadata": {
        "id": "gwlAcoyFpCER",
        "colab_type": "code",
        "colab": {}
      },
      "source": [
        "Number_of_Bedroom = np.array([1.0,2.0,3.0,4.0,5.0,6.0], dtype= float)\n",
        "housing_price= np.array([100000.0,150000.0,200000.0,250000.0,300000.0,350000.0], dtype= float)"
      ],
      "execution_count": 0,
      "outputs": []
    },
    {
      "cell_type": "markdown",
      "metadata": {
        "id": "njbcBZ7aqYZU",
        "colab_type": "text"
      },
      "source": [
        "#Scaling the data --> Preprocessing of data"
      ]
    },
    {
      "cell_type": "code",
      "metadata": {
        "id": "McxNUC6EqcHo",
        "colab_type": "code",
        "colab": {}
      },
      "source": [
        "from sklearn.preprocessing import MinMaxScaler"
      ],
      "execution_count": 0,
      "outputs": []
    },
    {
      "cell_type": "code",
      "metadata": {
        "id": "ca6EixCErBUi",
        "colab_type": "code",
        "outputId": "9104689a-804d-4069-9c05-6dec78f8a51e",
        "colab": {
          "base_uri": "https://localhost:8080/",
          "height": 118
        }
      },
      "source": [
        "x=housing_price.reshape(-1,1)\n",
        "scale_output = MinMaxScaler()\n",
        "house_price_scaled= scale_output.fit_transform(x) \n",
        "print(house_price_scaled)"
      ],
      "execution_count": 0,
      "outputs": [
        {
          "output_type": "stream",
          "text": [
            "[[0. ]\n",
            " [0.2]\n",
            " [0.4]\n",
            " [0.6]\n",
            " [0.8]\n",
            " [1. ]]\n"
          ],
          "name": "stdout"
        }
      ]
    },
    {
      "cell_type": "code",
      "metadata": {
        "id": "gW59ZtYKw-Jo",
        "colab_type": "code",
        "outputId": "ff871fc0-89bc-4098-f9ac-c4ed440d0486",
        "colab": {
          "base_uri": "https://localhost:8080/",
          "height": 118
        }
      },
      "source": [
        "Number_of_Bedroom= Number_of_Bedroom.reshape(-1,1)\n",
        "print(Number_of_Bedroom)"
      ],
      "execution_count": 0,
      "outputs": [
        {
          "output_type": "stream",
          "text": [
            "[[1.]\n",
            " [2.]\n",
            " [3.]\n",
            " [4.]\n",
            " [5.]\n",
            " [6.]]\n"
          ],
          "name": "stdout"
        }
      ]
    },
    {
      "cell_type": "markdown",
      "metadata": {
        "id": "JzSaKJkewtRj",
        "colab_type": "text"
      },
      "source": [
        "#model definition\n"
      ]
    },
    {
      "cell_type": "markdown",
      "metadata": {
        "id": "Ifpc5Z7h3bim",
        "colab_type": "text"
      },
      "source": [
        "##Model with 100 epochs"
      ]
    },
    {
      "cell_type": "code",
      "metadata": {
        "id": "l9LorrIKxfNX",
        "colab_type": "code",
        "colab": {}
      },
      "source": [
        "model = keras.Sequential([keras.layers.Dense(units=1,input_shape=[1])])\n",
        "model.compile(optimizer='SGD', loss='mean_squared_error')"
      ],
      "execution_count": 0,
      "outputs": []
    },
    {
      "cell_type": "code",
      "metadata": {
        "id": "fId-ZPnWy2_X",
        "colab_type": "code",
        "colab": {}
      },
      "source": [
        "model.fit(Number_of_Bedroom,house_price_scaled,epochs=100)\n"
      ],
      "execution_count": 0,
      "outputs": []
    },
    {
      "cell_type": "code",
      "metadata": {
        "id": "OMfpafL9zUNG",
        "colab_type": "code",
        "outputId": "770c3bc4-784c-40ca-a571-d56fa5167110",
        "colab": {
          "base_uri": "https://localhost:8080/",
          "height": 34
        }
      },
      "source": [
        "prediction=model.predict([7.0])\n",
        "print(prediction)"
      ],
      "execution_count": 0,
      "outputs": [
        {
          "output_type": "stream",
          "text": [
            "[[1.2030876]]\n"
          ],
          "name": "stdout"
        }
      ]
    },
    {
      "cell_type": "markdown",
      "metadata": {
        "id": "SCaaATS73IG2",
        "colab_type": "text"
      },
      "source": [
        "### Housing price prediction for 7 bedroom house"
      ]
    },
    {
      "cell_type": "code",
      "metadata": {
        "id": "5bjVu0TPzyPw",
        "colab_type": "code",
        "outputId": "48dc40c2-532b-4374-fd96-7abd87c43920",
        "colab": {
          "base_uri": "https://localhost:8080/",
          "height": 34
        }
      },
      "source": [
        "y_inv= scale_output.inverse_transform(prediction)\n",
        "print(y_inv)"
      ],
      "execution_count": 0,
      "outputs": [
        {
          "output_type": "stream",
          "text": [
            "[[400771.88]]\n"
          ],
          "name": "stdout"
        }
      ]
    },
    {
      "cell_type": "markdown",
      "metadata": {
        "id": "S79EwNb13pfW",
        "colab_type": "text"
      },
      "source": [
        "### Housing price prediction for 6 bedroom house ( Actual price = 350K )"
      ]
    },
    {
      "cell_type": "code",
      "metadata": {
        "id": "nZUyLgw704zm",
        "colab_type": "code",
        "outputId": "053e4fe4-0027-4725-ef3e-65248e34b52b",
        "colab": {
          "base_uri": "https://localhost:8080/",
          "height": 34
        }
      },
      "source": [
        "print(scale_output.inverse_transform(model.predict([6.0])))"
      ],
      "execution_count": 0,
      "outputs": [
        {
          "output_type": "stream",
          "text": [
            "[[350487.97]]\n"
          ],
          "name": "stdout"
        }
      ]
    },
    {
      "cell_type": "markdown",
      "metadata": {
        "id": "Edg8oWvo27J8",
        "colab_type": "text"
      },
      "source": [
        "## **Model with 2000 epochs**"
      ]
    },
    {
      "cell_type": "code",
      "metadata": {
        "id": "bn2WLv5f1OPu",
        "colab_type": "code",
        "colab": {}
      },
      "source": [
        "model1= keras.Sequential([keras.layers.Dense(units=1, input_shape=[1])])\n",
        "model1.compile(optimizer='SGD', loss = 'mean_squared_error')\n",
        "model1.fit(Number_of_Bedroom,house_price_scaled,epochs=2000)"
      ],
      "execution_count": 0,
      "outputs": []
    },
    {
      "cell_type": "markdown",
      "metadata": {
        "id": "Es9JQWnK4ASe",
        "colab_type": "text"
      },
      "source": [
        "### Housing price prediction for 6 bedroom house ( Actual price = 350K )"
      ]
    },
    {
      "cell_type": "code",
      "metadata": {
        "id": "RFxIOIlt2Wyl",
        "colab_type": "code",
        "outputId": "1b536044-1a57-4084-b805-d9cba4107c30",
        "colab": {
          "base_uri": "https://localhost:8080/",
          "height": 34
        }
      },
      "source": [
        "print(scale_output.inverse_transform(model1.predict([6.0])))"
      ],
      "execution_count": 0,
      "outputs": [
        {
          "output_type": "stream",
          "text": [
            "[[350002.84]]\n"
          ],
          "name": "stdout"
        }
      ]
    },
    {
      "cell_type": "markdown",
      "metadata": {
        "id": "r0OshxJv3lam",
        "colab_type": "text"
      },
      "source": [
        "### Housing price prediction for 7 bedroom house"
      ]
    },
    {
      "cell_type": "code",
      "metadata": {
        "id": "Q8Q5KWWw2qp9",
        "colab_type": "code",
        "outputId": "d1e24dea-359c-47bc-8041-d7196fff40c0",
        "colab": {
          "base_uri": "https://localhost:8080/",
          "height": 34
        }
      },
      "source": [
        "print(scale_output.inverse_transform(model1.predict([7.0])))"
      ],
      "execution_count": 0,
      "outputs": [
        {
          "output_type": "stream",
          "text": [
            "[[400004.53]]\n"
          ],
          "name": "stdout"
        }
      ]
    }
  ]
}