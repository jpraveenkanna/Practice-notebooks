{
  "nbformat": 4,
  "nbformat_minor": 0,
  "metadata": {
    "colab": {
      "name": "Leetcode_exercise.ipynb",
      "provenance": [],
      "authorship_tag": "ABX9TyPSg0mLduNPhShuH08vabS8"
    },
    "kernelspec": {
      "name": "python3",
      "display_name": "Python 3"
    }
  },
  "cells": [
    {
      "cell_type": "code",
      "metadata": {
        "id": "AAjxkvLPzXlf",
        "colab_type": "code",
        "colab": {
          "base_uri": "https://localhost:8080/",
          "height": 53
        },
        "outputId": "28c117bb-947e-4b6e-dd46-5e2a09a7efd5"
      },
      "source": [
        "#6:42\n",
        "\"\"\"\n",
        "Given two arrays, write a function to compute their intersection.\n",
        "\n",
        "Example 1:\n",
        "\n",
        "Input: nums1 = [1,2,2,1], nums2 = [2,2]\n",
        "Output: [2,2]\n",
        "Example 2:\n",
        "\n",
        "Input: nums1 = [4,9,5], nums2 = [9,4,9,8,4]\n",
        "Output: [4,9]\n",
        "Note:\n",
        "\n",
        "Each element in the result should appear as many times as it shows in both arrays.\n",
        "The result can be in any order.\n",
        "\"\"\"\n",
        "\n",
        "# set lowest length  to mem and other to comp\n",
        "# create dic for mem\n",
        "# while loop comp index -- condition less than comp length\n",
        "# if comp[idx] in mem\n",
        "# def fun is intersect(comp idx,mem index)\n",
        "# start = idx , end index = s +1\n",
        "# while endidx   < lenth of mem index\n",
        "# if mem[s:s+1] = comp[]\n",
        "def intersect(mem, comp):\n",
        "\n",
        "  l_mem,l_comp = len(mem),len(comp)\n",
        "\n",
        "  memory = {}\n",
        "  for idx,val in enumerate(mem):\n",
        "    if memory.get(val):\n",
        "      memory[val].append(idx)\n",
        "    else:\n",
        "      memory[val] = [idx]\n",
        "  \n",
        "  print(memory)\n",
        "  # loop ind of comp\n",
        "  # if 9 in mem --> sidx = idx; lastidx = idx+1\n",
        "  # while loop until mem[:] == comp[:]\n",
        "  result =[]\n",
        "  idx = 0\n",
        "\n",
        "  print(result)\n",
        "\n",
        "intersect([4,9,5],[9,4,9,8,4])"
      ],
      "execution_count": 10,
      "outputs": [
        {
          "output_type": "stream",
          "text": [
            "{4: [0], 9: [1], 5: [2]}\n",
            "[9, 4, 9, 4]\n"
          ],
          "name": "stdout"
        }
      ]
    },
    {
      "cell_type": "code",
      "metadata": {
        "id": "4C7TxQY51hyr",
        "colab_type": "code",
        "colab": {
          "base_uri": "https://localhost:8080/",
          "height": 35
        },
        "outputId": "0e6fe671-cf17-4fcd-b935-af207e526e42"
      },
      "source": [
        "\"\"\"\n",
        "Given a non-empty array of digits representing a non-negative integer, increment one to the integer.\n",
        "\n",
        "The digits are stored such that the most significant digit is at the head of the list, and each element in the array contains a single digit.\n",
        "\n",
        "You may assume the integer does not contain any leading zero, except the number 0 itself.\n",
        "\n",
        "Example 1:\n",
        "\n",
        "Input: [1,2,3]\n",
        "Output: [1,2,4]\n",
        "Explanation: The array represents the integer 123.\n",
        "Example 2:\n",
        "\n",
        "Input: [4,3,2,1]\n",
        "Output: [4,3,2,2]\n",
        "Explanation: The array represents the integer 4321.\n",
        "\"\"\"\n",
        "\n",
        "a = [9, 4, 9, 4]\n",
        "res = \"\"\n",
        "for num in a:\n",
        "  res += str(num)\n",
        "list(str(int(res)+1))"
      ],
      "execution_count": 15,
      "outputs": [
        {
          "output_type": "execute_result",
          "data": {
            "text/plain": [
              "['9', '4', '9', '5']"
            ]
          },
          "metadata": {
            "tags": []
          },
          "execution_count": 15
        }
      ]
    },
    {
      "cell_type": "code",
      "metadata": {
        "id": "CboQLQlr0Zr6",
        "colab_type": "code",
        "colab": {
          "base_uri": "https://localhost:8080/",
          "height": 35
        },
        "outputId": "097da485-873b-4ea8-a306-b3e6a52cadca"
      },
      "source": [
        "\"\"\"\n",
        "Given an array nums, write a function to move all 0's to the end of it while maintaining the relative order of the non-zero elements.\n",
        "\n",
        "Example:\n",
        "\n",
        "Input: [0,1,0,3,12]\n",
        "Output: [1,3,12,0,0]\n",
        "Note:\n",
        "\n",
        "You must do this in-place without making a copy of the array.\n",
        "Minimize the total number of operations.\n",
        "\"\"\"\n",
        "\n",
        "nums = [1,3,0,12,0]\n",
        "nums.sort(key = bool, reverse=True)\n",
        "nums"
      ],
      "execution_count": 19,
      "outputs": [
        {
          "output_type": "execute_result",
          "data": {
            "text/plain": [
              "[1, 3, 12, 0, 0]"
            ]
          },
          "metadata": {
            "tags": []
          },
          "execution_count": 19
        }
      ]
    },
    {
      "cell_type": "code",
      "metadata": {
        "id": "nDCGMf2WHeNL",
        "colab_type": "code",
        "colab": {
          "base_uri": "https://localhost:8080/",
          "height": 71
        },
        "outputId": "91c18669-a43a-45a6-9f00-81c46882d976"
      },
      "source": [
        "\"\"\"\n",
        "Given an array of integers, return indices of the two numbers such that they add up to a specific target.\n",
        "\n",
        "You may assume that each input would have exactly one solution, and you may not use the same element twice.\n",
        "\n",
        "Example:\n",
        "\n",
        "Given nums = [2, 7, 11, 15], target = 9,\n",
        "\n",
        "Because nums[0] + nums[1] = 2 + 7 = 9,\n",
        "return [0, 1].\n",
        "\"\"\"\n",
        "from itertools import combinations\n",
        "def twoSum(nums,target):\n",
        "  mem ={}\n",
        "  num = []\n",
        "  for idx, val in enumerate(nums):\n",
        "    if val <= target:\n",
        "      mem[idx] = val\n",
        "      num.append(val)\n",
        "  print(mem)\n",
        "  print(num)\n",
        "  a = combinations(num,2)\n",
        "  for i in a:\n",
        "    if sum(i) == target:\n",
        "      print([mem.get(i[0]),mem.get(i[1])])\n",
        "    #print(sum(i))\n",
        "\n",
        "\n",
        "\n",
        "twoSum([3,3], 6)\n"
      ],
      "execution_count": 32,
      "outputs": [
        {
          "output_type": "stream",
          "text": [
            "{0: 3, 1: 3}\n",
            "[3, 3]\n",
            "[None, None]\n"
          ],
          "name": "stdout"
        }
      ]
    },
    {
      "cell_type": "code",
      "metadata": {
        "id": "UKp2tWe1JHNF",
        "colab_type": "code",
        "colab": {
          "base_uri": "https://localhost:8080/",
          "height": 35
        },
        "outputId": "8eb815b6-87b8-49a6-ba5c-1deb3a359edf"
      },
      "source": [
        "b = {0: 3, 1: 3,}\n",
        "b.popitem()"
      ],
      "execution_count": 36,
      "outputs": [
        {
          "output_type": "execute_result",
          "data": {
            "text/plain": [
              "(1, 3)"
            ]
          },
          "metadata": {
            "tags": []
          },
          "execution_count": 36
        }
      ]
    },
    {
      "cell_type": "code",
      "metadata": {
        "id": "Yor6SoAsL5TO",
        "colab_type": "code",
        "colab": {}
      },
      "source": [
        ""
      ],
      "execution_count": null,
      "outputs": []
    }
  ]
}