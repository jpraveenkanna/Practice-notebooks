{
  "nbformat": 4,
  "nbformat_minor": 0,
  "metadata": {
    "colab": {
      "name": "Leetcode_exercise.ipynb",
      "provenance": [],
      "authorship_tag": "ABX9TyNRjOdmFMjCU3Dn0uyCiCed"
    },
    "kernelspec": {
      "name": "python3",
      "display_name": "Python 3"
    }
  },
  "cells": [
    {
      "cell_type": "code",
      "metadata": {
        "id": "rMaBurL7HgUr",
        "colab_type": "code",
        "colab": {
          "base_uri": "https://localhost:8080/",
          "height": 53
        },
        "outputId": "88a61a49-5bdf-4981-ef2b-c7cfd6f215ab"
      },
      "source": [
        "\"\"\"\n",
        "Given a 32-bit signed integer, reverse digits of an integer.\n",
        "\n",
        "Example 1:\n",
        "\n",
        "Input: 123\n",
        "Output: 321\n",
        "Example 2:\n",
        "\n",
        "Input: -123\n",
        "Output: -321\n",
        "Example 3:\n",
        "\n",
        "Input: 120\n",
        "Output: 21\n",
        "\n",
        "Note:\n",
        "Assume we are dealing with an environment which could only store \n",
        "integers within the 32-bit signed integer range: [−231,  231 − 1]. \n",
        "For the purpose of this problem, assume that your function \n",
        "returns 0 when the reversed integer overflows.\n",
        "\"\"\"\n",
        "def reverse(x):\n",
        "\n",
        "  num = list(str(x))\n",
        "  print(num)\n",
        "  if num[0] == \"-\":\n",
        "    res = \"\"\n",
        "    for a in num[:0:-1]:\n",
        "      res += a\n",
        "\n",
        "    return (int(-int(res)))\n",
        "  else:\n",
        "    res = \"\"\n",
        "    for a in num[::-1]:\n",
        "      res += a\n",
        "\n",
        "    return (int(res))\n",
        "\n",
        "\n",
        "reverse(int(-123))"
      ],
      "execution_count": 52,
      "outputs": [
        {
          "output_type": "stream",
          "text": [
            "['-', '1', '2', '3']\n"
          ],
          "name": "stdout"
        },
        {
          "output_type": "execute_result",
          "data": {
            "text/plain": [
              "-321"
            ]
          },
          "metadata": {
            "tags": []
          },
          "execution_count": 52
        }
      ]
    },
    {
      "cell_type": "code",
      "metadata": {
        "id": "-q_MKqs7Dc25",
        "colab_type": "code",
        "colab": {
          "base_uri": "https://localhost:8080/",
          "height": 35
        },
        "outputId": "73dd1fd0-c646-4ea4-a355-25001908be80"
      },
      "source": [
        "\n",
        "\"\"\"\n",
        "Write a function that reverses a string. The input string is given as an array of characters char[].\n",
        "\n",
        "Do not allocate extra space for another array, you must do this by modifying the input array in-place with O(1) extra memory.\n",
        "\n",
        "You may assume all the characters consist of printable ascii characters.\n",
        "\n",
        " \n",
        "\n",
        "Example 1:\n",
        "\n",
        "Input: [\"h\",\"e\",\"l\",\"l\",\"o\"]\n",
        "Output: [\"o\",\"l\",\"l\",\"e\",\"h\"]\n",
        "\"\"\"\n",
        "\n",
        "def reverseString(s):\n",
        "  for idx in range(len(s)):\n",
        "    s.insert(idx,s.pop())\n",
        "  return s\n",
        "                  \n",
        "\n",
        "\n",
        "reverseString([\"h\",\"e\",\"l\",\"l\",\"o\"])"
      ],
      "execution_count": 34,
      "outputs": [
        {
          "output_type": "execute_result",
          "data": {
            "text/plain": [
              "['o', 'l', 'l', 'e', 'h']"
            ]
          },
          "metadata": {
            "tags": []
          },
          "execution_count": 34
        }
      ]
    },
    {
      "cell_type": "code",
      "metadata": {
        "id": "AAjxkvLPzXlf",
        "colab_type": "code",
        "colab": {
          "base_uri": "https://localhost:8080/",
          "height": 53
        },
        "outputId": "28c117bb-947e-4b6e-dd46-5e2a09a7efd5"
      },
      "source": [
        "#6:42\n",
        "\"\"\"\n",
        "Given two arrays, write a function to compute their intersection.\n",
        "\n",
        "Example 1:\n",
        "\n",
        "Input: nums1 = [1,2,2,1], nums2 = [2,2]\n",
        "Output: [2,2]\n",
        "Example 2:\n",
        "\n",
        "Input: nums1 = [4,9,5], nums2 = [9,4,9,8,4]\n",
        "Output: [4,9]\n",
        "Note:\n",
        "\n",
        "Each element in the result should appear as many times as it shows in both arrays.\n",
        "The result can be in any order.\n",
        "\"\"\"\n",
        "\n",
        "# set lowest length  to mem and other to comp\n",
        "# create dic for mem\n",
        "# while loop comp index -- condition less than comp length\n",
        "# if comp[idx] in mem\n",
        "# def fun is intersect(comp idx,mem index)\n",
        "# start = idx , end index = s +1\n",
        "# while endidx   < lenth of mem index\n",
        "# if mem[s:s+1] = comp[]\n",
        "def intersect(mem, comp):\n",
        "\n",
        "  l_mem,l_comp = len(mem),len(comp)\n",
        "\n",
        "  memory = {}\n",
        "  for idx,val in enumerate(mem):\n",
        "    if memory.get(val):\n",
        "      memory[val].append(idx)\n",
        "    else:\n",
        "      memory[val] = [idx]\n",
        "  \n",
        "  print(memory)\n",
        "  # loop ind of comp\n",
        "  # if 9 in mem --> sidx = idx; lastidx = idx+1\n",
        "  # while loop until mem[:] == comp[:]\n",
        "  result =[]\n",
        "  idx = 0\n",
        "\n",
        "  print(result)\n",
        "\n",
        "intersect([4,9,5],[9,4,9,8,4])"
      ],
      "execution_count": null,
      "outputs": [
        {
          "output_type": "stream",
          "text": [
            "{4: [0], 9: [1], 5: [2]}\n",
            "[9, 4, 9, 4]\n"
          ],
          "name": "stdout"
        }
      ]
    },
    {
      "cell_type": "code",
      "metadata": {
        "id": "4C7TxQY51hyr",
        "colab_type": "code",
        "colab": {
          "base_uri": "https://localhost:8080/",
          "height": 35
        },
        "outputId": "0e6fe671-cf17-4fcd-b935-af207e526e42"
      },
      "source": [
        "\"\"\"\n",
        "Given a non-empty array of digits representing a non-negative integer, increment one to the integer.\n",
        "\n",
        "The digits are stored such that the most significant digit is at the head of the list, and each element in the array contains a single digit.\n",
        "\n",
        "You may assume the integer does not contain any leading zero, except the number 0 itself.\n",
        "\n",
        "Example 1:\n",
        "\n",
        "Input: [1,2,3]\n",
        "Output: [1,2,4]\n",
        "Explanation: The array represents the integer 123.\n",
        "Example 2:\n",
        "\n",
        "Input: [4,3,2,1]\n",
        "Output: [4,3,2,2]\n",
        "Explanation: The array represents the integer 4321.\n",
        "\"\"\"\n",
        "\n",
        "a = [9, 4, 9, 4]\n",
        "res = \"\"\n",
        "for num in a:\n",
        "  res += str(num)\n",
        "list(str(int(res)+1))"
      ],
      "execution_count": null,
      "outputs": [
        {
          "output_type": "execute_result",
          "data": {
            "text/plain": [
              "['9', '4', '9', '5']"
            ]
          },
          "metadata": {
            "tags": []
          },
          "execution_count": 15
        }
      ]
    },
    {
      "cell_type": "code",
      "metadata": {
        "id": "CboQLQlr0Zr6",
        "colab_type": "code",
        "colab": {
          "base_uri": "https://localhost:8080/",
          "height": 35
        },
        "outputId": "097da485-873b-4ea8-a306-b3e6a52cadca"
      },
      "source": [
        "\"\"\"\n",
        "Given an array nums, write a function to move all 0's to the end of it while maintaining the relative order of the non-zero elements.\n",
        "\n",
        "Example:\n",
        "\n",
        "Input: [0,1,0,3,12]\n",
        "Output: [1,3,12,0,0]\n",
        "Note:\n",
        "\n",
        "You must do this in-place without making a copy of the array.\n",
        "Minimize the total number of operations.\n",
        "\"\"\"\n",
        "\n",
        "nums = [1,3,0,12,0]\n",
        "nums.sort(key = bool, reverse=True)\n",
        "nums"
      ],
      "execution_count": null,
      "outputs": [
        {
          "output_type": "execute_result",
          "data": {
            "text/plain": [
              "[1, 3, 12, 0, 0]"
            ]
          },
          "metadata": {
            "tags": []
          },
          "execution_count": 19
        }
      ]
    },
    {
      "cell_type": "code",
      "metadata": {
        "id": "nDCGMf2WHeNL",
        "colab_type": "code",
        "colab": {
          "base_uri": "https://localhost:8080/",
          "height": 53
        },
        "outputId": "be0d892d-a750-4b39-e075-ba049ae2b000"
      },
      "source": [
        "\"\"\"\n",
        "Given an array of integers, return indices of the two numbers such that they add up to a specific target.\n",
        "\n",
        "You may assume that each input would have exactly one solution, and you may not use the same element twice.\n",
        "\n",
        "Example:\n",
        "\n",
        "Given nums = [2, 7, 11, 15], target = 9,\n",
        "\n",
        "Because nums[0] + nums[1] = 2 + 7 = 9,\n",
        "return [0, 1].\n",
        "\"\"\"\n",
        "# get element less than 9 ---> Update each element with index in form of array\n",
        "# get combination of all two elements\n",
        "# if sum is target \n",
        "# return indedex\n",
        "\n",
        "from itertools import combinations\n",
        "def twoSum(nums,target):\n",
        "  temp = []\n",
        "  for idx,val in enumerate(nums):\n",
        "     temp.append([idx,val])\n",
        "     \n",
        "  print(temp)\n",
        "  comb = combinations(temp,2)\n",
        "  for i in comb:\n",
        "    if(i[0][1]+i[1][1] == target):\n",
        "    \n",
        "      return ([i[0][0],i[1][0]])\n",
        "\n",
        "\n",
        "twoSum([-3,4,3,90], 0)"
      ],
      "execution_count": 11,
      "outputs": [
        {
          "output_type": "stream",
          "text": [
            "[[0, -3], [1, 4], [2, 3], [3, 90]]\n"
          ],
          "name": "stdout"
        },
        {
          "output_type": "execute_result",
          "data": {
            "text/plain": [
              "[0, 2]"
            ]
          },
          "metadata": {
            "tags": []
          },
          "execution_count": 11
        }
      ]
    },
    {
      "cell_type": "code",
      "metadata": {
        "id": "UKp2tWe1JHNF",
        "colab_type": "code",
        "colab": {
          "base_uri": "https://localhost:8080/",
          "height": 35
        },
        "outputId": "8eb815b6-87b8-49a6-ba5c-1deb3a359edf"
      },
      "source": [
        "b = {0: 3, 1: 3,}\n",
        "b.popitem()"
      ],
      "execution_count": null,
      "outputs": [
        {
          "output_type": "execute_result",
          "data": {
            "text/plain": [
              "(1, 3)"
            ]
          },
          "metadata": {
            "tags": []
          },
          "execution_count": 36
        }
      ]
    },
    {
      "cell_type": "code",
      "metadata": {
        "id": "Yor6SoAsL5TO",
        "colab_type": "code",
        "colab": {
          "base_uri": "https://localhost:8080/",
          "height": 35
        },
        "outputId": "9ac709bd-4347-4a30-df0c-3122af5db99e"
      },
      "source": [
        "\n",
        "def twoSum(nums,target):\n",
        "  map = {}\n",
        "  for idx,val in enumerate(nums):\n",
        "    diff = target-val\n",
        "    if diff in map:\n",
        "      return [map[diff],idx]\n",
        "    map[val] = idx\n",
        "  print(map)\n",
        " \n",
        "\n",
        "\n",
        "twoSum([2,7,11,15], 9)\n"
      ],
      "execution_count": 19,
      "outputs": [
        {
          "output_type": "execute_result",
          "data": {
            "text/plain": [
              "[0, 1]"
            ]
          },
          "metadata": {
            "tags": []
          },
          "execution_count": 19
        }
      ]
    },
    {
      "cell_type": "code",
      "metadata": {
        "id": "5_7fxpL8692k",
        "colab_type": "code",
        "colab": {
          "base_uri": "https://localhost:8080/",
          "height": 35
        },
        "outputId": "8c19fec8-d642-4bff-adbc-32db72c865f3"
      },
      "source": [
        "def twoSum(nums,target):\n",
        "  prevMap = {} # val : index\n",
        "\n",
        "  for i, n in enumerate(nums):\n",
        "      diff = target - n\n",
        "      if diff in prevMap:\n",
        "          return [prevMap[diff], i]\n",
        "      prevMap[n] = i\n",
        "  return\n",
        "twoSum([2,7,11,15], 9)"
      ],
      "execution_count": 18,
      "outputs": [
        {
          "output_type": "execute_result",
          "data": {
            "text/plain": [
              "[0, 1]"
            ]
          },
          "metadata": {
            "tags": []
          },
          "execution_count": 18
        }
      ]
    },
    {
      "cell_type": "code",
      "metadata": {
        "id": "srrXu2nd84Gx",
        "colab_type": "code",
        "colab": {}
      },
      "source": [
        ""
      ],
      "execution_count": null,
      "outputs": []
    }
  ]
}