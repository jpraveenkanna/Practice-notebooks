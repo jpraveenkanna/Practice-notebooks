{
  "nbformat": 4,
  "nbformat_minor": 0,
  "metadata": {
    "colab": {
      "name": "Leetcode_exercise.ipynb",
      "provenance": [],
      "authorship_tag": "ABX9TyNbR9Kp2oqrHjaadPnyGuzw"
    },
    "kernelspec": {
      "name": "python3",
      "display_name": "Python 3"
    }
  },
  "cells": [
    {
      "cell_type": "code",
      "metadata": {
        "id": "fdoGNRyxoO5t",
        "colab_type": "code",
        "colab": {
          "base_uri": "https://localhost:8080/",
          "height": 71
        },
        "outputId": "3cd14c89-2b91-4f72-b4b1-8a7af9556903"
      },
      "source": [
        "\"\"\"\n",
        "Given a string, determine if it is a palindrome, considering only alphanumeric characters and ignoring cases.\n",
        "\n",
        "Note: For the purpose of this problem, we define empty string as valid palindrome.\n",
        "\n",
        "Example 1:\n",
        "\n",
        "Input: \"A man, a plan, a canal: Panama\"\n",
        "Output: true\n",
        "Example 2:\n",
        "\n",
        "Input: \"race a car\"\n",
        "Output: false\n",
        " \n",
        "\n",
        "Constraints:\n",
        "\n",
        "s consists only of printable ASCII characters.\n",
        "\n",
        "\"\"\"\n",
        "def isPalindrome(s):\n",
        "  org_str = []\n",
        "  rev_str = []\n",
        "  for val in s:\n",
        "    if val.isalnum():\n",
        "      org_str.append(val.lower())\n",
        "      rev_str.insert(0,val.lower())\n",
        "  print(org_str)\n",
        "  print(rev_str)\n",
        "  if org_str == rev_str:\n",
        "    return True\n",
        "  return False\n",
        "  \n",
        " \n",
        "\n",
        "isPalindrome(\"A man, a plan, a canal: Panam\")"
      ],
      "execution_count": 56,
      "outputs": [
        {
          "output_type": "stream",
          "text": [
            "['a', 'm', 'a', 'n', 'a', 'p', 'l', 'a', 'n', 'a', 'c', 'a', 'n', 'a', 'l', 'p', 'a', 'n', 'a', 'm']\n",
            "['m', 'a', 'n', 'a', 'p', 'l', 'a', 'n', 'a', 'c', 'a', 'n', 'a', 'l', 'p', 'a', 'n', 'a', 'm', 'a']\n"
          ],
          "name": "stdout"
        },
        {
          "output_type": "execute_result",
          "data": {
            "text/plain": [
              "False"
            ]
          },
          "metadata": {
            "tags": []
          },
          "execution_count": 56
        }
      ]
    },
    {
      "cell_type": "code",
      "metadata": {
        "id": "2LMNNWr_gvr1",
        "colab_type": "code",
        "colab": {
          "base_uri": "https://localhost:8080/",
          "height": 35
        },
        "outputId": "bd3bccfc-5cfe-4595-d5ff-64578289129c"
      },
      "source": [
        "\"\"\"\n",
        "Given two strings s and t , write a function to determine if t is an anagram of s.\n",
        "\n",
        "Example 1:\n",
        "\n",
        "Input: s = \"anagram\", t = \"nagaram\"\n",
        "Output: true\n",
        "Example 2:\n",
        "\n",
        "Input: s = \"rat\", t = \"car\"\n",
        "Output: false\n",
        "\"\"\"\n",
        "# 26 min --> misunderstood what is anagram\n",
        "\n",
        "def isAnagram(s,t):\n",
        "  if len(s) != len(t):\n",
        "    return False\n",
        "\n",
        "  array = list(s)\n",
        "  for idx,val in enumerate(t):\n",
        "    if val in array:\n",
        "      array.remove(val)\n",
        "    else:\n",
        "      return False\n",
        "  return True\n",
        "\n",
        "\n",
        "\n",
        "isAnagram(\"anagram\",\"nagaram\")"
      ],
      "execution_count": 44,
      "outputs": [
        {
          "output_type": "execute_result",
          "data": {
            "text/plain": [
              "True"
            ]
          },
          "metadata": {
            "tags": []
          },
          "execution_count": 44
        }
      ]
    },
    {
      "cell_type": "code",
      "metadata": {
        "id": "uFlJ6HQqlVpH",
        "colab_type": "code",
        "colab": {
          "base_uri": "https://localhost:8080/",
          "height": 35
        },
        "outputId": "5e700aa5-f321-4f09-a216-ce49d3d0730d"
      },
      "source": [
        "a = list(\"anagram\")\n",
        "a.remove(\"n\")\n",
        "print(a)"
      ],
      "execution_count": 43,
      "outputs": [
        {
          "output_type": "stream",
          "text": [
            "['a', 'a', 'g', 'r', 'a', 'm']\n"
          ],
          "name": "stdout"
        }
      ]
    },
    {
      "cell_type": "code",
      "metadata": {
        "id": "BSu_QFJudFir",
        "colab_type": "code",
        "colab": {
          "base_uri": "https://localhost:8080/",
          "height": 35
        },
        "outputId": "8426a94a-4310-4a98-bb36-6a187c179950"
      },
      "source": [
        "\"\"\"\n",
        "Given a string, find the first non-repeating character in it and return its index. If it doesn't exist, return -1.\n",
        "\n",
        "Examples:\n",
        "\n",
        "s = \"leetcode\"\n",
        "return 0.\n",
        "\n",
        "s = \"loveleetcode\"\n",
        "return 2.\n",
        " \n",
        "\n",
        "Note: You may assume the string contains only lowercase English letters.\n",
        "\"\"\"\n",
        "#15 min\n",
        "# update hash with element--> index, repeating as False\n",
        "# if repeating update as True\n",
        "def firstUniqChar(s):\n",
        "  if len(s) == 0:\n",
        "    return -1\n",
        "  hash = {}\n",
        "  for idx, val in enumerate(s):\n",
        "    if val in hash:\n",
        "      hash[val][1] = True\n",
        "    else:\n",
        "      hash[val] = [idx,False]\n",
        "  print(hash)\n",
        "  # returning uniqur char\n",
        "  for val in s:\n",
        "    if hash[val][1] == False:\n",
        "      return hash[val][0]\n",
        "  return -1\n",
        "  \n",
        "\n",
        "\n",
        "firstUniqChar(\"\")\n"
      ],
      "execution_count": 11,
      "outputs": [
        {
          "output_type": "execute_result",
          "data": {
            "text/plain": [
              "-1"
            ]
          },
          "metadata": {
            "tags": []
          },
          "execution_count": 11
        }
      ]
    },
    {
      "cell_type": "code",
      "metadata": {
        "id": "Kzfl3hjFWF7Z",
        "colab_type": "code",
        "colab": {}
      },
      "source": [
        "#Given a sorted array nums, remove the duplicates in-place \n",
        "#such that each element appear only once and return the new length.\n",
        "#Do not allocate extra space for another array, \n",
        "#you must do this by modifying the input array in-place with O(1) extra memory.\n",
        "\n",
        "def removeDuplicates(nums,count = 0):\n",
        "    if len(nums) == 0:\n",
        "        return 0\n",
        "    \n",
        "    prev_val = nums[0]\n",
        "    for current_val in nums[1:]:\n",
        "        if current_val == prev_val:\n",
        "            nums.remove(current_val)\n",
        "            count +=1\n",
        "        prev_val = current_val\n",
        "    return len(nums),count\n",
        "            \n",
        "removeDuplicates([1, 2, 3, 3, 4])"
      ],
      "execution_count": null,
      "outputs": []
    },
    {
      "cell_type": "code",
      "metadata": {
        "id": "Gd0wB-wYWC_t",
        "colab_type": "code",
        "colab": {}
      },
      "source": [
        "\"\"\"\n",
        "Say you have an array prices for which the ith element is the price of a given stock on day i.\n",
        "\n",
        "Design an algorithm to find the maximum profit. You may complete as many transactions as you like (i.e., buy one and sell one share of the stock multiple times).\n",
        "\n",
        "Note: You may not engage in multiple transactions at the same time (i.e., you must sell the stock before you buy again).\n",
        "\n",
        "Example 1:\n",
        "\n",
        "Input: [7,1,5,3,6,4]\n",
        "Output: 7\n",
        "Explanation: Buy on day 2 (price = 1) and sell on day 3 (price = 5), profit = 5-1 = 4.\n",
        "             Then buy on day 4 (price = 3) and sell on day 5 (price = 6), profit = 6-3 = 3.\n",
        "Example 2:\n",
        "\n",
        "Input: [1,2,3,4,5]\n",
        "Output: 4\n",
        "Explanation: Buy on day 1 (price = 1) and sell on day 5 (price = 5), profit = 5-1 = 4.\n",
        "             Note that you cannot buy on day 1, buy on day 2 and sell them later, as you are\n",
        "             engaging multiple transactions at the same time. You must sell before buying again.\n",
        "\"\"\"\n",
        "\n",
        "#5.42PM -- 12:00AM\n",
        "\n",
        "def maxProfit(prices):\n",
        "    #[7,1,5,3,6,4]\n",
        "    # gain = get diff of sub sequent values\n",
        "    # if gain is large --> sell, if gain is low buy\n",
        "    \n",
        "    # first buy when val decreases. 7 < 1 so buy on day 2( buy val = 1)\n",
        "    # if val inc and next val is inc --> sell. profit = 5-1 = 4\n",
        "    # if val dec buy again . buy = 3\n",
        "\n",
        "\n",
        "    # get t, t+1,t+2\n",
        "    # if length <= 2 ---> when l = 1 return 0; when l=2 and inc return profit\n",
        "    # else \n",
        "    # buy --> t < t+1; set stock = val \n",
        "    # sell --> if t+1 and t<t+1 and bought\n",
        "    # dont sell --> if t+2<l-1 and t<t+1<t+2 \n",
        "    length = len(prices)\n",
        "    if length == 1:\n",
        "      return 0\n",
        "    elif length == 2 and prices[1]>prices[0]:\n",
        "      return prices[1]-prices[0]\n",
        "    else:\n",
        "      stock = None\n",
        "      profit = 0\n",
        "      for idx in range(length):\n",
        "        #intializing 3 days stock\n",
        "        t = prices[idx]\n",
        "        if idx+1 <len(prices):\n",
        "          t1 = prices[idx+1]\n",
        "        else:\n",
        "          t1 = None\n",
        "        print(\"idx\",idx,\":\",t,t1,stock)\n",
        "\n",
        "        #buy\n",
        "        if stock is None and t1 and t<t1:\n",
        "          stock = t\n",
        "          print(\"bought\",stock)\n",
        "\n",
        "        #sell\n",
        "        elif ((stock or stock == 0)  and stock<t):\n",
        "          if t1 and stock<t<t1:\n",
        "            pass\n",
        "          else:\n",
        "            profit += (t - stock)\n",
        "            print(\"Sold\",t)\n",
        "            stock =None\n",
        "      return profit\n",
        "\n",
        "\n",
        "print(maxProfit([7,1,5,3,6,4]))\n",
        "print(maxProfit([1,2,3,4,5]))\n",
        "print(maxProfit([7,6,4,3,1]))\n",
        "print(maxProfit([1,4,2]))\n",
        "print(maxProfit([2,1,2,0,1]))"
      ],
      "execution_count": null,
      "outputs": []
    },
    {
      "cell_type": "code",
      "metadata": {
        "id": "FxdBUh34WAoR",
        "colab_type": "code",
        "colab": {}
      },
      "source": [
        "\"\"\"\n",
        "Given an array, rotate the array to the right by k steps, where k is non-negative.\n",
        "\n",
        "Follow up:\n",
        "\n",
        "Try to come up as many solutions as you can, there are at least 3 different ways to solve this problem.\n",
        "Could you do it in-place with O(1) extra space?\n",
        " \n",
        "\n",
        "Example 1:\n",
        "\n",
        "Input: nums = [1,2,3,4,5,6,7], k = 3\n",
        "Output: [5,6,7,1,2,3,4]\n",
        "Explanation:\n",
        "rotate 1 steps to the right: [7,1,2,3,4,5,6]\n",
        "rotate 2 steps to the right: [6,7,1,2,3,4,5]\n",
        "rotate 3 steps to the right: [5,6,7,1,2,3,4]\n",
        "\"\"\"\n",
        "1200 -- 12:08\n",
        "def rotate(nums, k):\n",
        "  for _ in range(k):\n",
        "    nums.insert(0,nums.pop())\n",
        "  return nums\n",
        "\n",
        "\n",
        "rotate([1,2,3,4,5,6,7],3)"
      ],
      "execution_count": null,
      "outputs": []
    },
    {
      "cell_type": "code",
      "metadata": {
        "id": "5iQw4VWQV8sA",
        "colab_type": "code",
        "colab": {}
      },
      "source": [
        "\"\"\"\n",
        "Given an array of integers, find if the array contains any duplicates.\n",
        "\n",
        "Your function should return true if any value appears at least twice in the array, and it should return false if every element is distinct.\n",
        "\n",
        "Example 1:\n",
        "\n",
        "Input: [1,2,3,1]\n",
        "Output: true\n",
        "Example 2:\n",
        "\n",
        "Input: [1,2,3,4]\n",
        "Output: false\n",
        "\"\"\"\n",
        "12:10 -- 12:20\n",
        "def containsDuplicate(nums):\n",
        "  memory = {}\n",
        "  for element in nums:\n",
        "    if element not in memory:\n",
        "      memory[element] = True\n",
        "    else:\n",
        "      return True\n",
        "\n",
        "\n",
        "containsDuplicate([1,2,3,1])        "
      ],
      "execution_count": null,
      "outputs": []
    },
    {
      "cell_type": "code",
      "metadata": {
        "id": "AXYPgj70V43v",
        "colab_type": "code",
        "colab": {}
      },
      "source": [
        "a = {4: True}\n",
        "print(a.pop(4))\n",
        "a"
      ],
      "execution_count": null,
      "outputs": []
    },
    {
      "cell_type": "code",
      "metadata": {
        "id": "6MiphfYKV4O2",
        "colab_type": "code",
        "colab": {}
      },
      "source": [
        "\"\"\"\n",
        "Given a non-empty array of integers, every element appears twice except for one. Find that single one.\n",
        "\n",
        "Note:\n",
        "\n",
        "Your algorithm should have a linear runtime complexity. Could you implement it without using extra memory?\n",
        "\n",
        "Example 1:\n",
        "\n",
        "Input: [2,2,1]\n",
        "Output: 1\n",
        "Example 2:\n",
        "\n",
        "Input: [4,1,2,1,2]\n",
        "Output: 4\n",
        "\"\"\"\n",
        "# 15 min\n",
        "def singleNumber(nums):\n",
        "  memory = {}\n",
        "  for val in nums:\n",
        "    if val in memory:\n",
        "      memory.pop(val)\n",
        "    else:\n",
        "      memory[val] = True\n",
        "  print(memory)\n",
        "  return list(memory.keys()).pop()\n",
        "\n",
        "\n",
        "singleNumber([2,2,1])"
      ],
      "execution_count": null,
      "outputs": []
    },
    {
      "cell_type": "code",
      "metadata": {
        "id": "rMaBurL7HgUr",
        "colab_type": "code",
        "colab": {
          "base_uri": "https://localhost:8080/",
          "height": 53
        },
        "outputId": "d6299724-2b08-4ecc-eaf8-1d29a70d41c2"
      },
      "source": [
        "\"\"\"\n",
        "Given a 32-bit signed integer, reverse digits of an integer.\n",
        "\n",
        "Example 1:\n",
        "\n",
        "Input: 123\n",
        "Output: 321\n",
        "Example 2:\n",
        "\n",
        "Input: -123\n",
        "Output: -321\n",
        "Example 3:\n",
        "\n",
        "Input: 120\n",
        "Output: 21\n",
        "\n",
        "Note:\n",
        "Assume we are dealing with an environment which could only store \n",
        "integers within the 32-bit signed integer range: [−231,  231 − 1]. \n",
        "For the purpose of this problem, assume that your function \n",
        "returns 0 when the reversed integer overflows.\n",
        "\"\"\"\n",
        "def reverse(x):\n",
        "\n",
        "  num = list(str(x))\n",
        "  print(num)\n",
        "  int_low = -2**31\n",
        "  int_high = (2**31)-1\n",
        "  if num[0] == \"-\":\n",
        "    res = \"\"\n",
        "    for a in num[:0:-1]:\n",
        "      res += a\n",
        "    res = int(-int(res))\n",
        "     \n",
        "  else:\n",
        "    res = \"\"\n",
        "    for a in num[::-1]:\n",
        "      res += a\n",
        "\n",
        "    res = int(res)\n",
        "  if int_low<res< int_high:\n",
        "    return (res)\n",
        "  else:\n",
        "    return 0\n",
        "\n",
        "\n",
        "reverse(int(-123))"
      ],
      "execution_count": 4,
      "outputs": [
        {
          "output_type": "stream",
          "text": [
            "['-', '1', '2', '3']\n"
          ],
          "name": "stdout"
        },
        {
          "output_type": "execute_result",
          "data": {
            "text/plain": [
              "-321"
            ]
          },
          "metadata": {
            "tags": []
          },
          "execution_count": 4
        }
      ]
    },
    {
      "cell_type": "code",
      "metadata": {
        "id": "3gIMfiJ1bmsY",
        "colab_type": "code",
        "colab": {
          "base_uri": "https://localhost:8080/",
          "height": 35
        },
        "outputId": "78385649-bea8-4f26-e05f-3ecbe7ca973f"
      },
      "source": [
        "(2**31)-1"
      ],
      "execution_count": 2,
      "outputs": [
        {
          "output_type": "execute_result",
          "data": {
            "text/plain": [
              "2147483647"
            ]
          },
          "metadata": {
            "tags": []
          },
          "execution_count": 2
        }
      ]
    },
    {
      "cell_type": "code",
      "metadata": {
        "id": "-q_MKqs7Dc25",
        "colab_type": "code",
        "colab": {
          "base_uri": "https://localhost:8080/",
          "height": 35
        },
        "outputId": "73dd1fd0-c646-4ea4-a355-25001908be80"
      },
      "source": [
        "\n",
        "\"\"\"\n",
        "Write a function that reverses a string. The input string is given as an array of characters char[].\n",
        "\n",
        "Do not allocate extra space for another array, you must do this by modifying the input array in-place with O(1) extra memory.\n",
        "\n",
        "You may assume all the characters consist of printable ascii characters.\n",
        "\n",
        " \n",
        "\n",
        "Example 1:\n",
        "\n",
        "Input: [\"h\",\"e\",\"l\",\"l\",\"o\"]\n",
        "Output: [\"o\",\"l\",\"l\",\"e\",\"h\"]\n",
        "\"\"\"\n",
        "\n",
        "def reverseString(s):\n",
        "  for idx in range(len(s)):\n",
        "    s.insert(idx,s.pop())\n",
        "  return s\n",
        "                  \n",
        "\n",
        "\n",
        "reverseString([\"h\",\"e\",\"l\",\"l\",\"o\"])"
      ],
      "execution_count": null,
      "outputs": [
        {
          "output_type": "execute_result",
          "data": {
            "text/plain": [
              "['o', 'l', 'l', 'e', 'h']"
            ]
          },
          "metadata": {
            "tags": []
          },
          "execution_count": 34
        }
      ]
    },
    {
      "cell_type": "code",
      "metadata": {
        "id": "AAjxkvLPzXlf",
        "colab_type": "code",
        "colab": {
          "base_uri": "https://localhost:8080/",
          "height": 53
        },
        "outputId": "28c117bb-947e-4b6e-dd46-5e2a09a7efd5"
      },
      "source": [
        "#6:42\n",
        "\"\"\"\n",
        "Given two arrays, write a function to compute their intersection.\n",
        "\n",
        "Example 1:\n",
        "\n",
        "Input: nums1 = [1,2,2,1], nums2 = [2,2]\n",
        "Output: [2,2]\n",
        "Example 2:\n",
        "\n",
        "Input: nums1 = [4,9,5], nums2 = [9,4,9,8,4]\n",
        "Output: [4,9]\n",
        "Note:\n",
        "\n",
        "Each element in the result should appear as many times as it shows in both arrays.\n",
        "The result can be in any order.\n",
        "\"\"\"\n",
        "\n",
        "# set lowest length  to mem and other to comp\n",
        "# create dic for mem\n",
        "# while loop comp index -- condition less than comp length\n",
        "# if comp[idx] in mem\n",
        "# def fun is intersect(comp idx,mem index)\n",
        "# start = idx , end index = s +1\n",
        "# while endidx   < lenth of mem index\n",
        "# if mem[s:s+1] = comp[]\n",
        "def intersect(mem, comp):\n",
        "\n",
        "  l_mem,l_comp = len(mem),len(comp)\n",
        "\n",
        "  memory = {}\n",
        "  for idx,val in enumerate(mem):\n",
        "    if memory.get(val):\n",
        "      memory[val].append(idx)\n",
        "    else:\n",
        "      memory[val] = [idx]\n",
        "  \n",
        "  print(memory)\n",
        "  # loop ind of comp\n",
        "  # if 9 in mem --> sidx = idx; lastidx = idx+1\n",
        "  # while loop until mem[:] == comp[:]\n",
        "  result =[]\n",
        "  idx = 0\n",
        "\n",
        "  print(result)\n",
        "\n",
        "intersect([4,9,5],[9,4,9,8,4])"
      ],
      "execution_count": null,
      "outputs": [
        {
          "output_type": "stream",
          "text": [
            "{4: [0], 9: [1], 5: [2]}\n",
            "[9, 4, 9, 4]\n"
          ],
          "name": "stdout"
        }
      ]
    },
    {
      "cell_type": "code",
      "metadata": {
        "id": "4C7TxQY51hyr",
        "colab_type": "code",
        "colab": {
          "base_uri": "https://localhost:8080/",
          "height": 35
        },
        "outputId": "0e6fe671-cf17-4fcd-b935-af207e526e42"
      },
      "source": [
        "\"\"\"\n",
        "Given a non-empty array of digits representing a non-negative integer, increment one to the integer.\n",
        "\n",
        "The digits are stored such that the most significant digit is at the head of the list, and each element in the array contains a single digit.\n",
        "\n",
        "You may assume the integer does not contain any leading zero, except the number 0 itself.\n",
        "\n",
        "Example 1:\n",
        "\n",
        "Input: [1,2,3]\n",
        "Output: [1,2,4]\n",
        "Explanation: The array represents the integer 123.\n",
        "Example 2:\n",
        "\n",
        "Input: [4,3,2,1]\n",
        "Output: [4,3,2,2]\n",
        "Explanation: The array represents the integer 4321.\n",
        "\"\"\"\n",
        "\n",
        "a = [9, 4, 9, 4]\n",
        "res = \"\"\n",
        "for num in a:\n",
        "  res += str(num)\n",
        "list(str(int(res)+1))"
      ],
      "execution_count": null,
      "outputs": [
        {
          "output_type": "execute_result",
          "data": {
            "text/plain": [
              "['9', '4', '9', '5']"
            ]
          },
          "metadata": {
            "tags": []
          },
          "execution_count": 15
        }
      ]
    },
    {
      "cell_type": "code",
      "metadata": {
        "id": "CboQLQlr0Zr6",
        "colab_type": "code",
        "colab": {
          "base_uri": "https://localhost:8080/",
          "height": 35
        },
        "outputId": "097da485-873b-4ea8-a306-b3e6a52cadca"
      },
      "source": [
        "\"\"\"\n",
        "Given an array nums, write a function to move all 0's to the end of it while maintaining the relative order of the non-zero elements.\n",
        "\n",
        "Example:\n",
        "\n",
        "Input: [0,1,0,3,12]\n",
        "Output: [1,3,12,0,0]\n",
        "Note:\n",
        "\n",
        "You must do this in-place without making a copy of the array.\n",
        "Minimize the total number of operations.\n",
        "\"\"\"\n",
        "\n",
        "nums = [1,3,0,12,0]\n",
        "nums.sort(key = bool, reverse=True)\n",
        "nums"
      ],
      "execution_count": null,
      "outputs": [
        {
          "output_type": "execute_result",
          "data": {
            "text/plain": [
              "[1, 3, 12, 0, 0]"
            ]
          },
          "metadata": {
            "tags": []
          },
          "execution_count": 19
        }
      ]
    },
    {
      "cell_type": "code",
      "metadata": {
        "id": "nDCGMf2WHeNL",
        "colab_type": "code",
        "colab": {
          "base_uri": "https://localhost:8080/",
          "height": 53
        },
        "outputId": "be0d892d-a750-4b39-e075-ba049ae2b000"
      },
      "source": [
        "\"\"\"\n",
        "Given an array of integers, return indices of the two numbers such that they add up to a specific target.\n",
        "\n",
        "You may assume that each input would have exactly one solution, and you may not use the same element twice.\n",
        "\n",
        "Example:\n",
        "\n",
        "Given nums = [2, 7, 11, 15], target = 9,\n",
        "\n",
        "Because nums[0] + nums[1] = 2 + 7 = 9,\n",
        "return [0, 1].\n",
        "\"\"\"\n",
        "# get element less than 9 ---> Update each element with index in form of array\n",
        "# get combination of all two elements\n",
        "# if sum is target \n",
        "# return indedex\n",
        "\n",
        "from itertools import combinations\n",
        "def twoSum(nums,target):\n",
        "  temp = []\n",
        "  for idx,val in enumerate(nums):\n",
        "     temp.append([idx,val])\n",
        "     \n",
        "  print(temp)\n",
        "  comb = combinations(temp,2)\n",
        "  for i in comb:\n",
        "    if(i[0][1]+i[1][1] == target):\n",
        "    \n",
        "      return ([i[0][0],i[1][0]])\n",
        "\n",
        "\n",
        "twoSum([-3,4,3,90], 0)"
      ],
      "execution_count": null,
      "outputs": [
        {
          "output_type": "stream",
          "text": [
            "[[0, -3], [1, 4], [2, 3], [3, 90]]\n"
          ],
          "name": "stdout"
        },
        {
          "output_type": "execute_result",
          "data": {
            "text/plain": [
              "[0, 2]"
            ]
          },
          "metadata": {
            "tags": []
          },
          "execution_count": 11
        }
      ]
    },
    {
      "cell_type": "code",
      "metadata": {
        "id": "UKp2tWe1JHNF",
        "colab_type": "code",
        "colab": {
          "base_uri": "https://localhost:8080/",
          "height": 35
        },
        "outputId": "8eb815b6-87b8-49a6-ba5c-1deb3a359edf"
      },
      "source": [
        "b = {0: 3, 1: 3,}\n",
        "b.popitem()"
      ],
      "execution_count": null,
      "outputs": [
        {
          "output_type": "execute_result",
          "data": {
            "text/plain": [
              "(1, 3)"
            ]
          },
          "metadata": {
            "tags": []
          },
          "execution_count": 36
        }
      ]
    },
    {
      "cell_type": "code",
      "metadata": {
        "id": "Yor6SoAsL5TO",
        "colab_type": "code",
        "colab": {
          "base_uri": "https://localhost:8080/",
          "height": 35
        },
        "outputId": "9ac709bd-4347-4a30-df0c-3122af5db99e"
      },
      "source": [
        "\n",
        "def twoSum(nums,target):\n",
        "  map = {}\n",
        "  for idx,val in enumerate(nums):\n",
        "    diff = target-val\n",
        "    if diff in map:\n",
        "      return [map[diff],idx]\n",
        "    map[val] = idx\n",
        "  print(map)\n",
        " \n",
        "\n",
        "\n",
        "twoSum([2,7,11,15], 9)\n"
      ],
      "execution_count": null,
      "outputs": [
        {
          "output_type": "execute_result",
          "data": {
            "text/plain": [
              "[0, 1]"
            ]
          },
          "metadata": {
            "tags": []
          },
          "execution_count": 19
        }
      ]
    },
    {
      "cell_type": "code",
      "metadata": {
        "id": "5_7fxpL8692k",
        "colab_type": "code",
        "colab": {
          "base_uri": "https://localhost:8080/",
          "height": 35
        },
        "outputId": "8c19fec8-d642-4bff-adbc-32db72c865f3"
      },
      "source": [
        "def twoSum(nums,target):\n",
        "  prevMap = {} # val : index\n",
        "\n",
        "  for i, n in enumerate(nums):\n",
        "      diff = target - n\n",
        "      if diff in prevMap:\n",
        "          return [prevMap[diff], i]\n",
        "      prevMap[n] = i\n",
        "  return\n",
        "twoSum([2,7,11,15], 9)"
      ],
      "execution_count": null,
      "outputs": [
        {
          "output_type": "execute_result",
          "data": {
            "text/plain": [
              "[0, 1]"
            ]
          },
          "metadata": {
            "tags": []
          },
          "execution_count": 18
        }
      ]
    },
    {
      "cell_type": "code",
      "metadata": {
        "id": "srrXu2nd84Gx",
        "colab_type": "code",
        "colab": {}
      },
      "source": [
        ""
      ],
      "execution_count": null,
      "outputs": []
    }
  ]
}