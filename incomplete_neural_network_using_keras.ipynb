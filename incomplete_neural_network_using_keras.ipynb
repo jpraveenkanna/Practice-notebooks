{
  "nbformat": 4,
  "nbformat_minor": 0,
  "metadata": {
    "colab": {
      "name": "incomplete - neural network using keras",
      "provenance": []
    },
    "kernelspec": {
      "name": "python3",
      "display_name": "Python 3"
    }
  },
  "cells": [
    {
      "cell_type": "markdown",
      "metadata": {
        "id": "4KJwGmtkWMdc",
        "colab_type": "text"
      },
      "source": [
        "#### Code to get CPU or GPU information"
      ]
    },
    {
      "cell_type": "code",
      "metadata": {
        "id": "JdYtIYq9UkGk",
        "colab_type": "code",
        "outputId": "4fab5505-dcc6-4826-ac44-33ab8a188232",
        "colab": {
          "base_uri": "https://localhost:8080/",
          "height": 218
        }
      },
      "source": [
        "import os\n",
        "os.environ['TF_CPP_MIN_LOG_LEVEL'] = \"99\"\n",
        "from tensorflow.python.client import device_lib\n",
        "device_lib.list_local_devices()"
      ],
      "execution_count": 0,
      "outputs": [
        {
          "output_type": "execute_result",
          "data": {
            "text/plain": [
              "[name: \"/device:CPU:0\"\n",
              " device_type: \"CPU\"\n",
              " memory_limit: 268435456\n",
              " locality {\n",
              " }\n",
              " incarnation: 13541927250977662618, name: \"/device:XLA_CPU:0\"\n",
              " device_type: \"XLA_CPU\"\n",
              " memory_limit: 17179869184\n",
              " locality {\n",
              " }\n",
              " incarnation: 9763813298780688455\n",
              " physical_device_desc: \"device: XLA_CPU device\"]"
            ]
          },
          "metadata": {
            "tags": []
          },
          "execution_count": 1
        }
      ]
    },
    {
      "cell_type": "code",
      "metadata": {
        "id": "NzHLpi_OWScs",
        "colab_type": "code",
        "colab": {}
      },
      "source": [
        "from __future__ import absolute_import\n",
        "from __future__ import division\n",
        "from __future__ import print_function\n",
        "\n",
        "import itertools\n",
        "import matplotlib.pyplot as plt\n",
        "from pylab import rcParams \n",
        "import pandas as pd\n",
        "import numpy as np\n",
        "import tensorflow as tf\n",
        "\n",
        "from sklearn.model_selection import train_test_split\n",
        "from sklearn.preprocessing import minmax_scale\n",
        "\n"
      ],
      "execution_count": 0,
      "outputs": []
    },
    {
      "cell_type": "markdown",
      "metadata": {
        "id": "lvMu_boeZLQU",
        "colab_type": "text"
      },
      "source": [
        "TensorFlow will tell you all messages that have the label INFO "
      ]
    },
    {
      "cell_type": "code",
      "metadata": {
        "id": "Pwx_hotgYnFa",
        "colab_type": "code",
        "colab": {}
      },
      "source": [
        "tf.logging.set_verbosity(tf.logging.INFO)\n"
      ],
      "execution_count": 0,
      "outputs": []
    },
    {
      "cell_type": "code",
      "metadata": {
        "id": "1Z9aTso1ZOlB",
        "colab_type": "code",
        "colab": {}
      },
      "source": [
        "sess = tf.InteractiveSession()"
      ],
      "execution_count": 0,
      "outputs": []
    },
    {
      "cell_type": "code",
      "metadata": {
        "id": "oYO963b7Zajh",
        "colab_type": "code",
        "outputId": "7f3a84b2-1b5b-4f0e-c3df-7e31ff1f01f3",
        "colab": {
          "base_uri": "https://localhost:8080/",
          "height": 34
        }
      },
      "source": [
        "train = pd.read_csv(\"/content/sample_data/california_housing_train.csv\")\n",
        "print(\"Shape of all training data with features: \",train.shape)"
      ],
      "execution_count": 0,
      "outputs": [
        {
          "output_type": "stream",
          "text": [
            "Shape of all training data with features:  (17000, 9)\n"
          ],
          "name": "stdout"
        }
      ]
    },
    {
      "cell_type": "code",
      "metadata": {
        "id": "RDVuQoOBaqTO",
        "colab_type": "code",
        "outputId": "fe2c54fc-5803-4072-ed64-0651af20debe",
        "colab": {
          "base_uri": "https://localhost:8080/",
          "height": 284
        }
      },
      "source": [
        "train.head(8)"
      ],
      "execution_count": 0,
      "outputs": [
        {
          "output_type": "execute_result",
          "data": {
            "text/html": [
              "<div>\n",
              "<style scoped>\n",
              "    .dataframe tbody tr th:only-of-type {\n",
              "        vertical-align: middle;\n",
              "    }\n",
              "\n",
              "    .dataframe tbody tr th {\n",
              "        vertical-align: top;\n",
              "    }\n",
              "\n",
              "    .dataframe thead th {\n",
              "        text-align: right;\n",
              "    }\n",
              "</style>\n",
              "<table border=\"1\" class=\"dataframe\">\n",
              "  <thead>\n",
              "    <tr style=\"text-align: right;\">\n",
              "      <th></th>\n",
              "      <th>longitude</th>\n",
              "      <th>latitude</th>\n",
              "      <th>housing_median_age</th>\n",
              "      <th>total_rooms</th>\n",
              "      <th>total_bedrooms</th>\n",
              "      <th>population</th>\n",
              "      <th>households</th>\n",
              "      <th>median_income</th>\n",
              "      <th>median_house_value</th>\n",
              "    </tr>\n",
              "  </thead>\n",
              "  <tbody>\n",
              "    <tr>\n",
              "      <th>0</th>\n",
              "      <td>-114.31</td>\n",
              "      <td>34.19</td>\n",
              "      <td>15.0</td>\n",
              "      <td>5612.0</td>\n",
              "      <td>1283.0</td>\n",
              "      <td>1015.0</td>\n",
              "      <td>472.0</td>\n",
              "      <td>1.4936</td>\n",
              "      <td>66900.0</td>\n",
              "    </tr>\n",
              "    <tr>\n",
              "      <th>1</th>\n",
              "      <td>-114.47</td>\n",
              "      <td>34.40</td>\n",
              "      <td>19.0</td>\n",
              "      <td>7650.0</td>\n",
              "      <td>1901.0</td>\n",
              "      <td>1129.0</td>\n",
              "      <td>463.0</td>\n",
              "      <td>1.8200</td>\n",
              "      <td>80100.0</td>\n",
              "    </tr>\n",
              "    <tr>\n",
              "      <th>2</th>\n",
              "      <td>-114.56</td>\n",
              "      <td>33.69</td>\n",
              "      <td>17.0</td>\n",
              "      <td>720.0</td>\n",
              "      <td>174.0</td>\n",
              "      <td>333.0</td>\n",
              "      <td>117.0</td>\n",
              "      <td>1.6509</td>\n",
              "      <td>85700.0</td>\n",
              "    </tr>\n",
              "    <tr>\n",
              "      <th>3</th>\n",
              "      <td>-114.57</td>\n",
              "      <td>33.64</td>\n",
              "      <td>14.0</td>\n",
              "      <td>1501.0</td>\n",
              "      <td>337.0</td>\n",
              "      <td>515.0</td>\n",
              "      <td>226.0</td>\n",
              "      <td>3.1917</td>\n",
              "      <td>73400.0</td>\n",
              "    </tr>\n",
              "    <tr>\n",
              "      <th>4</th>\n",
              "      <td>-114.57</td>\n",
              "      <td>33.57</td>\n",
              "      <td>20.0</td>\n",
              "      <td>1454.0</td>\n",
              "      <td>326.0</td>\n",
              "      <td>624.0</td>\n",
              "      <td>262.0</td>\n",
              "      <td>1.9250</td>\n",
              "      <td>65500.0</td>\n",
              "    </tr>\n",
              "    <tr>\n",
              "      <th>5</th>\n",
              "      <td>-114.58</td>\n",
              "      <td>33.63</td>\n",
              "      <td>29.0</td>\n",
              "      <td>1387.0</td>\n",
              "      <td>236.0</td>\n",
              "      <td>671.0</td>\n",
              "      <td>239.0</td>\n",
              "      <td>3.3438</td>\n",
              "      <td>74000.0</td>\n",
              "    </tr>\n",
              "    <tr>\n",
              "      <th>6</th>\n",
              "      <td>-114.58</td>\n",
              "      <td>33.61</td>\n",
              "      <td>25.0</td>\n",
              "      <td>2907.0</td>\n",
              "      <td>680.0</td>\n",
              "      <td>1841.0</td>\n",
              "      <td>633.0</td>\n",
              "      <td>2.6768</td>\n",
              "      <td>82400.0</td>\n",
              "    </tr>\n",
              "    <tr>\n",
              "      <th>7</th>\n",
              "      <td>-114.59</td>\n",
              "      <td>34.83</td>\n",
              "      <td>41.0</td>\n",
              "      <td>812.0</td>\n",
              "      <td>168.0</td>\n",
              "      <td>375.0</td>\n",
              "      <td>158.0</td>\n",
              "      <td>1.7083</td>\n",
              "      <td>48500.0</td>\n",
              "    </tr>\n",
              "  </tbody>\n",
              "</table>\n",
              "</div>"
            ],
            "text/plain": [
              "   longitude  latitude  ...  median_income  median_house_value\n",
              "0    -114.31     34.19  ...         1.4936             66900.0\n",
              "1    -114.47     34.40  ...         1.8200             80100.0\n",
              "2    -114.56     33.69  ...         1.6509             85700.0\n",
              "3    -114.57     33.64  ...         3.1917             73400.0\n",
              "4    -114.57     33.57  ...         1.9250             65500.0\n",
              "5    -114.58     33.63  ...         3.3438             74000.0\n",
              "6    -114.58     33.61  ...         2.6768             82400.0\n",
              "7    -114.59     34.83  ...         1.7083             48500.0\n",
              "\n",
              "[8 rows x 9 columns]"
            ]
          },
          "metadata": {
            "tags": []
          },
          "execution_count": 6
        }
      ]
    },
    {
      "cell_type": "code",
      "metadata": {
        "id": "c-OoViMia-Iz",
        "colab_type": "code",
        "outputId": "36fd66dc-437d-4b88-e127-cab38557a59f",
        "colab": {
          "base_uri": "https://localhost:8080/",
          "height": 34
        }
      },
      "source": [
        "train = train.select_dtypes(exclude=['object'])\n",
        "print(\"shape of training data with numerical features: \",train.shape)"
      ],
      "execution_count": 0,
      "outputs": [
        {
          "output_type": "stream",
          "text": [
            "shape of training data with numerical features:  (17000, 9)\n"
          ],
          "name": "stdout"
        }
      ]
    },
    {
      "cell_type": "code",
      "metadata": {
        "id": "5LKdu12rbaSg",
        "colab_type": "code",
        "colab": {}
      },
      "source": [
        "train.fillna(0, inplace= True )"
      ],
      "execution_count": 0,
      "outputs": []
    },
    {
      "cell_type": "code",
      "metadata": {
        "id": "eszJuKBpcmLP",
        "colab_type": "code",
        "colab": {}
      },
      "source": [
        "test = pd.read_csv(\"/content/sample_data/california_housing_test.csv\")\n",
        "test.head(5)\n",
        "test = test.select_dtypes(exclude=['object'])\n",
        "test.fillna(0,inplace=True)\n",
        "\n"
      ],
      "execution_count": 0,
      "outputs": []
    },
    {
      "cell_type": "code",
      "metadata": {
        "id": "5kgVifx9d6YB",
        "colab_type": "code",
        "outputId": "affba182-3dab-4c18-b296-38ee734f30ea",
        "colab": {
          "base_uri": "https://localhost:8080/",
          "height": 50
        }
      },
      "source": [
        "print(\"shape of Test data with numerical features: \", test.shape)\n",
        "print(\"shape of training data with numerical features: \", train.shape)"
      ],
      "execution_count": 0,
      "outputs": [
        {
          "output_type": "stream",
          "text": [
            "shape of Test data with numerical features:  (3000, 9)\n",
            "shape of training data with numerical features:  (17000, 9)\n"
          ],
          "name": "stdout"
        }
      ]
    },
    {
      "cell_type": "code",
      "metadata": {
        "id": "PhyF9zYAe7ne",
        "colab_type": "code",
        "outputId": "d31d380f-05b1-43e7-b549-999b20b30c82",
        "colab": {
          "base_uri": "https://localhost:8080/",
          "height": 54
        }
      },
      "source": [
        "print(\"list of features contained in dataset: \", list(train.columns))"
      ],
      "execution_count": 0,
      "outputs": [
        {
          "output_type": "stream",
          "text": [
            "list of features contained in dataset:  ['longitude', 'latitude', 'housing_median_age', 'total_rooms', 'total_bedrooms', 'population', 'households', 'median_income', 'median_house_value']\n"
          ],
          "name": "stdout"
        }
      ]
    },
    {
      "cell_type": "markdown",
      "metadata": {
        "id": "602s-TvUfWzR",
        "colab_type": "text"
      },
      "source": [
        "# Isolate outliers with IsolationForest"
      ]
    },
    {
      "cell_type": "code",
      "metadata": {
        "id": "Hc4paNxXfgbr",
        "colab_type": "code",
        "colab": {}
      },
      "source": [
        "from sklearn.ensemble import IsolationForest"
      ],
      "execution_count": 0,
      "outputs": []
    },
    {
      "cell_type": "code",
      "metadata": {
        "id": "ZvmndO8vgEzN",
        "colab_type": "code",
        "outputId": "f5c3e96d-3dd7-447a-b918-324f896c76b4",
        "colab": {
          "base_uri": "https://localhost:8080/",
          "height": 171
        }
      },
      "source": [
        "clf = IsolationForest(max_samples=100, random_state=40)\n",
        "clf.fit(train)\n",
        "y_nano = clf.predict(train)\n",
        "y_nano = pd.DataFrame(y_nano, columns= ['TOP'])\n",
        "y_nano[y_nano['TOP'] == 1].index.values\n",
        "\n",
        "train = train.iloc[y_nano[y_nano['TOP'] == 1].index.values]\n",
        "train.reset_index(drop= True, inplace= True)\n",
        "\n",
        "print(\"No. of Outliers:\",y_nano[y_nano['TOP'] == -1].shape[0] )\n",
        "print(\"No. of rows without Outliers:\",train.shape[0] )\n"
      ],
      "execution_count": 0,
      "outputs": [
        {
          "output_type": "stream",
          "text": [
            "/usr/local/lib/python3.6/dist-packages/sklearn/ensemble/iforest.py:237: FutureWarning: default contamination parameter 0.1 will change in version 0.22 to \"auto\". This will change the predict method behavior.\n",
            "  FutureWarning)\n",
            "/usr/local/lib/python3.6/dist-packages/sklearn/ensemble/iforest.py:247: FutureWarning: behaviour=\"old\" is deprecated and will be removed in version 0.22. Please use behaviour=\"new\", which makes the decision_function change to match other anomaly detection algorithm API.\n",
            "  FutureWarning)\n",
            "/usr/local/lib/python3.6/dist-packages/sklearn/ensemble/iforest.py:415: DeprecationWarning: threshold_ attribute is deprecated in 0.20 and will be removed in 0.22.\n",
            "  \" be removed in 0.22.\", DeprecationWarning)\n"
          ],
          "name": "stderr"
        },
        {
          "output_type": "stream",
          "text": [
            "No. of Outliers: 1700\n",
            "No. of rows without Outliers: 15300\n"
          ],
          "name": "stdout"
        }
      ]
    },
    {
      "cell_type": "code",
      "metadata": {
        "id": "IXV1MNcUiu1d",
        "colab_type": "code",
        "outputId": "d24d5012-6768-4a3d-9248-b4f6762582b9",
        "colab": {
          "base_uri": "https://localhost:8080/",
          "height": 171
        }
      },
      "source": [
        "clf1 = IsolationForest(max_samples= 1000, random_state = 10)\n",
        "clf1.fit(train)\n",
        "ynano = clf1.predict(train)\n",
        "ynano = pd.DataFrame(ynano, columns= ['TOP'])\n",
        "ynano[ynano['TOP'] == 1].index.values\n",
        "\n",
        "train = train.iloc[ynano[ynano['TOP'] == 1].index.values]\n",
        "train.reset_index(drop= True, inplace= True)\n",
        "\n",
        "\n",
        "print(\"No. of Outliers:\",ynano[ynano['TOP'] == -1].shape[0] )\n",
        "print(\"No. of rows without Outliers:\",train.shape[0] )"
      ],
      "execution_count": 0,
      "outputs": [
        {
          "output_type": "stream",
          "text": [
            "/usr/local/lib/python3.6/dist-packages/sklearn/ensemble/iforest.py:237: FutureWarning: default contamination parameter 0.1 will change in version 0.22 to \"auto\". This will change the predict method behavior.\n",
            "  FutureWarning)\n",
            "/usr/local/lib/python3.6/dist-packages/sklearn/ensemble/iforest.py:247: FutureWarning: behaviour=\"old\" is deprecated and will be removed in version 0.22. Please use behaviour=\"new\", which makes the decision_function change to match other anomaly detection algorithm API.\n",
            "  FutureWarning)\n",
            "/usr/local/lib/python3.6/dist-packages/sklearn/ensemble/iforest.py:415: DeprecationWarning: threshold_ attribute is deprecated in 0.20 and will be removed in 0.22.\n",
            "  \" be removed in 0.22.\", DeprecationWarning)\n"
          ],
          "name": "stderr"
        },
        {
          "output_type": "stream",
          "text": [
            "No. of Outliers: 1700\n",
            "No. of rows without Outliers: 15300\n"
          ],
          "name": "stdout"
        }
      ]
    },
    {
      "cell_type": "code",
      "metadata": {
        "id": "iUSbRfkAlNOq",
        "colab_type": "code",
        "outputId": "7bddd222-e1c9-4fe6-abf5-193e5d350fe9",
        "colab": {
          "base_uri": "https://localhost:8080/",
          "height": 195
        }
      },
      "source": [
        "train.head()"
      ],
      "execution_count": 0,
      "outputs": [
        {
          "output_type": "execute_result",
          "data": {
            "text/html": [
              "<div>\n",
              "<style scoped>\n",
              "    .dataframe tbody tr th:only-of-type {\n",
              "        vertical-align: middle;\n",
              "    }\n",
              "\n",
              "    .dataframe tbody tr th {\n",
              "        vertical-align: top;\n",
              "    }\n",
              "\n",
              "    .dataframe thead th {\n",
              "        text-align: right;\n",
              "    }\n",
              "</style>\n",
              "<table border=\"1\" class=\"dataframe\">\n",
              "  <thead>\n",
              "    <tr style=\"text-align: right;\">\n",
              "      <th></th>\n",
              "      <th>longitude</th>\n",
              "      <th>latitude</th>\n",
              "      <th>housing_median_age</th>\n",
              "      <th>total_rooms</th>\n",
              "      <th>total_bedrooms</th>\n",
              "      <th>population</th>\n",
              "      <th>households</th>\n",
              "      <th>median_income</th>\n",
              "      <th>median_house_value</th>\n",
              "    </tr>\n",
              "  </thead>\n",
              "  <tbody>\n",
              "    <tr>\n",
              "      <th>0</th>\n",
              "      <td>-114.57</td>\n",
              "      <td>33.64</td>\n",
              "      <td>14.0</td>\n",
              "      <td>1501.0</td>\n",
              "      <td>337.0</td>\n",
              "      <td>515.0</td>\n",
              "      <td>226.0</td>\n",
              "      <td>3.1917</td>\n",
              "      <td>73400.0</td>\n",
              "    </tr>\n",
              "    <tr>\n",
              "      <th>1</th>\n",
              "      <td>-114.57</td>\n",
              "      <td>33.57</td>\n",
              "      <td>20.0</td>\n",
              "      <td>1454.0</td>\n",
              "      <td>326.0</td>\n",
              "      <td>624.0</td>\n",
              "      <td>262.0</td>\n",
              "      <td>1.9250</td>\n",
              "      <td>65500.0</td>\n",
              "    </tr>\n",
              "    <tr>\n",
              "      <th>2</th>\n",
              "      <td>-114.58</td>\n",
              "      <td>33.63</td>\n",
              "      <td>29.0</td>\n",
              "      <td>1387.0</td>\n",
              "      <td>236.0</td>\n",
              "      <td>671.0</td>\n",
              "      <td>239.0</td>\n",
              "      <td>3.3438</td>\n",
              "      <td>74000.0</td>\n",
              "    </tr>\n",
              "    <tr>\n",
              "      <th>3</th>\n",
              "      <td>-114.58</td>\n",
              "      <td>33.61</td>\n",
              "      <td>25.0</td>\n",
              "      <td>2907.0</td>\n",
              "      <td>680.0</td>\n",
              "      <td>1841.0</td>\n",
              "      <td>633.0</td>\n",
              "      <td>2.6768</td>\n",
              "      <td>82400.0</td>\n",
              "    </tr>\n",
              "    <tr>\n",
              "      <th>4</th>\n",
              "      <td>-114.60</td>\n",
              "      <td>33.62</td>\n",
              "      <td>16.0</td>\n",
              "      <td>3741.0</td>\n",
              "      <td>801.0</td>\n",
              "      <td>2434.0</td>\n",
              "      <td>824.0</td>\n",
              "      <td>2.6797</td>\n",
              "      <td>86500.0</td>\n",
              "    </tr>\n",
              "  </tbody>\n",
              "</table>\n",
              "</div>"
            ],
            "text/plain": [
              "   longitude  latitude  ...  median_income  median_house_value\n",
              "0    -114.57     33.64  ...         3.1917             73400.0\n",
              "1    -114.57     33.57  ...         1.9250             65500.0\n",
              "2    -114.58     33.63  ...         3.3438             74000.0\n",
              "3    -114.58     33.61  ...         2.6768             82400.0\n",
              "4    -114.60     33.62  ...         2.6797             86500.0\n",
              "\n",
              "[5 rows x 9 columns]"
            ]
          },
          "metadata": {
            "tags": []
          },
          "execution_count": 15
        }
      ]
    },
    {
      "cell_type": "code",
      "metadata": {
        "id": "yulHBlmlW-eM",
        "colab_type": "code",
        "outputId": "5d015500-555e-4563-f729-86c43507e6af",
        "colab": {
          "base_uri": "https://localhost:8080/",
          "height": 1109
        }
      },
      "source": [
        "print(ynano[ynano['TOP'] == 1].index.values)\n",
        "print(ynano.head)"
      ],
      "execution_count": 0,
      "outputs": [
        {
          "output_type": "stream",
          "text": [
            "[    3     4     5 ... 16979 16982 16996]\n",
            "<bound method NDFrame.head of        TOP\n",
            "0       -1\n",
            "1       -1\n",
            "2       -1\n",
            "3        1\n",
            "4        1\n",
            "5        1\n",
            "6        1\n",
            "7       -1\n",
            "8       -1\n",
            "9       -1\n",
            "10       1\n",
            "11       1\n",
            "12      -1\n",
            "13       1\n",
            "14      -1\n",
            "15       1\n",
            "16       1\n",
            "17      -1\n",
            "18      -1\n",
            "19      -1\n",
            "20      -1\n",
            "21      -1\n",
            "22      -1\n",
            "23       1\n",
            "24      -1\n",
            "25      -1\n",
            "26       1\n",
            "27       1\n",
            "28      -1\n",
            "29       1\n",
            "...    ...\n",
            "16970   -1\n",
            "16971   -1\n",
            "16972   -1\n",
            "16973   -1\n",
            "16974    1\n",
            "16975    1\n",
            "16976   -1\n",
            "16977    1\n",
            "16978   -1\n",
            "16979    1\n",
            "16980   -1\n",
            "16981   -1\n",
            "16982    1\n",
            "16983   -1\n",
            "16984   -1\n",
            "16985   -1\n",
            "16986   -1\n",
            "16987   -1\n",
            "16988   -1\n",
            "16989   -1\n",
            "16990   -1\n",
            "16991   -1\n",
            "16992   -1\n",
            "16993   -1\n",
            "16994   -1\n",
            "16995   -1\n",
            "16996    1\n",
            "16997   -1\n",
            "16998   -1\n",
            "16999   -1\n",
            "\n",
            "[17000 rows x 1 columns]>\n"
          ],
          "name": "stdout"
        }
      ]
    },
    {
      "cell_type": "code",
      "metadata": {
        "id": "uO6wtmrvY21s",
        "colab_type": "code",
        "outputId": "c0d297ba-488d-4b29-cc40-a2c2e7a9f077",
        "colab": {
          "base_uri": "https://localhost:8080/",
          "height": 166
        }
      },
      "source": [
        "train.head(4)"
      ],
      "execution_count": 0,
      "outputs": [
        {
          "output_type": "execute_result",
          "data": {
            "text/html": [
              "<div>\n",
              "<style scoped>\n",
              "    .dataframe tbody tr th:only-of-type {\n",
              "        vertical-align: middle;\n",
              "    }\n",
              "\n",
              "    .dataframe tbody tr th {\n",
              "        vertical-align: top;\n",
              "    }\n",
              "\n",
              "    .dataframe thead th {\n",
              "        text-align: right;\n",
              "    }\n",
              "</style>\n",
              "<table border=\"1\" class=\"dataframe\">\n",
              "  <thead>\n",
              "    <tr style=\"text-align: right;\">\n",
              "      <th></th>\n",
              "      <th>longitude</th>\n",
              "      <th>latitude</th>\n",
              "      <th>housing_median_age</th>\n",
              "      <th>total_rooms</th>\n",
              "      <th>total_bedrooms</th>\n",
              "      <th>population</th>\n",
              "      <th>households</th>\n",
              "      <th>median_income</th>\n",
              "      <th>median_house_value</th>\n",
              "    </tr>\n",
              "  </thead>\n",
              "  <tbody>\n",
              "    <tr>\n",
              "      <th>0</th>\n",
              "      <td>-114.57</td>\n",
              "      <td>33.64</td>\n",
              "      <td>14.0</td>\n",
              "      <td>1501.0</td>\n",
              "      <td>337.0</td>\n",
              "      <td>515.0</td>\n",
              "      <td>226.0</td>\n",
              "      <td>3.1917</td>\n",
              "      <td>73400.0</td>\n",
              "    </tr>\n",
              "    <tr>\n",
              "      <th>1</th>\n",
              "      <td>-114.57</td>\n",
              "      <td>33.57</td>\n",
              "      <td>20.0</td>\n",
              "      <td>1454.0</td>\n",
              "      <td>326.0</td>\n",
              "      <td>624.0</td>\n",
              "      <td>262.0</td>\n",
              "      <td>1.9250</td>\n",
              "      <td>65500.0</td>\n",
              "    </tr>\n",
              "    <tr>\n",
              "      <th>2</th>\n",
              "      <td>-114.58</td>\n",
              "      <td>33.63</td>\n",
              "      <td>29.0</td>\n",
              "      <td>1387.0</td>\n",
              "      <td>236.0</td>\n",
              "      <td>671.0</td>\n",
              "      <td>239.0</td>\n",
              "      <td>3.3438</td>\n",
              "      <td>74000.0</td>\n",
              "    </tr>\n",
              "    <tr>\n",
              "      <th>3</th>\n",
              "      <td>-114.58</td>\n",
              "      <td>33.61</td>\n",
              "      <td>25.0</td>\n",
              "      <td>2907.0</td>\n",
              "      <td>680.0</td>\n",
              "      <td>1841.0</td>\n",
              "      <td>633.0</td>\n",
              "      <td>2.6768</td>\n",
              "      <td>82400.0</td>\n",
              "    </tr>\n",
              "  </tbody>\n",
              "</table>\n",
              "</div>"
            ],
            "text/plain": [
              "   longitude  latitude  ...  median_income  median_house_value\n",
              "0    -114.57     33.64  ...         3.1917             73400.0\n",
              "1    -114.57     33.57  ...         1.9250             65500.0\n",
              "2    -114.58     33.63  ...         3.3438             74000.0\n",
              "3    -114.58     33.61  ...         2.6768             82400.0\n",
              "\n",
              "[4 rows x 9 columns]"
            ]
          },
          "metadata": {
            "tags": []
          },
          "execution_count": 26
        }
      ]
    },
    {
      "cell_type": "markdown",
      "metadata": {
        "id": "VJIV-KwFZHkZ",
        "colab_type": "text"
      },
      "source": [
        "#MinMaxScalling"
      ]
    },
    {
      "cell_type": "code",
      "metadata": {
        "id": "XNd2INKSZOMT",
        "colab_type": "code",
        "colab": {}
      },
      "source": [
        "import warnings\n",
        "warnings.filterwarnings('ignore')"
      ],
      "execution_count": 0,
      "outputs": []
    },
    {
      "cell_type": "code",
      "metadata": {
        "id": "0oci4ngcammp",
        "colab_type": "code",
        "colab": {}
      },
      "source": [
        "col_train = list(train.columns)\n",
        "col_train_bis = list(train.columns)\n"
      ],
      "execution_count": 0,
      "outputs": []
    },
    {
      "cell_type": "code",
      "metadata": {
        "id": "-usHZEi0a9vy",
        "colab_type": "code",
        "colab": {}
      },
      "source": [
        "col_train_bis.remove('median_house_value')"
      ],
      "execution_count": 0,
      "outputs": []
    },
    {
      "cell_type": "code",
      "metadata": {
        "id": "ql6eQFsBbM1B",
        "colab_type": "code",
        "colab": {}
      },
      "source": [
        "mat_train = np.matrix(train)\n",
        "mat_test = np.matrix(test)\n",
        "mat_new = np.matrix(train.drop('median_house_value', axis=1))\n",
        "mat_y = np.array(train.median_house_value).reshape((15300,1))"
      ],
      "execution_count": 0,
      "outputs": []
    },
    {
      "cell_type": "code",
      "metadata": {
        "id": "XRXKZ3eTd9DS",
        "colab_type": "code",
        "colab": {}
      },
      "source": [
        "from sklearn.preprocessing import MinMaxScaler"
      ],
      "execution_count": 0,
      "outputs": []
    },
    {
      "cell_type": "code",
      "metadata": {
        "id": "FvtTlAXIc1lJ",
        "colab_type": "code",
        "outputId": "415d59e0-9f26-4630-86bd-d78ca13f481e",
        "colab": {
          "base_uri": "https://localhost:8080/",
          "height": 34
        }
      },
      "source": [
        "prepro_y = MinMaxScaler()\n",
        "prepro_y.fit(mat_y)\n",
        "\n",
        "prepro = MinMaxScaler()\n",
        "prepro.fit(mat_train)\n",
        "\n"
      ],
      "execution_count": 0,
      "outputs": [
        {
          "output_type": "execute_result",
          "data": {
            "text/plain": [
              "MinMaxScaler(copy=True, feature_range=(0, 1))"
            ]
          },
          "metadata": {
            "tags": []
          },
          "execution_count": 35
        }
      ]
    },
    {
      "cell_type": "code",
      "metadata": {
        "id": "7I90k1YsfaU9",
        "colab_type": "code",
        "outputId": "838ba269-4f9c-4b97-b5f7-d776cd3cd281",
        "colab": {
          "base_uri": "https://localhost:8080/",
          "height": 34
        }
      },
      "source": [
        "\n",
        "prepro_test = MinMaxScaler()\n",
        "prepro_test.fit(mat_new)"
      ],
      "execution_count": 0,
      "outputs": [
        {
          "output_type": "execute_result",
          "data": {
            "text/plain": [
              "MinMaxScaler(copy=True, feature_range=(0, 1))"
            ]
          },
          "metadata": {
            "tags": []
          },
          "execution_count": 42
        }
      ]
    },
    {
      "cell_type": "code",
      "metadata": {
        "id": "xZRGyBNSdpmW",
        "colab_type": "code",
        "colab": {}
      },
      "source": [
        "train_num_scale = pd.DataFrame(prepro.transform(mat_train),columns = col_train)\n",
        "test_num_scale = pd.DataFrame(prepro_test.transform(mat_new),columns = col_train_bis)"
      ],
      "execution_count": 0,
      "outputs": []
    },
    {
      "cell_type": "code",
      "metadata": {
        "id": "mCbuwMxIfrvw",
        "colab_type": "code",
        "outputId": "59513a2d-f8ba-4dd2-b749-2a315e814407",
        "colab": {
          "base_uri": "https://localhost:8080/",
          "height": 235
        }
      },
      "source": [
        "print(mat_train)"
      ],
      "execution_count": 0,
      "outputs": [
        {
          "output_type": "stream",
          "text": [
            "[[-1.1457e+02  3.3640e+01  1.4000e+01 ...  2.2600e+02  3.1917e+00\n",
            "   7.3400e+04]\n",
            " [-1.1457e+02  3.3570e+01  2.0000e+01 ...  2.6200e+02  1.9250e+00\n",
            "   6.5500e+04]\n",
            " [-1.1458e+02  3.3630e+01  2.9000e+01 ...  2.3900e+02  3.3438e+00\n",
            "   7.4000e+04]\n",
            " ...\n",
            " [-1.2418e+02  4.0780e+01  3.7000e+01 ...  3.1000e+02  2.5536e+00\n",
            "   7.0200e+04]\n",
            " [-1.2418e+02  4.0620e+01  3.5000e+01 ...  1.7900e+02  3.0536e+00\n",
            "   1.0700e+05]\n",
            " [-1.2427e+02  4.0690e+01  3.6000e+01 ...  4.6500e+02  2.5179e+00\n",
            "   7.9000e+04]]\n"
          ],
          "name": "stdout"
        }
      ]
    },
    {
      "cell_type": "code",
      "metadata": {
        "id": "9KEX94JAgedw",
        "colab_type": "code",
        "outputId": "66fc2703-75b7-48be-d8fd-ae4400b0172e",
        "colab": {
          "base_uri": "https://localhost:8080/",
          "height": 50
        }
      },
      "source": [
        "print(mat_train.shape)\n",
        "print(mat_new.shape)\n"
      ],
      "execution_count": 0,
      "outputs": [
        {
          "output_type": "stream",
          "text": [
            "(15300, 9)\n",
            "(15300, 8)\n"
          ],
          "name": "stdout"
        }
      ]
    },
    {
      "cell_type": "code",
      "metadata": {
        "id": "0I5XTHDzgzuh",
        "colab_type": "code",
        "outputId": "74c0c857-02bc-4b54-8e1a-3742aa06d2a7",
        "colab": {
          "base_uri": "https://localhost:8080/",
          "height": 1000
        }
      },
      "source": [
        "print(test_num_scale)"
      ],
      "execution_count": 0,
      "outputs": [
        {
          "output_type": "stream",
          "text": [
            "       longitude  latitude  ...  households  median_income\n",
            "0       1.000000  0.115957  ...    0.139744       0.225750\n",
            "1       1.000000  0.108511  ...    0.162821       0.119517\n",
            "2       0.998969  0.114894  ...    0.148077       0.238506\n",
            "3       0.998969  0.112766  ...    0.400641       0.182568\n",
            "4       0.996907  0.113830  ...    0.523077       0.182811\n",
            "5       0.996907  0.111702  ...    0.275000       0.094358\n",
            "6       0.995876  0.242553  ...    0.301923       0.227453\n",
            "7       0.991753  0.248936  ...    0.251923       0.100572\n",
            "8       0.991753  0.111702  ...    0.158974       0.206763\n",
            "9       0.957732  0.135106  ...    0.028205       0.227260\n",
            "10      0.917526  0.028723  ...    0.209615       0.257770\n",
            "11      0.917526  0.028723  ...    0.162179       0.120566\n",
            "12      0.917526  0.027660  ...    0.171154       0.155949\n",
            "13      0.914433  0.032979  ...    0.105769       0.236359\n",
            "14      0.913402  0.046809  ...    0.119231       0.243538\n",
            "15      0.906186  0.026596  ...    0.148077       0.177569\n",
            "16      0.905155  0.034043  ...    0.062821       0.239722\n",
            "17      0.903093  0.073404  ...    0.257692       0.096890\n",
            "18      0.903093  0.060638  ...    0.143590       0.134278\n",
            "19      0.903093  0.046809  ...    0.198077       0.118159\n",
            "20      0.902062  0.177660  ...    0.035256       0.069894\n",
            "21      0.902062  0.061702  ...    0.157051       0.139477\n",
            "22      0.902062  0.060638  ...    0.142949       0.115685\n",
            "23      0.902062  0.045745  ...    0.216026       0.080377\n",
            "24      0.902062  0.044681  ...    0.251923       0.123711\n",
            "25      0.902062  0.044681  ...    0.210897       0.125061\n",
            "26      0.902062  0.023404  ...    0.208333       0.146078\n",
            "27      0.901031  0.046809  ...    0.357051       0.101981\n",
            "28      0.901031  0.044681  ...    0.198718       0.159882\n",
            "29      0.900000  0.046809  ...    0.243590       0.086994\n",
            "...          ...       ...  ...         ...            ...\n",
            "15270   0.020619  0.878723  ...    0.242949       0.208927\n",
            "15271   0.019588  0.897872  ...    0.365385       0.183230\n",
            "15272   0.019588  0.892553  ...    0.209615       0.152200\n",
            "15273   0.019588  0.798936  ...    0.099359       0.178223\n",
            "15274   0.018557  0.890426  ...    0.291026       0.194426\n",
            "15275   0.018557  0.886170  ...    0.332051       0.162046\n",
            "15276   0.018557  0.839362  ...    0.251923       0.158909\n",
            "15277   0.017526  0.903191  ...    0.232051       0.123635\n",
            "15278   0.017526  0.845745  ...    0.234615       0.145574\n",
            "15279   0.016495  0.893617  ...    0.214103       0.206318\n",
            "15280   0.016495  0.891489  ...    0.290385       0.252243\n",
            "15281   0.016495  0.891489  ...    0.223718       0.189872\n",
            "15282   0.014433  0.877660  ...    0.264103       0.146589\n",
            "15283   0.014433  0.876596  ...    0.216667       0.258592\n",
            "15284   0.014433  0.876596  ...    0.268590       0.199886\n",
            "15285   0.013402  0.876596  ...    0.181410       0.166868\n",
            "15286   0.013402  0.875532  ...    0.271795       0.245056\n",
            "15287   0.013402  0.874468  ...    0.360897       0.202486\n",
            "15288   0.013402  0.855319  ...    0.239744       0.089116\n",
            "15289   0.013402  0.854255  ...    0.222436       0.184404\n",
            "15290   0.012371  0.875532  ...    0.230769       0.243085\n",
            "15291   0.012371  0.873404  ...    0.323077       0.241123\n",
            "15292   0.011340  0.901064  ...    0.244872       0.140282\n",
            "15293   0.011340  0.856383  ...    0.182051       0.163706\n",
            "15294   0.010309  0.874468  ...    0.225000       0.144484\n",
            "15295   0.010309  0.873404  ...    0.238462       0.193370\n",
            "15296   0.010309  0.858511  ...    0.172436       0.200934\n",
            "15297   0.009278  0.875532  ...    0.193590       0.172235\n",
            "15298   0.009278  0.858511  ...    0.109615       0.214168\n",
            "15299   0.000000  0.865957  ...    0.292949       0.169241\n",
            "\n",
            "[15300 rows x 8 columns]\n"
          ],
          "name": "stdout"
        }
      ]
    },
    {
      "cell_type": "code",
      "metadata": {
        "id": "bxU_S8jclXuP",
        "colab_type": "code",
        "outputId": "2b766387-721f-4caf-fe59-878bcdf39ea0",
        "colab": {
          "base_uri": "https://localhost:8080/",
          "height": 178
        }
      },
      "source": [
        "train[col_train_num] = pd.DataFrame(prepro.transform(mat_train), columns= col_train)\n",
        "test[col_train_bis] = test_num_scale "
      ],
      "execution_count": 0,
      "outputs": [
        {
          "output_type": "error",
          "ename": "NameError",
          "evalue": "ignored",
          "traceback": [
            "\u001b[0;31m---------------------------------------------------------------------------\u001b[0m",
            "\u001b[0;31mNameError\u001b[0m                                 Traceback (most recent call last)",
            "\u001b[0;32m<ipython-input-49-c69287de1b79>\u001b[0m in \u001b[0;36m<module>\u001b[0;34m()\u001b[0m\n\u001b[0;32m----> 1\u001b[0;31m \u001b[0mtrain\u001b[0m\u001b[0;34m[\u001b[0m\u001b[0mcol_train_num\u001b[0m\u001b[0;34m]\u001b[0m \u001b[0;34m=\u001b[0m \u001b[0mpd\u001b[0m\u001b[0;34m.\u001b[0m\u001b[0mDataFrame\u001b[0m\u001b[0;34m(\u001b[0m\u001b[0mprepro\u001b[0m\u001b[0;34m.\u001b[0m\u001b[0mtransform\u001b[0m\u001b[0;34m(\u001b[0m\u001b[0mmat_train\u001b[0m\u001b[0;34m)\u001b[0m\u001b[0;34m,\u001b[0m \u001b[0mcolumns\u001b[0m\u001b[0;34m=\u001b[0m \u001b[0mcol_train\u001b[0m\u001b[0;34m)\u001b[0m\u001b[0;34m\u001b[0m\u001b[0;34m\u001b[0m\u001b[0m\n\u001b[0m\u001b[1;32m      2\u001b[0m \u001b[0mtest\u001b[0m\u001b[0;34m[\u001b[0m\u001b[0mcol_train_bis\u001b[0m\u001b[0;34m]\u001b[0m \u001b[0;34m=\u001b[0m \u001b[0mtest_num_scale\u001b[0m\u001b[0;34m\u001b[0m\u001b[0;34m\u001b[0m\u001b[0m\n",
            "\u001b[0;31mNameError\u001b[0m: name 'col_train_num' is not defined"
          ]
        }
      ]
    }
  ]
}