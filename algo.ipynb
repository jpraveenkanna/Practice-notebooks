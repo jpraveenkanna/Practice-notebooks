{
  "nbformat": 4,
  "nbformat_minor": 0,
  "metadata": {
    "colab": {
      "name": "algo.ipynb",
      "provenance": [],
      "collapsed_sections": []
    },
    "kernelspec": {
      "name": "python3",
      "display_name": "Python 3"
    }
  },
  "cells": [
    {
      "cell_type": "code",
      "metadata": {
        "id": "yyLaSWsyWr7l",
        "colab_type": "code",
        "colab": {
          "base_uri": "https://localhost:8080/",
          "height": 179
        },
        "outputId": "285ef9e9-4e4d-4e65-fe94-2010c26756eb"
      },
      "source": [
        "# create a linked list 1234\n",
        "\n",
        "class node:\n",
        "  def __init__(self,data):\n",
        "    self.data = data\n",
        "    self.next = None\n",
        "\n",
        "class linkedlist:\n",
        "  def __init__(self):\n",
        "    self.head = None\n",
        "  \n",
        "if __name__ == '__main__':\n",
        "  print(\"Enter the list:\")\n",
        "  get_list = [1,2,3,4]#list(input())\n",
        "  llist = linkedlist()\n",
        "  llist.head=node(get_list[0]) \n",
        "  print(\"head:\",llist.head.data)\n",
        "  prev_node = llist.head\n",
        "  for val in get_list[1:]:\n",
        "    temp_node = node(val)\n",
        "    prev_node.next = temp_node\n",
        "    print(\"Next val: \",prev_node.next.data)\n",
        "    prev_node = temp_node\n",
        "\n",
        "  print(\"Printing linked list\")\n",
        "  temp = llist.head\n",
        "  try:\n",
        "    while  temp.data != None:\n",
        "      print(temp.next.data)\n",
        "      temp = temp.next\n",
        "  except:\n",
        "    pass\n",
        "\n",
        "\n",
        "\n"
      ],
      "execution_count": 19,
      "outputs": [
        {
          "output_type": "stream",
          "text": [
            "Enter the list:\n",
            "head: 1\n",
            "Next val:  2\n",
            "Next val:  3\n",
            "Next val:  4\n",
            "Printing linked list\n",
            "2\n",
            "3\n",
            "4\n"
          ],
          "name": "stdout"
        }
      ]
    },
    {
      "cell_type": "code",
      "metadata": {
        "id": "GTIaRyWMXJbG",
        "colab_type": "code",
        "colab": {
          "base_uri": "https://localhost:8080/",
          "height": 107
        },
        "outputId": "83f92c7b-cfc5-4662-fb8b-200fa096f861"
      },
      "source": [
        "for i in range(5):\n",
        "  print(i)"
      ],
      "execution_count": 22,
      "outputs": [
        {
          "output_type": "stream",
          "text": [
            "0\n",
            "1\n",
            "2\n",
            "3\n",
            "4\n"
          ],
          "name": "stdout"
        }
      ]
    },
    {
      "cell_type": "code",
      "metadata": {
        "id": "XZzD552Xl4b-",
        "colab_type": "code",
        "colab": {
          "base_uri": "https://localhost:8080/",
          "height": 89
        },
        "outputId": "4e1ccf55-70a6-4f1d-aa36-3dd785d1e425"
      },
      "source": [
        "userInput = 4\n",
        "print(1)\n",
        "for i in range((userInput*2)-1):\n",
        "  if i%2:\n",
        "    t = \"1 \"*(i+2)\n",
        "    print(t) "
      ],
      "execution_count": 33,
      "outputs": [
        {
          "output_type": "stream",
          "text": [
            "1\n",
            "1 1 1 \n",
            "1 1 1 1 1 \n",
            "1 1 1 1 1 1 1 \n"
          ],
          "name": "stdout"
        }
      ]
    },
    {
      "cell_type": "code",
      "metadata": {
        "id": "MVvTbgmkrQry",
        "colab_type": "code",
        "colab": {}
      },
      "source": [
        "'''Given 2 numbers N,K and an array of N integers, find if the element K exists in the array.\n",
        "Input Size : N <= 100000\n",
        "Sample Testcase :\n",
        "INPUT\n",
        "5 2\n",
        "1 2 3 4 5\n",
        "OUTPUT\n",
        "yes'''"
      ],
      "execution_count": null,
      "outputs": []
    },
    {
      "cell_type": "code",
      "metadata": {
        "id": "14HdkB2Rr8Qj",
        "colab_type": "code",
        "colab": {
          "base_uri": "https://localhost:8080/",
          "height": 35
        },
        "outputId": "d2999cf0-2224-4de1-863f-d75df225740d"
      },
      "source": [
        "\"\"\"You are given a number with duplicate digits your task is to remove the immediate duplicate digits and print the result\n",
        "\n",
        "Input Description:\n",
        "You are given a long string of digits\n",
        "\n",
        "Output Description:\n",
        "Print the desired result print -1 if result length is 0\n",
        "\n",
        "Sample Input :\n",
        "1331\n",
        "Sample Output :\n",
        "11\"\"\"\n",
        "\n",
        "a = list(\"1331\")\n",
        "for i in range(len(a)):\n",
        "  if i+1<len(a) and a[i+1] == a[i]:\n",
        "    a.remove(a[i])\n",
        "    a.remove(a[i])\n",
        "print(\"\".join(b for b in a ))\n",
        "\n"
      ],
      "execution_count": 39,
      "outputs": [
        {
          "output_type": "stream",
          "text": [
            "11\n"
          ],
          "name": "stdout"
        }
      ]
    },
    {
      "cell_type": "code",
      "metadata": {
        "id": "AUe_4nfJrRZ9",
        "colab_type": "code",
        "colab": {
          "base_uri": "https://localhost:8080/",
          "height": 143
        },
        "outputId": "280af8cf-7604-48cc-d7a0-07370d3882d5"
      },
      "source": [
        "'''\n",
        "In XYZ country there is rule that car’s engine no. depends upon car’ number plate. Engine no is sum of all the integers present on car’s Number plate.The issuing authority has hired you in order to provide engine no. to the cars.Your task is to develop an algorithm which takes input as in form of string(Number plate) and gives back\n",
        "\n",
        "Engine number.\n",
        "\n",
        "Input Description:\n",
        "You are given a string ’s’\n",
        "\n",
        "Output Description:\n",
        "Print the engine number\n",
        "\n",
        "Sample Input :\n",
        "HR05-AA-2669\n",
        "Sample Output :\n",
        "28\n",
        "'''\n",
        "plate = list(\"HR05-AA-2669\")\n",
        "a = []\n",
        "for i in plate:\n",
        "  try:\n",
        "    print(type(int(i)), i)\n",
        "    a.append(int(i))\n",
        "  except:\n",
        "    pass\n",
        "print(sum(a))\n",
        "\n"
      ],
      "execution_count": 53,
      "outputs": [
        {
          "output_type": "stream",
          "text": [
            "<class 'int'> 0\n",
            "<class 'int'> 5\n",
            "<class 'int'> 2\n",
            "<class 'int'> 6\n",
            "<class 'int'> 6\n",
            "<class 'int'> 9\n",
            "28\n"
          ],
          "name": "stdout"
        }
      ]
    },
    {
      "cell_type": "code",
      "metadata": {
        "id": "gBpobKa2wr5H",
        "colab_type": "code",
        "colab": {
          "base_uri": "https://localhost:8080/",
          "height": 35
        },
        "outputId": "2ec0a376-7afc-41ac-8d4b-0cdfcd071993"
      },
      "source": [
        "'''\n",
        "Jennyfer is fond of strings. She wants to read the character from right to left (reverse the string), so she wants you to design a suitable algorithm which satisfy her desire.\n",
        "\n",
        "Input Description:\n",
        "Enter the string ‘s’\n",
        "\n",
        "Output Description:\n",
        "Print the string from characters right to left.\n",
        "\n",
        "Sample Input :\n",
        "jennyfer\n",
        "Sample Output :\n",
        "Refynnej\n",
        "'''\n",
        "\n",
        "s = list(\"jennyfer\")\n",
        "\n",
        "s[-1]=s[-1].upper()\n",
        "\n",
        "for v in s[::-1]:\n",
        "  print(v,end=\"\")"
      ],
      "execution_count": 58,
      "outputs": [
        {
          "output_type": "stream",
          "text": [
            "Refynnej"
          ],
          "name": "stdout"
        }
      ]
    },
    {
      "cell_type": "code",
      "metadata": {
        "id": "bK-opUeuxajA",
        "colab_type": "code",
        "colab": {
          "base_uri": "https://localhost:8080/",
          "height": 35
        },
        "outputId": "81c911e6-532d-40c9-bf19-8f3812d5aa11"
      },
      "source": [
        "a=\"a\"\n",
        "a.upper()"
      ],
      "execution_count": 57,
      "outputs": [
        {
          "output_type": "execute_result",
          "data": {
            "application/vnd.google.colaboratory.intrinsic+json": {
              "type": "string"
            },
            "text/plain": [
              "'A'"
            ]
          },
          "metadata": {
            "tags": []
          },
          "execution_count": 57
        }
      ]
    },
    {
      "cell_type": "markdown",
      "metadata": {
        "id": "VxFUzmb0U3D1",
        "colab_type": "text"
      },
      "source": [
        "#Linked list"
      ]
    },
    {
      "cell_type": "code",
      "metadata": {
        "id": "6Rk1ui7nU6Bh",
        "colab_type": "code",
        "colab": {}
      },
      "source": [
        "class node:\n",
        "  def __init__(self,data):\n",
        "    self.data=data\n",
        "    self.next=None\n",
        "\n",
        "class linkedList:\n",
        "  def __init__(self):\n",
        "    self.head= None\n",
        "\n",
        "if __name__='__main__':\n",
        "  llist= linkedList()\n",
        "  llist.head=node(1)\n",
        "  second=node(2)\n",
        "  third=node(3)\n",
        "  second.next=third\n",
        "\n"
      ],
      "execution_count": null,
      "outputs": []
    },
    {
      "cell_type": "markdown",
      "metadata": {
        "id": "kbxaeLkpdSzW",
        "colab_type": "text"
      },
      "source": [
        "https://www.youtube.com/watch?v=Bd1L64clh34\n",
        "\n",
        "Node operations:\n",
        "get_next() \n",
        "set_next()\n",
        "set_data()\n",
        "has_next()\n",
        "to_string\n",
        "\n",
        "list operations:\n",
        "get_size()\n",
        "find(data)\n",
        "add(data)\n",
        "remove(data)\n",
        "print_list()\n",
        "sort()\n"
      ]
    },
    {
      "cell_type": "code",
      "metadata": {
        "id": "QKwA075jdeoU",
        "colab_type": "code",
        "colab": {}
      },
      "source": [
        "class node(object):\n",
        "  def __init__(self,data,next_data=None):\n",
        "    self.data=data\n",
        "    self.next=next_data\n",
        "  def get_next(self):\n",
        "    return self.next\n",
        "  def set_next(self,next_data):\n",
        "    self.next=next_data\n",
        "  def set_data(self,data):\n",
        "    self.data=data\n",
        "  def get_data(self):\n",
        "    return self.data\n",
        "  \n",
        "class linkedlist(object):\n",
        "  def __init__(self,r=None):\n",
        "    self.head=r\n",
        "    self.size=0\n",
        "  def add(self,data):\n",
        "    new_node=node(data,self.head)\n",
        "    self.head=new_node\n",
        "    self.size+=1\n",
        "    \n",
        "  "
      ],
      "execution_count": null,
      "outputs": []
    },
    {
      "cell_type": "code",
      "metadata": {
        "id": "RCou7-fqhziC",
        "colab_type": "code",
        "colab": {}
      },
      "source": [
        "llist=linkedlist()\n",
        "llist.add(1)\n",
        "llist.add(2)\n",
        "llist.add(3)\n"
      ],
      "execution_count": null,
      "outputs": []
    },
    {
      "cell_type": "code",
      "metadata": {
        "id": "IiIe6I1RmN5l",
        "colab_type": "code",
        "colab": {}
      },
      "source": [
        "#success\n",
        "class Node:\n",
        "    def __init__(self,data):\n",
        "        self.data = data\n",
        "        self.next = None \n",
        "class Solution: \n",
        "    def display(self,head):\n",
        "        current = head\n",
        "        while current:\n",
        "            print(current.data,end=' ')\n",
        "            current = current.next\n",
        "\n",
        "    def insert(self,head,data): \n",
        "    #Complete this method\n",
        "        new_node=Node(data)\n",
        "        if head:\n",
        "            current=head\n",
        "            while current.next:\n",
        "                current=current.next\n",
        "            current.next=new_node\n",
        "            return head\n",
        "        else:\n",
        "            return new_node\n",
        "        #new_node.next=data\n",
        "        \n",
        "\n",
        "\n",
        "mylist= Solution()\n",
        "T=int(input())\n",
        "head=None\n",
        "for i in range(T):\n",
        "    data=int(input())\n",
        "    head=mylist.insert(head,data)    \n",
        "mylist.display(head); \t  "
      ],
      "execution_count": null,
      "outputs": []
    }
  ]
}