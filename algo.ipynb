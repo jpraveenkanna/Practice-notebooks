{
  "nbformat": 4,
  "nbformat_minor": 0,
  "metadata": {
    "colab": {
      "name": "algo.ipynb",
      "provenance": [],
      "collapsed_sections": []
    },
    "kernelspec": {
      "name": "python3",
      "display_name": "Python 3"
    }
  },
  "cells": [
    {
      "cell_type": "code",
      "metadata": {
        "id": "yyLaSWsyWr7l",
        "colab_type": "code",
        "colab": {
          "base_uri": "https://localhost:8080/",
          "height": 179
        },
        "outputId": "285ef9e9-4e4d-4e65-fe94-2010c26756eb"
      },
      "source": [
        "# create a linked list 1234\n",
        "\n",
        "class node:\n",
        "  def __init__(self,data):\n",
        "    self.data = data\n",
        "    self.next = None\n",
        "\n",
        "class linkedlist:\n",
        "  def __init__(self):\n",
        "    self.head = None\n",
        "  \n",
        "if __name__ == '__main__':\n",
        "  print(\"Enter the list:\")\n",
        "  get_list = [1,2,3,4]#list(input())\n",
        "  llist = linkedlist()\n",
        "  llist.head=node(get_list[0]) \n",
        "  print(\"head:\",llist.head.data)\n",
        "  prev_node = llist.head\n",
        "  for val in get_list[1:]:\n",
        "    temp_node = node(val)\n",
        "    prev_node.next = temp_node\n",
        "    print(\"Next val: \",prev_node.next.data)\n",
        "    prev_node = temp_node\n",
        "\n",
        "  print(\"Printing linked list\")\n",
        "  temp = llist.head\n",
        "  try:\n",
        "    while  temp.data != None:\n",
        "      print(temp.next.data)\n",
        "      temp = temp.next\n",
        "  except:\n",
        "    pass\n",
        "\n",
        "\n",
        "\n"
      ],
      "execution_count": null,
      "outputs": [
        {
          "output_type": "stream",
          "text": [
            "Enter the list:\n",
            "head: 1\n",
            "Next val:  2\n",
            "Next val:  3\n",
            "Next val:  4\n",
            "Printing linked list\n",
            "2\n",
            "3\n",
            "4\n"
          ],
          "name": "stdout"
        }
      ]
    },
    {
      "cell_type": "code",
      "metadata": {
        "id": "GTIaRyWMXJbG",
        "colab_type": "code",
        "colab": {
          "base_uri": "https://localhost:8080/",
          "height": 107
        },
        "outputId": "83f92c7b-cfc5-4662-fb8b-200fa096f861"
      },
      "source": [
        "for i in range(5):\n",
        "  print(i)"
      ],
      "execution_count": null,
      "outputs": [
        {
          "output_type": "stream",
          "text": [
            "0\n",
            "1\n",
            "2\n",
            "3\n",
            "4\n"
          ],
          "name": "stdout"
        }
      ]
    },
    {
      "cell_type": "code",
      "metadata": {
        "id": "XZzD552Xl4b-",
        "colab_type": "code",
        "colab": {
          "base_uri": "https://localhost:8080/",
          "height": 89
        },
        "outputId": "4e1ccf55-70a6-4f1d-aa36-3dd785d1e425"
      },
      "source": [
        "userInput = 4\n",
        "print(1)\n",
        "for i in range((userInput*2)-1):\n",
        "  if i%2:\n",
        "    t = \"1 \"*(i+2)\n",
        "    print(t) "
      ],
      "execution_count": null,
      "outputs": [
        {
          "output_type": "stream",
          "text": [
            "1\n",
            "1 1 1 \n",
            "1 1 1 1 1 \n",
            "1 1 1 1 1 1 1 \n"
          ],
          "name": "stdout"
        }
      ]
    },
    {
      "cell_type": "code",
      "metadata": {
        "id": "MVvTbgmkrQry",
        "colab_type": "code",
        "colab": {}
      },
      "source": [
        "'''Given 2 numbers N,K and an array of N integers, find if the element K exists in the array.\n",
        "Input Size : N <= 100000\n",
        "Sample Testcase :\n",
        "INPUT\n",
        "5 2\n",
        "1 2 3 4 5\n",
        "OUTPUT\n",
        "yes'''"
      ],
      "execution_count": null,
      "outputs": []
    },
    {
      "cell_type": "code",
      "metadata": {
        "id": "14HdkB2Rr8Qj",
        "colab_type": "code",
        "colab": {
          "base_uri": "https://localhost:8080/",
          "height": 35
        },
        "outputId": "d2999cf0-2224-4de1-863f-d75df225740d"
      },
      "source": [
        "\"\"\"You are given a number with duplicate digits your task is to remove the immediate duplicate digits and print the result\n",
        "\n",
        "Input Description:\n",
        "You are given a long string of digits\n",
        "\n",
        "Output Description:\n",
        "Print the desired result print -1 if result length is 0\n",
        "\n",
        "Sample Input :\n",
        "1331\n",
        "Sample Output :\n",
        "11\"\"\"\n",
        "\n",
        "a = list(\"1331\")\n",
        "for i in range(len(a)):\n",
        "  if i+1<len(a) and a[i+1] == a[i]:\n",
        "    a.remove(a[i])\n",
        "    a.remove(a[i])\n",
        "print(\"\".join(b for b in a ))\n",
        "\n"
      ],
      "execution_count": null,
      "outputs": [
        {
          "output_type": "stream",
          "text": [
            "11\n"
          ],
          "name": "stdout"
        }
      ]
    },
    {
      "cell_type": "code",
      "metadata": {
        "id": "AUe_4nfJrRZ9",
        "colab_type": "code",
        "colab": {
          "base_uri": "https://localhost:8080/",
          "height": 143
        },
        "outputId": "280af8cf-7604-48cc-d7a0-07370d3882d5"
      },
      "source": [
        "'''\n",
        "In XYZ country there is rule that car’s engine no. depends upon car’ number plate. Engine no is sum of all the integers present on car’s Number plate.The issuing authority has hired you in order to provide engine no. to the cars.Your task is to develop an algorithm which takes input as in form of string(Number plate) and gives back\n",
        "\n",
        "Engine number.\n",
        "\n",
        "Input Description:\n",
        "You are given a string ’s’\n",
        "\n",
        "Output Description:\n",
        "Print the engine number\n",
        "\n",
        "Sample Input :\n",
        "HR05-AA-2669\n",
        "Sample Output :\n",
        "28\n",
        "'''\n",
        "plate = list(\"HR05-AA-2669\")\n",
        "a = []\n",
        "for i in plate:\n",
        "  try:\n",
        "    print(type(int(i)), i)\n",
        "    a.append(int(i))\n",
        "  except:\n",
        "    pass\n",
        "print(sum(a))\n",
        "\n"
      ],
      "execution_count": null,
      "outputs": [
        {
          "output_type": "stream",
          "text": [
            "<class 'int'> 0\n",
            "<class 'int'> 5\n",
            "<class 'int'> 2\n",
            "<class 'int'> 6\n",
            "<class 'int'> 6\n",
            "<class 'int'> 9\n",
            "28\n"
          ],
          "name": "stdout"
        }
      ]
    },
    {
      "cell_type": "code",
      "metadata": {
        "id": "gBpobKa2wr5H",
        "colab_type": "code",
        "colab": {
          "base_uri": "https://localhost:8080/",
          "height": 35
        },
        "outputId": "2ec0a376-7afc-41ac-8d4b-0cdfcd071993"
      },
      "source": [
        "'''\n",
        "Jennyfer is fond of strings. She wants to read the character from right to left (reverse the string), so she wants you to design a suitable algorithm which satisfy her desire.\n",
        "\n",
        "Input Description:\n",
        "Enter the string ‘s’\n",
        "\n",
        "Output Description:\n",
        "Print the string from characters right to left.\n",
        "\n",
        "Sample Input :\n",
        "jennyfer\n",
        "Sample Output :\n",
        "Refynnej\n",
        "'''\n",
        "\n",
        "s = list(\"jennyfer\")\n",
        "\n",
        "s[-1]=s[-1].upper()\n",
        "\n",
        "for v in s[::-1]:\n",
        "  print(v,end=\"\")"
      ],
      "execution_count": null,
      "outputs": [
        {
          "output_type": "stream",
          "text": [
            "Refynnej"
          ],
          "name": "stdout"
        }
      ]
    },
    {
      "cell_type": "code",
      "metadata": {
        "id": "bK-opUeuxajA",
        "colab_type": "code",
        "colab": {
          "base_uri": "https://localhost:8080/",
          "height": 35
        },
        "outputId": "81c911e6-532d-40c9-bf19-8f3812d5aa11"
      },
      "source": [
        "a=\"a\"\n",
        "a.upper()"
      ],
      "execution_count": null,
      "outputs": [
        {
          "output_type": "execute_result",
          "data": {
            "application/vnd.google.colaboratory.intrinsic+json": {
              "type": "string"
            },
            "text/plain": [
              "'A'"
            ]
          },
          "metadata": {
            "tags": []
          },
          "execution_count": 57
        }
      ]
    },
    {
      "cell_type": "code",
      "metadata": {
        "id": "3OJAY73V2opJ",
        "colab_type": "code",
        "colab": {
          "base_uri": "https://localhost:8080/",
          "height": 71
        },
        "outputId": "1fc3ae0b-096f-45e6-d57e-03eef7a6a8da"
      },
      "source": [
        "'''\n",
        "Complete the code in the editor below. The variables , , and  are already declared and initialized for you. You must:\n",
        "\n",
        "Declare  variables: one of type int, one of type double, and one of type String.\n",
        "Read  lines of input from stdin (according to the sequence given in the Input Format section below) and initialize your  variables.\n",
        "Use the  operator to perform the following operations:\n",
        "Print the sum of  plus your int variable on a new line.\n",
        "Print the sum of  plus your double variable to a scale of one decimal place on a new line.\n",
        "Concatenate  with the string you read as input and print the result on a new line.\n",
        "'''\n",
        "\n",
        "from decimal import Decimal\n",
        "\n",
        "i = int(1)\n",
        "d = Decimal(3.23)\n",
        "s = \"hi\"\n",
        "\n",
        "print(round(i+d,1))\n",
        "print(Decimal(i)+d)\n",
        "print(i,s)\n"
      ],
      "execution_count": null,
      "outputs": [
        {
          "output_type": "stream",
          "text": [
            "4.2\n",
            "4.229999999999999982236431606\n",
            "1 hi\n"
          ],
          "name": "stdout"
        }
      ]
    },
    {
      "cell_type": "code",
      "metadata": {
        "id": "r6Mc9M1n2oLQ",
        "colab_type": "code",
        "colab": {
          "base_uri": "https://localhost:8080/",
          "height": 89
        },
        "outputId": "89643fae-3e26-46fa-dfd9-7d17a48aa23c"
      },
      "source": [
        "\"\"\"\n",
        "Given a string, , of length  that is indexed from  to , print its even-indexed and odd-indexed characters as  space-separated strings on a single line (see the Sample below for more detail).\n",
        "\n",
        "Note:  is considered to be an even index.\n",
        "\"\"\"\n",
        "\n",
        "N = 2\n",
        "s = [\"given\",\"string\"]\n",
        "s1 = \"\"\n",
        "s2=\"\"\n",
        "for word in s:\n",
        "  l = list(word)\n",
        "  print(l)\n",
        "  for i,v in enumerate(l):\n",
        "    if i % 2 == 0:\n",
        "      s1 += v\n",
        "    else:\n",
        "      s2 += v\n",
        "  s1+=\" \"\n",
        "  s2+=\" \"\n",
        "\n",
        "s1 = s1.split()\n",
        "s2 = s2.split()\n",
        "for i in range(len(s1)):\n",
        "  print(s1[i],s2[i])\n",
        "\n",
        "\n",
        "\n",
        "\n"
      ],
      "execution_count": null,
      "outputs": [
        {
          "output_type": "stream",
          "text": [
            "['g', 'i', 'v', 'e', 'n']\n",
            "['s', 't', 'r', 'i', 'n', 'g']\n",
            "gvn ie\n",
            "srn tig\n"
          ],
          "name": "stdout"
        }
      ]
    },
    {
      "cell_type": "code",
      "metadata": {
        "id": "0-9gw-d-CD1Y",
        "colab_type": "code",
        "colab": {
          "base_uri": "https://localhost:8080/",
          "height": 35
        },
        "outputId": "3354d698-6763-41be-8a7d-6fbd0fa5ef79"
      },
      "source": [
        "a = \"hi lk\"\n",
        "a.split()"
      ],
      "execution_count": null,
      "outputs": [
        {
          "output_type": "execute_result",
          "data": {
            "text/plain": [
              "['hi', 'lk']"
            ]
          },
          "metadata": {
            "tags": []
          },
          "execution_count": 17
        }
      ]
    },
    {
      "cell_type": "code",
      "metadata": {
        "id": "wmzZYcK4DAXo",
        "colab_type": "code",
        "colab": {
          "base_uri": "https://localhost:8080/",
          "height": 35
        },
        "outputId": "c9f8eec0-568e-4ecf-fb46-0da9e7bc7b20"
      },
      "source": [
        "\"\"\"\n",
        "Given an array, , of  integers, print 's elements in reverse order as a single line of space-separated numbers.\n",
        "\n",
        "Input Format\n",
        "\n",
        "The first line contains an integer,  (the size of our array).\n",
        "The second line contains  space-separated integers describing array 's elements.\n",
        "\n",
        "Constraints\n",
        "\n",
        ", where  is the  integer in the array.\n",
        "Output Format\n",
        "\n",
        "Print the elements of array  in reverse order as a single line of space-separated numbers.\n",
        "\n",
        "Sample Input\n",
        "\n",
        "4\n",
        "1 4 3 2\n",
        "Sample Output\n",
        "\n",
        "2 3 4 1\n",
        "\"\"\"\n",
        "\n",
        "N = int(4)\n",
        "a = \"1 4 3 2\".split()\n",
        "\n",
        "a.reverse()\n",
        "print(\" \".join(c for c in a))\n"
      ],
      "execution_count": null,
      "outputs": [
        {
          "output_type": "stream",
          "text": [
            "2 3 4 1\n"
          ],
          "name": "stdout"
        }
      ]
    },
    {
      "cell_type": "code",
      "metadata": {
        "id": "Hu2DzLT5ESai",
        "colab_type": "code",
        "colab": {}
      },
      "source": [
        "#alternative ans\n",
        "\n",
        "import math\n",
        "import os\n",
        "import random\n",
        "import re\n",
        "import sys\n",
        "\n",
        "\n",
        "\n",
        "if __name__ == '__main__':\n",
        "    n = int(input())\n",
        "\n",
        "    arr = list(map(int, input().rstrip().split()))\n",
        "    #print(sorted(arr))\n",
        "\n",
        "    for elements in arr[::-1]:\n",
        "        print(elements,end=' ')"
      ],
      "execution_count": null,
      "outputs": []
    },
    {
      "cell_type": "code",
      "metadata": {
        "id": "Isto434VE-H9",
        "colab_type": "code",
        "colab": {
          "base_uri": "https://localhost:8080/",
          "height": 71
        },
        "outputId": "5ea7b08a-b259-4c6c-803d-30ecef531422"
      },
      "source": [
        "#Map and dictionary\n",
        "\"\"\"\n",
        "Given  names and phone numbers, assemble a phone book that maps friends' names to their respective phone numbers. \n",
        "You will then be given an unknown number of names to query your phone book for. \n",
        "For each  queried, print the associated entry from your phone book on a new line in the form name=phoneNumber; \n",
        "if an entry for  is not found, print Not found instead.\n",
        "\"\"\"\n",
        "\n",
        "\n",
        "n =3\n",
        "d = [\"sam 99912222\",\"tom 11122222\",\"harry 12299933\"]\n",
        "q = [\"sam\",\"ed\"]\n",
        "\"\"\"\n",
        "d=[]\n",
        "for i in range(int(n)):\n",
        "  d.append(input())\n",
        "\"\"\"\n",
        "\n",
        "phone_book = {}\n",
        "for i in d:\n",
        "  t = i.split()\n",
        "  phone_book[t[0]]=t[1]\n",
        "print(phone_book)\n",
        "\n",
        "while True:\n",
        "  try:\n",
        "    q = str(input())\n",
        "    if q in phone_book: \n",
        "      print(q+\"=\"+phone_book[q])\n",
        "    else:\n",
        "      print(\"Not found\")\n",
        "  except:\n",
        "    break"
      ],
      "execution_count": null,
      "outputs": [
        {
          "output_type": "stream",
          "text": [
            "{'sam': '99912222', 'tom': '11122222', 'harry': '12299933'}\n",
            "99912222\n",
            "Not found\n"
          ],
          "name": "stdout"
        }
      ]
    },
    {
      "cell_type": "code",
      "metadata": {
        "id": "89YQcxb_IpOF",
        "colab_type": "code",
        "colab": {}
      },
      "source": [
        "# alternative sol\n",
        "\n",
        "n=int(input())\n",
        "dict={}\n",
        "for item in range(n):\n",
        "    temp=str(input())\n",
        "    l=temp.split()\n",
        "    #print(l)\n",
        "    dict[l[0]]= str(l[1])\n",
        "#print(dict)\n",
        "#flag=True\n",
        "#i=1\n",
        "while(True):\n",
        "    try:\n",
        "        a=str(input())\n",
        "    except:\n",
        "        break\n",
        "    #print(\"while: \",a,type(a))\n",
        "    #i=i+1\n",
        "    if a in dict:\n",
        "        print(\"{0}={1}\".format(a,dict.get(a)))\n",
        "        #print(dict.get(a))\n",
        "    else:\n",
        "        print(\"Not found\")\n",
        "\n",
        "\n"
      ],
      "execution_count": null,
      "outputs": []
    },
    {
      "cell_type": "code",
      "metadata": {
        "id": "h43t06ycN_7f",
        "colab_type": "code",
        "colab": {
          "base_uri": "https://localhost:8080/",
          "height": 35
        },
        "outputId": "6af812f8-55c9-4fcb-8ed4-162113340827"
      },
      "source": [
        "#def dict\n",
        "\n",
        "from collections import defaultdict\n",
        "\n",
        "a = defaultdict(list)\n",
        "a[\"1\"].append(\"HI\")\n",
        "a[\"1\"].append(\"HIi\")\n",
        "a\n"
      ],
      "execution_count": null,
      "outputs": [
        {
          "output_type": "execute_result",
          "data": {
            "text/plain": [
              "defaultdict(list, {'1': ['HI', 'HIi']})"
            ]
          },
          "metadata": {
            "tags": []
          },
          "execution_count": 31
        }
      ]
    },
    {
      "cell_type": "code",
      "metadata": {
        "id": "etpll8YsOxGY",
        "colab_type": "code",
        "colab": {
          "base_uri": "https://localhost:8080/",
          "height": 35
        },
        "outputId": "53a1cabf-180c-47c5-dc35-669068c72101"
      },
      "source": [
        "#normal dict\n",
        "b[\"1\"] = [\"hello\"]\n",
        "b[\"1\"].append(\"HI\")\n",
        "b[\"1\"].append(\"HIi\")\n",
        "b"
      ],
      "execution_count": null,
      "outputs": [
        {
          "output_type": "execute_result",
          "data": {
            "text/plain": [
              "{'1': ['hello', 'HI', 'HIi']}"
            ]
          },
          "metadata": {
            "tags": []
          },
          "execution_count": 35
        }
      ]
    },
    {
      "cell_type": "code",
      "metadata": {
        "id": "omllF0M_QJJT",
        "colab_type": "code",
        "colab": {
          "base_uri": "https://localhost:8080/",
          "height": 35
        },
        "outputId": "4af53c9e-b5d6-4867-dfa7-e384f1802485"
      },
      "source": [
        "#ordered dict\n",
        "from collections import OrderedDict\n",
        "b = OrderedDict()\n",
        "b[\"1\"] = [\"hello\"]\n",
        "b[\"1\"].append(\"HI\")\n",
        "b[\"1\"].append(\"HIi\")\n",
        "b"
      ],
      "execution_count": null,
      "outputs": [
        {
          "output_type": "execute_result",
          "data": {
            "text/plain": [
              "OrderedDict([('1', ['hello', 'HI', 'HIi'])])"
            ]
          },
          "metadata": {
            "tags": []
          },
          "execution_count": 37
        }
      ]
    },
    {
      "cell_type": "code",
      "metadata": {
        "id": "pVO9EHg9Q0_5",
        "colab_type": "code",
        "colab": {
          "base_uri": "https://localhost:8080/",
          "height": 35
        },
        "outputId": "cd9d2667-f239-4632-8c7d-6eb446157db0"
      },
      "source": [
        "b['1']"
      ],
      "execution_count": null,
      "outputs": [
        {
          "output_type": "execute_result",
          "data": {
            "text/plain": [
              "['hello', 'HI', 'HIi']"
            ]
          },
          "metadata": {
            "tags": []
          },
          "execution_count": 38
        }
      ]
    },
    {
      "cell_type": "code",
      "metadata": {
        "id": "tpbTzGIPQ8sp",
        "colab_type": "code",
        "colab": {
          "base_uri": "https://localhost:8080/",
          "height": 35
        },
        "outputId": "51785533-1427-4ab6-e8c5-db3549896f42"
      },
      "source": [
        "b['3'] = \"n\"\n",
        "b"
      ],
      "execution_count": null,
      "outputs": [
        {
          "output_type": "execute_result",
          "data": {
            "text/plain": [
              "OrderedDict([('1', ['hello', 'HI', 'HIi']), ('3', 'n')])"
            ]
          },
          "metadata": {
            "tags": []
          },
          "execution_count": 39
        }
      ]
    },
    {
      "cell_type": "code",
      "metadata": {
        "id": "nKB8HFWSRENL",
        "colab_type": "code",
        "colab": {
          "base_uri": "https://localhost:8080/",
          "height": 53
        },
        "outputId": "4b83003b-890e-4dbd-c220-9f8afb0b62e1"
      },
      "source": [
        "print(b['3'])\n",
        "del b['3']\n",
        "b"
      ],
      "execution_count": null,
      "outputs": [
        {
          "output_type": "stream",
          "text": [
            "n\n"
          ],
          "name": "stdout"
        },
        {
          "output_type": "execute_result",
          "data": {
            "text/plain": [
              "OrderedDict([('1', ['hello', 'HI', 'HIi'])])"
            ]
          },
          "metadata": {
            "tags": []
          },
          "execution_count": 41
        }
      ]
    },
    {
      "cell_type": "code",
      "metadata": {
        "id": "XFmRsBhaRdUu",
        "colab_type": "code",
        "colab": {
          "base_uri": "https://localhost:8080/",
          "height": 35
        },
        "outputId": "3eff5666-6a05-4700-f69c-e41900fa7d7b"
      },
      "source": [
        "#User string\n",
        "from collections import UserString\n",
        "v = 12233\n",
        "v1 = UserString(v)\n",
        "v1[2:4]"
      ],
      "execution_count": null,
      "outputs": [
        {
          "output_type": "execute_result",
          "data": {
            "text/plain": [
              "'23'"
            ]
          },
          "metadata": {
            "tags": []
          },
          "execution_count": 43
        }
      ]
    },
    {
      "cell_type": "code",
      "metadata": {
        "id": "KXDykWfAoQBZ",
        "colab_type": "code",
        "colab": {
          "base_uri": "https://localhost:8080/",
          "height": 89
        },
        "outputId": "02e43858-23bf-4fe5-b465-17efd188e1bb"
      },
      "source": [
        "#heap\n",
        "\n",
        "import heapq\n",
        "a =[1,2,2,1,3,2,1,1,1,2]\n",
        "heapq.heapify(a)\n",
        "print(list(a))\n",
        "heapq.heappush(a,7)\n",
        "print(list(a))\n",
        "heapq.heappop(a)\n",
        "print(list(a))\n",
        "\n",
        "#heapq.nlargest(3,a)\n",
        "\n",
        "heapq.nsmallest(len(a),a)\n"
      ],
      "execution_count": null,
      "outputs": [
        {
          "output_type": "stream",
          "text": [
            "[1, 1, 1, 1, 2, 2, 2, 1, 2, 3]\n",
            "[1, 1, 1, 1, 2, 2, 2, 1, 2, 3, 7]\n",
            "[1, 1, 2, 1, 2, 2, 7, 1, 2, 3]\n"
          ],
          "name": "stdout"
        },
        {
          "output_type": "execute_result",
          "data": {
            "text/plain": [
              "[1, 1, 1, 1, 2, 2, 2, 2, 3, 7]"
            ]
          },
          "metadata": {
            "tags": []
          },
          "execution_count": 60
        }
      ]
    },
    {
      "cell_type": "code",
      "metadata": {
        "id": "yF4wjvNEvWhv",
        "colab_type": "code",
        "colab": {
          "base_uri": "https://localhost:8080/",
          "height": 35
        },
        "outputId": "3a490c56-a471-483d-90e6-465107183e24"
      },
      "source": [
        "\"\"\"\n",
        "Write a factorial function that takes a positive integer,  as a parameter and prints the result of  ( factorial).\n",
        "\"\"\"\n",
        "\n",
        "n =4\n",
        "\n",
        "res = 1\n",
        "\n",
        "for i in range(1,int(n+1)):\n",
        "  res=res*i\n",
        "res\n",
        "\n"
      ],
      "execution_count": null,
      "outputs": [
        {
          "output_type": "execute_result",
          "data": {
            "text/plain": [
              "24"
            ]
          },
          "metadata": {
            "tags": []
          },
          "execution_count": 64
        }
      ]
    },
    {
      "cell_type": "code",
      "metadata": {
        "id": "qF7DkaTYwsvE",
        "colab_type": "code",
        "colab": {
          "base_uri": "https://localhost:8080/",
          "height": 53
        },
        "outputId": "e0c22dd4-2ebc-4a90-86c9-941d4347cecd"
      },
      "source": [
        "\"\"\"\n",
        "Given a base- integer, , convert it to binary (base-). \n",
        "Then find and print the base- integer denoting the maximum number of consecutive 's in 's binary representation.\n",
        "\"\"\"\n",
        "import heapq\n",
        "from collections import UserString\n",
        "n = 161\n",
        "l = str(bin(101101110)[2:])\n",
        "li = l.split('0')\n",
        "print(li)\n",
        "heapq.heapify(li)\n",
        "item = heapq.heappop(heapq.nlargest(1,li))\n",
        "len(UserString(item))\n",
        "\n"
      ],
      "execution_count": null,
      "outputs": [
        {
          "output_type": "stream",
          "text": [
            "['11', '', '', '', '', '', '11', '1', '1', '111', '', '', '11', '11', '']\n"
          ],
          "name": "stdout"
        },
        {
          "output_type": "execute_result",
          "data": {
            "text/plain": [
              "3"
            ]
          },
          "metadata": {
            "tags": []
          },
          "execution_count": 87
        }
      ]
    },
    {
      "cell_type": "code",
      "metadata": {
        "id": "4ck6YHBGzozN",
        "colab_type": "code",
        "colab": {
          "base_uri": "https://localhost:8080/",
          "height": 53
        },
        "outputId": "18348668-bea1-4428-951c-a981caa1a7bb"
      },
      "source": [
        "\"\"\"\n",
        "The absolute difference between two integers,  and , is written as . The maximum absolute difference between two integers in a set of positive integers, , is the largest absolute difference between any two integers in .\n",
        "\n",
        "The Difference class is started for you in the editor. It has a private integer array () for storing  non-negative integers, and a public integer () for storing the maximum absolute difference.\n",
        "\n",
        "Task\n",
        "Complete the Difference class by writing the following:\n",
        "\n",
        "A class constructor that takes an array of integers as a parameter and saves it to the  instance variable.\n",
        "A computeDifference method that finds the maximum absolute difference between any  numbers in  and stores it in the  instance variable.\n",
        "\"\"\"\n",
        "import heapq\n",
        "a = \"1 2 5\"\n",
        "a = list(map(int, a.split()))\n",
        "print(a)\n",
        "\n",
        "heapq.heapify(a)\n",
        "\n",
        "smallest = heapq.heappop(heapq.nsmallest(1,a))\n",
        "largest = heapq.heappop(heapq.nlargest(1,a))\n",
        "print(largest-smallest)\n",
        "\n"
      ],
      "execution_count": null,
      "outputs": [
        {
          "output_type": "stream",
          "text": [
            "[1, 2, 5]\n",
            "4\n"
          ],
          "name": "stdout"
        }
      ]
    },
    {
      "cell_type": "code",
      "metadata": {
        "id": "xtQbB83L6T6g",
        "colab_type": "code",
        "colab": {}
      },
      "source": [
        "class Difference:\n",
        "    def __init__(self, a):\n",
        "        self.__elements = a\n",
        "\n",
        "    # Add your code here\n",
        "    def computeDifference(self):\n",
        "        #print(a,type(a))\n",
        "        diff=[]\n",
        "        for first_number in a:\n",
        "            #print(first_number)\n",
        "            for second_number in a[1:]:\n",
        "                #print(\"diff\",(first_number-second_number))\n",
        "                diff.append(abs(first_number-second_number))\n",
        "\n",
        "\n",
        "        #print(max(diff))\n",
        "        self.maximumDifference=max(diff)\n",
        "        #maximum_Difference1=max(diff)\n",
        "        return str(max(diff))"
      ],
      "execution_count": null,
      "outputs": []
    },
    {
      "cell_type": "code",
      "metadata": {
        "id": "aV8lUxmM7rED",
        "colab_type": "code",
        "colab": {
          "base_uri": "https://localhost:8080/",
          "height": 35
        },
        "outputId": "4d006cb6-665d-4cb1-f01b-0395874a49be"
      },
      "source": [
        "a = [1.0,4]\n",
        "sorted(a)"
      ],
      "execution_count": null,
      "outputs": [
        {
          "output_type": "execute_result",
          "data": {
            "text/plain": [
              "[1.0, 4]"
            ]
          },
          "metadata": {
            "tags": []
          },
          "execution_count": 103
        }
      ]
    },
    {
      "cell_type": "code",
      "metadata": {
        "id": "4m7xSzyK8sw7",
        "colab_type": "code",
        "colab": {}
      },
      "source": [
        "\"\"\"\n",
        "Task\n",
        "Write a Calculator class with a single method: int power(int,int). The power method takes two integers,  and , as parameters and returns the integer result of . If either  or  is negative, then the method must throw an exception with the message: n and p should be non-negative.\n",
        "\n",
        "Note: Do not use an access modifier (e.g.: public) in the declaration for your Calculator class.\n",
        "\n",
        "Input Format\n",
        "\n",
        "Input from stdin is handled for you by the locked stub code in your editor. The first line contains an integer, , the number of test cases. Each of the  subsequent lines describes a test case in  space-separated integers denoting  and , respectively.\n",
        "\n",
        "Constraints\n",
        "\n",
        "No Test Case will result in overflow for correctly written code.\n",
        "Output Format\n",
        "\n",
        "Output to stdout is handled for you by the locked stub code in your editor. There are  lines of output, where each line contains the result of  as calculated by your Calculator class' power method.\n",
        "\n",
        "Sample Input\n",
        "\n",
        "4\n",
        "3 5\n",
        "2 4\n",
        "-1 -2\n",
        "-1 3\n",
        "Sample Output\n",
        "\n",
        "243\n",
        "16\n",
        "n and p should be non-negative\n",
        "n and p should be non-negative\n",
        "\n",
        "\"\"\"\n",
        "class Calculator():\n",
        "\n",
        "    def power(self,n,p): \n",
        "        if(n>=0 and p>=0):\n",
        "            #print(\"Printing\",pow(n,p))#(self.n,self.p))\n",
        "            #print(\"check\",n,p)\n",
        "            return (pow(n,p))\n",
        "        else:\n",
        "            #print(n,p)\n",
        "            raise Exception(\"n and p should be non-negative\")\n",
        "            #raise Exception\n",
        "\n",
        "myCalculator=Calculator()\n",
        "T=int(input())\n",
        "for i in range(T):\n",
        "    n,p = map(int, input().split())\n",
        "    try:\n",
        "        ans=myCalculator.power(n,p)\n",
        "        print(ans)\n",
        "    except Exception as e:\n",
        "        print(e)   "
      ],
      "execution_count": null,
      "outputs": []
    },
    {
      "cell_type": "code",
      "metadata": {
        "id": "sjaqQqJV80NB",
        "colab_type": "code",
        "colab": {
          "base_uri": "https://localhost:8080/",
          "height": 53
        },
        "outputId": "4329fb3f-9638-44b6-d92c-1c0bff313378"
      },
      "source": [
        "#deque\n",
        "from collections import deque\n",
        "\n",
        "s = deque([1,2,3])\n",
        "s.appendleft(0)\n",
        "s.append(4)\n",
        "print(s)\n",
        "len(s)\n",
        "\n"
      ],
      "execution_count": null,
      "outputs": [
        {
          "output_type": "stream",
          "text": [
            "deque([0, 1, 2, 3, 4])\n"
          ],
          "name": "stdout"
        },
        {
          "output_type": "execute_result",
          "data": {
            "text/plain": [
              "5"
            ]
          },
          "metadata": {
            "tags": []
          },
          "execution_count": 109
        }
      ]
    },
    {
      "cell_type": "code",
      "metadata": {
        "id": "uBmohjj-I3HC",
        "colab_type": "code",
        "colab": {
          "base_uri": "https://localhost:8080/",
          "height": 35
        },
        "outputId": "adb399a4-f6d7-4582-d9c3-3066f7f0836d"
      },
      "source": [
        "#intefaces\n",
        "\"\"\"\n",
        "ask\n",
        "The AdvancedArithmetic interface and the method declaration for the abstract divisorSum(n) method are provided for you in the editor below.\n",
        "\n",
        "Complete the implementation of Calculator class, which implements the AdvancedArithmetic interface. The implementation for the divisorSum(n) method must return the sum of all divisors of .\n",
        "\n",
        "Input Format\n",
        "\n",
        "A single line containing an integer, .\n",
        "\n",
        "Constraints\n",
        "\n",
        "Output Format\n",
        "\n",
        "You are not responsible for printing anything to stdout. The locked template code in the editor below will call your code and print the necessary output.\n",
        "\n",
        "Sample Input\n",
        "\n",
        "6\n",
        "Sample Output\n",
        "\n",
        "I implemented: AdvancedArithmetic\n",
        "12\n",
        "\"\"\"\n",
        "\n",
        "class AdvancedArithmetic(object):\n",
        "  def divisor(n):\n",
        "    raise NotImplementedError\n",
        "class calculator(AdvancedArithmetic):\n",
        "  def divisor(self,n):\n",
        "    div = []\n",
        "    for i in range(1,n+1):\n",
        "      if n%i == 0:\n",
        "        div.append(i)\n",
        "    return div\n",
        "\n",
        "if __name__ == '__main__':\n",
        "  mycal=calculator()\n",
        "  res = mycal.divisor(6)\n",
        "  print(sum(res))\n",
        "\n"
      ],
      "execution_count": null,
      "outputs": [
        {
          "output_type": "stream",
          "text": [
            "12\n"
          ],
          "name": "stdout"
        }
      ]
    },
    {
      "cell_type": "code",
      "metadata": {
        "id": "c210LHKPLM9Z",
        "colab_type": "code",
        "colab": {
          "base_uri": "https://localhost:8080/",
          "height": 89
        },
        "outputId": "774b7ff8-ea3d-488e-87ba-1f719855891f"
      },
      "source": [
        "#bubble sort\n",
        "\n",
        "a = [2,1,2,3]\n",
        "swap = 0\n",
        "\n",
        "for j in range(len(a)):\n",
        "  for i in range(len(a)):\n",
        "    if i+1 < len(a) and a[i]>a[i+1]:\n",
        "      temp =  a[i+1]\n",
        "      a[i+1] = a[i]\n",
        "      a[i] = temp\n",
        "      swap +=1\n",
        "print(\"Smallest: \",a[0])\n",
        "print(\"Largest: \",a[-1])\n",
        "print(\"Swaped: \",swap)\n",
        "a"
      ],
      "execution_count": null,
      "outputs": [
        {
          "output_type": "stream",
          "text": [
            "Smallest:  1\n",
            "Largest:  3\n",
            "Swaped:  1\n"
          ],
          "name": "stdout"
        },
        {
          "output_type": "execute_result",
          "data": {
            "text/plain": [
              "[1, 2, 2, 3]"
            ]
          },
          "metadata": {
            "tags": []
          },
          "execution_count": 122
        }
      ]
    },
    {
      "cell_type": "code",
      "metadata": {
        "id": "aTYaDr4lN2sI",
        "colab_type": "code",
        "colab": {
          "base_uri": "https://localhost:8080/",
          "height": 53
        },
        "outputId": "dba93127-5c01-4d85-98ed-ec58915a8890"
      },
      "source": [
        "\"\"\"\n",
        "Given the values of a,b and x in the equation ax + b = y. Find the value of y.\n",
        "Sample Testcase :\n",
        "INPUT\n",
        "3 5 2\n",
        "OUTPUT\n",
        "11\n",
        "\"\"\"\n",
        "s = \"3 5 2\"\n",
        "a = s.split()\n",
        "print(a)\n",
        "y = int(a[0])*int(a[2])+int(a[1])\n",
        "print(y)"
      ],
      "execution_count": null,
      "outputs": [
        {
          "output_type": "stream",
          "text": [
            "['3', '5', '2']\n",
            "11\n"
          ],
          "name": "stdout"
        }
      ]
    },
    {
      "cell_type": "code",
      "metadata": {
        "id": "X2gcqTpDTXOU",
        "colab_type": "code",
        "colab": {
          "base_uri": "https://localhost:8080/",
          "height": 197
        },
        "outputId": "933bb402-1157-45ad-d8d5-a9a31afc649f"
      },
      "source": [
        "#BST - binary search tree\n",
        "class node:\n",
        "  def __init__(self,data):\n",
        "    self.data = data\n",
        "    self.left = None\n",
        "    self.right = None\n",
        "class bst:\n",
        "  def insert(self,root,data):\n",
        "      if root==None:\n",
        "          return node(data)\n",
        "      else:\n",
        "          if data<=root.data:\n",
        "              cur=self.insert(root.left,data)\n",
        "              root.left=cur\n",
        "              print(\"left\", root.left.data)\n",
        "          else:\n",
        "              cur=self.insert(root.right,data)\n",
        "              root.right=cur\n",
        "              print(\"right\", root.right.data)\n",
        "\n",
        "      return root\n",
        "    \n",
        "  def getHeight(self,root):\n",
        "    if root.left==None and root.right==None:\n",
        "        return(0)\n",
        "    else:\n",
        "        hLeft = 0\n",
        "        hRight = 0\n",
        "        if root.left:\n",
        "            hLeft = self.getHeight(root.left) + 1\n",
        "        if root.right:\n",
        "            hRight = self.getHeight(root.right) + 1\n",
        "        return(max(hLeft, hRight))\n",
        "  def levelOrder(self,root):\n",
        "    #Write your code here\n",
        "    leafs = [root]\n",
        "    while len(leafs) > 0:\n",
        "        leaf = leafs.pop(0)\n",
        "        print(leaf.data, end=\" \")\n",
        "        if leaf.left:\n",
        "            leafs.append(leaf.left)\n",
        "        if leaf.right:\n",
        "            leafs.append(leaf.right)\n",
        "\n",
        "\n",
        "if __name__ == '__main__':\n",
        "  a = [3,5,4,7,2,1]\n",
        "  tree = bst()\n",
        "  root = None\n",
        "  for i in range(len(a)):\n",
        "      root = tree.insert(root,a[i])\n",
        "\n",
        "  print(tree.getHeight(root))\n",
        "  print(tree.levelOrder(root))\n",
        "\n",
        "\n",
        "\n"
      ],
      "execution_count": null,
      "outputs": [
        {
          "output_type": "stream",
          "text": [
            "right 5\n",
            "left 4\n",
            "right 5\n",
            "right 7\n",
            "right 5\n",
            "left 2\n",
            "left 1\n",
            "left 2\n",
            "2\n",
            "3 2 5 1 4 7 None\n"
          ],
          "name": "stdout"
        }
      ]
    },
    {
      "cell_type": "code",
      "metadata": {
        "id": "jiihD95y7-kj",
        "colab_type": "code",
        "colab": {
          "base_uri": "https://localhost:8080/",
          "height": 71
        },
        "outputId": "15077799-98b3-4a2c-d9c7-c3eb1b240dd4"
      },
      "source": [
        "\"\"\"\n",
        "A Node class is provided for you in the editor. A Node object has an integer data field, , and a Node instance pointer, , pointing to another node (i.e.: the next node in a list).\n",
        "\n",
        "A removeDuplicates function is declared in your editor, which takes a pointer to the  node of a linked list as a parameter. Complete removeDuplicates so that it deletes any duplicate nodes from the list and returns the head of the updated list.\n",
        "\n",
        "Note: The  pointer may be null, indicating that the list is empty. Be sure to reset your  pointer when performing deletions to avoid breaking the list.\n",
        "\n",
        "Input Format\n",
        "\n",
        "You do not need to read any input from stdin. The following input is handled by the locked stub code and passed to the removeDuplicates function:\n",
        "The first line contains an integer, , the number of nodes to be inserted.\n",
        "The  subsequent lines each contain an integer describing the  value of a node being inserted at the list's tail.\n",
        "\n",
        "Constraints\n",
        "\n",
        "The data elements of the linked list argument will always be in non-decreasing order.\n",
        "Output Format\n",
        "\n",
        "Your removeDuplicates function should return the head of the updated linked list. The locked stub code in your editor will print the returned list to stdout.\n",
        "\n",
        "Sample Input\n",
        "\n",
        "6\n",
        "1\n",
        "2\n",
        "2\n",
        "3\n",
        "3\n",
        "4\n",
        "Sample Output\n",
        "\n",
        "1 2 3 4 \"\"\"\n",
        "\n",
        "class node:\n",
        "  def __init__(self,data):\n",
        "    self.data = data\n",
        "    self.next = None\n",
        "class linkedlist:\n",
        "  def add(self,data,head=None):\n",
        "    if head is None:\n",
        "      head = node(data)\n",
        "      #print(\"head\", head.data)\n",
        "      return head\n",
        "    else:\n",
        "      head.next=node(data)\n",
        "      #print(\"nextnode\",head.next.data)\n",
        "      return head.next\n",
        "\n",
        "  def removeDuplicate(self,node_a):\n",
        "\n",
        "    head2 = node_a\n",
        "    org_head = node_a\n",
        "\n",
        "    while head2.next:\n",
        "      while head2.next and head2.next.data == head2.data:\n",
        "        head2.next = head2.next.next\n",
        "      head2 = head2.next\n",
        "    return org_head\n",
        " \n",
        "if __name__ == '__main__':\n",
        "  llist = linkedlist()\n",
        "  n = [2,1,1,1,1,1,3]\n",
        "  head1 = llist.add(n[0])\n",
        "  head = head1\n",
        "  for i in n[1:]:\n",
        "    head = llist.add(i,head)\n",
        "  \"\"\"\n",
        "  print(\"\\nprinting list\")\n",
        "  while head1 is not None:\n",
        "    try:\n",
        "      if head1.data != head1.next.data:\n",
        "        print(head1.data,end=\" \")\n",
        "    except:\n",
        "      print(head1.data,end=\" \")\n",
        "    head1 = head1.next\n",
        "  \"\"\"\n",
        "  print(\"\\nRemoving duplicates\")\n",
        "  head2=head1\n",
        "\n",
        "  head3 = llist.removeDuplicate(head2)\n",
        "\n",
        "  \n",
        "  while head3:\n",
        "    print(head3.data,end=\" \")\n",
        "    head3=head3.next\n",
        "\n",
        "\n"
      ],
      "execution_count": null,
      "outputs": [
        {
          "output_type": "stream",
          "text": [
            "\n",
            "Removing duplicates\n",
            "2 1 3 "
          ],
          "name": "stdout"
        }
      ]
    },
    {
      "cell_type": "code",
      "metadata": {
        "id": "TnCXHxRWzVOi",
        "colab_type": "code",
        "colab": {
          "base_uri": "https://localhost:8080/",
          "height": 35
        },
        "outputId": "a2bf6f82-edfd-40c5-b3a4-b92e73a44410"
      },
      "source": [
        "#Binary Search tree - Insersion\n",
        "#https://www.techiedelight.com/construct-binary-tree-from-inorder-level-order-traversals/\n",
        "\n",
        "class node:\n",
        "  def __init__(self,data):\n",
        "    self.data = data\n",
        "    self.left = None\n",
        "    self.right = None\n",
        "class bst:\n",
        "  def insert(self,data,root):\n",
        "    if root is None:\n",
        "      return node(data)\n",
        "    \n",
        "    if (data<root.data):\n",
        "      root.left = self.insert(data,root.left)\n",
        "    else:\n",
        "      root.right = self.insert(data,root.right)\n",
        "    return root\n",
        "\n",
        "  def inorder(self,root):\n",
        "    if root is None:\n",
        "      return\n",
        "    \n",
        "    self.inorder(root.left)\n",
        "    print(root.data,end= \" \")\n",
        "    self.inorder(root.right)\n",
        "      \n",
        "if __name__ == '__main__':\n",
        "  keys = [15, 10, 20, 8, 12, 16, 25]\n",
        "  root = None\n",
        "  b=bst()\n",
        "  for i in keys:\n",
        "    root = b.insert(i,root)\n",
        " \n",
        "  b.inorder(root)\n",
        "\n"
      ],
      "execution_count": 17,
      "outputs": [
        {
          "output_type": "stream",
          "text": [
            "8 10 12 15 16 20 25 "
          ],
          "name": "stdout"
        }
      ]
    },
    {
      "cell_type": "code",
      "metadata": {
        "id": "c6L51xo06eeX",
        "colab_type": "code",
        "colab": {}
      },
      "source": [
        "\"\"\"\n",
        "A prime is a natural number greater than  that has no positive divisors other than  and itself. Given a number, , determine and print whether it's  or .\n",
        "\n",
        "Note: If possible, try to come up with a  primality algorithm, or see what sort of optimizations you come up with for an  algorithm. Be sure to check out the Editorial after submitting your code!\n",
        "\n",
        "Input Format\n",
        "\n",
        "The first line contains an integer, , the number of test cases.\n",
        "Each of the  subsequent lines contains an integer, , to be tested for primality.\n",
        "\n",
        "Constraints\n",
        "\n",
        "Output Format\n",
        "\n",
        "For each test case, print whether  is  or  on a new line.\n",
        "\n",
        "Sample Input\n",
        "\n",
        "3\n",
        "12\n",
        "5\n",
        "7\n",
        "Sample Output\n",
        "\n",
        "Not prime\n",
        "Prime\n",
        "Prime\n",
        "\"\"\"\n",
        "\n",
        "l = [12,5,7,10000000000]\n"
      ],
      "execution_count": null,
      "outputs": []
    },
    {
      "cell_type": "code",
      "metadata": {
        "id": "bZ0YFPQk648o",
        "colab_type": "code",
        "colab": {
          "base_uri": "https://localhost:8080/",
          "height": 143
        },
        "outputId": "63b77280-9a4d-4bbc-ead3-d8e67ed5f420"
      },
      "source": [
        "import math\n",
        "n = 1000000000000\n",
        "\n",
        "def sqrt(n):\n",
        "  if n <= 2 and int(math.modf(n)[0]) == 0:\n",
        "    return\n",
        "  print(\"--\",n, \"--\",math.modf(n))\n",
        "  n = math.sqrt(n)\n",
        "  sqrt(n)\n",
        "\n",
        "print(\"final: \",sqrt(n))"
      ],
      "execution_count": 46,
      "outputs": [
        {
          "output_type": "stream",
          "text": [
            "-- 1000000000000 -- (0.0, 1000000000000.0)\n",
            "-- 1000000.0 -- (0.0, 1000000.0)\n",
            "-- 1000.0 -- (0.0, 1000.0)\n",
            "-- 31.622776601683793 -- (0.6227766016837926, 31.0)\n",
            "-- 5.623413251903491 -- (0.6234132519034912, 5.0)\n",
            "-- 2.3713737056616555 -- (0.3713737056616555, 2.0)\n",
            "final:  None\n"
          ],
          "name": "stdout"
        }
      ]
    },
    {
      "cell_type": "code",
      "metadata": {
        "id": "sms_BvxaB1O1",
        "colab_type": "code",
        "colab": {
          "base_uri": "https://localhost:8080/",
          "height": 71
        },
        "outputId": "d0b0eb86-2964-4840-b18f-d7d4c9f3a356"
      },
      "source": [
        "\"\"\"\n",
        "Today, we're working with regular expressions. Check out the Tutorial tab for learning materials and an instructional video!\n",
        "\n",
        "Task\n",
        "Consider a database table, Emails, which has the attributes First Name and Email ID. Given  rows of data simulating the Emails table, print an alphabetically-ordered list of people whose email address ends in .\n",
        "\n",
        "Input Format\n",
        "\n",
        "The first line contains an integer, , total number of rows in the table.\n",
        "Each of the  subsequent lines contains  space-separated strings denoting a person's first name and email ID, respectively.\n",
        "\n",
        "Constraints\n",
        "\n",
        "Each of the first names consists of lower case letters  only.\n",
        "Each of the email IDs consists of lower case letters ,  and  only.\n",
        "The length of the first name is no longer than 20.\n",
        "The length of the email ID is no longer than 50.\n",
        "Output Format\n",
        "\n",
        "Print an alphabetically-ordered list of first names for every user with a gmail account. Each name must be printed on a new line.\n",
        "\n",
        "Sample Input\n",
        "\n",
        "6\n",
        "riya riya@gmail.com\n",
        "julia julia@julia.me\n",
        "julia sjulia@gmail.com\n",
        "julia julia@gmail.com\n",
        "samantha samantha@gmail.com\n",
        "tanya tanya@gmail.com\n",
        "Sample Output\n",
        "\n",
        "julia\n",
        "julia\n",
        "riya\n",
        "samantha\n",
        "tanya\n",
        "\n",
        "\"\"\"\n",
        "from collections import UserString\n",
        "import re\n",
        "email = {\"riya\":\"riya@gmail.com\",\n",
        "         \"julia\":\"julia@julia.me\",\n",
        "         \"samantha\":\"samantha@gmail.com\",\n",
        "         \"amantha\":\"famantha@gmail.com\"}\n",
        "names = []\n",
        "\n",
        "for key, val in email.items():\n",
        "  #print(key,val)\n",
        "  key,val = UserString(key),UserString(val) \n",
        "  if (key== key.lower() and val == val.lower() and len(key)<=20 and \n",
        "      len(val)<=50 and val.count(\"@\")==1 and re.search('@gmail.com$',str(val))):\n",
        "    #print(key)\n",
        "    names.append(key)\n",
        "names = sorted(names)\n",
        "for i in names:\n",
        "  print(i)"
      ],
      "execution_count": 76,
      "outputs": [
        {
          "output_type": "stream",
          "text": [
            "amantha\n",
            "riya\n",
            "samantha\n"
          ],
          "name": "stdout"
        }
      ]
    },
    {
      "cell_type": "code",
      "metadata": {
        "id": "21p1Cz_zEqEs",
        "colab_type": "code",
        "colab": {
          "base_uri": "https://localhost:8080/",
          "height": 35
        },
        "outputId": "bf720729-0a61-4383-9f62-0dc7bde86bfc"
      },
      "source": [
        "import re\n",
        "a =\"samantha@gmail.com\"\n",
        "b = re.search('@gmail.com$',a)\n",
        "b.span()[0]\n"
      ],
      "execution_count": 87,
      "outputs": [
        {
          "output_type": "execute_result",
          "data": {
            "text/plain": [
              "8"
            ]
          },
          "metadata": {
            "tags": []
          },
          "execution_count": 87
        }
      ]
    },
    {
      "cell_type": "code",
      "metadata": {
        "id": "m1hfqlVGUZVD",
        "colab_type": "code",
        "colab": {
          "base_uri": "https://localhost:8080/",
          "height": 35
        },
        "outputId": "a5340668-35fa-4680-eed5-5efb47ad6c4b"
      },
      "source": [
        "a =\"samantha@gmail.com\"\n",
        "b = re.findall('ma',a)\n",
        "b"
      ],
      "execution_count": 90,
      "outputs": [
        {
          "output_type": "execute_result",
          "data": {
            "text/plain": [
              "['ma', 'ma']"
            ]
          },
          "metadata": {
            "tags": []
          },
          "execution_count": 90
        }
      ]
    },
    {
      "cell_type": "code",
      "metadata": {
        "id": "1ntEavIIUn8v",
        "colab_type": "code",
        "colab": {
          "base_uri": "https://localhost:8080/",
          "height": 35
        },
        "outputId": "a45d0901-c765-41f0-ec5c-7340d2243be8"
      },
      "source": [
        "a =\"samantha@gmail.com\"\n",
        "b = re.split('ma',a)\n",
        "b"
      ],
      "execution_count": 91,
      "outputs": [
        {
          "output_type": "execute_result",
          "data": {
            "text/plain": [
              "['sa', 'ntha@g', 'il.com']"
            ]
          },
          "metadata": {
            "tags": []
          },
          "execution_count": 91
        }
      ]
    },
    {
      "cell_type": "code",
      "metadata": {
        "id": "JN5TMaY8VCof",
        "colab_type": "code",
        "colab": {
          "base_uri": "https://localhost:8080/",
          "height": 35
        },
        "outputId": "cddbf4c3-d970-4cc1-cd3f-a87f34935d26"
      },
      "source": [
        "txt = \"The rain in Spain\"\n",
        "x = re.sub(\"\\s\", \"9\", txt)\n",
        "print(x)"
      ],
      "execution_count": 92,
      "outputs": [
        {
          "output_type": "stream",
          "text": [
            "The9rain9in9Spain\n"
          ],
          "name": "stdout"
        }
      ]
    },
    {
      "cell_type": "code",
      "metadata": {
        "id": "oLWATCS2VHtf",
        "colab_type": "code",
        "colab": {
          "base_uri": "https://localhost:8080/",
          "height": 35
        },
        "outputId": "4fb83d5a-c6f2-45e3-bdf8-284d8fd0ae68"
      },
      "source": [
        "txt = \"The rain in Spain\"\n",
        "x = re.sub(\"\\s\", \"9\", txt, 2)\n",
        "print(x)"
      ],
      "execution_count": 93,
      "outputs": [
        {
          "output_type": "stream",
          "text": [
            "The9rain9in Spain\n"
          ],
          "name": "stdout"
        }
      ]
    },
    {
      "cell_type": "markdown",
      "metadata": {
        "id": "VxFUzmb0U3D1",
        "colab_type": "text"
      },
      "source": [
        "#Linked list"
      ]
    },
    {
      "cell_type": "code",
      "metadata": {
        "id": "6Rk1ui7nU6Bh",
        "colab_type": "code",
        "colab": {}
      },
      "source": [
        "class node:\n",
        "  def __init__(self,data):\n",
        "    self.data=data\n",
        "    self.next=None\n",
        "\n",
        "class linkedList:\n",
        "  def __init__(self):\n",
        "    self.head= None\n",
        "\n",
        "if __name__='__main__':\n",
        "  llist= linkedList()\n",
        "  llist.head=node(1)\n",
        "  second=node(2)\n",
        "  third=node(3)\n",
        "  second.next=third\n",
        "\n"
      ],
      "execution_count": null,
      "outputs": []
    },
    {
      "cell_type": "markdown",
      "metadata": {
        "id": "kbxaeLkpdSzW",
        "colab_type": "text"
      },
      "source": [
        "https://www.youtube.com/watch?v=Bd1L64clh34\n",
        "\n",
        "Node operations:\n",
        "get_next() \n",
        "set_next()\n",
        "set_data()\n",
        "has_next()\n",
        "to_string\n",
        "\n",
        "list operations:\n",
        "get_size()\n",
        "find(data)\n",
        "add(data)\n",
        "remove(data)\n",
        "print_list()\n",
        "sort()\n"
      ]
    },
    {
      "cell_type": "code",
      "metadata": {
        "id": "QKwA075jdeoU",
        "colab_type": "code",
        "colab": {}
      },
      "source": [
        "class node(object):\n",
        "  def __init__(self,data,next_data=None):\n",
        "    self.data=data\n",
        "    self.next=next_data\n",
        "  def get_next(self):\n",
        "    return self.next\n",
        "  def set_next(self,next_data):\n",
        "    self.next=next_data\n",
        "  def set_data(self,data):\n",
        "    self.data=data\n",
        "  def get_data(self):\n",
        "    return self.data\n",
        "  \n",
        "class linkedlist(object):\n",
        "  def __init__(self,r=None):\n",
        "    self.head=r\n",
        "    self.size=0\n",
        "  def add(self,data):\n",
        "    new_node=node(data,self.head)\n",
        "    self.head=new_node\n",
        "    self.size+=1\n",
        "    \n",
        "  "
      ],
      "execution_count": null,
      "outputs": []
    },
    {
      "cell_type": "code",
      "metadata": {
        "id": "RCou7-fqhziC",
        "colab_type": "code",
        "colab": {}
      },
      "source": [
        "llist=linkedlist()\n",
        "llist.add(1)\n",
        "llist.add(2)\n",
        "llist.add(3)\n"
      ],
      "execution_count": null,
      "outputs": []
    },
    {
      "cell_type": "code",
      "metadata": {
        "id": "IiIe6I1RmN5l",
        "colab_type": "code",
        "colab": {}
      },
      "source": [
        "#success\n",
        "class Node:\n",
        "    def __init__(self,data):\n",
        "        self.data = data\n",
        "        self.next = None \n",
        "class Solution: \n",
        "    def display(self,head):\n",
        "        current = head\n",
        "        while current:\n",
        "            print(current.data,end=' ')\n",
        "            current = current.next\n",
        "\n",
        "    def insert(self,head,data): \n",
        "    #Complete this method\n",
        "        new_node=Node(data)\n",
        "        if head:\n",
        "            current=head\n",
        "            while current.next:\n",
        "                current=current.next\n",
        "            current.next=new_node\n",
        "            return head\n",
        "        else:\n",
        "            return new_node\n",
        "        #new_node.next=data\n",
        "        \n",
        "\n",
        "\n",
        "mylist= Solution()\n",
        "T=int(input())\n",
        "head=None\n",
        "for i in range(T):\n",
        "    data=int(input())\n",
        "    head=mylist.insert(head,data)    \n",
        "mylist.display(head); \t  "
      ],
      "execution_count": null,
      "outputs": []
    }
  ]
}