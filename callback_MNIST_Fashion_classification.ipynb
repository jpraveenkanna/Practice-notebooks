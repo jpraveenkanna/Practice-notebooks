{
  "nbformat": 4,
  "nbformat_minor": 0,
  "metadata": {
    "colab": {
      "name": "callback - MNIST Fashion classification.ipynb",
      "provenance": []
    },
    "kernelspec": {
      "name": "python3",
      "display_name": "Python 3"
    }
  },
  "cells": [
    {
      "cell_type": "code",
      "metadata": {
        "id": "oIZorf4KODuD",
        "colab_type": "code",
        "colab": {}
      },
      "source": [
        "import tensorflow as tf\n",
        "from tensorflow import keras\n",
        "\n"
      ],
      "execution_count": 0,
      "outputs": []
    },
    {
      "cell_type": "code",
      "metadata": {
        "id": "UmMwAeOhOfA1",
        "colab_type": "code",
        "outputId": "af0cd8f6-5289-4844-96fc-d814dfec6037",
        "colab": {
          "base_uri": "https://localhost:8080/",
          "height": 151
        }
      },
      "source": [
        "fashion_mnist = keras.datasets.fashion_mnist\n",
        "(train_image,train_label),(test_image,test_label) = fashion_mnist.load_data()"
      ],
      "execution_count": 0,
      "outputs": [
        {
          "output_type": "stream",
          "text": [
            "Downloading data from https://storage.googleapis.com/tensorflow/tf-keras-datasets/train-labels-idx1-ubyte.gz\n",
            "32768/29515 [=================================] - 0s 0us/step\n",
            "Downloading data from https://storage.googleapis.com/tensorflow/tf-keras-datasets/train-images-idx3-ubyte.gz\n",
            "26427392/26421880 [==============================] - 0s 0us/step\n",
            "Downloading data from https://storage.googleapis.com/tensorflow/tf-keras-datasets/t10k-labels-idx1-ubyte.gz\n",
            "8192/5148 [===============================================] - 0s 0us/step\n",
            "Downloading data from https://storage.googleapis.com/tensorflow/tf-keras-datasets/t10k-images-idx3-ubyte.gz\n",
            "4423680/4422102 [==============================] - 0s 0us/step\n"
          ],
          "name": "stdout"
        }
      ]
    },
    {
      "cell_type": "code",
      "metadata": {
        "id": "wUJwVRjvPFSZ",
        "colab_type": "code",
        "outputId": "8316ecb6-1d04-45b9-a8db-c2905128d4d9",
        "colab": {
          "base_uri": "https://localhost:8080/",
          "height": 286
        }
      },
      "source": [
        "import matplotlib.pyplot as plt\n",
        "plt.imshow(train_image[59999])"
      ],
      "execution_count": 0,
      "outputs": [
        {
          "output_type": "execute_result",
          "data": {
            "text/plain": [
              "<matplotlib.image.AxesImage at 0x7faae7ac3c88>"
            ]
          },
          "metadata": {
            "tags": []
          },
          "execution_count": 7
        },
        {
          "output_type": "display_data",
          "data": {
            "image/png": "[encoded data removed]",
            "text/plain": [
              "<Figure size 432x288 with 1 Axes>"
            ]
          },
          "metadata": {
            "tags": []
          }
        }
      ]
    },
    {
      "cell_type": "code",
      "metadata": {
        "id": "4enx9ufgPhHh",
        "colab_type": "code",
        "outputId": "da628acc-04ed-474a-ef3c-a6460ba633b4",
        "colab": {
          "base_uri": "https://localhost:8080/",
          "height": 34
        }
      },
      "source": [
        "print(train_label[59999])"
      ],
      "execution_count": 0,
      "outputs": [
        {
          "output_type": "stream",
          "text": [
            "5\n"
          ],
          "name": "stdout"
        }
      ]
    },
    {
      "cell_type": "code",
      "metadata": {
        "id": "ddQE68lzP8tx",
        "colab_type": "code",
        "outputId": "deec2bae-3421-49ca-b8a1-774f8b31c026",
        "colab": {
          "base_uri": "https://localhost:8080/",
          "height": 1000
        }
      },
      "source": [
        "print(train_image[59999])"
      ],
      "execution_count": 0,
      "outputs": [
        {
          "output_type": "stream",
          "text": [
            "[[0.         0.         0.         0.         0.         0.\n",
            "  0.         0.         0.         0.         0.         0.\n",
            "  0.         0.         0.         0.         0.         0.\n",
            "  0.         0.         0.         0.         0.         0.\n",
            "  0.         0.         0.         0.        ]\n",
            " [0.         0.         0.         0.         0.         0.\n",
            "  0.         0.         0.         0.         0.         0.\n",
            "  0.         0.         0.         0.         0.         0.\n",
            "  0.         0.         0.         0.         0.         0.\n",
            "  0.         0.         0.         0.        ]\n",
            " [0.         0.         0.         0.         0.         0.\n",
            "  0.         0.         0.         0.         0.         0.\n",
            "  0.         0.         0.         0.         0.         0.\n",
            "  0.         0.         0.         0.         0.         0.\n",
            "  0.         0.         0.         0.        ]\n",
            " [0.         0.         0.         0.         0.         0.\n",
            "  0.         0.         0.         0.         0.         0.\n",
            "  0.         0.         0.         0.         0.         0.\n",
            "  0.         0.         0.         0.         0.         0.\n",
            "  0.         0.         0.         0.        ]\n",
            " [0.         0.         0.         0.         0.         0.\n",
            "  0.         0.         0.         0.         0.         0.\n",
            "  0.         0.         0.         0.         0.         0.\n",
            "  0.         0.         0.         0.         0.         0.\n",
            "  0.         0.         0.         0.        ]\n",
            " [0.         0.         0.         0.         0.         0.\n",
            "  0.         0.         0.         0.         0.         0.\n",
            "  0.         0.         0.         0.         0.         0.\n",
            "  0.         0.         0.         0.         0.         0.\n",
            "  0.         0.         0.         0.        ]\n",
            " [0.         0.         0.         0.         0.         0.\n",
            "  0.         0.         0.         0.         0.         0.\n",
            "  0.         0.         0.         0.         0.         0.\n",
            "  0.         0.         0.         0.         0.         0.\n",
            "  0.         0.         0.         0.        ]\n",
            " [0.         0.         0.         0.         0.         0.\n",
            "  0.         0.         0.         0.         0.         0.\n",
            "  0.         0.         0.         0.         0.         0.\n",
            "  0.         0.         0.         0.         0.         0.\n",
            "  0.         0.         0.         0.        ]\n",
            " [0.         0.         0.         0.         0.         0.\n",
            "  0.         0.         0.         0.         0.         0.\n",
            "  0.00392157 0.         0.00392157 0.27843137 0.05098039 0.01568627\n",
            "  0.         0.         0.00392157 0.         0.         0.\n",
            "  0.         0.         0.         0.        ]\n",
            " [0.         0.         0.         0.         0.         0.\n",
            "  0.         0.         0.         0.         0.         0.\n",
            "  0.00392157 0.         0.24313725 0.05098039 0.         0.13333333\n",
            "  0.         0.         0.         0.         0.         0.01568627\n",
            "  0.16470588 0.0745098  0.         0.        ]\n",
            " [0.         0.         0.         0.         0.         0.\n",
            "  0.         0.         0.         0.         0.         0.\n",
            "  0.00392157 0.         0.40784314 0.26666667 0.         0.2\n",
            "  0.14509804 0.10980392 0.0745098  0.18431373 0.28235294 0.37254902\n",
            "  0.42745098 0.23137255 0.         0.        ]\n",
            " [0.         0.         0.00392157 0.         0.         0.00392157\n",
            "  0.00392157 0.         0.         0.00392157 0.00392157 0.\n",
            "  0.         0.         0.         0.58039216 0.52156863 0.10980392\n",
            "  0.16470588 0.12941176 0.10588235 0.36862745 0.38431373 0.21176471\n",
            "  0.38039216 0.22352941 0.         0.01176471]\n",
            " [0.00392157 0.         0.00392157 0.         0.01568627 0.\n",
            "  0.         0.         0.         0.         0.         0.00392157\n",
            "  0.         0.02352941 0.         0.10588235 0.46666667 0.39607843\n",
            "  0.01568627 0.29411765 0.14509804 0.10588235 0.31764706 0.50980392\n",
            "  0.36862745 0.         0.         0.00392157]\n",
            " [0.01176471 0.00392157 0.         0.         0.         0.\n",
            "  0.52156863 0.61568627 0.02745098 0.08235294 0.00392157 0.\n",
            "  0.         0.         0.         0.         0.         0.41568627\n",
            "  0.56862745 0.3372549  0.01568627 0.31372549 0.48627451 0.09803922\n",
            "  0.         0.         0.         0.        ]\n",
            " [0.         0.         0.         0.         0.03529412 0.21960784\n",
            "  0.56470588 0.52156863 0.50588235 0.6        0.13333333 0.\n",
            "  0.01176471 0.01176471 0.         0.01176471 0.         0.09411765\n",
            "  0.40784314 0.34901961 0.40784314 0.42745098 0.         0.\n",
            "  0.         0.00392157 0.00392157 0.        ]\n",
            " [0.00392157 0.00392157 0.01176471 0.         0.09803922 0.61568627\n",
            "  0.66666667 0.61568627 0.78823529 0.8        0.09803922 0.\n",
            "  0.         0.         0.         0.         0.         0.2\n",
            "  0.3372549  0.36862745 0.36078431 0.         0.         0.\n",
            "  0.         0.         0.         0.        ]\n",
            " [0.         0.         0.         0.         0.         0.14509804\n",
            "  0.35686275 0.         0.         0.3372549  0.         0.\n",
            "  0.         0.14117647 0.36078431 0.50588235 0.58039216 0.25882353\n",
            "  0.39215686 0.26666667 0.38431373 0.67843137 0.52156863 0.47843137\n",
            "  0.53333333 0.49803922 0.43921569 0.08235294]\n",
            " [0.08627451 0.10588235 0.0745098  0.14509804 0.17254902 0.3254902\n",
            "  0.23137255 0.21960784 0.17647059 0.2        0.63921569 0.69411765\n",
            "  0.67843137 0.78431373 0.69019608 0.69411765 0.7372549  0.25882353\n",
            "  0.47843137 0.34901961 0.36078431 0.71764706 0.68235294 0.7254902\n",
            "  0.70588235 0.69411765 0.69411765 0.18431373]\n",
            " [0.39607843 0.92156863 0.76078431 0.8745098  0.90980392 1.\n",
            "  0.38431373 0.29411765 0.21176471 0.53333333 0.33333333 0.85490196\n",
            "  0.72941176 0.72941176 0.65882353 0.76470588 0.69411765 0.14509804\n",
            "  0.18823529 0.08627451 0.30196078 0.86666667 0.74901961 0.71764706\n",
            "  0.70588235 0.62745098 0.72941176 0.22352941]\n",
            " [0.01568627 0.3372549  0.24313725 0.21176471 0.13333333 0.10980392\n",
            "  0.37254902 0.3372549  0.31764706 0.38431373 0.30588235 0.30196078\n",
            "  0.3254902  0.29411765 0.34509804 0.34509804 0.34901961 0.24705882\n",
            "  0.29411765 0.31764706 0.3372549  0.34509804 0.25882353 0.2\n",
            "  0.16470588 0.08235294 0.07058824 0.        ]\n",
            " [0.         0.         0.         0.         0.         0.\n",
            "  0.         0.         0.         0.         0.         0.\n",
            "  0.         0.         0.         0.         0.         0.\n",
            "  0.         0.         0.         0.         0.         0.\n",
            "  0.         0.         0.         0.        ]\n",
            " [0.         0.         0.         0.         0.         0.\n",
            "  0.         0.         0.         0.         0.         0.\n",
            "  0.         0.         0.         0.         0.         0.\n",
            "  0.         0.         0.         0.         0.         0.\n",
            "  0.         0.         0.         0.        ]\n",
            " [0.         0.         0.         0.         0.         0.\n",
            "  0.         0.         0.         0.         0.         0.\n",
            "  0.         0.         0.         0.         0.         0.\n",
            "  0.         0.         0.         0.         0.         0.\n",
            "  0.         0.         0.         0.        ]\n",
            " [0.         0.         0.         0.         0.         0.\n",
            "  0.         0.         0.         0.         0.         0.\n",
            "  0.         0.         0.         0.         0.         0.\n",
            "  0.         0.         0.         0.         0.         0.\n",
            "  0.         0.         0.         0.        ]\n",
            " [0.         0.         0.         0.         0.         0.\n",
            "  0.         0.         0.         0.         0.         0.\n",
            "  0.         0.         0.         0.         0.         0.\n",
            "  0.         0.         0.         0.         0.         0.\n",
            "  0.         0.         0.         0.        ]\n",
            " [0.         0.         0.         0.         0.         0.\n",
            "  0.         0.         0.         0.         0.         0.\n",
            "  0.         0.         0.         0.         0.         0.\n",
            "  0.         0.         0.         0.         0.         0.\n",
            "  0.         0.         0.         0.        ]\n",
            " [0.         0.         0.         0.         0.         0.\n",
            "  0.         0.         0.         0.         0.         0.\n",
            "  0.         0.         0.         0.         0.         0.\n",
            "  0.         0.         0.         0.         0.         0.\n",
            "  0.         0.         0.         0.        ]\n",
            " [0.         0.         0.         0.         0.         0.\n",
            "  0.         0.         0.         0.         0.         0.\n",
            "  0.         0.         0.         0.         0.         0.\n",
            "  0.         0.         0.         0.         0.         0.\n",
            "  0.         0.         0.         0.        ]]\n"
          ],
          "name": "stdout"
        }
      ]
    },
    {
      "cell_type": "code",
      "metadata": {
        "id": "TCWVmz5XRw7A",
        "colab_type": "code",
        "colab": {}
      },
      "source": [
        "train_image= train_image/255.0\n",
        "test_image= test_image/255.0"
      ],
      "execution_count": 0,
      "outputs": []
    },
    {
      "cell_type": "markdown",
      "metadata": {
        "id": "25PlAmNaQDqz",
        "colab_type": "text"
      },
      "source": [
        "#model definition"
      ]
    },
    {
      "cell_type": "code",
      "metadata": {
        "id": "MfUt3RxfQHPR",
        "colab_type": "code",
        "colab": {}
      },
      "source": [
        "model = keras.models.Sequential([keras.layers.Flatten(),\n",
        "                                 keras.layers.Dense(128, activation=tf.nn.relu),\n",
        "                                 keras.layers.Dense(10,activation=tf.nn.softmax)])\n"
      ],
      "execution_count": 0,
      "outputs": []
    },
    {
      "cell_type": "code",
      "metadata": {
        "id": "qB9zKs41RMpV",
        "colab_type": "code",
        "colab": {}
      },
      "source": [
        "model.compile(optimizer=tf.train.AdamOptimizer(), loss='sparse_categorical_crossentropy', metrics=['accuracy'] )"
      ],
      "execution_count": 0,
      "outputs": []
    },
    {
      "cell_type": "code",
      "metadata": {
        "id": "COkE4doxSIMY",
        "colab_type": "code",
        "outputId": "917fb17f-0060-4877-cdbe-1897a436a6e5",
        "colab": {
          "base_uri": "https://localhost:8080/",
          "height": 386
        }
      },
      "source": [
        "model.fit(train_image,train_label,epochs=10)"
      ],
      "execution_count": 0,
      "outputs": [
        {
          "output_type": "stream",
          "text": [
            "Train on 60000 samples\n",
            "Epoch 1/10\n",
            "60000/60000 [==============================] - 5s 77us/sample - loss: 0.4948 - acc: 0.8276\n",
            "Epoch 2/10\n",
            "60000/60000 [==============================] - 4s 67us/sample - loss: 0.3683 - acc: 0.8662\n",
            "Epoch 3/10\n",
            "60000/60000 [==============================] - 4s 69us/sample - loss: 0.3354 - acc: 0.8781\n",
            "Epoch 4/10\n",
            "60000/60000 [==============================] - 4s 71us/sample - loss: 0.3097 - acc: 0.8864\n",
            "Epoch 5/10\n",
            "60000/60000 [==============================] - 4s 72us/sample - loss: 0.2934 - acc: 0.8915\n",
            "Epoch 6/10\n",
            "60000/60000 [==============================] - 4s 72us/sample - loss: 0.2788 - acc: 0.8972\n",
            "Epoch 7/10\n",
            "60000/60000 [==============================] - 4s 72us/sample - loss: 0.2663 - acc: 0.9011\n",
            "Epoch 8/10\n",
            "60000/60000 [==============================] - 4s 69us/sample - loss: 0.2545 - acc: 0.9062\n",
            "Epoch 9/10\n",
            "60000/60000 [==============================] - 4s 71us/sample - loss: 0.2460 - acc: 0.9084\n",
            "Epoch 10/10\n",
            "60000/60000 [==============================] - 4s 70us/sample - loss: 0.2366 - acc: 0.9112\n"
          ],
          "name": "stdout"
        },
        {
          "output_type": "execute_result",
          "data": {
            "text/plain": [
              "<tensorflow.python.keras.callbacks.History at 0x7faad8c51ef0>"
            ]
          },
          "metadata": {
            "tags": []
          },
          "execution_count": 16
        }
      ]
    },
    {
      "cell_type": "code",
      "metadata": {
        "id": "fh5Wd57TSsxa",
        "colab_type": "code",
        "outputId": "abaa6013-9449-47b9-ae9e-b3c3df569483",
        "colab": {
          "base_uri": "https://localhost:8080/",
          "height": 50
        }
      },
      "source": [
        "model.evaluate(test_image,test_label)"
      ],
      "execution_count": 0,
      "outputs": [
        {
          "output_type": "stream",
          "text": [
            "10000/10000 [==============================] - 0s 34us/sample - loss: 0.3338 - acc: 0.8858\n"
          ],
          "name": "stdout"
        },
        {
          "output_type": "execute_result",
          "data": {
            "text/plain": [
              "[0.3337865500479937, 0.8858]"
            ]
          },
          "metadata": {
            "tags": []
          },
          "execution_count": 17
        }
      ]
    },
    {
      "cell_type": "markdown",
      "metadata": {
        "id": "A0kqKl1lUTB5",
        "colab_type": "text"
      },
      "source": [
        "#Exploring the model"
      ]
    },
    {
      "cell_type": "code",
      "metadata": {
        "id": "etjV7bqATlmx",
        "colab_type": "code",
        "outputId": "36b6d2ab-3efa-4492-9237-177331cf006b",
        "colab": {
          "base_uri": "https://localhost:8080/",
          "height": 67
        }
      },
      "source": [
        "classification = model.predict(test_image)\n",
        "print(classification[999])"
      ],
      "execution_count": 0,
      "outputs": [
        {
          "output_type": "stream",
          "text": [
            "[3.47038120e-10 3.10956011e-10 9.65501333e-13 1.10376396e-10\n",
            " 1.18668700e-10 1.95840639e-05 1.76602150e-10 9.99966741e-01\n",
            " 6.65100597e-09 1.36793533e-05]\n"
          ],
          "name": "stdout"
        }
      ]
    },
    {
      "cell_type": "code",
      "metadata": {
        "id": "BKBLAQZQUBi5",
        "colab_type": "code",
        "outputId": "26dff1dd-8f6b-460b-87e6-d05f1c0cdd0e",
        "colab": {
          "base_uri": "https://localhost:8080/",
          "height": 34
        }
      },
      "source": [
        "print(test_label[999])"
      ],
      "execution_count": 0,
      "outputs": [
        {
          "output_type": "stream",
          "text": [
            "7\n"
          ],
          "name": "stdout"
        }
      ]
    },
    {
      "cell_type": "code",
      "metadata": {
        "id": "vuwqIhJxUavv",
        "colab_type": "code",
        "outputId": "0c94994f-d747-4def-d476-4487e138e5cf",
        "colab": {
          "base_uri": "https://localhost:8080/",
          "height": 286
        }
      },
      "source": [
        "plt.imshow(test_image[999])"
      ],
      "execution_count": 0,
      "outputs": [
        {
          "output_type": "execute_result",
          "data": {
            "text/plain": [
              "<matplotlib.image.AxesImage at 0x7faad0474128>"
            ]
          },
          "metadata": {
            "tags": []
          },
          "execution_count": 27
        },
        {
          "output_type": "display_data",
          "data": {
            "image/png": "[encoded data removed]",
            "text/plain": [
              "<Figure size 432x288 with 1 Axes>"
            ]
          },
          "metadata": {
            "tags": []
          }
        }
      ]
    },
    {
      "cell_type": "markdown",
      "metadata": {
        "id": "WEEj9F3XVXiV",
        "colab_type": "text"
      },
      "source": [
        "##With 1024 neurons in hidden laye"
      ]
    },
    {
      "cell_type": "code",
      "metadata": {
        "id": "mLRfIokxVdBt",
        "colab_type": "code",
        "outputId": "43586d7e-0f76-4b4a-9b3d-eedf17068761",
        "colab": {
          "base_uri": "https://localhost:8080/",
          "height": 554
        }
      },
      "source": [
        "model1 = tf.keras.models.Sequential([tf.keras.layers.Flatten(),\n",
        "                                    tf.keras.layers.Dense(1024, activation=tf.nn.relu),\n",
        "                                    tf.keras.layers.Dense(10, activation=tf.nn.softmax)])\n",
        "\n",
        "model1.compile(optimizer = 'adam',\n",
        "              loss = 'sparse_categorical_crossentropy', metrics =['accuracy'])\n",
        "\n",
        "model1.fit(train_image, train_label, epochs=5)\n",
        "print(\"Evaluation result:\")\n",
        "model1.evaluate(test_image, test_label)\n",
        "\n",
        "classifications1 = model1.predict(test_image)\n",
        "\n",
        "print(classifications1[999])\n",
        "print(test_label[999])\n",
        "plt.imshow(test_image[999])"
      ],
      "execution_count": 0,
      "outputs": [
        {
          "output_type": "stream",
          "text": [
            "Train on 60000 samples\n",
            "Epoch 1/5\n",
            "60000/60000 [==============================] - 15s 257us/sample - loss: 0.4699 - acc: 0.8321\n",
            "Epoch 2/5\n",
            "60000/60000 [==============================] - 15s 257us/sample - loss: 0.3575 - acc: 0.8694\n",
            "Epoch 3/5\n",
            "60000/60000 [==============================] - 15s 258us/sample - loss: 0.3216 - acc: 0.8816\n",
            "Epoch 4/5\n",
            "60000/60000 [==============================] - 15s 253us/sample - loss: 0.2962 - acc: 0.8893\n",
            "Epoch 5/5\n",
            "60000/60000 [==============================] - 15s 256us/sample - loss: 0.2766 - acc: 0.8972\n",
            "Evaluation result:\n",
            "10000/10000 [==============================] - 1s 97us/sample - loss: 0.3393 - acc: 0.8811\n",
            "[1.6254718e-08 5.9389424e-11 2.1320727e-10 2.4495486e-10 2.3878854e-10\n",
            " 5.3480417e-06 1.1452596e-09 9.9993563e-01 1.5363784e-07 5.8793608e-05]\n",
            "7\n"
          ],
          "name": "stdout"
        },
        {
          "output_type": "execute_result",
          "data": {
            "text/plain": [
              "<matplotlib.image.AxesImage at 0x7faad026b940>"
            ]
          },
          "metadata": {
            "tags": []
          },
          "execution_count": 30
        },
        {
          "output_type": "display_data",
          "data": {
            "image/png": "[encoded data removed]",
            "text/plain": [
              "<Figure size 432x288 with 1 Axes>"
            ]
          },
          "metadata": {
            "tags": []
          }
        }
      ]
    },
    {
      "cell_type": "markdown",
      "metadata": {
        "id": "Ho2g16OUYsQX",
        "colab_type": "text"
      },
      "source": [
        "#callback"
      ]
    },
    {
      "cell_type": "markdown",
      "metadata": {
        "id": "tXOE4nugZzzD",
        "colab_type": "text"
      },
      "source": [
        "\n",
        "\n",
        "> \n",
        "\n",
        "\n",
        "1.   create mycallback class\n",
        "2.   create object\n",
        "3.   call calbacks in model.fit\n",
        "\n",
        "\n",
        "\n"
      ]
    },
    {
      "cell_type": "code",
      "metadata": {
        "id": "fUu1i2vrYup2",
        "colab_type": "code",
        "outputId": "6b13e7c1-29f3-4847-a5ea-a0c5d462c2f7",
        "colab": {
          "base_uri": "https://localhost:8080/",
          "height": 487
        }
      },
      "source": [
        "\n",
        "\n",
        "class myCallback(tf.keras.callbacks.Callback):\n",
        "  def on_epoch_end(self, epoch, logs={}):\n",
        "    if(logs.get('loss')<0.4):\n",
        "      print(\"\\nReached 60% accuracy so cancelling training!\")\n",
        "      self.model.stop_training = True\n",
        "\n",
        "callbacks = myCallback()\n",
        "model1 = tf.keras.models.Sequential([tf.keras.layers.Flatten(),\n",
        "                                    tf.keras.layers.Dense(128, activation=tf.nn.relu),\n",
        "                                    tf.keras.layers.Dense(10, activation=tf.nn.softmax)])\n",
        "\n",
        "model1.compile(optimizer = 'adam',\n",
        "              loss = 'sparse_categorical_crossentropy', metrics =['accuracy'])\n",
        "\n",
        "model1.fit(train_image, train_label, epochs=5, callbacks = [callbacks])\n",
        "print(\"Evaluation result:\")\n",
        "model1.evaluate(test_image, test_label)\n",
        "\n",
        "classifications1 = model1.predict(test_image)\n",
        "\n",
        "print(classifications1[999])\n",
        "print(test_label[999])\n",
        "plt.imshow(test_image[999])"
      ],
      "execution_count": 0,
      "outputs": [
        {
          "output_type": "stream",
          "text": [
            "Train on 60000 samples\n",
            "Epoch 1/5\n",
            "60000/60000 [==============================] - 4s 73us/sample - loss: 0.5055 - acc: 0.8238\n",
            "Epoch 2/5\n",
            "59712/60000 [============================>.] - ETA: 0s - loss: 0.3763 - acc: 0.8644\n",
            "Reached 60% accuracy so cancelling training!\n",
            "60000/60000 [==============================] - 4s 72us/sample - loss: 0.3759 - acc: 0.8646\n",
            "Evaluation result:\n",
            "10000/10000 [==============================] - 0s 38us/sample - loss: 0.4006 - acc: 0.8601\n",
            "[1.8520463e-05 5.7448312e-07 2.8992738e-06 3.0543104e-06 8.9975464e-07\n",
            " 5.9029442e-04 5.8844071e-06 9.9800569e-01 3.3369643e-04 1.0384883e-03]\n",
            "7\n"
          ],
          "name": "stdout"
        },
        {
          "output_type": "execute_result",
          "data": {
            "text/plain": [
              "<matplotlib.image.AxesImage at 0x7faad00192e8>"
            ]
          },
          "metadata": {
            "tags": []
          },
          "execution_count": 33
        },
        {
          "output_type": "display_data",
          "data": {
            "image/png": "[encoded data removed]",
            "text/plain": [
              "<Figure size 432x288 with 1 Axes>"
            ]
          },
          "metadata": {
            "tags": []
          }
        }
      ]
    }
  ]
}