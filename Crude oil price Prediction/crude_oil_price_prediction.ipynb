{
  "nbformat": 4,
  "nbformat_minor": 0,
  "metadata": {
    "colab": {
      "name": "crude oil price prediction.ipynb",
      "provenance": [],
      "collapsed_sections": []
    },
    "kernelspec": {
      "name": "python3",
      "display_name": "Python 3"
    },
    "accelerator": "GPU"
  },
  "cells": [
    {
      "cell_type": "code",
      "metadata": {
        "id": "t0877OU9Ltn9",
        "colab_type": "code",
        "colab": {}
      },
      "source": [
        "import pandas as pd"
      ],
      "execution_count": 0,
      "outputs": []
    },
    {
      "cell_type": "code",
      "metadata": {
        "id": "YW10aRrUFgNv",
        "colab_type": "code",
        "colab": {}
      },
      "source": [
        "dataset = pd.read_csv(\"/content/DCOILBRENTEU.csv\")"
      ],
      "execution_count": 0,
      "outputs": []
    },
    {
      "cell_type": "code",
      "metadata": {
        "id": "n7gXywETL7Tz",
        "colab_type": "code",
        "outputId": "36f575df-f6d5-458b-ba99-0630087ddedf",
        "colab": {
          "base_uri": "https://localhost:8080/",
          "height": 260
        }
      },
      "source": [
        "dataset.head"
      ],
      "execution_count": 84,
      "outputs": [
        {
          "output_type": "execute_result",
          "data": {
            "text/plain": [
              "<bound method NDFrame.head of             DATE DCOILBRENTEU\n",
              "0     2015-01-06        50.12\n",
              "1     2015-01-07        49.06\n",
              "2     2015-01-08        49.43\n",
              "3     2015-01-09        47.64\n",
              "4     2015-01-12        46.90\n",
              "...          ...          ...\n",
              "1300  2019-12-31        67.77\n",
              "1301  2020-01-01            .\n",
              "1302  2020-01-02        67.05\n",
              "1303  2020-01-03        69.08\n",
              "1304  2020-01-06        70.25\n",
              "\n",
              "[1305 rows x 2 columns]>"
            ]
          },
          "metadata": {
            "tags": []
          },
          "execution_count": 84
        }
      ]
    },
    {
      "cell_type": "code",
      "metadata": {
        "id": "ZecjgJSoL-Ue",
        "colab_type": "code",
        "outputId": "cb7bdcdd-4d27-4048-9ec8-403ff55c6ebf",
        "colab": {
          "base_uri": "https://localhost:8080/",
          "height": 34
        }
      },
      "source": [
        "dataset.columns"
      ],
      "execution_count": 85,
      "outputs": [
        {
          "output_type": "execute_result",
          "data": {
            "text/plain": [
              "Index(['DATE', 'DCOILBRENTEU'], dtype='object')"
            ]
          },
          "metadata": {
            "tags": []
          },
          "execution_count": 85
        }
      ]
    },
    {
      "cell_type": "code",
      "metadata": {
        "id": "l3CpUt03TEO5",
        "colab_type": "code",
        "outputId": "7770172b-0ec5-4033-aa79-98fbf8e35f19",
        "colab": {
          "base_uri": "https://localhost:8080/",
          "height": 304
        }
      },
      "source": [
        "from datetime import date, datetime, timedelta\n",
        "\n",
        "dataset['DaysBack'] = (pd.to_datetime(dataset['DATE']) - datetime.today()).dt.days\n",
        "dataset['DaysBack'] = pd.to_numeric(dataset['DaysBack'],errors='coerce')\n",
        "dataset['price'] = pd.to_numeric(dataset['DCOILBRENTEU'],errors='coerce')\n",
        "dataset = dataset.dropna()\n",
        "dataset['price'] = dataset['price'].astype('int64')\n",
        "dataset.head()"
      ],
      "execution_count": 86,
      "outputs": [
        {
          "output_type": "stream",
          "text": [
            "/usr/local/lib/python3.6/dist-packages/ipykernel_launcher.py:7: SettingWithCopyWarning: \n",
            "A value is trying to be set on a copy of a slice from a DataFrame.\n",
            "Try using .loc[row_indexer,col_indexer] = value instead\n",
            "\n",
            "See the caveats in the documentation: http://pandas.pydata.org/pandas-docs/stable/user_guide/indexing.html#returning-a-view-versus-a-copy\n",
            "  import sys\n"
          ],
          "name": "stderr"
        },
        {
          "output_type": "execute_result",
          "data": {
            "text/html": [
              "<div>\n",
              "<style scoped>\n",
              "    .dataframe tbody tr th:only-of-type {\n",
              "        vertical-align: middle;\n",
              "    }\n",
              "\n",
              "    .dataframe tbody tr th {\n",
              "        vertical-align: top;\n",
              "    }\n",
              "\n",
              "    .dataframe thead th {\n",
              "        text-align: right;\n",
              "    }\n",
              "</style>\n",
              "<table border=\"1\" class=\"dataframe\">\n",
              "  <thead>\n",
              "    <tr style=\"text-align: right;\">\n",
              "      <th></th>\n",
              "      <th>DATE</th>\n",
              "      <th>DCOILBRENTEU</th>\n",
              "      <th>DaysBack</th>\n",
              "      <th>price</th>\n",
              "    </tr>\n",
              "  </thead>\n",
              "  <tbody>\n",
              "    <tr>\n",
              "      <th>0</th>\n",
              "      <td>2015-01-06</td>\n",
              "      <td>50.12</td>\n",
              "      <td>-1837</td>\n",
              "      <td>50</td>\n",
              "    </tr>\n",
              "    <tr>\n",
              "      <th>1</th>\n",
              "      <td>2015-01-07</td>\n",
              "      <td>49.06</td>\n",
              "      <td>-1836</td>\n",
              "      <td>49</td>\n",
              "    </tr>\n",
              "    <tr>\n",
              "      <th>2</th>\n",
              "      <td>2015-01-08</td>\n",
              "      <td>49.43</td>\n",
              "      <td>-1835</td>\n",
              "      <td>49</td>\n",
              "    </tr>\n",
              "    <tr>\n",
              "      <th>3</th>\n",
              "      <td>2015-01-09</td>\n",
              "      <td>47.64</td>\n",
              "      <td>-1834</td>\n",
              "      <td>47</td>\n",
              "    </tr>\n",
              "    <tr>\n",
              "      <th>4</th>\n",
              "      <td>2015-01-12</td>\n",
              "      <td>46.90</td>\n",
              "      <td>-1831</td>\n",
              "      <td>46</td>\n",
              "    </tr>\n",
              "  </tbody>\n",
              "</table>\n",
              "</div>"
            ],
            "text/plain": [
              "         DATE DCOILBRENTEU  DaysBack  price\n",
              "0  2015-01-06        50.12     -1837     50\n",
              "1  2015-01-07        49.06     -1836     49\n",
              "2  2015-01-08        49.43     -1835     49\n",
              "3  2015-01-09        47.64     -1834     47\n",
              "4  2015-01-12        46.90     -1831     46"
            ]
          },
          "metadata": {
            "tags": []
          },
          "execution_count": 86
        }
      ]
    },
    {
      "cell_type": "code",
      "metadata": {
        "id": "3pEksoxrmZ3P",
        "colab_type": "code",
        "outputId": "c5cc19c6-da4c-48c9-f58b-610d8fddc38a",
        "colab": {
          "base_uri": "https://localhost:8080/",
          "height": 104
        }
      },
      "source": [
        "dataset.dtypes"
      ],
      "execution_count": 87,
      "outputs": [
        {
          "output_type": "execute_result",
          "data": {
            "text/plain": [
              "DATE            object\n",
              "DCOILBRENTEU    object\n",
              "DaysBack         int64\n",
              "price            int64\n",
              "dtype: object"
            ]
          },
          "metadata": {
            "tags": []
          },
          "execution_count": 87
        }
      ]
    },
    {
      "cell_type": "code",
      "metadata": {
        "id": "kiyW7cUGnq70",
        "colab_type": "code",
        "outputId": "21a8330f-e7bf-4596-d1f7-0d6f4f6bf8d1",
        "colab": {
          "base_uri": "https://localhost:8080/",
          "height": 173
        }
      },
      "source": [
        "dataset.info()"
      ],
      "execution_count": 88,
      "outputs": [
        {
          "output_type": "stream",
          "text": [
            "<class 'pandas.core.frame.DataFrame'>\n",
            "Int64Index: 1275 entries, 0 to 1304\n",
            "Data columns (total 4 columns):\n",
            "DATE            1275 non-null object\n",
            "DCOILBRENTEU    1275 non-null object\n",
            "DaysBack        1275 non-null int64\n",
            "price           1275 non-null int64\n",
            "dtypes: int64(2), object(2)\n",
            "memory usage: 49.8+ KB\n"
          ],
          "name": "stdout"
        }
      ]
    },
    {
      "cell_type": "code",
      "metadata": {
        "id": "FDeZVkyoMGJY",
        "colab_type": "code",
        "colab": {}
      },
      "source": [
        "input_x = dataset['DaysBack'].values.reshape(-1,1)\n",
        "output_y = dataset['price'].values\n"
      ],
      "execution_count": 0,
      "outputs": []
    },
    {
      "cell_type": "code",
      "metadata": {
        "id": "ni5QFAT2NOXZ",
        "colab_type": "code",
        "colab": {}
      },
      "source": [
        "from sklearn.model_selection import train_test_split"
      ],
      "execution_count": 0,
      "outputs": []
    },
    {
      "cell_type": "code",
      "metadata": {
        "id": "LJJjj4R0O2Qk",
        "colab_type": "code",
        "colab": {}
      },
      "source": [
        "x_train, x_test, y_train, y_test = train_test_split(input_x, output_y, test_size=0.30)"
      ],
      "execution_count": 0,
      "outputs": []
    },
    {
      "cell_type": "code",
      "metadata": {
        "id": "Hng1uPtLPrb6",
        "colab_type": "code",
        "outputId": "b0a43a9d-9d95-470b-990c-29edb3a1e6dc",
        "colab": {
          "base_uri": "https://localhost:8080/",
          "height": 34
        }
      },
      "source": [
        "print(type(x_train))\n",
        "#print(y_train[:5])"
      ],
      "execution_count": 11,
      "outputs": [
        {
          "output_type": "stream",
          "text": [
            "<class 'numpy.ndarray'>\n"
          ],
          "name": "stdout"
        }
      ]
    },
    {
      "cell_type": "code",
      "metadata": {
        "id": "VoKibPDuSv_V",
        "colab_type": "code",
        "colab": {}
      },
      "source": [
        "import matplotlib.pyplot as plt\n",
        "\n",
        "\n",
        "def plot_graphs(x, y):\n",
        "  plt.plot(x,y,'.')\n",
        "  plt.xlabel(\"Days back\")\n",
        "  plt.ylabel(\"price\")\n",
        "  plt.show()"
      ],
      "execution_count": 0,
      "outputs": []
    },
    {
      "cell_type": "code",
      "metadata": {
        "id": "AUD57EBDWNb5",
        "colab_type": "code",
        "outputId": "9f451afe-c6f0-4989-94e5-a6e068045259",
        "colab": {
          "base_uri": "https://localhost:8080/",
          "height": 279
        }
      },
      "source": [
        "plot_graphs(x_train,y_train)"
      ],
      "execution_count": 13,
      "outputs": [
        {
          "output_type": "display_data",
          "data": {
            "image/png": "[encoded data removed]",
            "text/plain": [
              "<Figure size 432x288 with 1 Axes>"
            ]
          },
          "metadata": {
            "tags": []
          }
        }
      ]
    },
    {
      "cell_type": "markdown",
      "metadata": {
        "id": "z5m2sR4e4JD2",
        "colab_type": "text"
      },
      "source": [
        "#Model 1 - Polynomial regression"
      ]
    },
    {
      "cell_type": "code",
      "metadata": {
        "id": "090N5HF28ysY",
        "colab_type": "code",
        "colab": {}
      },
      "source": [
        "def plot_legend(x,y,p):\n",
        "  plt.plot(x,y,'.')\n",
        "  plt.plot(x,p,'.')\n",
        "  plt.xlabel(\"Days Back\")\n",
        "  plt.ylabel(\"Price\")\n",
        "  plt.legend([\"y\",\"p\"])\n",
        "  plt.show()"
      ],
      "execution_count": 0,
      "outputs": []
    },
    {
      "cell_type": "code",
      "metadata": {
        "id": "RJppZ5tC5G2i",
        "colab_type": "code",
        "colab": {}
      },
      "source": [
        "from sklearn.linear_model import LinearRegression\n",
        "from sklearn.metrics import mean_squared_error, r2_score\n",
        "import numpy as np"
      ],
      "execution_count": 0,
      "outputs": []
    },
    {
      "cell_type": "code",
      "metadata": {
        "id": "pOBEgONW_GaY",
        "colab_type": "code",
        "colab": {
          "base_uri": "https://localhost:8080/",
          "height": 34
        },
        "outputId": "073f7446-af52-467e-9aaf-881587e29940"
      },
      "source": [
        "type(x_test)"
      ],
      "execution_count": 49,
      "outputs": [
        {
          "output_type": "execute_result",
          "data": {
            "text/plain": [
              "numpy.ndarray"
            ]
          },
          "metadata": {
            "tags": []
          },
          "execution_count": 49
        }
      ]
    },
    {
      "cell_type": "code",
      "metadata": {
        "id": "Mb1XSnXH_R3w",
        "colab_type": "code",
        "colab": {
          "base_uri": "https://localhost:8080/",
          "height": 34
        },
        "outputId": "ee50622d-6fa9-4635-cb69-5dfbd608c477"
      },
      "source": [
        "np.shape(x_test)"
      ],
      "execution_count": 71,
      "outputs": [
        {
          "output_type": "execute_result",
          "data": {
            "text/plain": [
              "(383, 1)"
            ]
          },
          "metadata": {
            "tags": []
          },
          "execution_count": 71
        }
      ]
    },
    {
      "cell_type": "code",
      "metadata": {
        "id": "ffnG6Nnp4OBY",
        "colab_type": "code",
        "colab": {}
      },
      "source": [
        "from sklearn.preprocessing import PolynomialFeatures\n",
        "\n",
        "def create_polynomial_regression_model(degree,prediction_data):\n",
        "  \"Creates a polynomial regression model for the given degree\"\n",
        "  \n",
        "  poly_features = PolynomialFeatures(degree=degree)\n",
        "  \n",
        "  # transforms the existing features to higher degree features.\n",
        "  X_train_poly = poly_features.fit_transform(x_train)\n",
        "  \n",
        "  # fit the transformed features to Linear Regression\n",
        "  poly_model = LinearRegression()\n",
        "  poly_model.fit(X_train_poly, y_train)\n",
        "  \n",
        "  # predicting on training data-set\n",
        "  y_train_predicted = poly_model.predict(X_train_poly)\n",
        "  #print(y_train_predicted)\n",
        "  \n",
        "  # predicting on test data-set\n",
        "  y_test_predict = poly_model.predict(poly_features.fit_transform(x_test))\n",
        "  \n",
        "  # evaluating the model on training dataset\n",
        "  rmse_train = np.sqrt(mean_squared_error(y_train, y_train_predicted))\n",
        "  r2_train = r2_score(y_train, y_train_predicted)\n",
        "  \n",
        "  # evaluating the model on test dataset\n",
        "  rmse_test = np.sqrt(mean_squared_error(y_test, y_test_predict))\n",
        "  r2_test = r2_score(y_test, y_test_predict)\n",
        "\n",
        "  \n",
        "  print(\"Test data: \" + prediction_data + \"\\nOutput:\")\n",
        "  print(poly_model.predict(poly_features.fit_transform([[prediction_data]])))\n",
        "\n",
        "  plot_legend(x_train,y_train, y_train_predicted)\n",
        "  \n",
        "  print(\"The model performance for the training set\")\n",
        "  print(\"-------------------------------------------\")\n",
        "  print(\"RMSE of training set is {}\".format(rmse_train))\n",
        "  print(\"R2 score of training set is {}\".format(r2_train))\n",
        "  \n",
        "  print(\"\\n\")\n",
        "  \n",
        "  print(\"The model performance for the test set\")\n",
        "  print(\"-------------------------------------------\")\n",
        "  print(\"RMSE of test set is {}\".format(rmse_test))\n",
        "  print(\"R2 score of test set is {}\".format(r2_test))\n",
        "\n",
        "  plot_legend(x_test,y_test, y_test_predict)\n",
        "\n"
      ],
      "execution_count": 0,
      "outputs": []
    },
    {
      "cell_type": "code",
      "metadata": {
        "id": "GwZ3wZIu4yjd",
        "colab_type": "code",
        "colab": {
          "base_uri": "https://localhost:8080/",
          "height": 822
        },
        "outputId": "a52bddbb-f1e9-4620-e800-e1ceaf510151"
      },
      "source": [
        "create_polynomial_regression_model(5,'-120')"
      ],
      "execution_count": 76,
      "outputs": [
        {
          "output_type": "stream",
          "text": [
            "Test data: -120\n",
            "Output:\n",
            "[62.1848987]\n"
          ],
          "name": "stdout"
        },
        {
          "output_type": "stream",
          "text": [
            "/usr/local/lib/python3.6/dist-packages/sklearn/preprocessing/_data.py:1508: FutureWarning: Beginning in version 0.22, arrays of bytes/strings will be converted to decimal numbers if dtype='numeric'. It is recommended that you convert the array to a float dtype before using it in scikit-learn, for example by using your_array = your_array.astype(np.float64).\n",
            "  n_samples, n_features = check_array(X, accept_sparse=True).shape\n"
          ],
          "name": "stderr"
        },
        {
          "output_type": "display_data",
          "data": {
            "image/png": "[encoded data removed]",
            "text/plain": [
              "<Figure size 432x288 with 1 Axes>"
            ]
          },
          "metadata": {
            "tags": []
          }
        },
        {
          "output_type": "stream",
          "text": [
            "The model performance for the training set\n",
            "-------------------------------------------\n",
            "RMSE of training set is 5.889926152374655\n",
            "R2 score of training set is 0.7381551547462486\n",
            "\n",
            "\n",
            "The model performance for the test set\n",
            "-------------------------------------------\n",
            "RMSE of test set is 5.855892594303667\n",
            "R2 score of test set is 0.7494705140741471\n"
          ],
          "name": "stdout"
        },
        {
          "output_type": "display_data",
          "data": {
            "image/png": "[encoded data removed]",
            "text/plain": [
              "<Figure size 432x288 with 1 Axes>"
            ]
          },
          "metadata": {
            "tags": []
          }
        }
      ]
    },
    {
      "cell_type": "markdown",
      "metadata": {
        "id": "Cy9Yqw15BdTF",
        "colab_type": "text"
      },
      "source": [
        "#Model 2 - XGBoost"
      ]
    },
    {
      "cell_type": "code",
      "metadata": {
        "id": "2sZBu44cgM2q",
        "colab_type": "code",
        "colab": {}
      },
      "source": [
        "from xgboost import XGBRegressor"
      ],
      "execution_count": 0,
      "outputs": []
    },
    {
      "cell_type": "code",
      "metadata": {
        "id": "QVf2sNB7hH6s",
        "colab_type": "code",
        "outputId": "28953261-a4a7-48f9-f9c5-9c192eabb596",
        "colab": {
          "base_uri": "https://localhost:8080/",
          "height": 139
        }
      },
      "source": [
        "model = XGBRegressor()\n",
        "#model.fit(x_train,y_train)\n",
        "print(model)"
      ],
      "execution_count": 62,
      "outputs": [
        {
          "output_type": "stream",
          "text": [
            "XGBRegressor(base_score=0.5, booster='gbtree', colsample_bylevel=1,\n",
            "             colsample_bynode=1, colsample_bytree=1, gamma=0,\n",
            "             importance_type='gain', learning_rate=0.1, max_delta_step=0,\n",
            "             max_depth=3, min_child_weight=1, missing=None, n_estimators=100,\n",
            "             n_jobs=1, nthread=None, objective='reg:linear', random_state=0,\n",
            "             reg_alpha=0, reg_lambda=1, scale_pos_weight=1, seed=None,\n",
            "             silent=None, subsample=1, verbosity=1)\n"
          ],
          "name": "stdout"
        }
      ]
    },
    {
      "cell_type": "code",
      "metadata": {
        "id": "lFuYFa1Vriw0",
        "colab_type": "code",
        "outputId": "09605d31-5e9e-4533-830e-9bee970b8884",
        "colab": {
          "base_uri": "https://localhost:8080/",
          "height": 156
        }
      },
      "source": [
        "model.fit(x_train,y_train,verbose = True)"
      ],
      "execution_count": 63,
      "outputs": [
        {
          "output_type": "stream",
          "text": [
            "[11:02:13] WARNING: /workspace/src/objective/regression_obj.cu:152: reg:linear is now deprecated in favor of reg:squarederror.\n"
          ],
          "name": "stdout"
        },
        {
          "output_type": "execute_result",
          "data": {
            "text/plain": [
              "XGBRegressor(base_score=0.5, booster='gbtree', colsample_bylevel=1,\n",
              "             colsample_bynode=1, colsample_bytree=1, gamma=0,\n",
              "             importance_type='gain', learning_rate=0.1, max_delta_step=0,\n",
              "             max_depth=3, min_child_weight=1, missing=None, n_estimators=100,\n",
              "             n_jobs=1, nthread=None, objective='reg:linear', random_state=0,\n",
              "             reg_alpha=0, reg_lambda=1, scale_pos_weight=1, seed=None,\n",
              "             silent=None, subsample=1, verbosity=1)"
            ]
          },
          "metadata": {
            "tags": []
          },
          "execution_count": 63
        }
      ]
    },
    {
      "cell_type": "code",
      "metadata": {
        "id": "RRpO8FsfvUwA",
        "colab_type": "code",
        "colab": {}
      },
      "source": [
        "xg_predict = model.predict(x_test)"
      ],
      "execution_count": 0,
      "outputs": []
    },
    {
      "cell_type": "code",
      "metadata": {
        "id": "NNViyvdKCTUP",
        "colab_type": "code",
        "colab": {
          "base_uri": "https://localhost:8080/",
          "height": 34
        },
        "outputId": "33be03ef-31db-46fd-f091-7536188e34ce"
      },
      "source": [
        "type(xg_predict)"
      ],
      "execution_count": 69,
      "outputs": [
        {
          "output_type": "execute_result",
          "data": {
            "text/plain": [
              "numpy.ndarray"
            ]
          },
          "metadata": {
            "tags": []
          },
          "execution_count": 69
        }
      ]
    },
    {
      "cell_type": "code",
      "metadata": {
        "id": "JADnzdSaCfW7",
        "colab_type": "code",
        "colab": {
          "base_uri": "https://localhost:8080/",
          "height": 34
        },
        "outputId": "83e7f4fb-25f7-48b2-805c-7cd6aed7edfc"
      },
      "source": [
        "np.shape(xg_predict)"
      ],
      "execution_count": 70,
      "outputs": [
        {
          "output_type": "execute_result",
          "data": {
            "text/plain": [
              "(383,)"
            ]
          },
          "metadata": {
            "tags": []
          },
          "execution_count": 70
        }
      ]
    },
    {
      "cell_type": "code",
      "metadata": {
        "id": "8LqANdSbB20s",
        "colab_type": "code",
        "colab": {
          "base_uri": "https://localhost:8080/",
          "height": 279
        },
        "outputId": "58acc8da-4823-45be-a625-5277bcd57979"
      },
      "source": [
        "plot_legend(x_test,y_test, xg_predict)"
      ],
      "execution_count": 73,
      "outputs": [
        {
          "output_type": "display_data",
          "data": {
            "image/png": "[encoded data removed]",
            "text/plain": [
              "<Figure size 432x288 with 1 Axes>"
            ]
          },
          "metadata": {
            "tags": []
          }
        }
      ]
    },
    {
      "cell_type": "code",
      "metadata": {
        "id": "-n2tRCLxxh3d",
        "colab_type": "code",
        "outputId": "5fd42d0e-19c7-42f4-8df2-ed9c6309be48",
        "colab": {
          "base_uri": "https://localhost:8080/",
          "height": 34
        }
      },
      "source": [
        "model.predict(-150)"
      ],
      "execution_count": 66,
      "outputs": [
        {
          "output_type": "execute_result",
          "data": {
            "text/plain": [
              "array([59.445045], dtype=float32)"
            ]
          },
          "metadata": {
            "tags": []
          },
          "execution_count": 66
        }
      ]
    }
  ]
}