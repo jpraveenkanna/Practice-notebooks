{
  "nbformat": 4,
  "nbformat_minor": 0,
  "metadata": {
    "colab": {
      "name": "A Neural Network in 11 lines of Python.ipynb",
      "provenance": [],
      "collapsed_sections": []
    },
    "kernelspec": {
      "name": "python3",
      "display_name": "Python 3"
    }
  },
  "cells": [
    {
      "cell_type": "code",
      "metadata": {
        "id": "uiNN6fv7QON0",
        "colab_type": "code",
        "colab": {}
      },
      "source": [
        "import numpy as np\n",
        "syn0 = 2*np.random.random((3,1)) - 1\n"
      ],
      "execution_count": 0,
      "outputs": []
    },
    {
      "cell_type": "code",
      "metadata": {
        "id": "2FE4r3TQQnna",
        "colab_type": "code",
        "colab": {}
      },
      "source": [
        "np.random.seed(1)"
      ],
      "execution_count": 0,
      "outputs": []
    },
    {
      "cell_type": "code",
      "metadata": {
        "id": "akNzrjzvQXps",
        "colab_type": "code",
        "outputId": "ddbe96d5-989e-4aab-bb5d-aa85794b3cdf",
        "colab": {
          "base_uri": "https://localhost:8080/",
          "height": 68
        }
      },
      "source": [
        "syn1 = 2*np.random.random((3,1)) - 1\n",
        "\n",
        "print(syn1)"
      ],
      "execution_count": 0,
      "outputs": [
        {
          "output_type": "stream",
          "text": [
            "[[-0.5910955 ]\n",
            " [ 0.75623487]\n",
            " [-0.94522481]]\n"
          ],
          "name": "stdout"
        }
      ]
    },
    {
      "cell_type": "code",
      "metadata": {
        "id": "Fq8mpRvORWJx",
        "colab_type": "code",
        "outputId": "19491bb5-2f8b-4911-bddf-428a4479b642",
        "colab": {
          "base_uri": "https://localhost:8080/",
          "height": 68
        }
      },
      "source": [
        "np.random.seed()\n",
        "print(np.random.random((3,2)))"
      ],
      "execution_count": 0,
      "outputs": [
        {
          "output_type": "stream",
          "text": [
            "[[0.94531055 0.45221724]\n",
            " [0.67011154 0.57099674]\n",
            " [0.3149981  0.28348778]]\n"
          ],
          "name": "stdout"
        }
      ]
    },
    {
      "cell_type": "code",
      "metadata": {
        "id": "oOhFn7XFud4D",
        "colab_type": "code",
        "colab": {}
      },
      "source": [
        "import numpy as np\n",
        "# sigmoid function\n",
        "def nonlin(x,deriv=False):\n",
        "  if(deriv==True):\n",
        "     return x*(1-x)\n",
        "  return 1/(1+np.exp(-x))\n",
        "# input dataset\n",
        "X = np.array([ [0,0,1],\n",
        "[0,1,1],\n",
        "[1,0,1],\n",
        "[1,1,1] ])\n",
        "# output dataset\n",
        "y = np.array([[0,0,1,1]]).T\n",
        "# seed random numbers to make calculation\n",
        "# deterministic (just a good practice)\n",
        "np.random.seed(1)\n",
        "# initialize weights randomly with mean 0\n",
        "syn0 = 2*np.random.random((3,1)) - 1\n",
        "for iter in range(10000):\n",
        "# forward propagation\n",
        "   l0 = X\n",
        "   l1 = nonlin(np.dot(l0,syn0))\n",
        "# how much did we miss?\n",
        "   l1_error = y - l1\n",
        "# multiply how much we missed by the\n",
        "# slope of the sigmoid at the values in l1\n",
        "   l1_delta = l1_error * nonlin(l1,True)\n",
        "# update weights\n",
        "   syn0 += np.dot(l0.T,l1_delta)\n"
      ],
      "execution_count": 0,
      "outputs": []
    },
    {
      "cell_type": "code",
      "metadata": {
        "id": "hXvOjzojvUzJ",
        "colab_type": "code",
        "outputId": "0796a478-47d7-4e19-c225-3bd23f0b63da",
        "colab": {
          "base_uri": "https://localhost:8080/",
          "height": 238
        }
      },
      "source": [
        "print(\"Output After Training:\")\n",
        "print(l1)\n",
        "print(l1_error)\n",
        "print(l1_delta)"
      ],
      "execution_count": 0,
      "outputs": [
        {
          "output_type": "stream",
          "text": [
            "Output After Training:\n",
            "[[0.00966449]\n",
            " [0.00786506]\n",
            " [0.99358898]\n",
            " [0.99211957]]\n",
            "[[-0.00966449]\n",
            " [-0.00786506]\n",
            " [ 0.00641102]\n",
            " [ 0.00788043]]\n",
            "[[-9.24997129e-05]\n",
            " [-6.13726376e-05]\n",
            " [ 4.08376707e-05]\n",
            " [ 6.16117429e-05]]\n"
          ],
          "name": "stdout"
        }
      ]
    },
    {
      "cell_type": "code",
      "metadata": {
        "id": "41v_1bhAwF-y",
        "colab_type": "code",
        "outputId": "7090d982-70b3-407f-fc69-e027baa3a045",
        "colab": {
          "base_uri": "https://localhost:8080/",
          "height": 1000
        }
      },
      "source": [
        "for iter1 in range(1000):\n",
        "  l0=X\n",
        "  l2=nonlin(np.dot(l0,syn0))\n",
        "  l2_error = y - l2\n",
        "  l2_delta = l2_error * nonlin(l2,True)\n",
        "  syn0 += np.dot(l0.T,l2_delta)\n",
        "\n",
        "  if iter1 in range(0,1000,300):\n",
        "    print(\"iteration {} \".format(iter1))\n",
        "    print(\" {} \\n\".format(l1))\n",
        "    print(\"error:\\n {} \\n\".format(l2_error) )\n",
        "    print(\"delta:\\n {} \\n\".format(l2_delta) )\n",
        "  \n"
      ],
      "execution_count": 0,
      "outputs": [
        {
          "output_type": "stream",
          "text": [
            "iteration 0 \n",
            " [[0.00966449]\n",
            " [0.00786506]\n",
            " [0.99358898]\n",
            " [0.99211957]] \n",
            "\n",
            "error:\n",
            " [[-0.00607049]\n",
            " [-0.00494577]\n",
            " [ 0.00403389]\n",
            " [ 0.00495226]] \n",
            "\n",
            "delta:\n",
            " [[-3.66271677e-05]\n",
            " [-2.43396965e-05]\n",
            " [ 1.62065917e-05]\n",
            " [ 2.44034609e-05]] \n",
            "\n",
            "iteration 300 \n",
            " [[0.00966449]\n",
            " [0.00786506]\n",
            " [0.99358898]\n",
            " [0.99211957]] \n",
            "\n",
            "error:\n",
            " [[-0.00603397]\n",
            " [-0.00491608]\n",
            " [ 0.00400969]\n",
            " [ 0.0049225 ]] \n",
            "\n",
            "delta:\n",
            " [[-3.61891548e-05]\n",
            " [-2.40490399e-05]\n",
            " [ 1.60131704e-05]\n",
            " [ 2.41117044e-05]] \n",
            "\n",
            "iteration 600 \n",
            " [[0.00966449]\n",
            " [0.00786506]\n",
            " [0.99358898]\n",
            " [0.99211957]] \n",
            "\n",
            "error:\n",
            " [[-0.00599811]\n",
            " [-0.00488692]\n",
            " [ 0.00398593]\n",
            " [ 0.00489326]] \n",
            "\n",
            "delta:\n",
            " [[-3.57614721e-05]\n",
            " [-2.37652317e-05]\n",
            " [ 1.58243045e-05]\n",
            " [ 2.38268277e-05]] \n",
            "\n",
            "iteration 900 \n",
            " [[0.00966449]\n",
            " [0.00786506]\n",
            " [0.99358898]\n",
            " [0.99211957]] \n",
            "\n",
            "error:\n",
            " [[-0.00596287]\n",
            " [-0.00485826]\n",
            " [ 0.00396258]\n",
            " [ 0.00486454]] \n",
            "\n",
            "delta:\n",
            " [[-3.53437590e-05]\n",
            " [-2.34880327e-05]\n",
            " [ 1.56398351e-05]\n",
            " [ 2.35485904e-05]] \n",
            "\n"
          ],
          "name": "stdout"
        }
      ]
    },
    {
      "cell_type": "code",
      "metadata": {
        "id": "E3hnQZZ6xdQK",
        "colab_type": "code",
        "outputId": "66e804a4-2eb4-4270-f99c-ec74f33368db",
        "colab": {
          "base_uri": "https://localhost:8080/",
          "height": 221
        }
      },
      "source": [
        "print(l2)\n",
        "print(l2_error)\n",
        "print(l2_delta)"
      ],
      "execution_count": 0,
      "outputs": [
        {
          "output_type": "stream",
          "text": [
            "[[0.00595137]\n",
            " [0.00484891]\n",
            " [0.99604503]\n",
            " [0.99514483]]\n",
            "[[-0.00595137]\n",
            " [-0.00484891]\n",
            " [ 0.00395497]\n",
            " [ 0.00485517]]\n",
            "[[-3.52080424e-05]\n",
            " [-2.33979683e-05]\n",
            " [ 1.55798990e-05]\n",
            " [ 2.34581898e-05]]\n"
          ],
          "name": "stdout"
        }
      ]
    },
    {
      "cell_type": "code",
      "metadata": {
        "id": "wWtBQpEv9Woe",
        "colab_type": "code",
        "outputId": "01168292-97ab-4662-b445-dea29f17856d",
        "colab": {
          "base_uri": "https://localhost:8080/",
          "height": 34
        }
      },
      "source": [
        "b, c = \"Hello\", \"World!\"\n",
        "print(b[2:5])"
      ],
      "execution_count": 0,
      "outputs": [
        {
          "output_type": "stream",
          "text": [
            "llo\n"
          ],
          "name": "stdout"
        }
      ]
    },
    {
      "cell_type": "code",
      "metadata": {
        "id": "kuwizXZQ-o9Q",
        "colab_type": "code",
        "outputId": "47fa3a3e-e535-4aa1-d048-783f88aa64ea",
        "colab": {
          "base_uri": "https://localhost:8080/",
          "height": 34
        }
      },
      "source": [
        "print(c[2])"
      ],
      "execution_count": 0,
      "outputs": [
        {
          "output_type": "stream",
          "text": [
            "r\n"
          ],
          "name": "stdout"
        }
      ]
    },
    {
      "cell_type": "code",
      "metadata": {
        "id": "t-ujhQyr_E5o",
        "colab_type": "code",
        "outputId": "b9649fd6-d3bf-43e2-981c-1a0e2df3dc75",
        "colab": {
          "base_uri": "https://localhost:8080/",
          "height": 34
        }
      },
      "source": [
        "a = \" Hello, World! \"\n",
        "print(a.split(',')) # returns \"Hello, World!\""
      ],
      "execution_count": 0,
      "outputs": [
        {
          "output_type": "stream",
          "text": [
            "[' Hello', ' World! ']\n"
          ],
          "name": "stdout"
        }
      ]
    },
    {
      "cell_type": "code",
      "metadata": {
        "id": "9Wvzw10H_oXm",
        "colab_type": "code",
        "outputId": "e3fbc5c7-de1a-4263-b5eb-98a650d4e9c5",
        "colab": {
          "base_uri": "https://localhost:8080/",
          "height": 34
        }
      },
      "source": [
        "txt = \"The rain in Spain stays mainly in the plain\"\n",
        "x = \"ain\" in txt\n",
        "print(x)"
      ],
      "execution_count": 0,
      "outputs": [
        {
          "output_type": "stream",
          "text": [
            "True\n"
          ],
          "name": "stdout"
        }
      ]
    },
    {
      "cell_type": "code",
      "metadata": {
        "id": "fxZFe4TrAFKZ",
        "colab_type": "code",
        "outputId": "d7a5c75f-9929-48c6-b13b-0af1d211d282",
        "colab": {
          "base_uri": "https://localhost:8080/",
          "height": 34
        }
      },
      "source": [
        "print(\"hi {1} format function {0}\".format(\"is\",\"demo\"))"
      ],
      "execution_count": 0,
      "outputs": [
        {
          "output_type": "stream",
          "text": [
            "hi demo format function is\n"
          ],
          "name": "stdout"
        }
      ]
    },
    {
      "cell_type": "code",
      "metadata": {
        "id": "3-BubSMeBiEf",
        "colab_type": "code",
        "outputId": "b06e0d9d-7dc7-45fb-ba4f-12b85977f7c5",
        "colab": {
          "base_uri": "https://localhost:8080/",
          "height": 51
        }
      },
      "source": [
        "print(5//2)\n",
        "print(\"%.2f\"%(11/7))"
      ],
      "execution_count": 0,
      "outputs": [
        {
          "output_type": "stream",
          "text": [
            "2\n",
            "1.57\n"
          ],
          "name": "stdout"
        }
      ]
    },
    {
      "cell_type": "code",
      "metadata": {
        "id": "x4jo8qvaF_oZ",
        "colab_type": "code",
        "outputId": "c51ca5fc-eeda-4d15-f913-cc1d0e43b1c8",
        "colab": {
          "base_uri": "https://localhost:8080/",
          "height": 34
        }
      },
      "source": [
        "thisset = {\"apple\", \"banana\", \"cherry\"}\n",
        "\n",
        "print(\"banana\" in thisset)"
      ],
      "execution_count": 0,
      "outputs": [
        {
          "output_type": "stream",
          "text": [
            "True\n"
          ],
          "name": "stdout"
        }
      ]
    },
    {
      "cell_type": "code",
      "metadata": {
        "id": "69ZcgfqwHKOM",
        "colab_type": "code",
        "colab": {}
      },
      "source": [
        "thisdict = {\n",
        "    \"s.no\":1,\n",
        "    \"model\": \"model Name\",\n",
        "    \"year\": 2019\n",
        "}"
      ],
      "execution_count": 0,
      "outputs": []
    },
    {
      "cell_type": "code",
      "metadata": {
        "id": "NlXnnjtfHbzU",
        "colab_type": "code",
        "outputId": "b3ae34a8-1eac-4aa5-8032-785d60ea603e",
        "colab": {
          "base_uri": "https://localhost:8080/",
          "height": 34
        }
      },
      "source": [
        "print(thisdict.get(\"model\"))"
      ],
      "execution_count": 0,
      "outputs": [
        {
          "output_type": "stream",
          "text": [
            "model Name\n"
          ],
          "name": "stdout"
        }
      ]
    },
    {
      "cell_type": "code",
      "metadata": {
        "id": "6Gf7kSd1H0MR",
        "colab_type": "code",
        "outputId": "a7307d3d-a3d2-4cc4-ca97-f2db9e19ea64",
        "colab": {
          "base_uri": "https://localhost:8080/",
          "height": 68
        }
      },
      "source": [
        "for i in thisdict:\n",
        "  print(i) "
      ],
      "execution_count": 0,
      "outputs": [
        {
          "output_type": "stream",
          "text": [
            "s.no\n",
            "model\n",
            "year\n"
          ],
          "name": "stdout"
        }
      ]
    },
    {
      "cell_type": "code",
      "metadata": {
        "id": "WlNMpelYIQbi",
        "colab_type": "code",
        "outputId": "6649a934-745e-4bef-e1da-180802b9eea4",
        "colab": {
          "base_uri": "https://localhost:8080/",
          "height": 34
        }
      },
      "source": [
        "print(thisdict.values())"
      ],
      "execution_count": 0,
      "outputs": [
        {
          "output_type": "stream",
          "text": [
            "dict_values([1, 'model Name', 2019])\n"
          ],
          "name": "stdout"
        }
      ]
    },
    {
      "cell_type": "code",
      "metadata": {
        "id": "CT9jPF27IaOc",
        "colab_type": "code",
        "outputId": "ae1a3ae5-372d-4cfa-98fa-f3ed2210b613",
        "colab": {
          "base_uri": "https://localhost:8080/",
          "height": 119
        }
      },
      "source": [
        "for x,y in thisdict.items():\n",
        "  print(\"x= {} \".format(x))\n",
        "  print(\"y= {} \".format(y))"
      ],
      "execution_count": 0,
      "outputs": [
        {
          "output_type": "stream",
          "text": [
            "x= s.no \n",
            "y= 1 \n",
            "x= model \n",
            "y= model Name \n",
            "x= year \n",
            "y= 2019 \n"
          ],
          "name": "stdout"
        }
      ]
    },
    {
      "cell_type": "code",
      "metadata": {
        "id": "cc7lwYB9lxQs",
        "colab_type": "code",
        "colab": {}
      },
      "source": [
        "lst = [1,2,3]\n",
        "def foo(a):\n",
        "  lst.append(a)\n",
        "  print(lst)"
      ],
      "execution_count": 0,
      "outputs": []
    },
    {
      "cell_type": "code",
      "metadata": {
        "id": "mWZnu_QOmC-g",
        "colab_type": "code",
        "outputId": "51c5bcf4-5f97-402c-d692-e7bd96f51102",
        "colab": {
          "base_uri": "https://localhost:8080/",
          "height": 34
        }
      },
      "source": [
        "foo(5)"
      ],
      "execution_count": 0,
      "outputs": [
        {
          "output_type": "stream",
          "text": [
            "[1, 2, 3, 6, 5]\n"
          ],
          "name": "stdout"
        }
      ]
    },
    {
      "cell_type": "code",
      "metadata": {
        "id": "GoDlOLQwmUl5",
        "colab_type": "code",
        "outputId": "7e38a95e-9ad3-43cc-dcd6-0853b21d38c2",
        "colab": {
          "base_uri": "https://localhost:8080/",
          "height": 34
        }
      },
      "source": [
        "lst.insert(3,5)\n",
        "print(lst)"
      ],
      "execution_count": 0,
      "outputs": [
        {
          "output_type": "stream",
          "text": [
            "[1, 2, 3, 5, 6]\n"
          ],
          "name": "stdout"
        }
      ]
    },
    {
      "cell_type": "code",
      "metadata": {
        "id": "P7iUK4rEmj9b",
        "colab_type": "code",
        "outputId": "83ff4ef8-c738-4248-a652-ef8b7ffbd3ac",
        "colab": {
          "base_uri": "https://localhost:8080/",
          "height": 34
        }
      },
      "source": [
        "lst.remove(5)\n",
        "print(lst)"
      ],
      "execution_count": 0,
      "outputs": [
        {
          "output_type": "stream",
          "text": [
            "[1, 2, 3, 6]\n"
          ],
          "name": "stdout"
        }
      ]
    },
    {
      "cell_type": "code",
      "metadata": {
        "id": "YgzvqflyoMJA",
        "colab_type": "code",
        "outputId": "f3765b62-e753-47e7-ac3f-d2f87997a185",
        "colab": {
          "base_uri": "https://localhost:8080/",
          "height": 34
        }
      },
      "source": [
        "numbers=[n for n in range(10)]\n",
        "print(numbers)"
      ],
      "execution_count": 0,
      "outputs": [
        {
          "output_type": "stream",
          "text": [
            "[0, 1, 2, 3, 4, 5, 6, 7, 8, 9]\n"
          ],
          "name": "stdout"
        }
      ]
    },
    {
      "cell_type": "code",
      "metadata": {
        "id": "HOdXlMO7ohbG",
        "colab_type": "code",
        "outputId": "d89d9bec-0779-475f-9fe8-ecc561c8f7b5",
        "colab": {
          "base_uri": "https://localhost:8080/",
          "height": 34
        }
      },
      "source": [
        "print(numbers[1:9:2])"
      ],
      "execution_count": 0,
      "outputs": [
        {
          "output_type": "stream",
          "text": [
            "[1, 3, 5, 7]\n"
          ],
          "name": "stdout"
        }
      ]
    },
    {
      "cell_type": "code",
      "metadata": {
        "id": "4dZNB2U9ouYG",
        "colab_type": "code",
        "outputId": "60d36941-b307-4a0a-e22a-2597446c1cf0",
        "colab": {
          "base_uri": "https://localhost:8080/",
          "height": 34
        }
      },
      "source": [
        "odd = lambda x: bool(x%2)\n",
        "print(odd(2))"
      ],
      "execution_count": 0,
      "outputs": [
        {
          "output_type": "stream",
          "text": [
            "False\n"
          ],
          "name": "stdout"
        }
      ]
    },
    {
      "cell_type": "code",
      "metadata": {
        "id": "VRdugCPmptkh",
        "colab_type": "code",
        "outputId": "fbb42ffa-aa19-44b5-bc6e-eb6998e407c2",
        "colab": {
          "base_uri": "https://localhost:8080/",
          "height": 34
        }
      },
      "source": [
        "numbers[:] = [n for n in range(10) if not odd(n)]\n",
        "print(numbers)"
      ],
      "execution_count": 0,
      "outputs": [
        {
          "output_type": "stream",
          "text": [
            "[0, 2, 4, 6, 8]\n"
          ],
          "name": "stdout"
        }
      ]
    },
    {
      "cell_type": "code",
      "metadata": {
        "id": "BCievN6Eqz-P",
        "colab_type": "code",
        "outputId": "0673b252-118e-48ab-beba-a6849148a828",
        "colab": {
          "base_uri": "https://localhost:8080/",
          "height": 54
        }
      },
      "source": [
        "def multiplier(mul):\n",
        "  return[lambda mul, i=i: mul*i for i in range(15)]\n",
        "\n",
        "print(multiplier(2))"
      ],
      "execution_count": 0,
      "outputs": [
        {
          "output_type": "stream",
          "text": [
            "[<function multiplier.<locals>.<listcomp>.<lambda> at 0x7f4f7a5aa840>, <function multiplier.<locals>.<listcomp>.<lambda> at 0x7f4f7a5aac80>, <function multiplier.<locals>.<listcomp>.<lambda> at 0x7f4f7a697840>, <function multiplier.<locals>.<listcomp>.<lambda> at 0x7f4f7a697730>, <function multiplier.<locals>.<listcomp>.<lambda> at 0x7f4f7a6972f0>, <function multiplier.<locals>.<listcomp>.<lambda> at 0x7f4f7a697d08>, <function multiplier.<locals>.<listcomp>.<lambda> at 0x7f4f7a697f28>, <function multiplier.<locals>.<listcomp>.<lambda> at 0x7f4f7a697950>, <function multiplier.<locals>.<listcomp>.<lambda> at 0x7f4f7a6977b8>, <function multiplier.<locals>.<listcomp>.<lambda> at 0x7f4f7a697ae8>, <function multiplier.<locals>.<listcomp>.<lambda> at 0x7f4f7a697a60>, <function multiplier.<locals>.<listcomp>.<lambda> at 0x7f4f7a6971e0>, <function multiplier.<locals>.<listcomp>.<lambda> at 0x7f4f7a697620>, <function multiplier.<locals>.<listcomp>.<lambda> at 0x7f4f7a697048>, <function multiplier.<locals>.<listcomp>.<lambda> at 0x7f4f7a697bf8>]\n"
          ],
          "name": "stdout"
        }
      ]
    },
    {
      "cell_type": "code",
      "metadata": {
        "id": "sub_7mMJ3PH8",
        "colab_type": "code",
        "outputId": "22ae056c-d083-4889-e440-9c104c959efd",
        "colab": {
          "base_uri": "https://localhost:8080/",
          "height": 34
        }
      },
      "source": [
        "c=\"hello\"\n",
        "print(c[0:2])"
      ],
      "execution_count": 0,
      "outputs": [
        {
          "output_type": "stream",
          "text": [
            "he\n"
          ],
          "name": "stdout"
        }
      ]
    },
    {
      "cell_type": "code",
      "metadata": {
        "id": "95hio9WasFt6",
        "colab_type": "code",
        "outputId": "d55a55f7-ae9a-4ec0-b53b-658036c44337",
        "colab": {
          "base_uri": "https://localhost:8080/",
          "height": 102
        }
      },
      "source": [
        "import logging\n",
        "import threading\n",
        "import time\n",
        "\n",
        "def thread_function(name):\n",
        "    logging.info(\"Thread %s: starting\", name)\n",
        "    time.sleep(2)\n",
        "    logging.info(\"Thread %s: finishing\", name)\n",
        "\n",
        "if __name__ == \"__main__\":\n",
        "    format = \"%(asctime)s: %(message)s\"\n",
        "    logging.basicConfig(format=format, level=logging.INFO,\n",
        "                        datefmt=\"%H:%M:%S\")\n",
        "\n",
        "    logging.info(\"Main    : before creating thread\")\n",
        "    x = threading.Thread(target=thread_function, args=(2,))\n",
        "    logging.info(\"Main    : before running thread\")\n",
        "    x.start()\n",
        "    logging.info(\"Main    : wait for the thread to finish\")\n",
        "    # x.join()\n",
        "    logging.info(\"Main    : all done\")"
      ],
      "execution_count": 0,
      "outputs": [
        {
          "output_type": "stream",
          "text": [
            "08:03:46: Main    : before creating thread\n",
            "08:03:46: Main    : before running thread\n",
            "08:03:46: Thread 2: starting\n",
            "08:03:46: Main    : wait for the thread to finish\n",
            "08:03:46: Main    : all done\n"
          ],
          "name": "stderr"
        }
      ]
    },
    {
      "cell_type": "code",
      "metadata": {
        "id": "zMtipas0sbSw",
        "colab_type": "code",
        "outputId": "61658c70-9553-4efe-bcac-1c546dbb8cf5",
        "colab": {
          "base_uri": "https://localhost:8080/",
          "height": 51
        }
      },
      "source": [
        "def fun_return(a):\n",
        "  return f\"returning {a} from function\"\n",
        "\n",
        "print(fun_return(1))\n",
        "c= \"hi\"\n",
        "print(f\"hi {c}\")"
      ],
      "execution_count": 0,
      "outputs": [
        {
          "output_type": "stream",
          "text": [
            "returning 1 from function\n",
            "hi hi\n"
          ],
          "name": "stdout"
        }
      ]
    },
    {
      "cell_type": "markdown",
      "metadata": {
        "id": "pgySisIBLJGk",
        "colab_type": "text"
      },
      "source": [
        "#closure"
      ]
    },
    {
      "cell_type": "code",
      "metadata": {
        "id": "AldWr2DtLK1e",
        "colab_type": "code",
        "outputId": "e80e221b-4c41-4b6a-f97e-d01efcbcf394",
        "colab": {
          "base_uri": "https://localhost:8080/",
          "height": 34
        }
      },
      "source": [
        "def outer_fun(msg):\n",
        "  def inner_fun():\n",
        "    print(f\"Printing from inner function: {msg}\")\n",
        "  return inner_fun()\n",
        "\n",
        "closure = outer_fun(\"message\")\n",
        "closure "
      ],
      "execution_count": 0,
      "outputs": [
        {
          "output_type": "stream",
          "text": [
            "Printing from inner function: message\n"
          ],
          "name": "stdout"
        }
      ]
    },
    {
      "cell_type": "code",
      "metadata": {
        "id": "ylqLxqXiMe8x",
        "colab_type": "code",
        "outputId": "260e5b80-242b-4351-c714-932aea2bad49",
        "colab": {
          "base_uri": "https://localhost:8080/",
          "height": 34
        }
      },
      "source": [
        "from datetime import datetime\n",
        "print(datetime.now())"
      ],
      "execution_count": 0,
      "outputs": [
        {
          "output_type": "stream",
          "text": [
            "2019-10-30 10:44:22.975794\n"
          ],
          "name": "stdout"
        }
      ]
    },
    {
      "cell_type": "code",
      "metadata": {
        "id": "MX-gbeBARHqt",
        "colab_type": "code",
        "colab": {}
      },
      "source": [
        "import functools\n",
        "\n",
        "def debug(func):\n",
        "    \"\"\"Print the function signature and return value\"\"\"\n",
        "    @functools.wraps(func)\n",
        "    def wrapper_debug(*args, **kwargs):\n",
        "        args_repr = [repr(a) for a in args]                      # 1\n",
        "        kwargs_repr = [f\"{k}={v!r}\" for k, v in kwargs.items()]  # 2\n",
        "        signature = \", \".join(args_repr + kwargs_repr)           # 3\n",
        "        print(f\"Calling {func.__name__}({signature})\")\n",
        "        value = func(*args, **kwargs)\n",
        "        print(f\"{func.__name__!r} returned {value!r}\")           # 4\n",
        "        return value\n",
        "    return wrapper_debug"
      ],
      "execution_count": 0,
      "outputs": []
    },
    {
      "cell_type": "code",
      "metadata": {
        "id": "va5aUlLakvL1",
        "colab_type": "code",
        "outputId": "4af69471-605e-4fe1-bb6e-648e119458a3",
        "colab": {
          "base_uri": "https://localhost:8080/",
          "height": 34
        }
      },
      "source": [
        "print(debug(5))"
      ],
      "execution_count": 0,
      "outputs": [
        {
          "output_type": "stream",
          "text": [
            "<function debug.<locals>.wrapper_debug at 0x7efda7e4a0d0>\n"
          ],
          "name": "stdout"
        }
      ]
    },
    {
      "cell_type": "code",
      "metadata": {
        "id": "k_YK-Vvu4LLk",
        "colab_type": "code",
        "outputId": "e0b4e326-1f67-4258-8faa-54c77d7711b6",
        "colab": {
          "base_uri": "https://localhost:8080/",
          "height": 68
        }
      },
      "source": [
        "numbers = [2,3,4,5]\n",
        "square = lambda x: x*x\n",
        "print(square(7))\n",
        "print(list(map(square,numbers)))\n",
        "list(map(square,numbers))\n",
        "  "
      ],
      "execution_count": 0,
      "outputs": [
        {
          "output_type": "stream",
          "text": [
            "49\n",
            "[4, 9, 16, 25]\n"
          ],
          "name": "stdout"
        },
        {
          "output_type": "execute_result",
          "data": {
            "text/plain": [
              "[4, 9, 16, 25]"
            ]
          },
          "metadata": {
            "tags": []
          },
          "execution_count": 33
        }
      ]
    },
    {
      "cell_type": "code",
      "metadata": {
        "id": "on6ZGpuw6RJP",
        "colab_type": "code",
        "outputId": "f11cedf2-9426-4945-b9f1-00dd99929956",
        "colab": {
          "base_uri": "https://localhost:8080/",
          "height": 34
        }
      },
      "source": [
        "from functools import reduce \n",
        "product = reduce((lambda x, y: x * y),[1, 2, 3, 4])\n",
        "print(product)"
      ],
      "execution_count": 0,
      "outputs": [
        {
          "output_type": "stream",
          "text": [
            "24\n"
          ],
          "name": "stdout"
        }
      ]
    },
    {
      "cell_type": "code",
      "metadata": {
        "id": "dAumlwUk7i2D",
        "colab_type": "code",
        "outputId": "9f3c8331-46b4-48f9-dc91-02ff1b5a1fb0",
        "colab": {
          "base_uri": "https://localhost:8080/",
          "height": 34
        }
      },
      "source": [
        "x = range(-5, 5) \n",
        "#all_less_than_zero = \n",
        "list(filter(lambda num: num < 0, x))"
      ],
      "execution_count": 0,
      "outputs": [
        {
          "output_type": "execute_result",
          "data": {
            "text/plain": [
              "[-5, -4, -3, -2, -1]"
            ]
          },
          "metadata": {
            "tags": []
          },
          "execution_count": 38
        }
      ]
    }
  ]
}