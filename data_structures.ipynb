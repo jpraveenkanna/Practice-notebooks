{
  "nbformat": 4,
  "nbformat_minor": 0,
  "metadata": {
    "colab": {
      "name": "data_structures.ipynb",
      "provenance": [],
      "authorship_tag": "ABX9TyNDhbfQiy+Gz1uUIzDhR/+L"
    },
    "kernelspec": {
      "name": "python3",
      "display_name": "Python 3"
    }
  },
  "cells": [
    {
      "cell_type": "markdown",
      "metadata": {
        "id": "7ZVn1JXtYGQ6",
        "colab_type": "text"
      },
      "source": [
        "# Linked List"
      ]
    },
    {
      "cell_type": "code",
      "metadata": {
        "id": "RgDHvTuFYF5z",
        "colab_type": "code",
        "colab": {
          "base_uri": "https://localhost:8080/",
          "height": 161
        },
        "outputId": "a76ea6f3-a4a3-49c0-dcfe-54488540c3ca"
      },
      "source": [
        "#The average time complexity of some operations invloving linked lists are as follows:\n",
        "#Look-up : O(n)\n",
        "#Insert : O(n)\n",
        "#Delete : O(n)\n",
        "#Append : O(1)\n",
        "#Prepend : O(1)\n",
        "\n",
        "class node():\n",
        "  def __init__(self,value):\n",
        "    self.data = value\n",
        "    self.next = None\n",
        "class linkedList():\n",
        "  def __init__(self):\n",
        "    self.head = None\n",
        "    self.tail = self.head\n",
        "    self.length = 0\n",
        "\n",
        "  def append(self,data):\n",
        "    new_node = node(data)\n",
        "    if self.head is None:\n",
        "      self.head = new_node\n",
        "      self.tail = self.head\n",
        "      self.length = 1\n",
        "    else:\n",
        "      self.tail.next =  new_node\n",
        "      self.tail = self.tail.next\n",
        "      self.length += 1\n",
        "\n",
        "  def printLinkedList(self):\n",
        "    if self.head is None:\n",
        "      return \"invalid head\"\n",
        "    current_node = self.head\n",
        "    while current_node != None:\n",
        "      print(current_node.data,end =\" \")\n",
        "      current_node = current_node.next\n",
        "    print(\"\\n\")\n",
        "\n",
        "  def prepend(self,data):\n",
        "    new_node = node(data)\n",
        "    if self.head is None:\n",
        "      self.append(data)\n",
        "    else:\n",
        "      tmp_node = self.head\n",
        "      self.head = new_node\n",
        "      self.head.next = tmp_node\n",
        "\n",
        "  def insert(self,pos,data):\n",
        "    new_node = node(data)\n",
        "    if pos >= self.length:\n",
        "      print(\"adding to the end\")\n",
        "      self.append(data)\n",
        "    elif pos == 0:\n",
        "      self.prepend(data)\n",
        "    else:\n",
        "      current_node = self.head\n",
        "      for _ in range(pos-1):\n",
        "        current_node = current_node.next\n",
        "      l_node = current_node\n",
        "      t_node = current_node.next\n",
        "      l_node.next = new_node\n",
        "      l_node.next.next = t_node\n",
        "  \n",
        "  #delete_by_value\n",
        "  def delete_by_value(self,data):\n",
        "    currentnode = self.head\n",
        "    while currentnode:\n",
        "      if currentnode.data == data and currentnode.next:\n",
        "        self.head = currentnode.next\n",
        "        self.length -= 1\n",
        "        return\n",
        "\n",
        "      elif currentnode.next and currentnode.next.data == data:\n",
        "        #next_node = currentnode.next.next_node\n",
        "        currentnode.next = currentnode.next.next\n",
        "        self.length -= 1\n",
        "        return\n",
        "      currentnode = currentnode.next\n",
        "    print(data, \"is not in the linked list or empty\")\n",
        "\n",
        "  #delete by position\n",
        "\n",
        "\n",
        "\n",
        "\n",
        "if __name__ == '__main__':\n",
        "  ll = linkedList()\n",
        "  ll.prepend(0)\n",
        "  ll.append(1)\n",
        "  ll.prepend(0)\n",
        "  ll.append(2)\n",
        "  ll.append(21)\n",
        "\n",
        "  ll.printLinkedList()\n",
        "  ll.insert(3,6)\n",
        "  ll.printLinkedList()\n",
        "\n",
        " \n",
        "  ll.delete_by_value(22)\n",
        "  ll.printLinkedList()\n",
        "\n",
        "  ll1 = linkedList()\n",
        "  ll1.delete_by_value(22)\n",
        "\n",
        "    "
      ],
      "execution_count": 7,
      "outputs": [
        {
          "output_type": "stream",
          "text": [
            "0 0 1 2 21 \n",
            "\n",
            "0 0 1 6 2 21 \n",
            "\n",
            "22 is not in the linked list or empty\n",
            "0 0 1 6 2 21 \n",
            "\n",
            "22 is not in the linked list or empty\n"
          ],
          "name": "stdout"
        }
      ]
    },
    {
      "cell_type": "markdown",
      "metadata": {
        "id": "Ylz6vRTRFQ2O",
        "colab_type": "text"
      },
      "source": [
        "# Array"
      ]
    },
    {
      "cell_type": "code",
      "metadata": {
        "id": "t7OZngh2UELL",
        "colab_type": "code",
        "colab": {
          "base_uri": "https://localhost:8080/",
          "height": 53
        },
        "outputId": "46e710c6-3c2e-4516-eba7-14831edc4710"
      },
      "source": [
        "#Given an array nums, write a function to move all 0's to the end of it while maintaining the relative order of the non-zero elements.\n",
        "#Example:\n",
        "#Input: [0,1,0,3,12]\n",
        "#Output: [1,3,12,0,0]\n",
        "\n",
        "def moveZeros(arr): # O(n)\n",
        "  count_0 = 0\n",
        "  final_arr = []\n",
        "\n",
        "  for num in arr:\n",
        "    if num == 0:\n",
        "      count_0 += 1\n",
        "    else:\n",
        "      final_arr.append(num)\n",
        "  return final_arr+([0]*count_0)\n",
        "\n",
        "def one_liner_move(array): #O(n log n)\n",
        "    array.sort(key=bool, reverse=True)\n",
        "    return array\n",
        "    \n",
        "\n",
        "print(one_liner_move(array))\n",
        "\n",
        "\n",
        "arr = [0,1,0,15,3,12]\n",
        "moveZeros(arr)\n",
        "one_liner_move(arr)"
      ],
      "execution_count": 64,
      "outputs": [
        {
          "output_type": "stream",
          "text": [
            "[1, 2, 3, 1]\n"
          ],
          "name": "stdout"
        },
        {
          "output_type": "execute_result",
          "data": {
            "text/plain": [
              "[1, 15, 3, 12, 0, 0]"
            ]
          },
          "metadata": {
            "tags": []
          },
          "execution_count": 64
        }
      ]
    },
    {
      "cell_type": "code",
      "metadata": {
        "id": "dXgWYKJkRJ80",
        "colab_type": "code",
        "colab": {
          "base_uri": "https://localhost:8080/",
          "height": 35
        },
        "outputId": "6b45d5c3-5817-49f3-a635-fe8319a766a5"
      },
      "source": [
        "#Given two sorted arrays, we need to merge them and create one big sorted array.\n",
        "#For example, array1 = [1,3,5,7], array2 = [2,4,6,8]\n",
        "#The result should be array = [1,2,3,4,5,6,7,8]\n",
        "\n",
        "array1 = [1,3,5,7]\n",
        "array2 = [2,4,6,8]\n",
        "\n",
        "sorted(array1 + array2)"
      ],
      "execution_count": 58,
      "outputs": [
        {
          "output_type": "execute_result",
          "data": {
            "text/plain": [
              "[1, 2, 3, 4, 5, 6, 7, 8]"
            ]
          },
          "metadata": {
            "tags": []
          },
          "execution_count": 58
        }
      ]
    },
    {
      "cell_type": "code",
      "metadata": {
        "id": "EhAG7dNdIbPl",
        "colab_type": "code",
        "colab": {
          "base_uri": "https://localhost:8080/",
          "height": 35
        },
        "outputId": "212a2213-fca5-42eb-cd1e-2d4f4536062a"
      },
      "source": [
        " \n",
        "#Find the largest word in a given string\n",
        "#Examples\n",
        "#Input: \"fun&!! time\"\n",
        "#Output: time\n",
        "\n",
        "def longest_word(str):\n",
        "  str = list(str)\n",
        "  tmp_str = \"\"\n",
        "  final_str = []\n",
        "  count_len = 0 \n",
        "  for idx,char in enumerate(str):\n",
        "    if char.isalnum() or char == \" \":\n",
        "      if not (char == \" \" or idx == len(str)-1) :\n",
        "        tmp_str += char\n",
        "        count_len +=1\n",
        "      else:\n",
        "        if not char == \" \":\n",
        "          tmp_str += char\n",
        "          count_len +=1\n",
        "\n",
        "        final_str.append([count_len,tmp_str])\n",
        "        tmp_str = \"\"\n",
        "        count_len = 0\n",
        "  return sorted(final_str)[-1][1]\n",
        "\n",
        "str = \"fun&!! time to all@2111\"\n",
        "longest_word(str)"
      ],
      "execution_count": 53,
      "outputs": [
        {
          "output_type": "execute_result",
          "data": {
            "application/vnd.google.colaboratory.intrinsic+json": {
              "type": "string"
            },
            "text/plain": [
              "'all2111'"
            ]
          },
          "metadata": {
            "tags": []
          },
          "execution_count": 53
        }
      ]
    },
    {
      "cell_type": "code",
      "metadata": {
        "id": "RkPyLjWwGqe_",
        "colab_type": "code",
        "colab": {
          "base_uri": "https://localhost:8080/",
          "height": 35
        },
        "outputId": "1c13b109-d1a2-44fb-f4fb-3d5162e8aef8"
      },
      "source": [
        "#Given an array of integers, find if the array contains any duplicates.\n",
        "#Your function should return true if any value appears at least twice in the array, and it should return false if every element is distinct.\n",
        "#Example 1:\n",
        "#Input: [1,2,3,1]\n",
        "#Output: true\n",
        "#Example 2:\n",
        "#Input: [1,2,3,4]\n",
        "#Output: false\n",
        "\n",
        "def duplicate(arr):\n",
        "  hash_table = {}\n",
        "  for number in arr:\n",
        "    if hash_table.get(number) is not None:\n",
        "      return True\n",
        "    hash_table[number] = number\n",
        "  return False\n",
        "\n",
        "\n",
        "\n",
        "array = [1,2,3,1]\n",
        "duplicate(array)"
      ],
      "execution_count": 19,
      "outputs": [
        {
          "output_type": "execute_result",
          "data": {
            "text/plain": [
              "True"
            ]
          },
          "metadata": {
            "tags": []
          },
          "execution_count": 19
        }
      ]
    },
    {
      "cell_type": "code",
      "metadata": {
        "id": "6AwAWYfzFPYZ",
        "colab_type": "code",
        "colab": {}
      },
      "source": [
        "array = [5,8,2,9,17,43,25,10]\n",
        "\n",
        "#Look-up\n",
        "first_element = array[0]  #O(1) time\n",
        "sixth_element = array[5]  #O(1) time\n",
        "\n",
        "\n",
        "#Push/Pop\n",
        "array.append(87) #Adds 87 at the end of the array in O(1) time\n",
        "\n",
        "#In some special cases, the append(push) operation may take greater time. This is because as mentioned earlier, Python has dynamic arrays\n",
        "#So when an element is to appended and the array is filled, the entire array has to be copied to a new location\n",
        "#With more space allocated(generally double the space) this time so that more items can be appended.\n",
        "#Therefore, some individual operations may reuire O(n) time or greater, but when averaged over a large number of operations,\n",
        "#The complexity can be safely considered to be O(1)\n",
        "\n",
        "array.pop() #Pops/removes the element at the end of the array in O(1) time.\n",
        "\n",
        "array.insert(0,50) #Inserts 50 at the beginning of the array and shifts all other elements one place towards right. O(n)\n",
        "array.insert(4,0) #inserts '0' at index '4', thus shifting all elements starting from index 4 one place towards right. O(n)\n",
        "\n",
        "print(array)\n",
        "\n",
        "\n",
        "#Delete\n",
        "\n",
        "array.pop(0) #This pops the first element of the array, shifting the remaining elements of the array one place left. O(n)\n",
        "array.remove(17) #This command removes the first occurence of the element 17 in the array, for which it needs to traverse the entire array, which requires O(n) time\n",
        "del array[2:4] #This command deletes elements from position 2 to position 4, again, in O(n) time\n"
      ],
      "execution_count": null,
      "outputs": []
    },
    {
      "cell_type": "markdown",
      "metadata": {
        "id": "F1jTR8FPFKDG",
        "colab_type": "text"
      },
      "source": [
        "# Hash table"
      ]
    },
    {
      "cell_type": "code",
      "metadata": {
        "id": "Bzqehqyr-W4o",
        "colab_type": "code",
        "colab": {
          "base_uri": "https://localhost:8080/",
          "height": 89
        },
        "outputId": "c8fb32da-e535-46b1-a159-29c89759c2f8"
      },
      "source": [
        "#Given a string and a pattern, write a program to find all occurences of the pattern in the string\n",
        "#For example, string = \"THIS IS A TEST TEXT\", pattern = \"TEST\"\n",
        "#Output = Pattern found at index 10\n",
        "#Example 2, string =  \"AABAACAADAABAABA\", pattern =  \"AABA\"\n",
        "#Output: Pattern found at index 0, Pattern found at index 9, Pattern found at index 12\n",
        "\n",
        "def find_pattern(str, pattern):\n",
        "  str = list(str)\n",
        "  pattern = list(pattern)\n",
        "  #print(str, pattern)\n",
        "\n",
        "  for index in range(len(str)):\n",
        "    if index < (len(str) - len(pattern)+1):\n",
        "      if (str[index:][:len(pattern)]) == pattern:\n",
        "        print(\"Pattern found at:\",index) \n",
        "\n",
        "\n",
        "\n",
        "\n",
        "str1 = \"THIS IS A TEST TEXT\"\n",
        "str2 = \"AABAACAADAABAABA\"\n",
        "pattern = \"TEST\"\n",
        "pattern2 = \"AABA\"\n",
        "\n",
        "find_pattern(str2,pattern2)"
      ],
      "execution_count": 15,
      "outputs": [
        {
          "output_type": "stream",
          "text": [
            "['A', 'A', 'B', 'A', 'A', 'C', 'A', 'A', 'D', 'A', 'A', 'B', 'A', 'A', 'B', 'A'] ['A', 'A', 'B', 'A']\n",
            "Pattern found at: 0\n",
            "Pattern found at: 9\n",
            "Pattern found at: 12\n"
          ],
          "name": "stdout"
        }
      ]
    },
    {
      "cell_type": "code",
      "metadata": {
        "id": "nTt3RWFCueBs",
        "colab_type": "code",
        "colab": {
          "base_uri": "https://localhost:8080/",
          "height": 35
        },
        "outputId": "1ec70564-6642-4db8-f733-7eb14b8fcd89"
      },
      "source": [
        "a = {\"a\": True, \"b\":False}\n",
        "b = {}\n",
        "a.get(\"a\")\n",
        "b.get(\"a\")\n",
        "a.pop(\"a\")\n",
        "a"
      ],
      "execution_count": null,
      "outputs": [
        {
          "output_type": "execute_result",
          "data": {
            "text/plain": [
              "{'b': False}"
            ]
          },
          "metadata": {
            "tags": []
          },
          "execution_count": 26
        }
      ]
    },
    {
      "cell_type": "code",
      "metadata": {
        "id": "NvKqONy-YLg4",
        "colab_type": "code",
        "colab": {
          "base_uri": "https://localhost:8080/",
          "height": 35
        },
        "outputId": "0f8d7b03-7f12-42b5-b552-5b0b9c5eb00b"
      },
      "source": [
        "#Google Question\n",
        "#Given an array, return the first recurring character\n",
        "#Example1 : array = [2,1,4,2,6,5,1,4]\n",
        "#It should return 2\n",
        "#Example 2 : array = [2,6,4,6,1,3,8,1,2]\n",
        "#It should return 6\n",
        "\n",
        "def firstRecuringNumber(arr):\n",
        "  table = {}\n",
        "  for number in arr:\n",
        "    if table.get(number) is not None:\n",
        "      return number\n",
        "    table[number] = True\n",
        "    #print(table)\n",
        "  return \"No numbers are recuring\"\n",
        "\n",
        "\n",
        "a = [2,1,4,1,3]\n",
        "b = []\n",
        "\n",
        "firstRecuringNumber(a)\n"
      ],
      "execution_count": null,
      "outputs": [
        {
          "output_type": "execute_result",
          "data": {
            "text/plain": [
              "1"
            ]
          },
          "metadata": {
            "tags": []
          },
          "execution_count": 21
        }
      ]
    },
    {
      "cell_type": "markdown",
      "metadata": {
        "id": "lNNywH6CFBp7",
        "colab_type": "text"
      },
      "source": [
        "# Big - O"
      ]
    },
    {
      "cell_type": "markdown",
      "metadata": {
        "id": "UF877AVqZS-x",
        "colab_type": "text"
      },
      "source": [
        "**Big-O complex:**\n",
        "When we go bigger and bigger with the input how much the program slows down.\n",
        "\n",
        "* O(n) ----> Linear time \n",
        "* O(1) or O(log n)----> constant time\n",
        "* O(n^2) ----> Quadratic time\n",
        "\n",
        "These are different asymptotic notations for the analysis of the algorithm. Every time, we can't say the efficiency of the program in terms of minutes and seconds. For such purpose, standard notations called asymptotic notations are used.\n",
        "\n",
        "Big-O is a measure of the longest amount of time it could possibly take for the algorithm to complete.\n",
        "f(n) ≤ cg(n), where f(n) and g(n) are non-negative functions, g(n) is upper bound, then f(n) is Big O of g(n). This is denoted as \"f(n) = O(g(n))\"\n",
        "\n",
        "Big Omega describes the best that can happen for a given data size.\n",
        "\"f(n) ≥ cg(n)\", this makes g(n) a lower bound function\n",
        "\n",
        "Theta is basically saying that the function, f(n) is bounded both from the top and bottom by the same function, g(n).\n",
        "f(n) is theta of g(n) if and only if f(n) = O(g(n)) and f(n) = Ω(g(n))\n",
        "This is denoted as \"f(n) = Θ(g(n))\"\n",
        "\n"
      ]
    },
    {
      "cell_type": "markdown",
      "metadata": {
        "id": "TTjKIVmcYlk5",
        "colab_type": "text"
      },
      "source": [
        "![alt text](https://miro.medium.com/max/2928/1*5ZLci3SuR0zM_QlZOADv8Q.jpeg)"
      ]
    }
  ]
}