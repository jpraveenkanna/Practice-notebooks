{
  "nbformat": 4,
  "nbformat_minor": 0,
  "metadata": {
    "colab": {
      "name": "data_structures.ipynb",
      "provenance": [],
      "authorship_tag": "ABX9TyM9Tp5CKwBaDfDw4Wu2Jlyl"
    },
    "kernelspec": {
      "name": "python3",
      "display_name": "Python 3"
    }
  },
  "cells": [
    {
      "cell_type": "code",
      "metadata": {
        "id": "nTt3RWFCueBs",
        "colab_type": "code",
        "colab": {
          "base_uri": "https://localhost:8080/",
          "height": 35
        },
        "outputId": "1ec70564-6642-4db8-f733-7eb14b8fcd89"
      },
      "source": [
        "a = {\"a\": True, \"b\":False}\n",
        "b = {}\n",
        "a.get(\"a\")\n",
        "b.get(\"a\")\n",
        "a.pop(\"a\")\n",
        "a"
      ],
      "execution_count": 26,
      "outputs": [
        {
          "output_type": "execute_result",
          "data": {
            "text/plain": [
              "{'b': False}"
            ]
          },
          "metadata": {
            "tags": []
          },
          "execution_count": 26
        }
      ]
    },
    {
      "cell_type": "code",
      "metadata": {
        "id": "NvKqONy-YLg4",
        "colab_type": "code",
        "colab": {
          "base_uri": "https://localhost:8080/",
          "height": 35
        },
        "outputId": "0f8d7b03-7f12-42b5-b552-5b0b9c5eb00b"
      },
      "source": [
        "#return first recurring number\n",
        "def firstRecuringNumber(arr):\n",
        "  table = {}\n",
        "  for number in arr:\n",
        "    if table.get(number) is not None:\n",
        "      return number\n",
        "    table[number] = True\n",
        "    #print(table)\n",
        "  return \"No numbers are recuring\"\n",
        "\n",
        "\n",
        "a = [2,1,4,1,3]\n",
        "b = []\n",
        "\n",
        "firstRecuringNumber(a)\n"
      ],
      "execution_count": 21,
      "outputs": [
        {
          "output_type": "execute_result",
          "data": {
            "text/plain": [
              "1"
            ]
          },
          "metadata": {
            "tags": []
          },
          "execution_count": 21
        }
      ]
    },
    {
      "cell_type": "markdown",
      "metadata": {
        "id": "UF877AVqZS-x",
        "colab_type": "text"
      },
      "source": [
        "**Big-O complex:**\n",
        "When we go bigger and bigger with the input how much the program slows down.\n",
        "\n",
        "* O(n) ----> Linear time \n",
        "* O(1) or O(log n)----> constant time\n",
        "* O(n^2) ----> Quadratic time\n",
        "\n",
        "These are different asymptotic notations for the analysis of the algorithm. Every time, we can't say the efficiency of the program in terms of minutes and seconds. For such purpose, standard notations called asymptotic notations are used.\n",
        "\n",
        "Big-O is a measure of the longest amount of time it could possibly take for the algorithm to complete.\n",
        "f(n) ≤ cg(n), where f(n) and g(n) are non-negative functions, g(n) is upper bound, then f(n) is Big O of g(n). This is denoted as \"f(n) = O(g(n))\"\n",
        "\n",
        "Big Omega describes the best that can happen for a given data size.\n",
        "\"f(n) ≥ cg(n)\", this makes g(n) a lower bound function\n",
        "\n",
        "Theta is basically saying that the function, f(n) is bounded both from the top and bottom by the same function, g(n).\n",
        "f(n) is theta of g(n) if and only if f(n) = O(g(n)) and f(n) = Ω(g(n))\n",
        "This is denoted as \"f(n) = Θ(g(n))\"\n",
        "\n"
      ]
    },
    {
      "cell_type": "markdown",
      "metadata": {
        "id": "TTjKIVmcYlk5",
        "colab_type": "text"
      },
      "source": [
        "![alt text](https://miro.medium.com/max/2928/1*5ZLci3SuR0zM_QlZOADv8Q.jpeg)"
      ]
    }
  ]
}