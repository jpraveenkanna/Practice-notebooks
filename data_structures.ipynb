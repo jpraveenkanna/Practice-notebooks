{
  "nbformat": 4,
  "nbformat_minor": 0,
  "metadata": {
    "colab": {
      "name": "data_structures.ipynb",
      "provenance": [],
      "authorship_tag": "ABX9TyPbt9WYt6o6SATGX43xeZpa"
    },
    "kernelspec": {
      "name": "python3",
      "display_name": "Python 3"
    }
  },
  "cells": [
    {
      "cell_type": "code",
      "metadata": {
        "id": "NvKqONy-YLg4",
        "colab_type": "code",
        "colab": {}
      },
      "source": [
        ""
      ],
      "execution_count": null,
      "outputs": []
    },
    {
      "cell_type": "markdown",
      "metadata": {
        "id": "UF877AVqZS-x",
        "colab_type": "text"
      },
      "source": [
        "**Big-O complex:**\n",
        "When we go bigger and bigger with the input how much the program slows down.\n",
        "\n",
        "* O(n) ----> Linear time \n",
        "* O(1) or O(log n)----> constant time\n",
        "* O(n^2) ----> Quadratic time\n",
        "\n",
        "These are different asymptotic notations for the analysis of the algorithm. Every time, we can't say the efficiency of the program in terms of minutes and seconds. For such purpose, standard notations called asymptotic notations are used.\n",
        "\n",
        "Big-O is a measure of the longest amount of time it could possibly take for the algorithm to complete.\n",
        "f(n) ≤ cg(n), where f(n) and g(n) are non-negative functions, g(n) is upper bound, then f(n) is Big O of g(n). This is denoted as \"f(n) = O(g(n))\"\n",
        "\n",
        "Big Omega describes the best that can happen for a given data size.\n",
        "\"f(n) ≥ cg(n)\", this makes g(n) a lower bound function\n",
        "\n",
        "Theta is basically saying that the function, f(n) is bounded both from the top and bottom by the same function, g(n).\n",
        "f(n) is theta of g(n) if and only if f(n) = O(g(n)) and f(n) = Ω(g(n))\n",
        "This is denoted as \"f(n) = Θ(g(n))\"\n",
        "\n"
      ]
    },
    {
      "cell_type": "markdown",
      "metadata": {
        "id": "TTjKIVmcYlk5",
        "colab_type": "text"
      },
      "source": [
        "![alt text](https://miro.medium.com/max/2928/1*5ZLci3SuR0zM_QlZOADv8Q.jpeg)"
      ]
    }
  ]
}