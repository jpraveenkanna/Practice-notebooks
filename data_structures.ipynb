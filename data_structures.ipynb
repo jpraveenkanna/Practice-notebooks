{
  "nbformat": 4,
  "nbformat_minor": 0,
  "metadata": {
    "colab": {
      "name": "data_structures.ipynb",
      "provenance": [],
      "toc_visible": true,
      "authorship_tag": "ABX9TyNlrPAgPs7V2E0hHlaOFaq5"
    },
    "kernelspec": {
      "name": "python3",
      "display_name": "Python 3"
    }
  },
  "cells": [
    {
      "cell_type": "markdown",
      "metadata": {
        "id": "jkiPkg9Ec-B1",
        "colab_type": "text"
      },
      "source": [
        "#practice problems"
      ]
    },
    {
      "cell_type": "code",
      "metadata": {
        "id": "wxUGbob13Tif",
        "colab_type": "code",
        "colab": {
          "base_uri": "https://localhost:8080/",
          "height": 53
        },
        "outputId": "63363906-06b8-4d5a-f19f-6976b6ff49cc"
      },
      "source": [
        "\"\"\"\n",
        "Given a non-empty array of integers, every element appears twice except for one. Find that single one.\n",
        "\n",
        "Note:\n",
        "\n",
        "Your algorithm should have a linear runtime complexity. Could you implement it without using extra memory?\n",
        "\n",
        "Example 1:\n",
        "\n",
        "Input: [2,2,1]\n",
        "Output: 1\n",
        "Example 2:\n",
        "\n",
        "Input: [4,1,2,1,2]\n",
        "Output: 4\n",
        "\"\"\"\n",
        "# 15 min\n",
        "def singleNumber(nums):\n",
        "  memory = {}\n",
        "  for val in nums:\n",
        "    if val in memory:\n",
        "      memory.pop(val)\n",
        "    else:\n",
        "      memory[val] = True\n",
        "  print(memory)\n",
        "  return list(memory.keys()).pop()\n",
        "\n",
        "\n",
        "singleNumber([2,2,1])"
      ],
      "execution_count": null,
      "outputs": [
        {
          "output_type": "stream",
          "text": [
            "{1: True}\n"
          ],
          "name": "stdout"
        },
        {
          "output_type": "execute_result",
          "data": {
            "text/plain": [
              "1"
            ]
          },
          "metadata": {
            "tags": []
          },
          "execution_count": 84
        }
      ]
    },
    {
      "cell_type": "code",
      "metadata": {
        "id": "souc4F7o4ptT",
        "colab_type": "code",
        "colab": {
          "base_uri": "https://localhost:8080/",
          "height": 53
        },
        "outputId": "65b90bd0-ec3f-48c2-df8b-91ba22ac5de9"
      },
      "source": [
        "a = {4: True}\n",
        "print(a.pop(4))\n",
        "a"
      ],
      "execution_count": null,
      "outputs": [
        {
          "output_type": "stream",
          "text": [
            "True\n"
          ],
          "name": "stdout"
        },
        {
          "output_type": "execute_result",
          "data": {
            "text/plain": [
              "{}"
            ]
          },
          "metadata": {
            "tags": []
          },
          "execution_count": 81
        }
      ]
    },
    {
      "cell_type": "code",
      "metadata": {
        "id": "8X1C9fHf1EIM",
        "colab_type": "code",
        "colab": {
          "base_uri": "https://localhost:8080/",
          "height": 53
        },
        "outputId": "ac63e5ac-e573-4b2a-d604-a19941ef0c54"
      },
      "source": [
        "\"\"\"\n",
        "Given an array of integers, find if the array contains any duplicates.\n",
        "\n",
        "Your function should return true if any value appears at least twice in the array, and it should return false if every element is distinct.\n",
        "\n",
        "Example 1:\n",
        "\n",
        "Input: [1,2,3,1]\n",
        "Output: true\n",
        "Example 2:\n",
        "\n",
        "Input: [1,2,3,4]\n",
        "Output: false\n",
        "\"\"\"\n",
        "12:10 -- 12:20\n",
        "def containsDuplicate(nums):\n",
        "  memory = {}\n",
        "  for element in nums:\n",
        "    if element not in memory:\n",
        "      memory[element] = True\n",
        "    else:\n",
        "      return True\n",
        "\n",
        "\n",
        "containsDuplicate([1,2,3,1])        "
      ],
      "execution_count": null,
      "outputs": [
        {
          "output_type": "stream",
          "text": [
            "{1: True, 2: True, 3: True}\n"
          ],
          "name": "stdout"
        },
        {
          "output_type": "execute_result",
          "data": {
            "text/plain": [
              "True"
            ]
          },
          "metadata": {
            "tags": []
          },
          "execution_count": 64
        }
      ]
    },
    {
      "cell_type": "code",
      "metadata": {
        "id": "XCDpVaweypTZ",
        "colab_type": "code",
        "colab": {
          "base_uri": "https://localhost:8080/",
          "height": 35
        },
        "outputId": "1f78d5b0-bade-4c4e-eb86-2cf4fd5c0803"
      },
      "source": [
        "\"\"\"\n",
        "Given an array, rotate the array to the right by k steps, where k is non-negative.\n",
        "\n",
        "Follow up:\n",
        "\n",
        "Try to come up as many solutions as you can, there are at least 3 different ways to solve this problem.\n",
        "Could you do it in-place with O(1) extra space?\n",
        " \n",
        "\n",
        "Example 1:\n",
        "\n",
        "Input: nums = [1,2,3,4,5,6,7], k = 3\n",
        "Output: [5,6,7,1,2,3,4]\n",
        "Explanation:\n",
        "rotate 1 steps to the right: [7,1,2,3,4,5,6]\n",
        "rotate 2 steps to the right: [6,7,1,2,3,4,5]\n",
        "rotate 3 steps to the right: [5,6,7,1,2,3,4]\n",
        "\"\"\"\n",
        "1200 -- 12:08\n",
        "def rotate(nums, k):\n",
        "  for _ in range(k):\n",
        "    nums.insert(0,nums.pop())\n",
        "  return nums\n",
        "\n",
        "\n",
        "rotate([1,2,3,4,5,6,7],3)"
      ],
      "execution_count": null,
      "outputs": [
        {
          "output_type": "stream",
          "text": [
            "[5, 6, 7, 1, 2, 3, 4]\n"
          ],
          "name": "stdout"
        }
      ]
    },
    {
      "cell_type": "code",
      "metadata": {
        "id": "TfvGAEHZgJ3T",
        "colab_type": "code",
        "colab": {
          "base_uri": "https://localhost:8080/",
          "height": 756
        },
        "outputId": "da80b4fb-a372-4eb7-bcd3-f85e47af063e"
      },
      "source": [
        "\"\"\"\n",
        "Say you have an array prices for which the ith element is the price of a given stock on day i.\n",
        "\n",
        "Design an algorithm to find the maximum profit. You may complete as many transactions as you like (i.e., buy one and sell one share of the stock multiple times).\n",
        "\n",
        "Note: You may not engage in multiple transactions at the same time (i.e., you must sell the stock before you buy again).\n",
        "\n",
        "Example 1:\n",
        "\n",
        "Input: [7,1,5,3,6,4]\n",
        "Output: 7\n",
        "Explanation: Buy on day 2 (price = 1) and sell on day 3 (price = 5), profit = 5-1 = 4.\n",
        "             Then buy on day 4 (price = 3) and sell on day 5 (price = 6), profit = 6-3 = 3.\n",
        "Example 2:\n",
        "\n",
        "Input: [1,2,3,4,5]\n",
        "Output: 4\n",
        "Explanation: Buy on day 1 (price = 1) and sell on day 5 (price = 5), profit = 5-1 = 4.\n",
        "             Note that you cannot buy on day 1, buy on day 2 and sell them later, as you are\n",
        "             engaging multiple transactions at the same time. You must sell before buying again.\n",
        "\"\"\"\n",
        "\n",
        "#5.42PM -- 12:00AM\n",
        "\n",
        "def maxProfit(prices):\n",
        "    #[7,1,5,3,6,4]\n",
        "    # gain = get diff of sub sequent values\n",
        "    # if gain is large --> sell, if gain is low buy\n",
        "    \n",
        "    # first buy when val decreases. 7 < 1 so buy on day 2( buy val = 1)\n",
        "    # if val inc and next val is inc --> sell. profit = 5-1 = 4\n",
        "    # if val dec buy again . buy = 3\n",
        "\n",
        "\n",
        "    # get t, t+1,t+2\n",
        "    # if length <= 2 ---> when l = 1 return 0; when l=2 and inc return profit\n",
        "    # else \n",
        "    # buy --> t < t+1; set stock = val \n",
        "    # sell --> if t+1 and t<t+1 and bought\n",
        "    # dont sell --> if t+2<l-1 and t<t+1<t+2 \n",
        "    length = len(prices)\n",
        "    if length == 1:\n",
        "      return 0\n",
        "    elif length == 2 and prices[1]>prices[0]:\n",
        "      return prices[1]-prices[0]\n",
        "    else:\n",
        "      stock = None\n",
        "      profit = 0\n",
        "      for idx in range(length):\n",
        "        #intializing 3 days stock\n",
        "        t = prices[idx]\n",
        "        if idx+1 <len(prices):\n",
        "          t1 = prices[idx+1]\n",
        "        else:\n",
        "          t1 = None\n",
        "        print(\"idx\",idx,\":\",t,t1,stock)\n",
        "\n",
        "        #buy\n",
        "        if stock is None and t1 and t<t1:\n",
        "          stock = t\n",
        "          print(\"bought\",stock)\n",
        "\n",
        "        #sell\n",
        "        elif ((stock or stock == 0)  and stock<t):\n",
        "          if t1 and stock<t<t1:\n",
        "            pass\n",
        "          else:\n",
        "            profit += (t - stock)\n",
        "            print(\"Sold\",t)\n",
        "            stock =None\n",
        "      return profit\n",
        "\n",
        "\n",
        "print(maxProfit([7,1,5,3,6,4]))\n",
        "print(maxProfit([1,2,3,4,5]))\n",
        "print(maxProfit([7,6,4,3,1]))\n",
        "print(maxProfit([1,4,2]))\n",
        "print(maxProfit([2,1,2,0,1]))"
      ],
      "execution_count": null,
      "outputs": [
        {
          "output_type": "stream",
          "text": [
            "idx 0 : 7 1 None\n",
            "idx 1 : 1 5 None\n",
            "bought 1\n",
            "idx 2 : 5 3 1\n",
            "Sold 5\n",
            "idx 3 : 3 6 None\n",
            "bought 3\n",
            "idx 4 : 6 4 3\n",
            "Sold 6\n",
            "idx 5 : 4 None None\n",
            "7\n",
            "idx 0 : 1 2 None\n",
            "bought 1\n",
            "idx 1 : 2 3 1\n",
            "idx 2 : 3 4 1\n",
            "idx 3 : 4 5 1\n",
            "idx 4 : 5 None 1\n",
            "Sold 5\n",
            "4\n",
            "idx 0 : 7 6 None\n",
            "idx 1 : 6 4 None\n",
            "idx 2 : 4 3 None\n",
            "idx 3 : 3 1 None\n",
            "idx 4 : 1 None None\n",
            "0\n",
            "idx 0 : 1 4 None\n",
            "bought 1\n",
            "idx 1 : 4 2 1\n",
            "Sold 4\n",
            "idx 2 : 2 None None\n",
            "3\n",
            "idx 0 : 2 1 None\n",
            "idx 1 : 1 2 None\n",
            "bought 1\n",
            "idx 2 : 2 0 1\n",
            "Sold 2\n",
            "idx 3 : 0 1 None\n",
            "bought 0\n",
            "idx 4 : 1 None 0\n",
            "Sold 1\n",
            "2\n"
          ],
          "name": "stdout"
        }
      ]
    },
    {
      "cell_type": "code",
      "metadata": {
        "id": "RcR0aRe_1MEQ",
        "colab_type": "code",
        "colab": {
          "base_uri": "https://localhost:8080/",
          "height": 35
        },
        "outputId": "ebbff0b8-9d09-4f5a-fb2b-81e3f44bfb6b"
      },
      "source": [
        "#Given a sorted array nums, remove the duplicates in-place \n",
        "#such that each element appear only once and return the new length.\n",
        "#Do not allocate extra space for another array, \n",
        "#you must do this by modifying the input array in-place with O(1) extra memory.\n",
        "\n",
        "def removeDuplicates(nums,count = 0):\n",
        "    if len(nums) == 0:\n",
        "        return 0\n",
        "    \n",
        "    prev_val = nums[0]\n",
        "    for current_val in nums[1:]:\n",
        "        if current_val == prev_val:\n",
        "            nums.remove(current_val)\n",
        "            count +=1\n",
        "        prev_val = current_val\n",
        "    return len(nums),count\n",
        "            \n",
        "removeDuplicates([1, 2, 3, 3, 4])"
      ],
      "execution_count": null,
      "outputs": [
        {
          "output_type": "execute_result",
          "data": {
            "text/plain": [
              "(4, 1)"
            ]
          },
          "metadata": {
            "tags": []
          },
          "execution_count": 4
        }
      ]
    },
    {
      "cell_type": "markdown",
      "metadata": {
        "id": "ut-nnTNyVMEL",
        "colab_type": "text"
      },
      "source": [
        "# Dynamic programming"
      ]
    },
    {
      "cell_type": "code",
      "metadata": {
        "id": "IZRl8YtPcuar",
        "colab_type": "code",
        "colab": {
          "base_uri": "https://localhost:8080/",
          "height": 91
        },
        "outputId": "f043db2a-f2db-47b3-96e5-58b65aaa949e"
      },
      "source": [
        "#Fibonacci Sequence : 0 1 1 2 3 5 8 13 21 35 55 89 144 233 . \n",
        "import time\n",
        "cache = {}\n",
        "def get_fibonacci_number(n):\n",
        "  if n in cache :\n",
        "    #print(n,\"cache\",cache[n])\n",
        "    return cache[n]\n",
        "  elif n < 2:\n",
        "    return n\n",
        "  else:\n",
        "    res = get_fibonacci_number(n-1)+get_fibonacci_number(n-2)\n",
        "    cache[n] = res\n",
        "    return res\n",
        "\n",
        "t1=time.time()\n",
        "print(get_fibonacci_number(100))\n",
        "print(\"time taken: \",round(time.time()-t1,4))\n",
        "print(cache)    "
      ],
      "execution_count": null,
      "outputs": [
        {
          "output_type": "stream",
          "text": [
            "354224848179261915075\n",
            "time taken:  0.0004\n",
            "{2: 1, 3: 2, 4: 3, 5: 5, 6: 8, 7: 13, 8: 21, 9: 34, 10: 55, 11: 89, 12: 144, 13: 233, 14: 377, 15: 610, 16: 987, 17: 1597, 18: 2584, 19: 4181, 20: 6765, 21: 10946, 22: 17711, 23: 28657, 24: 46368, 25: 75025, 26: 121393, 27: 196418, 28: 317811, 29: 514229, 30: 832040, 31: 1346269, 32: 2178309, 33: 3524578, 34: 5702887, 35: 9227465, 36: 14930352, 37: 24157817, 38: 39088169, 39: 63245986, 40: 102334155, 41: 165580141, 42: 267914296, 43: 433494437, 44: 701408733, 45: 1134903170, 46: 1836311903, 47: 2971215073, 48: 4807526976, 49: 7778742049, 50: 12586269025, 51: 20365011074, 52: 32951280099, 53: 53316291173, 54: 86267571272, 55: 139583862445, 56: 225851433717, 57: 365435296162, 58: 591286729879, 59: 956722026041, 60: 1548008755920, 61: 2504730781961, 62: 4052739537881, 63: 6557470319842, 64: 10610209857723, 65: 17167680177565, 66: 27777890035288, 67: 44945570212853, 68: 72723460248141, 69: 117669030460994, 70: 190392490709135, 71: 308061521170129, 72: 498454011879264, 73: 806515533049393, 74: 1304969544928657, 75: 2111485077978050, 76: 3416454622906707, 77: 5527939700884757, 78: 8944394323791464, 79: 14472334024676221, 80: 23416728348467685, 81: 37889062373143906, 82: 61305790721611591, 83: 99194853094755497, 84: 160500643816367088, 85: 259695496911122585, 86: 420196140727489673, 87: 679891637638612258, 88: 1100087778366101931, 89: 1779979416004714189, 90: 2880067194370816120, 91: 4660046610375530309, 92: 7540113804746346429, 93: 12200160415121876738, 94: 19740274219868223167, 95: 31940434634990099905, 96: 51680708854858323072, 97: 83621143489848422977, 98: 135301852344706746049, 99: 218922995834555169026, 100: 354224848179261915075}\n"
          ],
          "name": "stdout"
        }
      ]
    },
    {
      "cell_type": "code",
      "metadata": {
        "id": "Z3n1dkiMjfHh",
        "colab_type": "code",
        "colab": {
          "base_uri": "https://localhost:8080/",
          "height": 53
        },
        "outputId": "03b6b48c-c328-468b-9401-c6f5b9d14ee4"
      },
      "source": [
        "@lru_cache(maxsize=100)\n",
        "def cache_feb(n):\n",
        "  if n < 2:\n",
        "    return n\n",
        "  else:\n",
        "    return cache_feb(n-1)+cache_feb(n-2)\n",
        "\n",
        "t1=time.time()\n",
        "print(cache_feb(100))\n",
        "print(\"time taken: \",round(time.time()-t1,4))"
      ],
      "execution_count": null,
      "outputs": [
        {
          "output_type": "stream",
          "text": [
            "354224848179261915075\n",
            "time taken:  0.001\n"
          ],
          "name": "stdout"
        }
      ]
    },
    {
      "cell_type": "code",
      "metadata": {
        "id": "9VeCNbVtVLqx",
        "colab_type": "code",
        "colab": {
          "base_uri": "https://localhost:8080/",
          "height": 53
        },
        "outputId": "eff36194-4129-495f-b8ea-1c79231dd412"
      },
      "source": [
        "#Memoization is an optimization technique used to speed up programs by storing the results of expensive function calls\n",
        "#and returning the cached result when the same inputs occur again.\n",
        "#In Python there's a module named functools with a method lru_cache() which allows us to use this optimization technique\n",
        "\n",
        "from functools import lru_cache\n",
        "import random\n",
        "import time\n",
        "\n",
        "array = [random.randint(1,10) for _ in range(10000)]\n",
        "\n",
        "@lru_cache(maxsize=100000)\n",
        "def square(number):\n",
        "  return number ** 2\n",
        "\n",
        "t1=time.time()\n",
        "for num in array:\n",
        "  square(num)\n",
        "print(\"time taken: \",round(time.time()-t1,4))\n",
        "\n",
        "square.cache_info()"
      ],
      "execution_count": null,
      "outputs": [
        {
          "output_type": "stream",
          "text": [
            "time taken:  0.0016\n"
          ],
          "name": "stdout"
        },
        {
          "output_type": "execute_result",
          "data": {
            "text/plain": [
              "CacheInfo(hits=9990, misses=10, maxsize=100000, currsize=10)"
            ]
          },
          "metadata": {
            "tags": []
          },
          "execution_count": 19
        }
      ]
    },
    {
      "cell_type": "markdown",
      "metadata": {
        "id": "ZxCfiofBgu5p",
        "colab_type": "text"
      },
      "source": [
        "# Searching"
      ]
    },
    {
      "cell_type": "markdown",
      "metadata": {
        "id": "VJuXSMdIpkxx",
        "colab_type": "text"
      },
      "source": [
        "## BFS"
      ]
    },
    {
      "cell_type": "code",
      "metadata": {
        "id": "XcrbLZcgguXO",
        "colab_type": "code",
        "colab": {
          "base_uri": "https://localhost:8080/",
          "height": 161
        },
        "outputId": "d396b8b1-d302-4c35-acae-fd380ef71116"
      },
      "source": [
        "# Breath first search\n",
        "# run binary search tree\n",
        "\n",
        "my_bst = bst()\n",
        "my_bst.insert(5)\n",
        "my_bst.insert(3)\n",
        "my_bst.insert(7)\n",
        "my_bst.insert(1)\n",
        "my_bst.insert(13)\n",
        "my_bst.insert(65)\n",
        "my_bst.insert(0)\n",
        "my_bst.insert(10)\n"
      ],
      "execution_count": null,
      "outputs": [
        {
          "output_type": "stream",
          "text": [
            "root: 5\n",
            "inserting 3 to left of 5\n",
            "inserting 7 to right of 5\n",
            "inserting 1 to left of 3\n",
            "inserting 13 to right of 7\n",
            "inserting 65 to right of 13\n",
            "inserting 0 to left of 1\n",
            "inserting 10 to left of 13\n"
          ],
          "name": "stdout"
        }
      ]
    },
    {
      "cell_type": "code",
      "metadata": {
        "id": "B3Ozha0FiDft",
        "colab_type": "code",
        "colab": {
          "base_uri": "https://localhost:8080/",
          "height": 35
        },
        "outputId": "5778589f-fa1c-4b21-e7a6-10566f431cd0"
      },
      "source": [
        "'''\n",
        "            5\n",
        "        3       7\n",
        "    1               13\n",
        "0                10     65\n",
        "'''\n",
        "#[5, 3, 7, 1, 13, 0, 10, 65]\n",
        "\n",
        "def bfs(queue,res = []):\n",
        "  if len(queue) == 0:\n",
        "    return res\n",
        "  root = queue.pop(0)\n",
        "  res.append(root.data)\n",
        "  #print(root.data,end = \" \")\n",
        "  if root.left:\n",
        "    queue.append(root.left)\n",
        "  if root.right:\n",
        "    queue.append(root.right)\n",
        "  return bfs(queue,res)\n",
        "\n",
        "\n",
        "bfs([my_bst.root])"
      ],
      "execution_count": null,
      "outputs": [
        {
          "output_type": "execute_result",
          "data": {
            "text/plain": [
              "[5, 3, 7, 1, 13, 0, 10, 65]"
            ]
          },
          "metadata": {
            "tags": []
          },
          "execution_count": 18
        }
      ]
    },
    {
      "cell_type": "markdown",
      "metadata": {
        "id": "UFDZCpmXpoR4",
        "colab_type": "text"
      },
      "source": [
        "## DFS"
      ]
    },
    {
      "cell_type": "code",
      "metadata": {
        "id": "BlW7pR9zpqLo",
        "colab_type": "code",
        "colab": {}
      },
      "source": [
        "'''\n",
        "            5\n",
        "        3       7\n",
        "    1               13\n",
        "0                10     65\n",
        "'''\n",
        "\n",
        "#Inorder traversal for this tree : [0, 1, 3, 5, 7, 10, 13, 65]\n",
        "#Preorder Traversal for this tree : [5, 3, 1, 0, 7, 13, 10, 65]\n",
        "#Postorder Traversal for this tree : [0, 1, 3, 10, 65, 13, 7, 5]"
      ],
      "execution_count": null,
      "outputs": []
    },
    {
      "cell_type": "code",
      "metadata": {
        "id": "mvFoK7X8Iuy1",
        "colab_type": "code",
        "colab": {
          "base_uri": "https://localhost:8080/",
          "height": 35
        },
        "outputId": "5167fbc8-4374-462c-f3a6-33b8de9be201"
      },
      "source": [
        "#Postorder traversal\n",
        "def postorder(root,queue=[],res=[]):\n",
        "  if root.left:\n",
        "    postorder(root.left)\n",
        "\n",
        "  if root.right:\n",
        "    postorder(root.right)\n",
        "  queue.append(root.data)\n",
        "\n",
        "  return queue\n",
        "\n",
        "postorder(my_bst.root)\n",
        "#[0, 1, 3, 10, 65, 13, 7, 5]"
      ],
      "execution_count": null,
      "outputs": [
        {
          "output_type": "execute_result",
          "data": {
            "text/plain": [
              "[0, 1, 3, 10, 65, 13, 7, 5]"
            ]
          },
          "metadata": {
            "tags": []
          },
          "execution_count": 65
        }
      ]
    },
    {
      "cell_type": "code",
      "metadata": {
        "id": "vQKcwe4CGVrZ",
        "colab_type": "code",
        "colab": {
          "base_uri": "https://localhost:8080/",
          "height": 35
        },
        "outputId": "c2669f4b-d788-45a3-eec7-b2afc4591965"
      },
      "source": [
        "#Inorder traversal\n",
        "def inorder(root,queue=[]):\n",
        "  if root.left:\n",
        "    inorder(root.left,queue)\n",
        "  queue.append(root.data)\n",
        "  if root.right:\n",
        "    inorder(root.right,queue)\n",
        "  return queue\n",
        "\n",
        "\n",
        "inorder(my_bst.root)\n",
        "#[0, 1, 3, 5, 7, 10, 13, 65]"
      ],
      "execution_count": null,
      "outputs": [
        {
          "output_type": "execute_result",
          "data": {
            "text/plain": [
              "[0, 1, 3, 5, 7, 10, 13, 65]"
            ]
          },
          "metadata": {
            "tags": []
          },
          "execution_count": 66
        }
      ]
    },
    {
      "cell_type": "code",
      "metadata": {
        "id": "XnC_fn5FqLwh",
        "colab_type": "code",
        "colab": {
          "base_uri": "https://localhost:8080/",
          "height": 35
        },
        "outputId": "8899b6b4-9d79-4874-c4c7-50cc1d6183a2"
      },
      "source": [
        "#Preorder Traversal for this tree \n",
        "\n",
        "def preorder(root,res=[]):\n",
        "\n",
        "  #print(root.data,end=\" \")\n",
        "  res.append(root.data)\n",
        "  if root.left:\n",
        "    preorder(root.left,res)\n",
        "  if root.right:\n",
        "    preorder(root.right,res)\n",
        "  return res\n",
        "\n",
        "\n",
        "preorder(my_bst.root)"
      ],
      "execution_count": null,
      "outputs": [
        {
          "output_type": "execute_result",
          "data": {
            "text/plain": [
              "[5, 3, 1, 0, 7, 13, 10, 65]"
            ]
          },
          "metadata": {
            "tags": []
          },
          "execution_count": 40
        }
      ]
    },
    {
      "cell_type": "markdown",
      "metadata": {
        "id": "OYAdOX0Z1zGy",
        "colab_type": "text"
      },
      "source": [
        "# Sorting"
      ]
    },
    {
      "cell_type": "code",
      "metadata": {
        "id": "Nc5SL9_WAI5A",
        "colab_type": "code",
        "colab": {}
      },
      "source": [
        "# Insersion sort --> only few items and list is mostly sorted\n",
        "# Bubble sort,selection sort --> education purpose\n",
        "# mergesort --> always O(n log n), space complexity of O(n)\n",
        "# quick sort --> due to pivoting worst case scenario is bad O(n^2)\n",
        "# heap sort --> therotically fast but practically slow\n",
        "\n",
        "# if no. in particular range use radix sort, counting sort\n",
        "\n",
        "//#1 - Sort 10 schools around your house by distance:\n",
        "insertion sort\n",
        "\n",
        "//#2 - eBay sorts listings by the current Bid amount:\n",
        "radix or counting sort\n",
        "\n",
        "//#3 - Sort scores on ESPN\n",
        "Quick sort\n",
        "\n",
        "//#4 - Massive database (can't fit all into memory) needs to sort through past year's user data\n",
        "Merge Sort\n",
        "\n",
        "//#5 - Almost sorted Udemy review data needs to update and add 2 new reviews\n",
        "Insertion Sort\n",
        "\n",
        "//#6 - Temperature Records for the past 50 years in Canada\n",
        "radix or counting Sort\n",
        "Quick sort if decimal places\n",
        "\n",
        "//#7 - Large user name database needs to be sorted. Data is very random.\n",
        "Quick sort\n",
        "\n",
        "//#8 - You want to teach sorting\n",
        "Bubble sort"
      ],
      "execution_count": null,
      "outputs": []
    },
    {
      "cell_type": "code",
      "metadata": {
        "id": "UqHN6E035UQk",
        "colab_type": "code",
        "colab": {
          "base_uri": "https://localhost:8080/",
          "height": 306
        },
        "outputId": "16663918-55e1-47c3-99e4-7bfe09bfdd8d"
      },
      "source": [
        "#need to complete\n",
        "#Merge Sort uses the Divide and Conquer approach. It involves breaking up the array from the middle until\n",
        "#Arrays of only 1 elements remain and thein merging them back up in a sorted order.\n",
        "#Time complexity is O(nlog N) and space complexity is O(n)\n",
        "\n",
        "#[5,9,3,10,45,2,0,1]\n",
        "\n",
        "# split list by left and right. divide list by 2 -- 4 /4\n",
        "# repeat until 1/1\n",
        "# if left is greater than right --- swap\n",
        "\n",
        "\n",
        "def split_list(list1):\n",
        "  \n",
        "  left_list = list1[:len(list1)//2]\n",
        "  #print(\"left \",left_list)\n",
        "\n",
        "  right_list = list1[len(list1)//2:]\n",
        "  #print(\"right\",right_list)\n",
        "\n",
        "  if len(right_list)==1:\n",
        "    if len(left_list) is 1:\n",
        "      print(\"yes\")\n",
        "      #print(left_list[-1],\"is greater than\",right_list[-1])\n",
        "      if left_list[-1] > right_list[-1]:\n",
        "        left_list[-1],right_list[-1] = right_list[-1],left_list[-1]\n",
        "        print(\"yes, swapped\",left_list,right_list, )\n",
        "      \n",
        "    return left_list + right_list\n",
        " \n",
        "  return [None]+split_list(left_list)+split_list(right_list)+[None]\n",
        "\n",
        "def sort(l):\n",
        "  if l != []:\n",
        "    return sorted(l)+[None]\n",
        "\n",
        "def merge_sort(list1):\n",
        "  split_l = split_list(list1)\n",
        "\n",
        "  print(split_l,len(split_l))\n",
        "  res = []\n",
        "  count = 0\n",
        "  \n",
        "  for idx,val in enumerate(split_l):\n",
        "    if val is None :\n",
        "      print(sort(res))\n",
        "      #res=[]\n",
        "    else:\n",
        "      res.append(val)\n",
        "    \n",
        "\n",
        "\n",
        "\n",
        "list1 = [1,5,9,3,46,45,2,4,3]\n",
        "merge_sort(list1)"
      ],
      "execution_count": null,
      "outputs": [
        {
          "output_type": "stream",
          "text": [
            "yes\n",
            "yes\n",
            "yes, swapped [3] [9]\n",
            "yes\n",
            "yes, swapped [45] [46]\n",
            "yes\n",
            "yes, swapped [3] [4]\n",
            "[None, None, 1, 5, 3, 9, None, None, 45, 46, None, 2, 3, 4, None, None, None] 17\n",
            "None\n",
            "None\n",
            "[1, 3, 5, 9, None]\n",
            "[1, 3, 5, 9, None]\n",
            "[1, 3, 5, 9, 45, 46, None]\n",
            "[1, 2, 3, 3, 4, 5, 9, 45, 46, None]\n",
            "[1, 2, 3, 3, 4, 5, 9, 45, 46, None]\n",
            "[1, 2, 3, 3, 4, 5, 9, 45, 46, None]\n"
          ],
          "name": "stdout"
        }
      ]
    },
    {
      "cell_type": "code",
      "metadata": {
        "id": "h95dy5BCLWeE",
        "colab_type": "code",
        "colab": {
          "base_uri": "https://localhost:8080/",
          "height": 187
        },
        "outputId": "563998be-e5b6-4522-d605-14753aa14c44"
      },
      "source": [
        "a = [1, 5, 3, 9, None, 10, 45, 2, 3, 4, None, None, None]\n",
        "a."
      ],
      "execution_count": null,
      "outputs": [
        {
          "output_type": "error",
          "ename": "AttributeError",
          "evalue": "ignored",
          "traceback": [
            "\u001b[0;31m---------------------------------------------------------------------------\u001b[0m",
            "\u001b[0;31mAttributeError\u001b[0m                            Traceback (most recent call last)",
            "\u001b[0;32m<ipython-input-18-08361ffea11a>\u001b[0m in \u001b[0;36m<module>\u001b[0;34m()\u001b[0m\n\u001b[1;32m      1\u001b[0m \u001b[0ma\u001b[0m \u001b[0;34m=\u001b[0m \u001b[0;34m[\u001b[0m\u001b[0;36m1\u001b[0m\u001b[0;34m,\u001b[0m \u001b[0;36m5\u001b[0m\u001b[0;34m,\u001b[0m \u001b[0;36m3\u001b[0m\u001b[0;34m,\u001b[0m \u001b[0;36m9\u001b[0m\u001b[0;34m,\u001b[0m \u001b[0;32mNone\u001b[0m\u001b[0;34m,\u001b[0m \u001b[0;36m10\u001b[0m\u001b[0;34m,\u001b[0m \u001b[0;36m45\u001b[0m\u001b[0;34m,\u001b[0m \u001b[0;36m2\u001b[0m\u001b[0;34m,\u001b[0m \u001b[0;36m3\u001b[0m\u001b[0;34m,\u001b[0m \u001b[0;36m4\u001b[0m\u001b[0;34m,\u001b[0m \u001b[0;32mNone\u001b[0m\u001b[0;34m,\u001b[0m \u001b[0;32mNone\u001b[0m\u001b[0;34m,\u001b[0m \u001b[0;32mNone\u001b[0m\u001b[0;34m]\u001b[0m\u001b[0;34m\u001b[0m\u001b[0;34m\u001b[0m\u001b[0m\n\u001b[0;32m----> 2\u001b[0;31m \u001b[0ma\u001b[0m\u001b[0;34m.\u001b[0m\u001b[0msplit\u001b[0m\u001b[0;34m(\u001b[0m\u001b[0;34m)\u001b[0m\u001b[0;34m\u001b[0m\u001b[0;34m\u001b[0m\u001b[0m\n\u001b[0m",
            "\u001b[0;31mAttributeError\u001b[0m: 'list' object has no attribute 'split'"
          ]
        }
      ]
    },
    {
      "cell_type": "code",
      "metadata": {
        "id": "7J1eyCNNNshM",
        "colab_type": "code",
        "colab": {
          "base_uri": "https://localhost:8080/",
          "height": 396
        },
        "outputId": "0694667c-2ff0-48f3-c35a-89a20e97da38"
      },
      "source": [
        "#insersion sort\n",
        "#Time complexity is O(n^2) in worst case\n",
        "\n",
        "#select first index --- update soted index as 1\n",
        "#go to next sorted index --- \n",
        "#check every prev index. \n",
        "## if the val less than prev idx val. idx-- id greater -- insert in idx+1\n",
        "#check lowest index == sorted index. else insert the the no. to that position \n",
        "\n",
        "#[5,0,9,3,10,45,2]\n",
        "def insersion_sort(list1):\n",
        "  sorted_index = 0\n",
        "\n",
        "  for idx in range(len(list1)):\n",
        "    prev_index = sorted_index-1\n",
        "    while prev_index >= 0:\n",
        "      #print(list1[idx],\"less than prev_index:\",list1[prev_index])\n",
        "      if list1[idx] < list1[prev_index] and prev_index >= -1:\n",
        "        #print(\"yes\")\n",
        "        #print(list1[idx],\"greater than or equal to prev_index:\",list1[prev_index])\n",
        "        if list1[idx] >= list1[prev_index-1] or prev_index-1 == -1:\n",
        "          print(\"inserting\", list1[idx],\"in sorted pos\",prev_index)\n",
        "          list1.insert(prev_index,list1.pop(idx))\n",
        "          print(list1)\n",
        "      \n",
        "      prev_index -= 1\n",
        "    \n",
        "    sorted_index += 1\n",
        "    print(\"{} out of {} sorted\".format(sorted_index,len(list1)))\n",
        "  return list1\n",
        "        \n",
        "list1 = [6,0,8,9,0,5,9,0,15,1]\n",
        "insersion_sort(list1)"
      ],
      "execution_count": null,
      "outputs": [
        {
          "output_type": "stream",
          "text": [
            "1 out of 10 sorted\n",
            "inserting 0 in sorted pos 0\n",
            "[0, 6, 8, 9, 0, 5, 9, 0, 15, 1]\n",
            "2 out of 10 sorted\n",
            "3 out of 10 sorted\n",
            "4 out of 10 sorted\n",
            "inserting 0 in sorted pos 1\n",
            "[0, 0, 6, 8, 9, 5, 9, 0, 15, 1]\n",
            "5 out of 10 sorted\n",
            "inserting 5 in sorted pos 2\n",
            "[0, 0, 5, 6, 8, 9, 9, 0, 15, 1]\n",
            "6 out of 10 sorted\n",
            "7 out of 10 sorted\n",
            "inserting 0 in sorted pos 2\n",
            "[0, 0, 0, 5, 6, 8, 9, 9, 15, 1]\n",
            "8 out of 10 sorted\n",
            "9 out of 10 sorted\n",
            "inserting 1 in sorted pos 3\n",
            "[0, 0, 0, 1, 5, 6, 8, 9, 9, 15]\n",
            "10 out of 10 sorted\n"
          ],
          "name": "stdout"
        },
        {
          "output_type": "execute_result",
          "data": {
            "text/plain": [
              "[0, 0, 0, 1, 5, 6, 8, 9, 9, 15]"
            ]
          },
          "metadata": {
            "tags": []
          },
          "execution_count": 51
        }
      ]
    },
    {
      "cell_type": "code",
      "metadata": {
        "id": "A4IKlcpo05eW",
        "colab_type": "code",
        "colab": {
          "base_uri": "https://localhost:8080/",
          "height": 216
        },
        "outputId": "28216cef-2d7a-4088-8377-94111cff8814"
      },
      "source": [
        "#Selection sort\n",
        "#Selection sort involves finding the minimum element in one pass through the array\n",
        "#and then swapping it with the first position of the unsorted part of the array.\n",
        "#Time complexity of selection sort is O(n^2) in all cases\n",
        "\n",
        "def selection_sort(list1):\n",
        "  #intializing the selection\n",
        "  selection = [None]\n",
        "  for i in range(len(list1)):\n",
        "    #storing the index of selection\n",
        "    selection[0] = i\n",
        "    \n",
        "    for j in range(i,len(list1)):\n",
        "      #looking for smallest value than selection \n",
        "      if list1[selection[0]] > list1[j]:\n",
        "        selection[0] = j\n",
        "    #if smallest value is not selection\n",
        "    if selection[0] != i:\n",
        "      print(\"replacing\",list1[i],list1[selection[0]])\n",
        "      #swapping position\n",
        "      list1[i],list1[selection[0]] = list1[selection[0]],list1[i]\n",
        "      print(list1)\n",
        "\n",
        "  return list1\n",
        "\n",
        "\n",
        "\n",
        "list1 = [0,5,9,3,10,45,2]\n",
        "selection_sort(list1)"
      ],
      "execution_count": null,
      "outputs": [
        {
          "output_type": "stream",
          "text": [
            "replacing 5 2\n",
            "[0, 2, 9, 3, 10, 45, 5]\n",
            "replacing 9 3\n",
            "[0, 2, 3, 9, 10, 45, 5]\n",
            "replacing 9 5\n",
            "[0, 2, 3, 5, 10, 45, 9]\n",
            "replacing 10 9\n",
            "[0, 2, 3, 5, 9, 45, 10]\n",
            "replacing 45 10\n",
            "[0, 2, 3, 5, 9, 10, 45]\n"
          ],
          "name": "stdout"
        },
        {
          "output_type": "execute_result",
          "data": {
            "text/plain": [
              "[0, 2, 3, 5, 9, 10, 45]"
            ]
          },
          "metadata": {
            "tags": []
          },
          "execution_count": 49
        }
      ]
    },
    {
      "cell_type": "code",
      "metadata": {
        "id": "IXbKsAk81ydO",
        "colab_type": "code",
        "colab": {
          "base_uri": "https://localhost:8080/",
          "height": 53
        },
        "outputId": "51fa27a9-d140-43d9-a6a1-aba96c4af31f"
      },
      "source": [
        "# Bubble sort\n",
        "#Every two adjacent items are compared and they are swapped if they are in the wrong order.\n",
        "#This way, after every pass, the largest element reaches to the end of the array.\n",
        "#Time complexity of Bubble Sort in Worst and Average Case is O(n^2) and in best case, its O(n)\n",
        "\n",
        "def bubble_sort(List):\n",
        "  swap = 0\n",
        "  for i in range(len(List)):\n",
        "    for j in range(len(List)):\n",
        "      if List[j]>List[i]:\n",
        "        List[i],List[j] = List[j],List[i]\n",
        "        swap += 1\n",
        "  print(\"swap:\",swap)\n",
        "  return (List)\n",
        "\n",
        "\n",
        "\n",
        "List = [0,78,2,4,2,14,32,21,2,45,0]\n",
        "list1 = [5,9,3,10,45,2,0]\n",
        "bubble_sort(list1)"
      ],
      "execution_count": null,
      "outputs": [
        {
          "output_type": "stream",
          "text": [
            "swap: 19\n"
          ],
          "name": "stdout"
        },
        {
          "output_type": "execute_result",
          "data": {
            "text/plain": [
              "[0, 2, 3, 5, 9, 10, 45]"
            ]
          },
          "metadata": {
            "tags": []
          },
          "execution_count": 57
        }
      ]
    },
    {
      "cell_type": "markdown",
      "metadata": {
        "id": "SIOqD47OoMHj",
        "colab_type": "text"
      },
      "source": [
        "Recursion"
      ]
    },
    {
      "cell_type": "code",
      "metadata": {
        "id": "3AxiSajexPeT",
        "colab_type": "code",
        "colab": {
          "base_uri": "https://localhost:8080/",
          "height": 35
        },
        "outputId": "125fede8-fd88-4496-e5d7-12ac68611e2b"
      },
      "source": [
        "#reverse string\n",
        "\n",
        "def reverse(sentence):\n",
        "  if len(sentence) == 0:\n",
        "    return None\n",
        "  print(sentence.pop(),end=\"\")\n",
        "  return reverse(sentence)\n",
        "\n",
        "\n",
        "sentence = list(\"reverse string\")\n",
        "reverse(sentence)"
      ],
      "execution_count": null,
      "outputs": [
        {
          "output_type": "stream",
          "text": [
            "gnirts esrever"
          ],
          "name": "stdout"
        }
      ]
    },
    {
      "cell_type": "code",
      "metadata": {
        "id": "ncyU8dbfrceh",
        "colab_type": "code",
        "colab": {
          "base_uri": "https://localhost:8080/",
          "height": 35
        },
        "outputId": "4c106721-fb37-47a3-c86c-943e6354a653"
      },
      "source": [
        "#Fibonacci Sequence - 0 1 1 2 3 5 8 13 21 34 55 89 144 . . . .\n",
        "#For example, fibonacci(5) should return 5 as the 5th index (staring from 0) of the fibonacci sequence is the number 5\n",
        "\n",
        "# 2 base cases --> 0 and 1\n",
        "counter = 0\n",
        "\n",
        "def fibonacci(n):\n",
        "  if n == 0:\n",
        "    return 0\n",
        "  if n == 1:\n",
        "    return 1\n",
        "  return fibonacci(n-1) + fibonacci(n-2)\n",
        "  \n",
        "\n",
        "\n",
        "fibonacci(6)"
      ],
      "execution_count": null,
      "outputs": [
        {
          "output_type": "execute_result",
          "data": {
            "text/plain": [
              "8"
            ]
          },
          "metadata": {
            "tags": []
          },
          "execution_count": 35
        }
      ]
    },
    {
      "cell_type": "code",
      "metadata": {
        "id": "tF54sQn7oLwv",
        "colab_type": "code",
        "colab": {
          "base_uri": "https://localhost:8080/",
          "height": 35
        },
        "outputId": "bfa3d9f3-1b8d-412f-a86c-247291070dd4"
      },
      "source": [
        "# identify end condition\n",
        "# have return statement\n",
        "\n",
        "#factorial\n",
        "\n",
        "\n",
        "def factorial(n):\n",
        "\n",
        "  if n == 1:\n",
        "    return 1\n",
        "  #print(n)\n",
        "  return n * factorial(n-1)\n",
        "\n",
        "print(\"The factorial is:\",factorial(50))"
      ],
      "execution_count": null,
      "outputs": [
        {
          "output_type": "stream",
          "text": [
            "The factorial is: 30414093201713378043612608166064768844377641568960512000000000000\n"
          ],
          "name": "stdout"
        }
      ]
    },
    {
      "cell_type": "code",
      "metadata": {
        "id": "_ptYKORH8DXJ",
        "colab_type": "code",
        "colab": {
          "base_uri": "https://localhost:8080/",
          "height": 161
        },
        "outputId": "740be6e2-3e26-40e0-d6c7-62750f1aa885"
      },
      "source": [
        "#closure\n",
        "  \n",
        "def logger(func): \n",
        "    def log_func(*args): \n",
        "        print('Running \"{}\" with arguments {}'.format(func.__name__, args)) \n",
        "        print(func(*args)) \n",
        "    # Necessary for closure to work (returning WITHOUT parenthesis) \n",
        "    return log_func               \n",
        "  \n",
        "def add(x, y): \n",
        "    return x+y \n",
        "  \n",
        "def sub(x, y): \n",
        "    return x-y \n",
        "  \n",
        "add_logger = logger(add) \n",
        "sub_logger = logger(sub) \n",
        "  \n",
        "add_logger(3, 3) \n",
        "add_logger(4, 5) \n",
        "  \n",
        "sub_logger(10, 5) \n",
        "sub_logger(20, 10) "
      ],
      "execution_count": null,
      "outputs": [
        {
          "output_type": "stream",
          "text": [
            "Running \"add\" with arguments (3, 3)\n",
            "6\n",
            "Running \"add\" with arguments (4, 5)\n",
            "9\n",
            "Running \"sub\" with arguments (10, 5)\n",
            "5\n",
            "Running \"sub\" with arguments (20, 10)\n",
            "10\n"
          ],
          "name": "stdout"
        }
      ]
    },
    {
      "cell_type": "markdown",
      "metadata": {
        "id": "dDAOPBAkpsVJ",
        "colab_type": "text"
      },
      "source": [
        "# Tree"
      ]
    },
    {
      "cell_type": "code",
      "metadata": {
        "id": "Q_zq3KYKpr-G",
        "colab_type": "code",
        "colab": {
          "base_uri": "https://localhost:8080/",
          "height": 161
        },
        "outputId": "e334b42d-28ac-4562-9100-c216bef9c0c3"
      },
      "source": [
        "#Binary Search Trees are a non-linear data structure.\n",
        "\n",
        "class node():\n",
        "  def __init__(self,data):\n",
        "    self.data = data\n",
        "    self.left = None\n",
        "    self.right = None\n",
        "\n",
        "class bst():\n",
        "  def __init__(self):\n",
        "    self.root = None\n",
        "    self.level = 0\n",
        "    \n",
        "  def insert(self,data):\n",
        "    if self.root is None:\n",
        "      self.root = node(data)\n",
        "      print(\"root:\",data)\n",
        "      self.level += 1\n",
        "    else:\n",
        "      currentnode = self.root\n",
        "      while currentnode:\n",
        "        \n",
        "        if data<currentnode.data:\n",
        "          if currentnode.left is None:\n",
        "            currentnode.left = node(data)\n",
        "            print(\"inserting\", data,\"to left of\",currentnode.data)\n",
        "            \"\"\"\n",
        "            #incrementing level\n",
        "            if currentnode.right is None:\n",
        "              self.level += 1\n",
        "              print(\"Level: \",self.level)\n",
        "            \"\"\"\n",
        "            return\n",
        "\n",
        "          else:\n",
        "            currentnode = currentnode.left\n",
        "            \n",
        "        elif data>=currentnode.data:\n",
        "          if currentnode.right is None:\n",
        "            currentnode.right = node(data)\n",
        "            print(\"inserting\", data,\"to right of\",currentnode.data)\n",
        "            \"\"\"\n",
        "            if currentnode.right is None:\n",
        "              self.level += 1\n",
        "              print(\"Level: \",self.level)\n",
        "            \"\"\"\n",
        "            return\n",
        "          else:\n",
        "            currentnode = currentnode.right\n",
        "            \n",
        "  #search\n",
        "  #remove\n",
        "  \n",
        "if __name__ == '__main__':\n",
        "  b = bst()\n",
        "  b.insert(5)\n",
        "  b.insert(2)\n",
        "  b.insert(6)\n",
        "  b.insert(5)\n",
        "  b.insert(7)\n",
        "  b.insert(6)\n",
        "  b.insert(8)\n",
        "  b.insert(1)\n"
      ],
      "execution_count": null,
      "outputs": [
        {
          "output_type": "stream",
          "text": [
            "root: 5\n",
            "inserting 2 to left of 5\n",
            "inserting 6 to right of 5\n",
            "inserting 5 to left of 6\n",
            "inserting 7 to right of 6\n",
            "inserting 6 to left of 7\n",
            "inserting 8 to right of 7\n",
            "inserting 1 to left of 2\n"
          ],
          "name": "stdout"
        }
      ]
    },
    {
      "cell_type": "code",
      "metadata": {
        "id": "yMjmTYwwzAGw",
        "colab_type": "code",
        "colab": {
          "base_uri": "https://localhost:8080/",
          "height": 35
        },
        "outputId": "da9c38dc-a8a0-4725-f584-39154476b611"
      },
      "source": [
        "#heapq tree --- insert,delete O(log n), lookup O(n)\n",
        "\n",
        "import heapq\n",
        "\n",
        "li = [10,5,3,9, 1, 3]\n",
        "heapq.heapify(li)\n",
        "\n",
        "print(list(li))\n"
      ],
      "execution_count": null,
      "outputs": [
        {
          "output_type": "stream",
          "text": [
            "[1, 5, 3, 9, 10, 3]\n"
          ],
          "name": "stdout"
        }
      ]
    },
    {
      "cell_type": "code",
      "metadata": {
        "id": "IY_OrrT35zzC",
        "colab_type": "code",
        "colab": {
          "base_uri": "https://localhost:8080/",
          "height": 35
        },
        "outputId": "c98791ed-3cda-4468-f4e7-652fa9a206df"
      },
      "source": [
        "heapq.heappush(li, 4)\n",
        "print(list(li))"
      ],
      "execution_count": null,
      "outputs": [
        {
          "output_type": "stream",
          "text": [
            "[1, 5, 3, 9, 10, 3, 4]\n"
          ],
          "name": "stdout"
        }
      ]
    },
    {
      "cell_type": "code",
      "metadata": {
        "id": "ne2ds5bC6Ebh",
        "colab_type": "code",
        "colab": {
          "base_uri": "https://localhost:8080/",
          "height": 53
        },
        "outputId": "ed5a1104-06a4-4cc9-c00a-76915d178fe9"
      },
      "source": [
        "#pops smallest element\n",
        "print(heapq.heappop(li))\n",
        "print(list(li))\n"
      ],
      "execution_count": null,
      "outputs": [
        {
          "output_type": "stream",
          "text": [
            "3\n",
            "[4, 5, 10, 9]\n"
          ],
          "name": "stdout"
        }
      ]
    },
    {
      "cell_type": "code",
      "metadata": {
        "id": "4zNma2Qx6LQX",
        "colab_type": "code",
        "colab": {
          "base_uri": "https://localhost:8080/",
          "height": 53
        },
        "outputId": "3d89b65c-e01e-4e32-c89d-abecb1339f48"
      },
      "source": [
        "li = [10,5,3,9, 3]\n",
        "heapq.heapify(li)\n",
        "print(heapq.heappushpop(li, 2))\n",
        "print(list(li))"
      ],
      "execution_count": null,
      "outputs": [
        {
          "output_type": "stream",
          "text": [
            "2\n",
            "[3, 3, 10, 9, 5]\n"
          ],
          "name": "stdout"
        }
      ]
    },
    {
      "cell_type": "code",
      "metadata": {
        "id": "98cM_4f-7FyR",
        "colab_type": "code",
        "colab": {
          "base_uri": "https://localhost:8080/",
          "height": 53
        },
        "outputId": "bf7be980-b58b-433e-eea8-6ef44e3a8561"
      },
      "source": [
        "li = [10,5,3,9, 3]\n",
        "heapq.heapify(li)\n",
        "print(heapq.heapreplace(li, 2))\n",
        "print(list(li))"
      ],
      "execution_count": null,
      "outputs": [
        {
          "output_type": "stream",
          "text": [
            "3\n",
            "[2, 3, 10, 9, 5]\n"
          ],
          "name": "stdout"
        }
      ]
    },
    {
      "cell_type": "markdown",
      "metadata": {
        "id": "rWaIB5llDSpC",
        "colab_type": "text"
      },
      "source": [
        "#Queue"
      ]
    },
    {
      "cell_type": "code",
      "metadata": {
        "id": "eEKTqBcNDSJp",
        "colab_type": "code",
        "colab": {}
      },
      "source": [
        "#linkedlist implementation"
      ],
      "execution_count": null,
      "outputs": []
    },
    {
      "cell_type": "code",
      "metadata": {
        "id": "eOHx1CkFpc_j",
        "colab_type": "code",
        "colab": {}
      },
      "source": [
        "#implement queue using stack"
      ],
      "execution_count": null,
      "outputs": []
    },
    {
      "cell_type": "markdown",
      "metadata": {
        "id": "_V0CLp8fvaBb",
        "colab_type": "text"
      },
      "source": [
        "# Stack"
      ]
    },
    {
      "cell_type": "code",
      "metadata": {
        "id": "K_JWFtCCvc_7",
        "colab_type": "code",
        "colab": {
          "base_uri": "https://localhost:8080/",
          "height": 143
        },
        "outputId": "e30dd2c0-4151-448e-b2b8-ca2b903e72f0"
      },
      "source": [
        "# array implementation\n",
        "\n",
        "class stack():\n",
        "  def __init__(self):\n",
        "    self.array = []\n",
        "    \n",
        "\n",
        "  def push(self,data):\n",
        "    self.array.append(data)\n",
        "\n",
        "  def peek(self):\n",
        "    return self.array[-1]\n",
        "  \n",
        "  def pop(self):\n",
        "    if len(self.array)>0:\n",
        "      return self.array.pop()\n",
        "    else:\n",
        "      return \"No elements in stack\"\n",
        "\n",
        "  \n",
        "  def printstack(self):\n",
        "    #for element in self.array[::-1]:\n",
        "    for element in range(len(self.array)-1,-1,-1):\n",
        "      print(self.array[element])\n",
        "\n",
        "if __name__ == \"__main__\":\n",
        "  s =stack()\n",
        "  s.push(3)\n",
        "  s.push(\"hi\")\n",
        "  s.push(\"hello\")\n",
        "  s.printstack()\n",
        "  print(\"Peek:\",s.peek())\n",
        "  print(\"pop:\",s.pop())\n",
        "  \n",
        "  s.printstack()"
      ],
      "execution_count": null,
      "outputs": [
        {
          "output_type": "stream",
          "text": [
            "hello\n",
            "hi\n",
            "3\n",
            "Peek: hello\n",
            "pop: hello\n",
            "hi\n",
            "3\n"
          ],
          "name": "stdout"
        }
      ]
    },
    {
      "cell_type": "code",
      "metadata": {
        "id": "DORBR_tl8NKg",
        "colab_type": "code",
        "colab": {
          "base_uri": "https://localhost:8080/",
          "height": 179
        },
        "outputId": "7671c136-9d7a-403f-dec0-028e7050d752"
      },
      "source": [
        "#linked list implementation\n",
        "\n",
        "class node():\n",
        "  def __init__(self,data):\n",
        "    self.data = data\n",
        "    self.next = None\n",
        "\n",
        "class stack():\n",
        "  def __init__(self):\n",
        "    self.head = None\n",
        "    self.length = 0\n",
        "  \n",
        "  def push(self,data):\n",
        "    newnode = node(data)\n",
        "    if self.head is None:\n",
        "      self.head = newnode\n",
        "      self.length += 1\n",
        "    else:\n",
        "      newnode.next = self.head\n",
        "      self.head = newnode\n",
        "      self.length += 1\n",
        "\n",
        "  def peek(self):\n",
        "    return self.head.data\n",
        "\n",
        "  def pop(self):\n",
        "    currentnode = self.head\n",
        "    if currentnode is not None:\n",
        "      self.head = currentnode.next\n",
        "      self.length -= 1\n",
        "      return currentnode.data\n",
        "    else:\n",
        "      return None\n",
        "  \n",
        "  def printstack(self):\n",
        "    currentnode = self.head\n",
        "    while currentnode:\n",
        "      print(currentnode.data,end = \" \")\n",
        "      currentnode = currentnode.next\n",
        "    print(\"\\n\")\n",
        "\n",
        "if __name__ == \"__main__\":\n",
        "  s =stack()\n",
        "  \n",
        "  s.push(3)\n",
        "  print(\"pop:\",s.pop())\n",
        "  s.printstack()\n",
        "  s.push(\"hi\")\n",
        "  s.push(\"hello\")\n",
        "  s.printstack()\n",
        "  print(\"Peek:\",s.peek())\n",
        "  print(\"pop:\",s.pop())\n",
        "  \n",
        "  s.printstack()"
      ],
      "execution_count": null,
      "outputs": [
        {
          "output_type": "stream",
          "text": [
            "pop: 3\n",
            "\n",
            "\n",
            "hello hi \n",
            "\n",
            "Peek: hello\n",
            "pop: hello\n",
            "hi \n",
            "\n"
          ],
          "name": "stdout"
        }
      ]
    },
    {
      "cell_type": "markdown",
      "metadata": {
        "id": "d_CT70nrdrM7",
        "colab_type": "text"
      },
      "source": [
        "# Doubly linked list"
      ]
    },
    {
      "cell_type": "code",
      "metadata": {
        "id": "atOCStBEdqHw",
        "colab_type": "code",
        "colab": {
          "base_uri": "https://localhost:8080/",
          "height": 161
        },
        "outputId": "da541868-d6dc-48ff-bbb7-e0cc50ea5725"
      },
      "source": [
        "class node():\n",
        "  def __init__(self,data):\n",
        "    self.data = data\n",
        "    self.next = None\n",
        "    self.prev = None\n",
        "class doublylinkedlist():\n",
        "  def __init__(self):\n",
        "    self.head = None\n",
        "    self.length = 0\n",
        "    self.tail = self.head\n",
        "\n",
        "  def append(self,data):\n",
        "    if self.head is None:\n",
        "      self.head = node(data)\n",
        "      self.tail = self.head\n",
        "      self.length +=1\n",
        "    else:\n",
        "      newnode = node(data)\n",
        "      self.tail.next = newnode\n",
        "      newnode.prev = self.tail\n",
        "      self.length +=1\n",
        "      self.tail = newnode\n",
        "  \n",
        "  def prepend(self,data):\n",
        "    newnode = node(data)\n",
        "    if self.head:\n",
        "      self.head.prev = newnode\n",
        "      newnode.next = self.head\n",
        "      self.head = newnode\n",
        "      self.length +=1\n",
        "    else:\n",
        "      self.append(data)\n",
        "\n",
        "  def insert(self,pos,data):\n",
        "    \n",
        "    \n",
        "    if (0 < pos <= self.length):\n",
        "      if pos >= self.length:\n",
        "        self.append(data)\n",
        "        return\n",
        "\n",
        "      newnode = node(data)\n",
        "      count = 1\n",
        "      currentnode = self.head\n",
        "      \n",
        "      while currentnode:\n",
        "        if pos-1 == count:\n",
        "          tmp = currentnode.next\n",
        "          currentnode.next = newnode\n",
        "          newnode.prev = currentnode\n",
        "          newnode.next = tmp\n",
        "          tmp.prev = newnode\n",
        "          self.length +=1\n",
        "          return\n",
        "        \n",
        "        count +=1\n",
        "        currentnode = currentnode.next\n",
        "\n",
        "    elif pos == 0:\n",
        "        self.prepend(data)\n",
        "        \n",
        "        \n",
        "\n",
        "        \n",
        "\n",
        "  \n",
        "  def printlist(self):\n",
        "    if self.head is not None:\n",
        "      currentnode = self.head\n",
        "      while currentnode:\n",
        "        print(currentnode.data,end =\" \")\n",
        "        currentnode = currentnode.next\n",
        "      print(\"\\n\")\n",
        "      \n",
        "    else:\n",
        "      print(\"No linked list\")\n",
        "\n",
        "  def printreverse(self):\n",
        "    if self.tail is not None:\n",
        "      currentnode = self.tail\n",
        "      while currentnode:\n",
        "        print(currentnode.data,end =\" \")\n",
        "        currentnode = currentnode.prev\n",
        "      \n",
        "    else:\n",
        "      print(\"No linked list\")\n",
        "\n",
        "\n",
        "if __name__ == '__main__':\n",
        "  dl = doublylinkedlist()\n",
        "  dl.printlist()\n",
        "  dl.prepend(0)\n",
        "  dl.append(1)\n",
        "  dl.append(2)\n",
        "  dl.append(3)\n",
        "  dl.append(3)\n",
        "  dl.prepend(4)\n",
        "  dl.printlist()\n",
        "  dl.insert(2,5)\n",
        "  dl.printlist()\n",
        "  print(\"\\nLength:\",dl.length)\n",
        "  dl.printreverse()\n",
        "\n",
        "    \n"
      ],
      "execution_count": null,
      "outputs": [
        {
          "output_type": "stream",
          "text": [
            "No linked list\n",
            "4 0 1 2 3 3 \n",
            "\n",
            "4 5 0 1 2 3 3 \n",
            "\n",
            "\n",
            "Length: 7\n",
            "3 3 2 1 0 5 4 "
          ],
          "name": "stdout"
        }
      ]
    },
    {
      "cell_type": "markdown",
      "metadata": {
        "id": "7ZVn1JXtYGQ6",
        "colab_type": "text"
      },
      "source": [
        "# Linked List"
      ]
    },
    {
      "cell_type": "code",
      "metadata": {
        "id": "RgDHvTuFYF5z",
        "colab_type": "code",
        "colab": {
          "base_uri": "https://localhost:8080/",
          "height": 179
        },
        "outputId": "322fd6f6-f422-4a76-b3b9-f0a468e57273"
      },
      "source": [
        "#The average time complexity of some operations invloving linked lists are as follows:\n",
        "#Look-up : O(n)\n",
        "#Insert : O(n)\n",
        "#Delete : O(n)\n",
        "#Append : O(1)\n",
        "#Prepend : O(1)\n",
        "\n",
        "class node():\n",
        "  def __init__(self,value):\n",
        "    self.data = value\n",
        "    self.next = None\n",
        "class linkedList():\n",
        "  def __init__(self):\n",
        "    self.head = None\n",
        "    self.tail = self.head\n",
        "    self.length = 0\n",
        "\n",
        "  def append(self,data):\n",
        "    new_node = node(data)\n",
        "    if self.head is None:\n",
        "      self.head = new_node\n",
        "      self.tail = self.head\n",
        "      self.length += 1\n",
        "    else:\n",
        "      self.tail.next =  new_node\n",
        "      self.tail = self.tail.next\n",
        "      self.length += 1\n",
        "\n",
        "  def printLinkedList(self):\n",
        "    if self.head is None:\n",
        "      return \"invalid head\"\n",
        "    current_node = self.head\n",
        "    while current_node != None:\n",
        "      print(current_node.data,end =\" \")\n",
        "      current_node = current_node.next\n",
        "    print(\"\\n\")\n",
        "\n",
        "  def prepend(self,data):\n",
        "    new_node = node(data)\n",
        "    if self.head is None:\n",
        "      self.append(data)\n",
        "    else:\n",
        "      tmp_node = self.head\n",
        "      self.head = new_node\n",
        "      self.head.next = tmp_node\n",
        "      self.length += 1\n",
        "\n",
        "  def insert(self,pos,data):\n",
        "    new_node = node(data)\n",
        "    if pos >= self.length:\n",
        "      print(\"adding to the end\")\n",
        "      self.append(data)\n",
        "    elif pos == 0:\n",
        "      self.prepend(data)\n",
        "    else:\n",
        "      current_node = self.head\n",
        "      for _ in range(pos-1):\n",
        "        current_node = current_node.next\n",
        "      l_node = current_node\n",
        "      t_node = current_node.next\n",
        "      l_node.next = new_node\n",
        "      l_node.next.next = t_node\n",
        "      self.length +=1\n",
        "  \n",
        "  #delete_by_value\n",
        "  def delete_by_value(self,data):\n",
        "    currentnode = self.head\n",
        "    while currentnode:\n",
        "      if currentnode.data == data and currentnode.next:\n",
        "        self.head = currentnode.next\n",
        "        self.length -= 1\n",
        "        return\n",
        "\n",
        "      elif currentnode.next and currentnode.next.data == data:\n",
        "        #next_node = currentnode.next.next_node\n",
        "        currentnode.next = currentnode.next.next\n",
        "        self.length -= 1\n",
        "        return\n",
        "      currentnode = currentnode.next\n",
        "    print(data, \"is not in the linked list or empty\")\n",
        "\n",
        "  #delete by position\n",
        "  def delete_by_pos(self,pos):\n",
        "    currentnode = self.head\n",
        "    if (pos-1)==0:\n",
        "      self.delete_by_value(self.head.data)\n",
        "    elif 0<pos<=self.length and currentnode.next:\n",
        "      count = 1\n",
        "      while currentnode:\n",
        "        if(count == pos-1):\n",
        "          currentnode.next = currentnode.next.next\n",
        "          if pos == self.length and currentnode.data:\n",
        "            self.tail = currentnode\n",
        "          self.length -= 1\n",
        "          return\n",
        "        count += 1\n",
        "        currentnode = currentnode.next\n",
        "    else:\n",
        "      print(\"no such position\")\n",
        "\n",
        "  def reverse(self):\n",
        "\n",
        "    currentnode = self.head\n",
        "    nextnode = currentnode.next\n",
        "    self.tail = currentnode #updating property of tail\n",
        "    \n",
        "    while nextnode:\n",
        "      tmp = nextnode.next\n",
        "\n",
        "      nextnode.next = currentnode\n",
        "      currentnode = nextnode\n",
        "\n",
        "      nextnode = tmp\n",
        "    self.head.next = None\n",
        "    self.head = currentnode\n",
        "    \n",
        "\n",
        "    #none 7 0 1 6 2 \n",
        "    \n",
        "        \n",
        "if __name__ == '__main__':\n",
        "\n",
        "  ll = linkedList()\n",
        "  ll.prepend(0)\n",
        "  ll.append(1)\n",
        "  ll.prepend(7)\n",
        "  ll.append(2)\n",
        "  ll.append(21)\n",
        "\n",
        "  ll.printLinkedList()\n",
        "  ll.insert(3,6)\n",
        "  ll.printLinkedList()\n",
        "  #print(\"Tail of ll:\",ll.tail.data)\n",
        "\n",
        "\n",
        "  #ll.delete_by_value(2)\n",
        "  #ll.printLinkedList()\n",
        "  #print(\"Length of ll:\",ll.length)\n",
        "  #ll.delete_by_pos(6)\n",
        "  ll.printLinkedList()\n",
        "  #print(\"Tail of ll:\",ll.tail.data)\n",
        "\n",
        "  print(\"Reverse list\")\n",
        "  ll.reverse()\n",
        "  ll.printLinkedList()\n",
        "\n",
        "\n",
        "    "
      ],
      "execution_count": null,
      "outputs": [
        {
          "output_type": "stream",
          "text": [
            "7 0 1 2 21 \n",
            "\n",
            "7 0 1 6 2 21 \n",
            "\n",
            "7 0 1 6 2 21 \n",
            "\n",
            "Reverse list\n",
            "21 2 6 1 0 7 \n",
            "\n"
          ],
          "name": "stdout"
        }
      ]
    },
    {
      "cell_type": "markdown",
      "metadata": {
        "id": "Ylz6vRTRFQ2O",
        "colab_type": "text"
      },
      "source": [
        "# Array"
      ]
    },
    {
      "cell_type": "code",
      "metadata": {
        "id": "t7OZngh2UELL",
        "colab_type": "code",
        "colab": {
          "base_uri": "https://localhost:8080/",
          "height": 53
        },
        "outputId": "46e710c6-3c2e-4516-eba7-14831edc4710"
      },
      "source": [
        "#Given an array nums, write a function to move all 0's to the end of it while maintaining the relative order of the non-zero elements.\n",
        "#Example:\n",
        "#Input: [0,1,0,3,12]\n",
        "#Output: [1,3,12,0,0]\n",
        "\n",
        "def moveZeros(arr): # O(n)\n",
        "  count_0 = 0\n",
        "  final_arr = []\n",
        "\n",
        "  for num in arr:\n",
        "    if num == 0:\n",
        "      count_0 += 1\n",
        "    else:\n",
        "      final_arr.append(num)\n",
        "  return final_arr+([0]*count_0)\n",
        "\n",
        "def one_liner_move(array): #O(n log n)\n",
        "    array.sort(key=bool, reverse=True)\n",
        "    return array\n",
        "    \n",
        "\n",
        "print(one_liner_move(array))\n",
        "\n",
        "\n",
        "arr = [0,1,0,15,3,12]\n",
        "moveZeros(arr)\n",
        "one_liner_move(arr)"
      ],
      "execution_count": null,
      "outputs": [
        {
          "output_type": "stream",
          "text": [
            "[1, 2, 3, 1]\n"
          ],
          "name": "stdout"
        },
        {
          "output_type": "execute_result",
          "data": {
            "text/plain": [
              "[1, 15, 3, 12, 0, 0]"
            ]
          },
          "metadata": {
            "tags": []
          },
          "execution_count": 64
        }
      ]
    },
    {
      "cell_type": "code",
      "metadata": {
        "id": "dXgWYKJkRJ80",
        "colab_type": "code",
        "colab": {
          "base_uri": "https://localhost:8080/",
          "height": 35
        },
        "outputId": "6b45d5c3-5817-49f3-a635-fe8319a766a5"
      },
      "source": [
        "#Given two sorted arrays, we need to merge them and create one big sorted array.\n",
        "#For example, array1 = [1,3,5,7], array2 = [2,4,6,8]\n",
        "#The result should be array = [1,2,3,4,5,6,7,8]\n",
        "\n",
        "array1 = [1,3,5,7]\n",
        "array2 = [2,4,6,8]\n",
        "\n",
        "sorted(array1 + array2)"
      ],
      "execution_count": null,
      "outputs": [
        {
          "output_type": "execute_result",
          "data": {
            "text/plain": [
              "[1, 2, 3, 4, 5, 6, 7, 8]"
            ]
          },
          "metadata": {
            "tags": []
          },
          "execution_count": 58
        }
      ]
    },
    {
      "cell_type": "code",
      "metadata": {
        "id": "EhAG7dNdIbPl",
        "colab_type": "code",
        "colab": {
          "base_uri": "https://localhost:8080/",
          "height": 35
        },
        "outputId": "212a2213-fca5-42eb-cd1e-2d4f4536062a"
      },
      "source": [
        " \n",
        "#Find the largest word in a given string\n",
        "#Examples\n",
        "#Input: \"fun&!! time\"\n",
        "#Output: time\n",
        "\n",
        "def longest_word(str):\n",
        "  str = list(str)\n",
        "  tmp_str = \"\"\n",
        "  final_str = []\n",
        "  count_len = 0 \n",
        "  for idx,char in enumerate(str):\n",
        "    if char.isalnum() or char == \" \":\n",
        "      if not (char == \" \" or idx == len(str)-1) :\n",
        "        tmp_str += char\n",
        "        count_len +=1\n",
        "      else:\n",
        "        if not char == \" \":\n",
        "          tmp_str += char\n",
        "          count_len +=1\n",
        "\n",
        "        final_str.append([count_len,tmp_str])\n",
        "        tmp_str = \"\"\n",
        "        count_len = 0\n",
        "  return sorted(final_str)[-1][1]\n",
        "\n",
        "str = \"fun&!! time to all@2111\"\n",
        "longest_word(str)"
      ],
      "execution_count": null,
      "outputs": [
        {
          "output_type": "execute_result",
          "data": {
            "application/vnd.google.colaboratory.intrinsic+json": {
              "type": "string"
            },
            "text/plain": [
              "'all2111'"
            ]
          },
          "metadata": {
            "tags": []
          },
          "execution_count": 53
        }
      ]
    },
    {
      "cell_type": "code",
      "metadata": {
        "id": "RkPyLjWwGqe_",
        "colab_type": "code",
        "colab": {
          "base_uri": "https://localhost:8080/",
          "height": 35
        },
        "outputId": "1c13b109-d1a2-44fb-f4fb-3d5162e8aef8"
      },
      "source": [
        "#Given an array of integers, find if the array contains any duplicates.\n",
        "#Your function should return true if any value appears at least twice in the array, and it should return false if every element is distinct.\n",
        "#Example 1:\n",
        "#Input: [1,2,3,1]\n",
        "#Output: true\n",
        "#Example 2:\n",
        "#Input: [1,2,3,4]\n",
        "#Output: false\n",
        "\n",
        "def duplicate(arr):\n",
        "  hash_table = {}\n",
        "  for number in arr:\n",
        "    if hash_table.get(number) is not None:\n",
        "      return True\n",
        "    hash_table[number] = number\n",
        "  return False\n",
        "\n",
        "\n",
        "\n",
        "array = [1,2,3,1]\n",
        "duplicate(array)"
      ],
      "execution_count": null,
      "outputs": [
        {
          "output_type": "execute_result",
          "data": {
            "text/plain": [
              "True"
            ]
          },
          "metadata": {
            "tags": []
          },
          "execution_count": 19
        }
      ]
    },
    {
      "cell_type": "code",
      "metadata": {
        "id": "6AwAWYfzFPYZ",
        "colab_type": "code",
        "colab": {}
      },
      "source": [
        "array = [5,8,2,9,17,43,25,10]\n",
        "\n",
        "#Look-up\n",
        "first_element = array[0]  #O(1) time\n",
        "sixth_element = array[5]  #O(1) time\n",
        "\n",
        "\n",
        "#Push/Pop\n",
        "array.append(87) #Adds 87 at the end of the array in O(1) time\n",
        "\n",
        "#In some special cases, the append(push) operation may take greater time. This is because as mentioned earlier, Python has dynamic arrays\n",
        "#So when an element is to appended and the array is filled, the entire array has to be copied to a new location\n",
        "#With more space allocated(generally double the space) this time so that more items can be appended.\n",
        "#Therefore, some individual operations may reuire O(n) time or greater, but when averaged over a large number of operations,\n",
        "#The complexity can be safely considered to be O(1)\n",
        "\n",
        "array.pop() #Pops/removes the element at the end of the array in O(1) time.\n",
        "\n",
        "array.insert(0,50) #Inserts 50 at the beginning of the array and shifts all other elements one place towards right. O(n)\n",
        "array.insert(4,0) #inserts '0' at index '4', thus shifting all elements starting from index 4 one place towards right. O(n)\n",
        "\n",
        "print(array)\n",
        "\n",
        "\n",
        "#Delete\n",
        "\n",
        "array.pop(0) #This pops the first element of the array, shifting the remaining elements of the array one place left. O(n)\n",
        "array.remove(17) #This command removes the first occurence of the element 17 in the array, for which it needs to traverse the entire array, which requires O(n) time\n",
        "del array[2:4] #This command deletes elements from position 2 to position 4, again, in O(n) time\n"
      ],
      "execution_count": null,
      "outputs": []
    },
    {
      "cell_type": "markdown",
      "metadata": {
        "id": "F1jTR8FPFKDG",
        "colab_type": "text"
      },
      "source": [
        "# Hash table"
      ]
    },
    {
      "cell_type": "code",
      "metadata": {
        "id": "Bzqehqyr-W4o",
        "colab_type": "code",
        "colab": {
          "base_uri": "https://localhost:8080/",
          "height": 89
        },
        "outputId": "c8fb32da-e535-46b1-a159-29c89759c2f8"
      },
      "source": [
        "#Given a string and a pattern, write a program to find all occurences of the pattern in the string\n",
        "#For example, string = \"THIS IS A TEST TEXT\", pattern = \"TEST\"\n",
        "#Output = Pattern found at index 10\n",
        "#Example 2, string =  \"AABAACAADAABAABA\", pattern =  \"AABA\"\n",
        "#Output: Pattern found at index 0, Pattern found at index 9, Pattern found at index 12\n",
        "\n",
        "def find_pattern(str, pattern):\n",
        "  str = list(str)\n",
        "  pattern = list(pattern)\n",
        "  #print(str, pattern)\n",
        "\n",
        "  for index in range(len(str)):\n",
        "    if index < (len(str) - len(pattern)+1):\n",
        "      if (str[index:][:len(pattern)]) == pattern:\n",
        "        print(\"Pattern found at:\",index) \n",
        "\n",
        "\n",
        "\n",
        "\n",
        "str1 = \"THIS IS A TEST TEXT\"\n",
        "str2 = \"AABAACAADAABAABA\"\n",
        "pattern = \"TEST\"\n",
        "pattern2 = \"AABA\"\n",
        "\n",
        "find_pattern(str2,pattern2)"
      ],
      "execution_count": null,
      "outputs": [
        {
          "output_type": "stream",
          "text": [
            "['A', 'A', 'B', 'A', 'A', 'C', 'A', 'A', 'D', 'A', 'A', 'B', 'A', 'A', 'B', 'A'] ['A', 'A', 'B', 'A']\n",
            "Pattern found at: 0\n",
            "Pattern found at: 9\n",
            "Pattern found at: 12\n"
          ],
          "name": "stdout"
        }
      ]
    },
    {
      "cell_type": "code",
      "metadata": {
        "id": "nTt3RWFCueBs",
        "colab_type": "code",
        "colab": {
          "base_uri": "https://localhost:8080/",
          "height": 35
        },
        "outputId": "1ec70564-6642-4db8-f733-7eb14b8fcd89"
      },
      "source": [
        "a = {\"a\": True, \"b\":False}\n",
        "b = {}\n",
        "a.get(\"a\")\n",
        "b.get(\"a\")\n",
        "a.pop(\"a\")\n",
        "a"
      ],
      "execution_count": null,
      "outputs": [
        {
          "output_type": "execute_result",
          "data": {
            "text/plain": [
              "{'b': False}"
            ]
          },
          "metadata": {
            "tags": []
          },
          "execution_count": 26
        }
      ]
    },
    {
      "cell_type": "code",
      "metadata": {
        "id": "NvKqONy-YLg4",
        "colab_type": "code",
        "colab": {
          "base_uri": "https://localhost:8080/",
          "height": 35
        },
        "outputId": "0f8d7b03-7f12-42b5-b552-5b0b9c5eb00b"
      },
      "source": [
        "#Google Question\n",
        "#Given an array, return the first recurring character\n",
        "#Example1 : array = [2,1,4,2,6,5,1,4]\n",
        "#It should return 2\n",
        "#Example 2 : array = [2,6,4,6,1,3,8,1,2]\n",
        "#It should return 6\n",
        "\n",
        "def firstRecuringNumber(arr):\n",
        "  table = {}\n",
        "  for number in arr:\n",
        "    if table.get(number) is not None:\n",
        "      return number\n",
        "    table[number] = True\n",
        "    #print(table)\n",
        "  return \"No numbers are recuring\"\n",
        "\n",
        "\n",
        "a = [2,1,4,1,3]\n",
        "b = []\n",
        "\n",
        "firstRecuringNumber(a)\n"
      ],
      "execution_count": null,
      "outputs": [
        {
          "output_type": "execute_result",
          "data": {
            "text/plain": [
              "1"
            ]
          },
          "metadata": {
            "tags": []
          },
          "execution_count": 21
        }
      ]
    },
    {
      "cell_type": "markdown",
      "metadata": {
        "id": "lNNywH6CFBp7",
        "colab_type": "text"
      },
      "source": [
        "# Big - O"
      ]
    },
    {
      "cell_type": "markdown",
      "metadata": {
        "id": "UF877AVqZS-x",
        "colab_type": "text"
      },
      "source": [
        "**Big-O complex:**\n",
        "When we go bigger and bigger with the input how much the program slows down.\n",
        "\n",
        "* O(n) ----> Linear time \n",
        "* O(1) or O(log n)----> constant time\n",
        "* O(n^2) ----> Quadratic time\n",
        "\n",
        "These are different asymptotic notations for the analysis of the algorithm. Every time, we can't say the efficiency of the program in terms of minutes and seconds. For such purpose, standard notations called asymptotic notations are used.\n",
        "\n",
        "Big-O is a measure of the longest amount of time it could possibly take for the algorithm to complete.\n",
        "f(n) ≤ cg(n), where f(n) and g(n) are non-negative functions, g(n) is upper bound, then f(n) is Big O of g(n). This is denoted as \"f(n) = O(g(n))\"\n",
        "\n",
        "Big Omega describes the best that can happen for a given data size.\n",
        "\"f(n) ≥ cg(n)\", this makes g(n) a lower bound function\n",
        "\n",
        "Theta is basically saying that the function, f(n) is bounded both from the top and bottom by the same function, g(n).\n",
        "f(n) is theta of g(n) if and only if f(n) = O(g(n)) and f(n) = Ω(g(n))\n",
        "This is denoted as \"f(n) = Θ(g(n))\"\n",
        "\n"
      ]
    },
    {
      "cell_type": "markdown",
      "metadata": {
        "id": "TTjKIVmcYlk5",
        "colab_type": "text"
      },
      "source": [
        "![alt text](https://miro.medium.com/max/2928/1*5ZLci3SuR0zM_QlZOADv8Q.jpeg)"
      ]
    }
  ]
}