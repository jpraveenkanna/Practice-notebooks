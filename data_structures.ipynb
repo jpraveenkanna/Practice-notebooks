{
  "nbformat": 4,
  "nbformat_minor": 0,
  "metadata": {
    "colab": {
      "name": "data_structures.ipynb",
      "provenance": [],
      "toc_visible": true,
      "authorship_tag": "ABX9TyPK85KdSGBDhsoHXbMRTqfO"
    },
    "kernelspec": {
      "name": "python3",
      "display_name": "Python 3"
    }
  },
  "cells": [
    {
      "cell_type": "markdown",
      "metadata": {
        "id": "OYAdOX0Z1zGy",
        "colab_type": "text"
      },
      "source": [
        "# Sorting"
      ]
    },
    {
      "cell_type": "code",
      "metadata": {
        "id": "7J1eyCNNNshM",
        "colab_type": "code",
        "colab": {
          "base_uri": "https://localhost:8080/",
          "height": 396
        },
        "outputId": "0694667c-2ff0-48f3-c35a-89a20e97da38"
      },
      "source": [
        "#insersion sort\n",
        "#Time complexity is O(n^2) in worst case\n",
        "\n",
        "#select first index --- update soted index as 1\n",
        "#go to next sorted index --- \n",
        "#check every prev index. \n",
        "## if the val less than prev idx val. idx-- id greater -- insert in idx+1\n",
        "#check lowest index == sorted index. else insert the the no. to that position \n",
        "\n",
        "#[5,0,9,3,10,45,2]\n",
        "def insersion_sort(list1):\n",
        "  sorted_index = 0\n",
        "\n",
        "  for idx in range(len(list1)):\n",
        "    prev_index = sorted_index-1\n",
        "    while prev_index >= 0:\n",
        "      #print(list1[idx],\"less than prev_index:\",list1[prev_index])\n",
        "      if list1[idx] < list1[prev_index] and prev_index >= -1:\n",
        "        #print(\"yes\")\n",
        "        #print(list1[idx],\"greater than or equal to prev_index:\",list1[prev_index])\n",
        "        if list1[idx] >= list1[prev_index-1] or prev_index-1 == -1:\n",
        "          print(\"inserting\", list1[idx],\"in sorted pos\",prev_index)\n",
        "          list1.insert(prev_index,list1.pop(idx))\n",
        "          print(list1)\n",
        "      \n",
        "      prev_index -= 1\n",
        "    \n",
        "    sorted_index += 1\n",
        "    print(\"{} out of {} sorted\".format(sorted_index,len(list1)))\n",
        "  return list1\n",
        "        \n",
        "list1 = [6,0,8,9,0,5,9,0,15,1]\n",
        "insersion_sort(list1)"
      ],
      "execution_count": 51,
      "outputs": [
        {
          "output_type": "stream",
          "text": [
            "1 out of 10 sorted\n",
            "inserting 0 in sorted pos 0\n",
            "[0, 6, 8, 9, 0, 5, 9, 0, 15, 1]\n",
            "2 out of 10 sorted\n",
            "3 out of 10 sorted\n",
            "4 out of 10 sorted\n",
            "inserting 0 in sorted pos 1\n",
            "[0, 0, 6, 8, 9, 5, 9, 0, 15, 1]\n",
            "5 out of 10 sorted\n",
            "inserting 5 in sorted pos 2\n",
            "[0, 0, 5, 6, 8, 9, 9, 0, 15, 1]\n",
            "6 out of 10 sorted\n",
            "7 out of 10 sorted\n",
            "inserting 0 in sorted pos 2\n",
            "[0, 0, 0, 5, 6, 8, 9, 9, 15, 1]\n",
            "8 out of 10 sorted\n",
            "9 out of 10 sorted\n",
            "inserting 1 in sorted pos 3\n",
            "[0, 0, 0, 1, 5, 6, 8, 9, 9, 15]\n",
            "10 out of 10 sorted\n"
          ],
          "name": "stdout"
        },
        {
          "output_type": "execute_result",
          "data": {
            "text/plain": [
              "[0, 0, 0, 1, 5, 6, 8, 9, 9, 15]"
            ]
          },
          "metadata": {
            "tags": []
          },
          "execution_count": 51
        }
      ]
    },
    {
      "cell_type": "code",
      "metadata": {
        "id": "A4IKlcpo05eW",
        "colab_type": "code",
        "colab": {
          "base_uri": "https://localhost:8080/",
          "height": 216
        },
        "outputId": "28216cef-2d7a-4088-8377-94111cff8814"
      },
      "source": [
        "#Selection sort\n",
        "#Selection sort involves finding the minimum element in one pass through the array\n",
        "#and then swapping it with the first position of the unsorted part of the array.\n",
        "#Time complexity of selection sort is O(n^2) in all cases\n",
        "\n",
        "def selection_sort(list1):\n",
        "  #intializing the selection\n",
        "  selection = [None]\n",
        "  for i in range(len(list1)):\n",
        "    #storing the index of selection\n",
        "    selection[0] = i\n",
        "    \n",
        "    for j in range(i,len(list1)):\n",
        "      #looking for smallest value than selection \n",
        "      if list1[selection[0]] > list1[j]:\n",
        "        selection[0] = j\n",
        "    #if smallest value is not selection\n",
        "    if selection[0] != i:\n",
        "      print(\"replacing\",list1[i],list1[selection[0]])\n",
        "      #swapping position\n",
        "      list1[i],list1[selection[0]] = list1[selection[0]],list1[i]\n",
        "      print(list1)\n",
        "\n",
        "  return list1\n",
        "\n",
        "\n",
        "\n",
        "list1 = [0,5,9,3,10,45,2]\n",
        "selection_sort(list1)"
      ],
      "execution_count": 49,
      "outputs": [
        {
          "output_type": "stream",
          "text": [
            "replacing 5 2\n",
            "[0, 2, 9, 3, 10, 45, 5]\n",
            "replacing 9 3\n",
            "[0, 2, 3, 9, 10, 45, 5]\n",
            "replacing 9 5\n",
            "[0, 2, 3, 5, 10, 45, 9]\n",
            "replacing 10 9\n",
            "[0, 2, 3, 5, 9, 45, 10]\n",
            "replacing 45 10\n",
            "[0, 2, 3, 5, 9, 10, 45]\n"
          ],
          "name": "stdout"
        },
        {
          "output_type": "execute_result",
          "data": {
            "text/plain": [
              "[0, 2, 3, 5, 9, 10, 45]"
            ]
          },
          "metadata": {
            "tags": []
          },
          "execution_count": 49
        }
      ]
    },
    {
      "cell_type": "code",
      "metadata": {
        "id": "UqHN6E035UQk",
        "colab_type": "code",
        "colab": {}
      },
      "source": [
        "#Merge Sort uses the Divide and Conquer approach. It involves breaking up the array from the middle until\n",
        "#Arrays of only 1 elements remain and thein merging them back up in a sorted order.\n",
        "#Time complexity is O(nlog N) and space complexity is O(n)\n",
        "\n",
        "def merge_sort(list1):\n",
        "  mid_index = len(list1)//2\n",
        "  left_list = list1[:mid_index]\n",
        "  right_list = list1[mid_index:]\n",
        "  if len(left_list) == len(right_list) == 1:\n",
        "    if right_list[0] > left_list[0]:\n",
        "      left_list[0],right_list[0] = right_list[0],left_list[0]\n",
        "  return \n",
        "\n",
        "  \n",
        "list1 = [5,9,3,10,45,2,0]\n",
        "merge_sort(list1)"
      ],
      "execution_count": null,
      "outputs": []
    },
    {
      "cell_type": "code",
      "metadata": {
        "id": "IXbKsAk81ydO",
        "colab_type": "code",
        "colab": {
          "base_uri": "https://localhost:8080/",
          "height": 53
        },
        "outputId": "51fa27a9-d140-43d9-a6a1-aba96c4af31f"
      },
      "source": [
        "# Bubble sort\n",
        "#Every two adjacent items are compared and they are swapped if they are in the wrong order.\n",
        "#This way, after every pass, the largest element reaches to the end of the array.\n",
        "#Time complexity of Bubble Sort in Worst and Average Case is O(n^2) and in best case, its O(n)\n",
        "\n",
        "def bubble_sort(List):\n",
        "  swap = 0\n",
        "  for i in range(len(List)):\n",
        "    for j in range(len(List)):\n",
        "      if List[j]>List[i]:\n",
        "        List[i],List[j] = List[j],List[i]\n",
        "        swap += 1\n",
        "  print(\"swap:\",swap)\n",
        "  return (List)\n",
        "\n",
        "\n",
        "\n",
        "List = [0,78,2,4,2,14,32,21,2,45,0]\n",
        "list1 = [5,9,3,10,45,2,0]\n",
        "bubble_sort(list1)"
      ],
      "execution_count": null,
      "outputs": [
        {
          "output_type": "stream",
          "text": [
            "swap: 19\n"
          ],
          "name": "stdout"
        },
        {
          "output_type": "execute_result",
          "data": {
            "text/plain": [
              "[0, 2, 3, 5, 9, 10, 45]"
            ]
          },
          "metadata": {
            "tags": []
          },
          "execution_count": 57
        }
      ]
    },
    {
      "cell_type": "markdown",
      "metadata": {
        "id": "SIOqD47OoMHj",
        "colab_type": "text"
      },
      "source": [
        "Recursion"
      ]
    },
    {
      "cell_type": "code",
      "metadata": {
        "id": "3AxiSajexPeT",
        "colab_type": "code",
        "colab": {
          "base_uri": "https://localhost:8080/",
          "height": 35
        },
        "outputId": "125fede8-fd88-4496-e5d7-12ac68611e2b"
      },
      "source": [
        "#reverse string\n",
        "\n",
        "def reverse(sentence):\n",
        "  if len(sentence) == 0:\n",
        "    return None\n",
        "  print(sentence.pop(),end=\"\")\n",
        "  return reverse(sentence)\n",
        "\n",
        "\n",
        "sentence = list(\"reverse string\")\n",
        "reverse(sentence)"
      ],
      "execution_count": null,
      "outputs": [
        {
          "output_type": "stream",
          "text": [
            "gnirts esrever"
          ],
          "name": "stdout"
        }
      ]
    },
    {
      "cell_type": "code",
      "metadata": {
        "id": "ncyU8dbfrceh",
        "colab_type": "code",
        "colab": {
          "base_uri": "https://localhost:8080/",
          "height": 35
        },
        "outputId": "4c106721-fb37-47a3-c86c-943e6354a653"
      },
      "source": [
        "#Fibonacci Sequence - 0 1 1 2 3 5 8 13 21 34 55 89 144 . . . .\n",
        "#For example, fibonacci(5) should return 5 as the 5th index (staring from 0) of the fibonacci sequence is the number 5\n",
        "\n",
        "# 2 base cases --> 0 and 1\n",
        "counter = 0\n",
        "\n",
        "def fibonacci(n):\n",
        "  if n == 0:\n",
        "    return 0\n",
        "  if n == 1:\n",
        "    return 1\n",
        "  return fibonacci(n-1) + fibonacci(n-2)\n",
        "  \n",
        "\n",
        "\n",
        "fibonacci(6)"
      ],
      "execution_count": null,
      "outputs": [
        {
          "output_type": "execute_result",
          "data": {
            "text/plain": [
              "8"
            ]
          },
          "metadata": {
            "tags": []
          },
          "execution_count": 35
        }
      ]
    },
    {
      "cell_type": "code",
      "metadata": {
        "id": "tF54sQn7oLwv",
        "colab_type": "code",
        "colab": {
          "base_uri": "https://localhost:8080/",
          "height": 35
        },
        "outputId": "bfa3d9f3-1b8d-412f-a86c-247291070dd4"
      },
      "source": [
        "# identify end condition\n",
        "# have return statement\n",
        "\n",
        "#factorial\n",
        "\n",
        "\n",
        "def factorial(n):\n",
        "\n",
        "  if n == 1:\n",
        "    return 1\n",
        "  #print(n)\n",
        "  return n * factorial(n-1)\n",
        "\n",
        "print(\"The factorial is:\",factorial(50))"
      ],
      "execution_count": null,
      "outputs": [
        {
          "output_type": "stream",
          "text": [
            "The factorial is: 30414093201713378043612608166064768844377641568960512000000000000\n"
          ],
          "name": "stdout"
        }
      ]
    },
    {
      "cell_type": "code",
      "metadata": {
        "id": "_ptYKORH8DXJ",
        "colab_type": "code",
        "colab": {
          "base_uri": "https://localhost:8080/",
          "height": 161
        },
        "outputId": "740be6e2-3e26-40e0-d6c7-62750f1aa885"
      },
      "source": [
        "#closure\n",
        "  \n",
        "def logger(func): \n",
        "    def log_func(*args): \n",
        "        print('Running \"{}\" with arguments {}'.format(func.__name__, args)) \n",
        "        print(func(*args)) \n",
        "    # Necessary for closure to work (returning WITHOUT parenthesis) \n",
        "    return log_func               \n",
        "  \n",
        "def add(x, y): \n",
        "    return x+y \n",
        "  \n",
        "def sub(x, y): \n",
        "    return x-y \n",
        "  \n",
        "add_logger = logger(add) \n",
        "sub_logger = logger(sub) \n",
        "  \n",
        "add_logger(3, 3) \n",
        "add_logger(4, 5) \n",
        "  \n",
        "sub_logger(10, 5) \n",
        "sub_logger(20, 10) "
      ],
      "execution_count": null,
      "outputs": [
        {
          "output_type": "stream",
          "text": [
            "Running \"add\" with arguments (3, 3)\n",
            "6\n",
            "Running \"add\" with arguments (4, 5)\n",
            "9\n",
            "Running \"sub\" with arguments (10, 5)\n",
            "5\n",
            "Running \"sub\" with arguments (20, 10)\n",
            "10\n"
          ],
          "name": "stdout"
        }
      ]
    },
    {
      "cell_type": "markdown",
      "metadata": {
        "id": "dDAOPBAkpsVJ",
        "colab_type": "text"
      },
      "source": [
        "# Tree"
      ]
    },
    {
      "cell_type": "code",
      "metadata": {
        "id": "Q_zq3KYKpr-G",
        "colab_type": "code",
        "colab": {
          "base_uri": "https://localhost:8080/",
          "height": 161
        },
        "outputId": "1464e4c3-ff8d-4348-9cbc-8f8f310f82f6"
      },
      "source": [
        "#Binary Search Trees are a non-linear data structure.\n",
        "\n",
        "class node():\n",
        "  def __init__(self,data):\n",
        "    self.data = data\n",
        "    self.left = None\n",
        "    self.right = None\n",
        "\n",
        "class bst():\n",
        "  def __init__(self):\n",
        "    self.root = None\n",
        "    self.level = 0\n",
        "    \n",
        "  def insert(self,data):\n",
        "    if self.root is None:\n",
        "      self.root = node(data)\n",
        "      print(\"root:\",data)\n",
        "      self.level += 1\n",
        "    else:\n",
        "      currentnode = self.root\n",
        "      while currentnode:\n",
        "        \n",
        "        if data<currentnode.data:\n",
        "          if currentnode.left is None:\n",
        "            currentnode.left = node(data)\n",
        "            print(\"inserting\", data,\"to left of\",currentnode.data)\n",
        "            \"\"\"\n",
        "            #incrementing level\n",
        "            if currentnode.right is None:\n",
        "              self.level += 1\n",
        "              print(\"Level: \",self.level)\n",
        "            \"\"\"\n",
        "            return\n",
        "\n",
        "          else:\n",
        "            currentnode = currentnode.left\n",
        "            \n",
        "        elif data>=currentnode.data:\n",
        "          if currentnode.right is None:\n",
        "            currentnode.right = node(data)\n",
        "            print(\"inserting\", data,\"to right of\",currentnode.data)\n",
        "            \"\"\"\n",
        "            if currentnode.right is None:\n",
        "              self.level += 1\n",
        "              print(\"Level: \",self.level)\n",
        "            \"\"\"\n",
        "            return\n",
        "          else:\n",
        "            currentnode = currentnode.right\n",
        "            \n",
        "  #search\n",
        "  #remove\n",
        "  \n",
        "if __name__ == '__main__':\n",
        "  b = bst()\n",
        "  b.insert(5)\n",
        "  b.insert(2)\n",
        "  b.insert(6)\n",
        "  b.insert(5)\n",
        "  b.insert(7)\n",
        "  b.insert(6)\n",
        "  b.insert(8)\n",
        "  b.insert(1)\n"
      ],
      "execution_count": null,
      "outputs": [
        {
          "output_type": "stream",
          "text": [
            "root: 5\n",
            "inserting 2 to left of 5\n",
            "inserting 6 to right of 5\n",
            "inserting 5 to left of 6\n",
            "inserting 7 to right of 6\n",
            "inserting 6 to left of 7\n",
            "inserting 8 to right of 7\n",
            "inserting 1 to left of 2\n"
          ],
          "name": "stdout"
        }
      ]
    },
    {
      "cell_type": "code",
      "metadata": {
        "id": "yMjmTYwwzAGw",
        "colab_type": "code",
        "colab": {
          "base_uri": "https://localhost:8080/",
          "height": 35
        },
        "outputId": "da9c38dc-a8a0-4725-f584-39154476b611"
      },
      "source": [
        "#heapq tree --- insert,delete O(log n), lookup O(n)\n",
        "\n",
        "import heapq\n",
        "\n",
        "li = [10,5,3,9, 1, 3]\n",
        "heapq.heapify(li)\n",
        "\n",
        "print(list(li))\n"
      ],
      "execution_count": null,
      "outputs": [
        {
          "output_type": "stream",
          "text": [
            "[1, 5, 3, 9, 10, 3]\n"
          ],
          "name": "stdout"
        }
      ]
    },
    {
      "cell_type": "code",
      "metadata": {
        "id": "IY_OrrT35zzC",
        "colab_type": "code",
        "colab": {
          "base_uri": "https://localhost:8080/",
          "height": 35
        },
        "outputId": "c98791ed-3cda-4468-f4e7-652fa9a206df"
      },
      "source": [
        "heapq.heappush(li, 4)\n",
        "print(list(li))"
      ],
      "execution_count": null,
      "outputs": [
        {
          "output_type": "stream",
          "text": [
            "[1, 5, 3, 9, 10, 3, 4]\n"
          ],
          "name": "stdout"
        }
      ]
    },
    {
      "cell_type": "code",
      "metadata": {
        "id": "ne2ds5bC6Ebh",
        "colab_type": "code",
        "colab": {
          "base_uri": "https://localhost:8080/",
          "height": 53
        },
        "outputId": "ed5a1104-06a4-4cc9-c00a-76915d178fe9"
      },
      "source": [
        "#pops smallest element\n",
        "print(heapq.heappop(li))\n",
        "print(list(li))\n"
      ],
      "execution_count": null,
      "outputs": [
        {
          "output_type": "stream",
          "text": [
            "3\n",
            "[4, 5, 10, 9]\n"
          ],
          "name": "stdout"
        }
      ]
    },
    {
      "cell_type": "code",
      "metadata": {
        "id": "4zNma2Qx6LQX",
        "colab_type": "code",
        "colab": {
          "base_uri": "https://localhost:8080/",
          "height": 53
        },
        "outputId": "3d89b65c-e01e-4e32-c89d-abecb1339f48"
      },
      "source": [
        "li = [10,5,3,9, 3]\n",
        "heapq.heapify(li)\n",
        "print(heapq.heappushpop(li, 2))\n",
        "print(list(li))"
      ],
      "execution_count": null,
      "outputs": [
        {
          "output_type": "stream",
          "text": [
            "2\n",
            "[3, 3, 10, 9, 5]\n"
          ],
          "name": "stdout"
        }
      ]
    },
    {
      "cell_type": "code",
      "metadata": {
        "id": "98cM_4f-7FyR",
        "colab_type": "code",
        "colab": {
          "base_uri": "https://localhost:8080/",
          "height": 53
        },
        "outputId": "bf7be980-b58b-433e-eea8-6ef44e3a8561"
      },
      "source": [
        "li = [10,5,3,9, 3]\n",
        "heapq.heapify(li)\n",
        "print(heapq.heapreplace(li, 2))\n",
        "print(list(li))"
      ],
      "execution_count": null,
      "outputs": [
        {
          "output_type": "stream",
          "text": [
            "3\n",
            "[2, 3, 10, 9, 5]\n"
          ],
          "name": "stdout"
        }
      ]
    },
    {
      "cell_type": "markdown",
      "metadata": {
        "id": "rWaIB5llDSpC",
        "colab_type": "text"
      },
      "source": [
        "#Queue"
      ]
    },
    {
      "cell_type": "code",
      "metadata": {
        "id": "eEKTqBcNDSJp",
        "colab_type": "code",
        "colab": {}
      },
      "source": [
        "#linkedlist implementation"
      ],
      "execution_count": null,
      "outputs": []
    },
    {
      "cell_type": "code",
      "metadata": {
        "id": "eOHx1CkFpc_j",
        "colab_type": "code",
        "colab": {}
      },
      "source": [
        "#implement queue using stack"
      ],
      "execution_count": null,
      "outputs": []
    },
    {
      "cell_type": "markdown",
      "metadata": {
        "id": "_V0CLp8fvaBb",
        "colab_type": "text"
      },
      "source": [
        "# Stack"
      ]
    },
    {
      "cell_type": "code",
      "metadata": {
        "id": "K_JWFtCCvc_7",
        "colab_type": "code",
        "colab": {
          "base_uri": "https://localhost:8080/",
          "height": 143
        },
        "outputId": "e30dd2c0-4151-448e-b2b8-ca2b903e72f0"
      },
      "source": [
        "# array implementation\n",
        "\n",
        "class stack():\n",
        "  def __init__(self):\n",
        "    self.array = []\n",
        "    \n",
        "\n",
        "  def push(self,data):\n",
        "    self.array.append(data)\n",
        "\n",
        "  def peek(self):\n",
        "    return self.array[-1]\n",
        "  \n",
        "  def pop(self):\n",
        "    if len(self.array)>0:\n",
        "      return self.array.pop()\n",
        "    else:\n",
        "      return \"No elements in stack\"\n",
        "\n",
        "  \n",
        "  def printstack(self):\n",
        "    #for element in self.array[::-1]:\n",
        "    for element in range(len(self.array)-1,-1,-1):\n",
        "      print(self.array[element])\n",
        "\n",
        "if __name__ == \"__main__\":\n",
        "  s =stack()\n",
        "  s.push(3)\n",
        "  s.push(\"hi\")\n",
        "  s.push(\"hello\")\n",
        "  s.printstack()\n",
        "  print(\"Peek:\",s.peek())\n",
        "  print(\"pop:\",s.pop())\n",
        "  \n",
        "  s.printstack()"
      ],
      "execution_count": null,
      "outputs": [
        {
          "output_type": "stream",
          "text": [
            "hello\n",
            "hi\n",
            "3\n",
            "Peek: hello\n",
            "pop: hello\n",
            "hi\n",
            "3\n"
          ],
          "name": "stdout"
        }
      ]
    },
    {
      "cell_type": "code",
      "metadata": {
        "id": "DORBR_tl8NKg",
        "colab_type": "code",
        "colab": {
          "base_uri": "https://localhost:8080/",
          "height": 179
        },
        "outputId": "7671c136-9d7a-403f-dec0-028e7050d752"
      },
      "source": [
        "#linked list implementation\n",
        "\n",
        "class node():\n",
        "  def __init__(self,data):\n",
        "    self.data = data\n",
        "    self.next = None\n",
        "\n",
        "class stack():\n",
        "  def __init__(self):\n",
        "    self.head = None\n",
        "    self.length = 0\n",
        "  \n",
        "  def push(self,data):\n",
        "    newnode = node(data)\n",
        "    if self.head is None:\n",
        "      self.head = newnode\n",
        "      self.length += 1\n",
        "    else:\n",
        "      newnode.next = self.head\n",
        "      self.head = newnode\n",
        "      self.length += 1\n",
        "\n",
        "  def peek(self):\n",
        "    return self.head.data\n",
        "\n",
        "  def pop(self):\n",
        "    currentnode = self.head\n",
        "    if currentnode is not None:\n",
        "      self.head = currentnode.next\n",
        "      self.length -= 1\n",
        "      return currentnode.data\n",
        "    else:\n",
        "      return None\n",
        "  \n",
        "  def printstack(self):\n",
        "    currentnode = self.head\n",
        "    while currentnode:\n",
        "      print(currentnode.data,end = \" \")\n",
        "      currentnode = currentnode.next\n",
        "    print(\"\\n\")\n",
        "\n",
        "if __name__ == \"__main__\":\n",
        "  s =stack()\n",
        "  \n",
        "  s.push(3)\n",
        "  print(\"pop:\",s.pop())\n",
        "  s.printstack()\n",
        "  s.push(\"hi\")\n",
        "  s.push(\"hello\")\n",
        "  s.printstack()\n",
        "  print(\"Peek:\",s.peek())\n",
        "  print(\"pop:\",s.pop())\n",
        "  \n",
        "  s.printstack()"
      ],
      "execution_count": null,
      "outputs": [
        {
          "output_type": "stream",
          "text": [
            "pop: 3\n",
            "\n",
            "\n",
            "hello hi \n",
            "\n",
            "Peek: hello\n",
            "pop: hello\n",
            "hi \n",
            "\n"
          ],
          "name": "stdout"
        }
      ]
    },
    {
      "cell_type": "markdown",
      "metadata": {
        "id": "d_CT70nrdrM7",
        "colab_type": "text"
      },
      "source": [
        "# Doubly linked list"
      ]
    },
    {
      "cell_type": "code",
      "metadata": {
        "id": "atOCStBEdqHw",
        "colab_type": "code",
        "colab": {
          "base_uri": "https://localhost:8080/",
          "height": 161
        },
        "outputId": "da541868-d6dc-48ff-bbb7-e0cc50ea5725"
      },
      "source": [
        "class node():\n",
        "  def __init__(self,data):\n",
        "    self.data = data\n",
        "    self.next = None\n",
        "    self.prev = None\n",
        "class doublylinkedlist():\n",
        "  def __init__(self):\n",
        "    self.head = None\n",
        "    self.length = 0\n",
        "    self.tail = self.head\n",
        "\n",
        "  def append(self,data):\n",
        "    if self.head is None:\n",
        "      self.head = node(data)\n",
        "      self.tail = self.head\n",
        "      self.length +=1\n",
        "    else:\n",
        "      newnode = node(data)\n",
        "      self.tail.next = newnode\n",
        "      newnode.prev = self.tail\n",
        "      self.length +=1\n",
        "      self.tail = newnode\n",
        "  \n",
        "  def prepend(self,data):\n",
        "    newnode = node(data)\n",
        "    if self.head:\n",
        "      self.head.prev = newnode\n",
        "      newnode.next = self.head\n",
        "      self.head = newnode\n",
        "      self.length +=1\n",
        "    else:\n",
        "      self.append(data)\n",
        "\n",
        "  def insert(self,pos,data):\n",
        "    \n",
        "    \n",
        "    if (0 < pos <= self.length):\n",
        "      if pos >= self.length:\n",
        "        self.append(data)\n",
        "        return\n",
        "\n",
        "      newnode = node(data)\n",
        "      count = 1\n",
        "      currentnode = self.head\n",
        "      \n",
        "      while currentnode:\n",
        "        if pos-1 == count:\n",
        "          tmp = currentnode.next\n",
        "          currentnode.next = newnode\n",
        "          newnode.prev = currentnode\n",
        "          newnode.next = tmp\n",
        "          tmp.prev = newnode\n",
        "          self.length +=1\n",
        "          return\n",
        "        \n",
        "        count +=1\n",
        "        currentnode = currentnode.next\n",
        "\n",
        "    elif pos == 0:\n",
        "        self.prepend(data)\n",
        "        \n",
        "        \n",
        "\n",
        "        \n",
        "\n",
        "  \n",
        "  def printlist(self):\n",
        "    if self.head is not None:\n",
        "      currentnode = self.head\n",
        "      while currentnode:\n",
        "        print(currentnode.data,end =\" \")\n",
        "        currentnode = currentnode.next\n",
        "      print(\"\\n\")\n",
        "      \n",
        "    else:\n",
        "      print(\"No linked list\")\n",
        "\n",
        "  def printreverse(self):\n",
        "    if self.tail is not None:\n",
        "      currentnode = self.tail\n",
        "      while currentnode:\n",
        "        print(currentnode.data,end =\" \")\n",
        "        currentnode = currentnode.prev\n",
        "      \n",
        "    else:\n",
        "      print(\"No linked list\")\n",
        "\n",
        "\n",
        "if __name__ == '__main__':\n",
        "  dl = doublylinkedlist()\n",
        "  dl.printlist()\n",
        "  dl.prepend(0)\n",
        "  dl.append(1)\n",
        "  dl.append(2)\n",
        "  dl.append(3)\n",
        "  dl.append(3)\n",
        "  dl.prepend(4)\n",
        "  dl.printlist()\n",
        "  dl.insert(2,5)\n",
        "  dl.printlist()\n",
        "  print(\"\\nLength:\",dl.length)\n",
        "  dl.printreverse()\n",
        "\n",
        "    \n"
      ],
      "execution_count": null,
      "outputs": [
        {
          "output_type": "stream",
          "text": [
            "No linked list\n",
            "4 0 1 2 3 3 \n",
            "\n",
            "4 5 0 1 2 3 3 \n",
            "\n",
            "\n",
            "Length: 7\n",
            "3 3 2 1 0 5 4 "
          ],
          "name": "stdout"
        }
      ]
    },
    {
      "cell_type": "markdown",
      "metadata": {
        "id": "7ZVn1JXtYGQ6",
        "colab_type": "text"
      },
      "source": [
        "# Linked List"
      ]
    },
    {
      "cell_type": "code",
      "metadata": {
        "id": "RgDHvTuFYF5z",
        "colab_type": "code",
        "colab": {
          "base_uri": "https://localhost:8080/",
          "height": 179
        },
        "outputId": "322fd6f6-f422-4a76-b3b9-f0a468e57273"
      },
      "source": [
        "#The average time complexity of some operations invloving linked lists are as follows:\n",
        "#Look-up : O(n)\n",
        "#Insert : O(n)\n",
        "#Delete : O(n)\n",
        "#Append : O(1)\n",
        "#Prepend : O(1)\n",
        "\n",
        "class node():\n",
        "  def __init__(self,value):\n",
        "    self.data = value\n",
        "    self.next = None\n",
        "class linkedList():\n",
        "  def __init__(self):\n",
        "    self.head = None\n",
        "    self.tail = self.head\n",
        "    self.length = 0\n",
        "\n",
        "  def append(self,data):\n",
        "    new_node = node(data)\n",
        "    if self.head is None:\n",
        "      self.head = new_node\n",
        "      self.tail = self.head\n",
        "      self.length += 1\n",
        "    else:\n",
        "      self.tail.next =  new_node\n",
        "      self.tail = self.tail.next\n",
        "      self.length += 1\n",
        "\n",
        "  def printLinkedList(self):\n",
        "    if self.head is None:\n",
        "      return \"invalid head\"\n",
        "    current_node = self.head\n",
        "    while current_node != None:\n",
        "      print(current_node.data,end =\" \")\n",
        "      current_node = current_node.next\n",
        "    print(\"\\n\")\n",
        "\n",
        "  def prepend(self,data):\n",
        "    new_node = node(data)\n",
        "    if self.head is None:\n",
        "      self.append(data)\n",
        "    else:\n",
        "      tmp_node = self.head\n",
        "      self.head = new_node\n",
        "      self.head.next = tmp_node\n",
        "      self.length += 1\n",
        "\n",
        "  def insert(self,pos,data):\n",
        "    new_node = node(data)\n",
        "    if pos >= self.length:\n",
        "      print(\"adding to the end\")\n",
        "      self.append(data)\n",
        "    elif pos == 0:\n",
        "      self.prepend(data)\n",
        "    else:\n",
        "      current_node = self.head\n",
        "      for _ in range(pos-1):\n",
        "        current_node = current_node.next\n",
        "      l_node = current_node\n",
        "      t_node = current_node.next\n",
        "      l_node.next = new_node\n",
        "      l_node.next.next = t_node\n",
        "      self.length +=1\n",
        "  \n",
        "  #delete_by_value\n",
        "  def delete_by_value(self,data):\n",
        "    currentnode = self.head\n",
        "    while currentnode:\n",
        "      if currentnode.data == data and currentnode.next:\n",
        "        self.head = currentnode.next\n",
        "        self.length -= 1\n",
        "        return\n",
        "\n",
        "      elif currentnode.next and currentnode.next.data == data:\n",
        "        #next_node = currentnode.next.next_node\n",
        "        currentnode.next = currentnode.next.next\n",
        "        self.length -= 1\n",
        "        return\n",
        "      currentnode = currentnode.next\n",
        "    print(data, \"is not in the linked list or empty\")\n",
        "\n",
        "  #delete by position\n",
        "  def delete_by_pos(self,pos):\n",
        "    currentnode = self.head\n",
        "    if (pos-1)==0:\n",
        "      self.delete_by_value(self.head.data)\n",
        "    elif 0<pos<=self.length and currentnode.next:\n",
        "      count = 1\n",
        "      while currentnode:\n",
        "        if(count == pos-1):\n",
        "          currentnode.next = currentnode.next.next\n",
        "          if pos == self.length and currentnode.data:\n",
        "            self.tail = currentnode\n",
        "          self.length -= 1\n",
        "          return\n",
        "        count += 1\n",
        "        currentnode = currentnode.next\n",
        "    else:\n",
        "      print(\"no such position\")\n",
        "\n",
        "  def reverse(self):\n",
        "\n",
        "    currentnode = self.head\n",
        "    nextnode = currentnode.next\n",
        "    self.tail = currentnode #updating property of tail\n",
        "    \n",
        "    while nextnode:\n",
        "      tmp = nextnode.next\n",
        "\n",
        "      nextnode.next = currentnode\n",
        "      currentnode = nextnode\n",
        "\n",
        "      nextnode = tmp\n",
        "    self.head.next = None\n",
        "    self.head = currentnode\n",
        "    \n",
        "\n",
        "    #none 7 0 1 6 2 \n",
        "    \n",
        "        \n",
        "if __name__ == '__main__':\n",
        "\n",
        "  ll = linkedList()\n",
        "  ll.prepend(0)\n",
        "  ll.append(1)\n",
        "  ll.prepend(7)\n",
        "  ll.append(2)\n",
        "  ll.append(21)\n",
        "\n",
        "  ll.printLinkedList()\n",
        "  ll.insert(3,6)\n",
        "  ll.printLinkedList()\n",
        "  #print(\"Tail of ll:\",ll.tail.data)\n",
        "\n",
        "\n",
        "  #ll.delete_by_value(2)\n",
        "  #ll.printLinkedList()\n",
        "  #print(\"Length of ll:\",ll.length)\n",
        "  #ll.delete_by_pos(6)\n",
        "  ll.printLinkedList()\n",
        "  #print(\"Tail of ll:\",ll.tail.data)\n",
        "\n",
        "  print(\"Reverse list\")\n",
        "  ll.reverse()\n",
        "  ll.printLinkedList()\n",
        "\n",
        "\n",
        "    "
      ],
      "execution_count": null,
      "outputs": [
        {
          "output_type": "stream",
          "text": [
            "7 0 1 2 21 \n",
            "\n",
            "7 0 1 6 2 21 \n",
            "\n",
            "7 0 1 6 2 21 \n",
            "\n",
            "Reverse list\n",
            "21 2 6 1 0 7 \n",
            "\n"
          ],
          "name": "stdout"
        }
      ]
    },
    {
      "cell_type": "markdown",
      "metadata": {
        "id": "Ylz6vRTRFQ2O",
        "colab_type": "text"
      },
      "source": [
        "# Array"
      ]
    },
    {
      "cell_type": "code",
      "metadata": {
        "id": "t7OZngh2UELL",
        "colab_type": "code",
        "colab": {
          "base_uri": "https://localhost:8080/",
          "height": 53
        },
        "outputId": "46e710c6-3c2e-4516-eba7-14831edc4710"
      },
      "source": [
        "#Given an array nums, write a function to move all 0's to the end of it while maintaining the relative order of the non-zero elements.\n",
        "#Example:\n",
        "#Input: [0,1,0,3,12]\n",
        "#Output: [1,3,12,0,0]\n",
        "\n",
        "def moveZeros(arr): # O(n)\n",
        "  count_0 = 0\n",
        "  final_arr = []\n",
        "\n",
        "  for num in arr:\n",
        "    if num == 0:\n",
        "      count_0 += 1\n",
        "    else:\n",
        "      final_arr.append(num)\n",
        "  return final_arr+([0]*count_0)\n",
        "\n",
        "def one_liner_move(array): #O(n log n)\n",
        "    array.sort(key=bool, reverse=True)\n",
        "    return array\n",
        "    \n",
        "\n",
        "print(one_liner_move(array))\n",
        "\n",
        "\n",
        "arr = [0,1,0,15,3,12]\n",
        "moveZeros(arr)\n",
        "one_liner_move(arr)"
      ],
      "execution_count": null,
      "outputs": [
        {
          "output_type": "stream",
          "text": [
            "[1, 2, 3, 1]\n"
          ],
          "name": "stdout"
        },
        {
          "output_type": "execute_result",
          "data": {
            "text/plain": [
              "[1, 15, 3, 12, 0, 0]"
            ]
          },
          "metadata": {
            "tags": []
          },
          "execution_count": 64
        }
      ]
    },
    {
      "cell_type": "code",
      "metadata": {
        "id": "dXgWYKJkRJ80",
        "colab_type": "code",
        "colab": {
          "base_uri": "https://localhost:8080/",
          "height": 35
        },
        "outputId": "6b45d5c3-5817-49f3-a635-fe8319a766a5"
      },
      "source": [
        "#Given two sorted arrays, we need to merge them and create one big sorted array.\n",
        "#For example, array1 = [1,3,5,7], array2 = [2,4,6,8]\n",
        "#The result should be array = [1,2,3,4,5,6,7,8]\n",
        "\n",
        "array1 = [1,3,5,7]\n",
        "array2 = [2,4,6,8]\n",
        "\n",
        "sorted(array1 + array2)"
      ],
      "execution_count": null,
      "outputs": [
        {
          "output_type": "execute_result",
          "data": {
            "text/plain": [
              "[1, 2, 3, 4, 5, 6, 7, 8]"
            ]
          },
          "metadata": {
            "tags": []
          },
          "execution_count": 58
        }
      ]
    },
    {
      "cell_type": "code",
      "metadata": {
        "id": "EhAG7dNdIbPl",
        "colab_type": "code",
        "colab": {
          "base_uri": "https://localhost:8080/",
          "height": 35
        },
        "outputId": "212a2213-fca5-42eb-cd1e-2d4f4536062a"
      },
      "source": [
        " \n",
        "#Find the largest word in a given string\n",
        "#Examples\n",
        "#Input: \"fun&!! time\"\n",
        "#Output: time\n",
        "\n",
        "def longest_word(str):\n",
        "  str = list(str)\n",
        "  tmp_str = \"\"\n",
        "  final_str = []\n",
        "  count_len = 0 \n",
        "  for idx,char in enumerate(str):\n",
        "    if char.isalnum() or char == \" \":\n",
        "      if not (char == \" \" or idx == len(str)-1) :\n",
        "        tmp_str += char\n",
        "        count_len +=1\n",
        "      else:\n",
        "        if not char == \" \":\n",
        "          tmp_str += char\n",
        "          count_len +=1\n",
        "\n",
        "        final_str.append([count_len,tmp_str])\n",
        "        tmp_str = \"\"\n",
        "        count_len = 0\n",
        "  return sorted(final_str)[-1][1]\n",
        "\n",
        "str = \"fun&!! time to all@2111\"\n",
        "longest_word(str)"
      ],
      "execution_count": null,
      "outputs": [
        {
          "output_type": "execute_result",
          "data": {
            "application/vnd.google.colaboratory.intrinsic+json": {
              "type": "string"
            },
            "text/plain": [
              "'all2111'"
            ]
          },
          "metadata": {
            "tags": []
          },
          "execution_count": 53
        }
      ]
    },
    {
      "cell_type": "code",
      "metadata": {
        "id": "RkPyLjWwGqe_",
        "colab_type": "code",
        "colab": {
          "base_uri": "https://localhost:8080/",
          "height": 35
        },
        "outputId": "1c13b109-d1a2-44fb-f4fb-3d5162e8aef8"
      },
      "source": [
        "#Given an array of integers, find if the array contains any duplicates.\n",
        "#Your function should return true if any value appears at least twice in the array, and it should return false if every element is distinct.\n",
        "#Example 1:\n",
        "#Input: [1,2,3,1]\n",
        "#Output: true\n",
        "#Example 2:\n",
        "#Input: [1,2,3,4]\n",
        "#Output: false\n",
        "\n",
        "def duplicate(arr):\n",
        "  hash_table = {}\n",
        "  for number in arr:\n",
        "    if hash_table.get(number) is not None:\n",
        "      return True\n",
        "    hash_table[number] = number\n",
        "  return False\n",
        "\n",
        "\n",
        "\n",
        "array = [1,2,3,1]\n",
        "duplicate(array)"
      ],
      "execution_count": null,
      "outputs": [
        {
          "output_type": "execute_result",
          "data": {
            "text/plain": [
              "True"
            ]
          },
          "metadata": {
            "tags": []
          },
          "execution_count": 19
        }
      ]
    },
    {
      "cell_type": "code",
      "metadata": {
        "id": "6AwAWYfzFPYZ",
        "colab_type": "code",
        "colab": {}
      },
      "source": [
        "array = [5,8,2,9,17,43,25,10]\n",
        "\n",
        "#Look-up\n",
        "first_element = array[0]  #O(1) time\n",
        "sixth_element = array[5]  #O(1) time\n",
        "\n",
        "\n",
        "#Push/Pop\n",
        "array.append(87) #Adds 87 at the end of the array in O(1) time\n",
        "\n",
        "#In some special cases, the append(push) operation may take greater time. This is because as mentioned earlier, Python has dynamic arrays\n",
        "#So when an element is to appended and the array is filled, the entire array has to be copied to a new location\n",
        "#With more space allocated(generally double the space) this time so that more items can be appended.\n",
        "#Therefore, some individual operations may reuire O(n) time or greater, but when averaged over a large number of operations,\n",
        "#The complexity can be safely considered to be O(1)\n",
        "\n",
        "array.pop() #Pops/removes the element at the end of the array in O(1) time.\n",
        "\n",
        "array.insert(0,50) #Inserts 50 at the beginning of the array and shifts all other elements one place towards right. O(n)\n",
        "array.insert(4,0) #inserts '0' at index '4', thus shifting all elements starting from index 4 one place towards right. O(n)\n",
        "\n",
        "print(array)\n",
        "\n",
        "\n",
        "#Delete\n",
        "\n",
        "array.pop(0) #This pops the first element of the array, shifting the remaining elements of the array one place left. O(n)\n",
        "array.remove(17) #This command removes the first occurence of the element 17 in the array, for which it needs to traverse the entire array, which requires O(n) time\n",
        "del array[2:4] #This command deletes elements from position 2 to position 4, again, in O(n) time\n"
      ],
      "execution_count": null,
      "outputs": []
    },
    {
      "cell_type": "markdown",
      "metadata": {
        "id": "F1jTR8FPFKDG",
        "colab_type": "text"
      },
      "source": [
        "# Hash table"
      ]
    },
    {
      "cell_type": "code",
      "metadata": {
        "id": "Bzqehqyr-W4o",
        "colab_type": "code",
        "colab": {
          "base_uri": "https://localhost:8080/",
          "height": 89
        },
        "outputId": "c8fb32da-e535-46b1-a159-29c89759c2f8"
      },
      "source": [
        "#Given a string and a pattern, write a program to find all occurences of the pattern in the string\n",
        "#For example, string = \"THIS IS A TEST TEXT\", pattern = \"TEST\"\n",
        "#Output = Pattern found at index 10\n",
        "#Example 2, string =  \"AABAACAADAABAABA\", pattern =  \"AABA\"\n",
        "#Output: Pattern found at index 0, Pattern found at index 9, Pattern found at index 12\n",
        "\n",
        "def find_pattern(str, pattern):\n",
        "  str = list(str)\n",
        "  pattern = list(pattern)\n",
        "  #print(str, pattern)\n",
        "\n",
        "  for index in range(len(str)):\n",
        "    if index < (len(str) - len(pattern)+1):\n",
        "      if (str[index:][:len(pattern)]) == pattern:\n",
        "        print(\"Pattern found at:\",index) \n",
        "\n",
        "\n",
        "\n",
        "\n",
        "str1 = \"THIS IS A TEST TEXT\"\n",
        "str2 = \"AABAACAADAABAABA\"\n",
        "pattern = \"TEST\"\n",
        "pattern2 = \"AABA\"\n",
        "\n",
        "find_pattern(str2,pattern2)"
      ],
      "execution_count": null,
      "outputs": [
        {
          "output_type": "stream",
          "text": [
            "['A', 'A', 'B', 'A', 'A', 'C', 'A', 'A', 'D', 'A', 'A', 'B', 'A', 'A', 'B', 'A'] ['A', 'A', 'B', 'A']\n",
            "Pattern found at: 0\n",
            "Pattern found at: 9\n",
            "Pattern found at: 12\n"
          ],
          "name": "stdout"
        }
      ]
    },
    {
      "cell_type": "code",
      "metadata": {
        "id": "nTt3RWFCueBs",
        "colab_type": "code",
        "colab": {
          "base_uri": "https://localhost:8080/",
          "height": 35
        },
        "outputId": "1ec70564-6642-4db8-f733-7eb14b8fcd89"
      },
      "source": [
        "a = {\"a\": True, \"b\":False}\n",
        "b = {}\n",
        "a.get(\"a\")\n",
        "b.get(\"a\")\n",
        "a.pop(\"a\")\n",
        "a"
      ],
      "execution_count": null,
      "outputs": [
        {
          "output_type": "execute_result",
          "data": {
            "text/plain": [
              "{'b': False}"
            ]
          },
          "metadata": {
            "tags": []
          },
          "execution_count": 26
        }
      ]
    },
    {
      "cell_type": "code",
      "metadata": {
        "id": "NvKqONy-YLg4",
        "colab_type": "code",
        "colab": {
          "base_uri": "https://localhost:8080/",
          "height": 35
        },
        "outputId": "0f8d7b03-7f12-42b5-b552-5b0b9c5eb00b"
      },
      "source": [
        "#Google Question\n",
        "#Given an array, return the first recurring character\n",
        "#Example1 : array = [2,1,4,2,6,5,1,4]\n",
        "#It should return 2\n",
        "#Example 2 : array = [2,6,4,6,1,3,8,1,2]\n",
        "#It should return 6\n",
        "\n",
        "def firstRecuringNumber(arr):\n",
        "  table = {}\n",
        "  for number in arr:\n",
        "    if table.get(number) is not None:\n",
        "      return number\n",
        "    table[number] = True\n",
        "    #print(table)\n",
        "  return \"No numbers are recuring\"\n",
        "\n",
        "\n",
        "a = [2,1,4,1,3]\n",
        "b = []\n",
        "\n",
        "firstRecuringNumber(a)\n"
      ],
      "execution_count": null,
      "outputs": [
        {
          "output_type": "execute_result",
          "data": {
            "text/plain": [
              "1"
            ]
          },
          "metadata": {
            "tags": []
          },
          "execution_count": 21
        }
      ]
    },
    {
      "cell_type": "markdown",
      "metadata": {
        "id": "lNNywH6CFBp7",
        "colab_type": "text"
      },
      "source": [
        "# Big - O"
      ]
    },
    {
      "cell_type": "markdown",
      "metadata": {
        "id": "UF877AVqZS-x",
        "colab_type": "text"
      },
      "source": [
        "**Big-O complex:**\n",
        "When we go bigger and bigger with the input how much the program slows down.\n",
        "\n",
        "* O(n) ----> Linear time \n",
        "* O(1) or O(log n)----> constant time\n",
        "* O(n^2) ----> Quadratic time\n",
        "\n",
        "These are different asymptotic notations for the analysis of the algorithm. Every time, we can't say the efficiency of the program in terms of minutes and seconds. For such purpose, standard notations called asymptotic notations are used.\n",
        "\n",
        "Big-O is a measure of the longest amount of time it could possibly take for the algorithm to complete.\n",
        "f(n) ≤ cg(n), where f(n) and g(n) are non-negative functions, g(n) is upper bound, then f(n) is Big O of g(n). This is denoted as \"f(n) = O(g(n))\"\n",
        "\n",
        "Big Omega describes the best that can happen for a given data size.\n",
        "\"f(n) ≥ cg(n)\", this makes g(n) a lower bound function\n",
        "\n",
        "Theta is basically saying that the function, f(n) is bounded both from the top and bottom by the same function, g(n).\n",
        "f(n) is theta of g(n) if and only if f(n) = O(g(n)) and f(n) = Ω(g(n))\n",
        "This is denoted as \"f(n) = Θ(g(n))\"\n",
        "\n"
      ]
    },
    {
      "cell_type": "markdown",
      "metadata": {
        "id": "TTjKIVmcYlk5",
        "colab_type": "text"
      },
      "source": [
        "![alt text](https://miro.medium.com/max/2928/1*5ZLci3SuR0zM_QlZOADv8Q.jpeg)"
      ]
    }
  ]
}