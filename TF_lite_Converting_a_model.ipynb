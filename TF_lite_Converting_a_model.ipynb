{
  "nbformat": 4,
  "nbformat_minor": 0,
  "metadata": {
    "colab": {
      "name": "TF lite - Convert a model.ipynb",
      "provenance": [],
      "collapsed_sections": [],
      "toc_visible": true,
      "include_colab_link": true
    },
    "kernelspec": {
      "name": "python3",
      "display_name": "Python 3"
    },
    "accelerator": "GPU"
  },
  "cells": [
    {
      "cell_type": "markdown",
      "metadata": {
        "id": "view-in-github",
        "colab_type": "text"
      },
      "source": [
        "<a href=\"https://colab.research.google.com/github/jpraveenkanna/Practice-notebooks/blob/master/TF_lite_Converting_a_model.ipynb\" target=\"_parent\"><img src=\"https://colab.research.google.com/assets/colab-badge.svg\" alt=\"Open In Colab\"/></a>"
      ]
    },
    {
      "cell_type": "code",
      "metadata": {
        "id": "vAWYPG6k4C9i",
        "colab_type": "code",
        "colab": {}
      },
      "source": [
        "!pip install tensorflow==2.0"
      ],
      "execution_count": 0,
      "outputs": []
    },
    {
      "cell_type": "code",
      "metadata": {
        "id": "Z14-zMxbMzro",
        "colab_type": "code",
        "colab": {}
      },
      "source": [
        "import tensorflow as tf\n",
        "import numpy as np\n",
        "from tensorflow import keras\n"
      ],
      "execution_count": 0,
      "outputs": []
    },
    {
      "cell_type": "code",
      "metadata": {
        "id": "dakaCltIGQAX",
        "colab_type": "code",
        "colab": {
          "base_uri": "https://localhost:8080/",
          "height": 1000
        },
        "outputId": "7036094d-535c-470c-9bcb-3529a1c00991"
      },
      "source": [
        "\n",
        "model = tf.keras.Sequential([keras.layers.Dense(units=1, input_shape=[1])])\n",
        "\n",
        "model.compile(optimizer='sgd', loss='mean_squared_error')\n",
        "\n",
        "#Defining input and output\n",
        "xs = np.array([-1.0, 0.0, 1.0, 2.0, 3.0, 4.0], dtype=float)\n",
        "ys = np.array([-2.0, 1.0, 4.0, 7.0, 10.0, 13.0], dtype=float)\n",
        "\n",
        "model.fit(xs, ys, epochs=100)\n"
      ],
      "execution_count": 11,
      "outputs": [
        {
          "output_type": "stream",
          "text": [
            "Train on 6 samples\n",
            "Epoch 1/100\n",
            "6/6 [==============================] - 0s 27ms/sample - loss: 82.7317\n",
            "Epoch 2/100\n",
            "6/6 [==============================] - 0s 287us/sample - loss: 65.0926\n",
            "Epoch 3/100\n",
            "6/6 [==============================] - 0s 477us/sample - loss: 51.2150\n",
            "Epoch 4/100\n",
            "6/6 [==============================] - 0s 464us/sample - loss: 40.2967\n",
            "Epoch 5/100\n",
            "6/6 [==============================] - 0s 378us/sample - loss: 31.7067\n",
            "Epoch 6/100\n",
            "6/6 [==============================] - 0s 312us/sample - loss: 24.9483\n",
            "Epoch 7/100\n",
            "6/6 [==============================] - 0s 312us/sample - loss: 19.6312\n",
            "Epoch 8/100\n",
            "6/6 [==============================] - 0s 324us/sample - loss: 15.4478\n",
            "Epoch 9/100\n",
            "6/6 [==============================] - 0s 295us/sample - loss: 12.1565\n",
            "Epoch 10/100\n",
            "6/6 [==============================] - 0s 337us/sample - loss: 9.5670\n",
            "Epoch 11/100\n",
            "6/6 [==============================] - 0s 309us/sample - loss: 7.5296\n",
            "Epoch 12/100\n",
            "6/6 [==============================] - 0s 370us/sample - loss: 5.9266\n",
            "Epoch 13/100\n",
            "6/6 [==============================] - 0s 270us/sample - loss: 4.6655\n",
            "Epoch 14/100\n",
            "6/6 [==============================] - 0s 286us/sample - loss: 3.6732\n",
            "Epoch 15/100\n",
            "6/6 [==============================] - 0s 285us/sample - loss: 2.8924\n",
            "Epoch 16/100\n",
            "6/6 [==============================] - 0s 338us/sample - loss: 2.2781\n",
            "Epoch 17/100\n",
            "6/6 [==============================] - 0s 328us/sample - loss: 1.7948\n",
            "Epoch 18/100\n",
            "6/6 [==============================] - 0s 280us/sample - loss: 1.4144\n",
            "Epoch 19/100\n",
            "6/6 [==============================] - 0s 342us/sample - loss: 1.1152\n",
            "Epoch 20/100\n",
            "6/6 [==============================] - 0s 330us/sample - loss: 0.8797\n",
            "Epoch 21/100\n",
            "6/6 [==============================] - 0s 376us/sample - loss: 0.6943\n",
            "Epoch 22/100\n",
            "6/6 [==============================] - 0s 363us/sample - loss: 0.5485\n",
            "Epoch 23/100\n",
            "6/6 [==============================] - 0s 303us/sample - loss: 0.4337\n",
            "Epoch 24/100\n",
            "6/6 [==============================] - 0s 376us/sample - loss: 0.3433\n",
            "Epoch 25/100\n",
            "6/6 [==============================] - 0s 316us/sample - loss: 0.2722\n",
            "Epoch 26/100\n",
            "6/6 [==============================] - 0s 346us/sample - loss: 0.2162\n",
            "Epoch 27/100\n",
            "6/6 [==============================] - 0s 317us/sample - loss: 0.1721\n",
            "Epoch 28/100\n",
            "6/6 [==============================] - 0s 296us/sample - loss: 0.1373\n",
            "Epoch 29/100\n",
            "6/6 [==============================] - 0s 301us/sample - loss: 0.1099\n",
            "Epoch 30/100\n",
            "6/6 [==============================] - 0s 301us/sample - loss: 0.0884\n",
            "Epoch 31/100\n",
            "6/6 [==============================] - 0s 326us/sample - loss: 0.0714\n",
            "Epoch 32/100\n",
            "6/6 [==============================] - 0s 328us/sample - loss: 0.0579\n",
            "Epoch 33/100\n",
            "6/6 [==============================] - 0s 261us/sample - loss: 0.0473\n",
            "Epoch 34/100\n",
            "6/6 [==============================] - 0s 320us/sample - loss: 0.0390\n",
            "Epoch 35/100\n",
            "6/6 [==============================] - 0s 325us/sample - loss: 0.0323\n",
            "Epoch 36/100\n",
            "6/6 [==============================] - 0s 332us/sample - loss: 0.0271\n",
            "Epoch 37/100\n",
            "6/6 [==============================] - 0s 310us/sample - loss: 0.0229\n",
            "Epoch 38/100\n",
            "6/6 [==============================] - 0s 283us/sample - loss: 0.0196\n",
            "Epoch 39/100\n",
            "6/6 [==============================] - 0s 366us/sample - loss: 0.0170\n",
            "Epoch 40/100\n",
            "6/6 [==============================] - 0s 269us/sample - loss: 0.0149\n",
            "Epoch 41/100\n",
            "6/6 [==============================] - 0s 351us/sample - loss: 0.0132\n",
            "Epoch 42/100\n",
            "6/6 [==============================] - 0s 344us/sample - loss: 0.0118\n",
            "Epoch 43/100\n",
            "6/6 [==============================] - 0s 302us/sample - loss: 0.0107\n",
            "Epoch 44/100\n",
            "6/6 [==============================] - 0s 331us/sample - loss: 0.0099\n",
            "Epoch 45/100\n",
            "6/6 [==============================] - 0s 333us/sample - loss: 0.0091\n",
            "Epoch 46/100\n",
            "6/6 [==============================] - 0s 347us/sample - loss: 0.0085\n",
            "Epoch 47/100\n",
            "6/6 [==============================] - 0s 346us/sample - loss: 0.0080\n",
            "Epoch 48/100\n",
            "6/6 [==============================] - 0s 373us/sample - loss: 0.0076\n",
            "Epoch 49/100\n",
            "6/6 [==============================] - 0s 396us/sample - loss: 0.0072\n",
            "Epoch 50/100\n",
            "6/6 [==============================] - 0s 370us/sample - loss: 0.0069\n",
            "Epoch 51/100\n",
            "6/6 [==============================] - 0s 435us/sample - loss: 0.0067\n",
            "Epoch 52/100\n",
            "6/6 [==============================] - 0s 416us/sample - loss: 0.0064\n",
            "Epoch 53/100\n",
            "6/6 [==============================] - 0s 436us/sample - loss: 0.0062\n",
            "Epoch 54/100\n",
            "6/6 [==============================] - 0s 386us/sample - loss: 0.0060\n",
            "Epoch 55/100\n",
            "6/6 [==============================] - 0s 401us/sample - loss: 0.0059\n",
            "Epoch 56/100\n",
            "6/6 [==============================] - 0s 390us/sample - loss: 0.0057\n",
            "Epoch 57/100\n",
            "6/6 [==============================] - 0s 332us/sample - loss: 0.0055\n",
            "Epoch 58/100\n",
            "6/6 [==============================] - 0s 303us/sample - loss: 0.0054\n",
            "Epoch 59/100\n",
            "6/6 [==============================] - 0s 315us/sample - loss: 0.0053\n",
            "Epoch 60/100\n",
            "6/6 [==============================] - 0s 295us/sample - loss: 0.0052\n",
            "Epoch 61/100\n",
            "6/6 [==============================] - 0s 328us/sample - loss: 0.0050\n",
            "Epoch 62/100\n",
            "6/6 [==============================] - 0s 350us/sample - loss: 0.0049\n",
            "Epoch 63/100\n",
            "6/6 [==============================] - 0s 353us/sample - loss: 0.0048\n",
            "Epoch 64/100\n",
            "6/6 [==============================] - 0s 303us/sample - loss: 0.0047\n",
            "Epoch 65/100\n",
            "6/6 [==============================] - 0s 427us/sample - loss: 0.0046\n",
            "Epoch 66/100\n",
            "6/6 [==============================] - 0s 351us/sample - loss: 0.0045\n",
            "Epoch 67/100\n",
            "6/6 [==============================] - 0s 373us/sample - loss: 0.0044\n",
            "Epoch 68/100\n",
            "6/6 [==============================] - 0s 332us/sample - loss: 0.0043\n",
            "Epoch 69/100\n",
            "6/6 [==============================] - 0s 302us/sample - loss: 0.0042\n",
            "Epoch 70/100\n",
            "6/6 [==============================] - 0s 330us/sample - loss: 0.0041\n",
            "Epoch 71/100\n",
            "6/6 [==============================] - 0s 344us/sample - loss: 0.0041\n",
            "Epoch 72/100\n",
            "6/6 [==============================] - 0s 334us/sample - loss: 0.0040\n",
            "Epoch 73/100\n",
            "6/6 [==============================] - 0s 339us/sample - loss: 0.0039\n",
            "Epoch 74/100\n",
            "6/6 [==============================] - 0s 353us/sample - loss: 0.0038\n",
            "Epoch 75/100\n",
            "6/6 [==============================] - 0s 326us/sample - loss: 0.0037\n",
            "Epoch 76/100\n",
            "6/6 [==============================] - 0s 390us/sample - loss: 0.0037\n",
            "Epoch 77/100\n",
            "6/6 [==============================] - 0s 394us/sample - loss: 0.0036\n",
            "Epoch 78/100\n",
            "6/6 [==============================] - 0s 391us/sample - loss: 0.0035\n",
            "Epoch 79/100\n",
            "6/6 [==============================] - 0s 361us/sample - loss: 0.0034\n",
            "Epoch 80/100\n",
            "6/6 [==============================] - 0s 327us/sample - loss: 0.0034\n",
            "Epoch 81/100\n",
            "6/6 [==============================] - 0s 302us/sample - loss: 0.0033\n",
            "Epoch 82/100\n",
            "6/6 [==============================] - 0s 412us/sample - loss: 0.0032\n",
            "Epoch 83/100\n",
            "6/6 [==============================] - 0s 397us/sample - loss: 0.0032\n",
            "Epoch 84/100\n",
            "6/6 [==============================] - 0s 329us/sample - loss: 0.0031\n",
            "Epoch 85/100\n",
            "6/6 [==============================] - 0s 334us/sample - loss: 0.0030\n",
            "Epoch 86/100\n",
            "6/6 [==============================] - 0s 329us/sample - loss: 0.0030\n",
            "Epoch 87/100\n",
            "6/6 [==============================] - 0s 399us/sample - loss: 0.0029\n",
            "Epoch 88/100\n",
            "6/6 [==============================] - 0s 345us/sample - loss: 0.0029\n",
            "Epoch 89/100\n",
            "6/6 [==============================] - 0s 325us/sample - loss: 0.0028\n",
            "Epoch 90/100\n",
            "6/6 [==============================] - 0s 364us/sample - loss: 0.0027\n",
            "Epoch 91/100\n",
            "6/6 [==============================] - 0s 315us/sample - loss: 0.0027\n",
            "Epoch 92/100\n",
            "6/6 [==============================] - 0s 327us/sample - loss: 0.0026\n",
            "Epoch 93/100\n",
            "6/6 [==============================] - 0s 398us/sample - loss: 0.0026\n",
            "Epoch 94/100\n",
            "6/6 [==============================] - 0s 341us/sample - loss: 0.0025\n",
            "Epoch 95/100\n",
            "6/6 [==============================] - 0s 354us/sample - loss: 0.0025\n",
            "Epoch 96/100\n",
            "6/6 [==============================] - 0s 317us/sample - loss: 0.0024\n",
            "Epoch 97/100\n",
            "6/6 [==============================] - 0s 368us/sample - loss: 0.0024\n",
            "Epoch 98/100\n",
            "6/6 [==============================] - 0s 377us/sample - loss: 0.0023\n",
            "Epoch 99/100\n",
            "6/6 [==============================] - 0s 402us/sample - loss: 0.0023\n",
            "Epoch 100/100\n",
            "6/6 [==============================] - 0s 414us/sample - loss: 0.0022\n"
          ],
          "name": "stdout"
        },
        {
          "output_type": "execute_result",
          "data": {
            "text/plain": [
              "<tensorflow.python.keras.callbacks.History at 0x7f4c012c7c50>"
            ]
          },
          "metadata": {
            "tags": []
          },
          "execution_count": 11
        }
      ]
    },
    {
      "cell_type": "code",
      "metadata": {
        "id": "DfdRMArsGZvl",
        "colab_type": "code",
        "colab": {
          "base_uri": "https://localhost:8080/",
          "height": 34
        },
        "outputId": "ff77612b-17ba-497d-da82-555e43f6f03e"
      },
      "source": [
        "print(model.predict([3.0]))"
      ],
      "execution_count": 2,
      "outputs": [
        {
          "output_type": "stream",
          "text": [
            "[[9.998353]]\n"
          ],
          "name": "stdout"
        }
      ]
    },
    {
      "cell_type": "markdown",
      "metadata": {
        "id": "SRKqf-XpHgts",
        "colab_type": "text"
      },
      "source": [
        "###Saving the Tensorflow model "
      ]
    },
    {
      "cell_type": "code",
      "metadata": {
        "id": "7UmAuwTHGc_W",
        "colab_type": "code",
        "colab": {
          "base_uri": "https://localhost:8080/",
          "height": 34
        },
        "outputId": "72a3ccbc-e9d2-46ec-df55-9ff2e8a0335d"
      },
      "source": [
        "model.save(\"Single_Layer_Model\",save_format=tf)"
      ],
      "execution_count": 6,
      "outputs": [
        {
          "output_type": "stream",
          "text": [
            "INFO:tensorflow:Assets written to: Single_Layer_Model/assets\n"
          ],
          "name": "stdout"
        }
      ]
    },
    {
      "cell_type": "code",
      "metadata": {
        "id": "X_s5PT8rHKXe",
        "colab_type": "code",
        "colab": {
          "base_uri": "https://localhost:8080/",
          "height": 34
        },
        "outputId": "68a06e01-2863-4988-c99c-02ef0821977c"
      },
      "source": [
        "saved_model_dir = '/content/Single_Layer'\n",
        "converter = tf.lite.TFLiteConverter.from_saved_model(saved_model_dir)\n",
        "tflite_model = converter.convert()\n",
        "open(\"converted_model.tflite\", \"wb\").write(tflite_model)"
      ],
      "execution_count": 4,
      "outputs": [
        {
          "output_type": "execute_result",
          "data": {
            "text/plain": [
              "780"
            ]
          },
          "metadata": {
            "tags": []
          },
          "execution_count": 4
        }
      ]
    },
    {
      "cell_type": "code",
      "metadata": {
        "id": "7YDZPS5CHqR5",
        "colab_type": "code",
        "colab": {
          "base_uri": "https://localhost:8080/",
          "height": 52
        },
        "outputId": "74e76fd4-18b9-4e68-b2f9-16a9af024d17"
      },
      "source": [
        "ls"
      ],
      "execution_count": 17,
      "outputs": [
        {
          "output_type": "stream",
          "text": [
            "converted_model.tflite       \u001b[0m\u001b[01;34msample_data\u001b[0m/\n",
            "\u001b[37;44mdeeplabv3_pascal_train_aug\u001b[0m/  \u001b[01;34mSingle_Layer_Model\u001b[0m/\n"
          ],
          "name": "stdout"
        }
      ]
    },
    {
      "cell_type": "markdown",
      "metadata": {
        "id": "yMES87OkFyvh",
        "colab_type": "text"
      },
      "source": [
        "###Using tflite_convert CLI to convert pretained model"
      ]
    },
    {
      "cell_type": "code",
      "metadata": {
        "id": "ylLj73q54Gtt",
        "colab_type": "code",
        "outputId": "e3ceed7e-d359-4e28-e01d-418a4312fbb0",
        "colab": {
          "base_uri": "https://localhost:8080/",
          "height": 158
        }
      },
      "source": [
        "!curl 'https://storage.googleapis.com/download.tensorflow.org/models/mobilenet_v1_0.50_128_frozen.tgz' \\\n",
        "  | tar xzv -C /tmp"
      ],
      "execution_count": 0,
      "outputs": [
        {
          "output_type": "stream",
          "text": [
            "  % Total    % Received % Xferd  Average Speed   Time    Time     Time  Current\n",
            "                                 Dload  Upload   Total   Spent    Left  Speed\n",
            "\r  0     0    0     0    0     0      0      0 --:--:-- --:--:-- --:--:--     0\r  0     0    0     0    0     0      0      0 --:--:-- --:--:-- --:--:--     0mobilenet_v1_0.50_128/\n",
            "mobilenet_v1_0.50_128/quantized_graph.pb\n",
            "mobilenet_v1_0.50_128/labels.txt\n",
            "mobilenet_v1_0.50_128/frozen_graph.pb\n",
            "\r100 6143k  100 6143k    0     0  8180k      0 --:--:-- --:--:-- --:--:-- 8169k\n"
          ],
          "name": "stdout"
        }
      ]
    },
    {
      "cell_type": "code",
      "metadata": {
        "id": "0MkeX0of4hDK",
        "colab_type": "code",
        "outputId": "def88d3f-e614-418f-bf44-4db3ec12e361",
        "colab": {
          "base_uri": "https://localhost:8080/",
          "height": 1000
        }
      },
      "source": [
        "!tflite_convert \\\n",
        "  --output_file=/tmp/converted_model.tflite \\\n",
        "  --graph_def_file=/tmp/mobilenet_v1_0.50_128/frozen_graph.pb \\\n",
        "  --input_arrays=input \\\n",
        "  --output_arrays=MobilenetV1/Predictions/Reshape_1"
      ],
      "execution_count": 0,
      "outputs": [
        {
          "output_type": "stream",
          "text": [
            "2019-12-22 09:14:50.465020: I tensorflow/stream_executor/platform/default/dso_loader.cc:44] Successfully opened dynamic library libcuda.so.1\n",
            "2019-12-22 09:14:50.529467: I tensorflow/stream_executor/cuda/cuda_gpu_executor.cc:983] successful NUMA node read from SysFS had negative value (-1), but there must be at least one NUMA node, so returning NUMA node zero\n",
            "2019-12-22 09:14:50.530065: I tensorflow/core/common_runtime/gpu/gpu_device.cc:1618] Found device 0 with properties: \n",
            "name: Tesla P100-PCIE-16GB major: 6 minor: 0 memoryClockRate(GHz): 1.3285\n",
            "pciBusID: 0000:00:04.0\n",
            "2019-12-22 09:14:50.542879: I tensorflow/stream_executor/platform/default/dso_loader.cc:44] Successfully opened dynamic library libcudart.so.10.1\n",
            "2019-12-22 09:14:50.816265: I tensorflow/stream_executor/platform/default/dso_loader.cc:44] Successfully opened dynamic library libcublas.so.10\n",
            "2019-12-22 09:14:50.951935: I tensorflow/stream_executor/platform/default/dso_loader.cc:44] Successfully opened dynamic library libcufft.so.10\n",
            "2019-12-22 09:14:50.971054: I tensorflow/stream_executor/platform/default/dso_loader.cc:44] Successfully opened dynamic library libcurand.so.10\n",
            "2019-12-22 09:14:51.244452: I tensorflow/stream_executor/platform/default/dso_loader.cc:44] Successfully opened dynamic library libcusolver.so.10\n",
            "2019-12-22 09:14:51.283798: I tensorflow/stream_executor/platform/default/dso_loader.cc:44] Successfully opened dynamic library libcusparse.so.10\n",
            "2019-12-22 09:14:51.797728: I tensorflow/stream_executor/platform/default/dso_loader.cc:44] Successfully opened dynamic library libcudnn.so.7\n",
            "2019-12-22 09:14:51.797884: I tensorflow/stream_executor/cuda/cuda_gpu_executor.cc:983] successful NUMA node read from SysFS had negative value (-1), but there must be at least one NUMA node, so returning NUMA node zero\n",
            "2019-12-22 09:14:51.798550: I tensorflow/stream_executor/cuda/cuda_gpu_executor.cc:983] successful NUMA node read from SysFS had negative value (-1), but there must be at least one NUMA node, so returning NUMA node zero\n",
            "2019-12-22 09:14:51.799125: I tensorflow/core/common_runtime/gpu/gpu_device.cc:1746] Adding visible gpu devices: 0\n",
            "2019-12-22 09:14:51.799655: I tensorflow/core/platform/cpu_feature_guard.cc:142] Your CPU supports instructions that this TensorFlow binary was not compiled to use: AVX512F\n",
            "2019-12-22 09:14:51.857383: I tensorflow/core/platform/profile_utils/cpu_utils.cc:94] CPU Frequency: 2000175000 Hz\n",
            "2019-12-22 09:14:51.857709: I tensorflow/compiler/xla/service/service.cc:168] XLA service 0x55dddedf4d80 initialized for platform Host (this does not guarantee that XLA will be used). Devices:\n",
            "2019-12-22 09:14:51.857746: I tensorflow/compiler/xla/service/service.cc:176]   StreamExecutor device (0): Host, Default Version\n",
            "2019-12-22 09:14:51.979570: I tensorflow/stream_executor/cuda/cuda_gpu_executor.cc:983] successful NUMA node read from SysFS had negative value (-1), but there must be at least one NUMA node, so returning NUMA node zero\n",
            "2019-12-22 09:14:51.980377: I tensorflow/compiler/xla/service/service.cc:168] XLA service 0x55dddedf5d40 initialized for platform CUDA (this does not guarantee that XLA will be used). Devices:\n",
            "2019-12-22 09:14:51.980407: I tensorflow/compiler/xla/service/service.cc:176]   StreamExecutor device (0): Tesla P100-PCIE-16GB, Compute Capability 6.0\n",
            "2019-12-22 09:14:51.981635: I tensorflow/stream_executor/cuda/cuda_gpu_executor.cc:983] successful NUMA node read from SysFS had negative value (-1), but there must be at least one NUMA node, so returning NUMA node zero\n",
            "2019-12-22 09:14:51.982175: I tensorflow/core/common_runtime/gpu/gpu_device.cc:1618] Found device 0 with properties: \n",
            "name: Tesla P100-PCIE-16GB major: 6 minor: 0 memoryClockRate(GHz): 1.3285\n",
            "pciBusID: 0000:00:04.0\n",
            "2019-12-22 09:14:51.982218: I tensorflow/stream_executor/platform/default/dso_loader.cc:44] Successfully opened dynamic library libcudart.so.10.1\n",
            "2019-12-22 09:14:51.982234: I tensorflow/stream_executor/platform/default/dso_loader.cc:44] Successfully opened dynamic library libcublas.so.10\n",
            "2019-12-22 09:14:51.982247: I tensorflow/stream_executor/platform/default/dso_loader.cc:44] Successfully opened dynamic library libcufft.so.10\n",
            "2019-12-22 09:14:51.982261: I tensorflow/stream_executor/platform/default/dso_loader.cc:44] Successfully opened dynamic library libcurand.so.10\n",
            "2019-12-22 09:14:51.982274: I tensorflow/stream_executor/platform/default/dso_loader.cc:44] Successfully opened dynamic library libcusolver.so.10\n",
            "2019-12-22 09:14:51.982316: I tensorflow/stream_executor/platform/default/dso_loader.cc:44] Successfully opened dynamic library libcusparse.so.10\n",
            "2019-12-22 09:14:51.982333: I tensorflow/stream_executor/platform/default/dso_loader.cc:44] Successfully opened dynamic library libcudnn.so.7\n",
            "2019-12-22 09:14:51.982379: I tensorflow/stream_executor/cuda/cuda_gpu_executor.cc:983] successful NUMA node read from SysFS had negative value (-1), but there must be at least one NUMA node, so returning NUMA node zero\n",
            "2019-12-22 09:14:51.982952: I tensorflow/stream_executor/cuda/cuda_gpu_executor.cc:983] successful NUMA node read from SysFS had negative value (-1), but there must be at least one NUMA node, so returning NUMA node zero\n",
            "2019-12-22 09:14:51.983574: I tensorflow/core/common_runtime/gpu/gpu_device.cc:1746] Adding visible gpu devices: 0\n",
            "2019-12-22 09:14:51.987138: I tensorflow/stream_executor/platform/default/dso_loader.cc:44] Successfully opened dynamic library libcudart.so.10.1\n",
            "2019-12-22 09:14:51.988381: I tensorflow/core/common_runtime/gpu/gpu_device.cc:1159] Device interconnect StreamExecutor with strength 1 edge matrix:\n",
            "2019-12-22 09:14:51.988410: I tensorflow/core/common_runtime/gpu/gpu_device.cc:1165]      0 \n",
            "2019-12-22 09:14:51.988420: I tensorflow/core/common_runtime/gpu/gpu_device.cc:1178] 0:   N \n",
            "2019-12-22 09:14:51.989710: I tensorflow/stream_executor/cuda/cuda_gpu_executor.cc:983] successful NUMA node read from SysFS had negative value (-1), but there must be at least one NUMA node, so returning NUMA node zero\n",
            "2019-12-22 09:14:51.990272: I tensorflow/stream_executor/cuda/cuda_gpu_executor.cc:983] successful NUMA node read from SysFS had negative value (-1), but there must be at least one NUMA node, so returning NUMA node zero\n",
            "2019-12-22 09:14:51.990826: W tensorflow/core/common_runtime/gpu/gpu_bfc_allocator.cc:39] Overriding allow_growth setting because the TF_FORCE_GPU_ALLOW_GROWTH environment variable is set. Original config value was 0.\n",
            "2019-12-22 09:14:51.990862: I tensorflow/core/common_runtime/gpu/gpu_device.cc:1304] Created TensorFlow device (/job:localhost/replica:0/task:0/device:GPU:0 with 15216 MB memory) -> physical GPU (device: 0, name: Tesla P100-PCIE-16GB, pci bus id: 0000:00:04.0, compute capability: 6.0)\n",
            "2019-12-22 09:14:52.160662: I tensorflow/stream_executor/cuda/cuda_gpu_executor.cc:983] successful NUMA node read from SysFS had negative value (-1), but there must be at least one NUMA node, so returning NUMA node zero\n",
            "2019-12-22 09:14:52.161260: I tensorflow/core/grappler/devices.cc:55] Number of eligible GPUs (core count >= 8, compute capability >= 0.0): 1\n",
            "2019-12-22 09:14:52.161403: I tensorflow/core/grappler/clusters/single_machine.cc:356] Starting new session\n",
            "2019-12-22 09:14:52.161989: I tensorflow/stream_executor/cuda/cuda_gpu_executor.cc:983] successful NUMA node read from SysFS had negative value (-1), but there must be at least one NUMA node, so returning NUMA node zero\n",
            "2019-12-22 09:14:52.162602: I tensorflow/core/common_runtime/gpu/gpu_device.cc:1618] Found device 0 with properties: \n",
            "name: Tesla P100-PCIE-16GB major: 6 minor: 0 memoryClockRate(GHz): 1.3285\n",
            "pciBusID: 0000:00:04.0\n",
            "2019-12-22 09:14:52.162654: I tensorflow/stream_executor/platform/default/dso_loader.cc:44] Successfully opened dynamic library libcudart.so.10.1\n",
            "2019-12-22 09:14:52.162671: I tensorflow/stream_executor/platform/default/dso_loader.cc:44] Successfully opened dynamic library libcublas.so.10\n",
            "2019-12-22 09:14:52.162684: I tensorflow/stream_executor/platform/default/dso_loader.cc:44] Successfully opened dynamic library libcufft.so.10\n",
            "2019-12-22 09:14:52.162698: I tensorflow/stream_executor/platform/default/dso_loader.cc:44] Successfully opened dynamic library libcurand.so.10\n",
            "2019-12-22 09:14:52.162711: I tensorflow/stream_executor/platform/default/dso_loader.cc:44] Successfully opened dynamic library libcusolver.so.10\n",
            "2019-12-22 09:14:52.162722: I tensorflow/stream_executor/platform/default/dso_loader.cc:44] Successfully opened dynamic library libcusparse.so.10\n",
            "2019-12-22 09:14:52.162734: I tensorflow/stream_executor/platform/default/dso_loader.cc:44] Successfully opened dynamic library libcudnn.so.7\n",
            "2019-12-22 09:14:52.162779: I tensorflow/stream_executor/cuda/cuda_gpu_executor.cc:983] successful NUMA node read from SysFS had negative value (-1), but there must be at least one NUMA node, so returning NUMA node zero\n",
            "2019-12-22 09:14:52.163318: I tensorflow/stream_executor/cuda/cuda_gpu_executor.cc:983] successful NUMA node read from SysFS had negative value (-1), but there must be at least one NUMA node, so returning NUMA node zero\n",
            "2019-12-22 09:14:52.163865: I tensorflow/core/common_runtime/gpu/gpu_device.cc:1746] Adding visible gpu devices: 0\n",
            "2019-12-22 09:14:52.163896: I tensorflow/core/common_runtime/gpu/gpu_device.cc:1159] Device interconnect StreamExecutor with strength 1 edge matrix:\n",
            "2019-12-22 09:14:52.163905: I tensorflow/core/common_runtime/gpu/gpu_device.cc:1165]      0 \n",
            "2019-12-22 09:14:52.163914: I tensorflow/core/common_runtime/gpu/gpu_device.cc:1178] 0:   N \n",
            "2019-12-22 09:14:52.163973: I tensorflow/stream_executor/cuda/cuda_gpu_executor.cc:983] successful NUMA node read from SysFS had negative value (-1), but there must be at least one NUMA node, so returning NUMA node zero\n",
            "2019-12-22 09:14:52.164486: I tensorflow/stream_executor/cuda/cuda_gpu_executor.cc:983] successful NUMA node read from SysFS had negative value (-1), but there must be at least one NUMA node, so returning NUMA node zero\n",
            "2019-12-22 09:14:52.164963: I tensorflow/core/common_runtime/gpu/gpu_device.cc:1304] Created TensorFlow device (/job:localhost/replica:0/task:0/device:GPU:0 with 15216 MB memory) -> physical GPU (device: 0, name: Tesla P100-PCIE-16GB, pci bus id: 0000:00:04.0, compute capability: 6.0)\n",
            "2019-12-22 09:14:52.296691: I tensorflow/core/grappler/optimizers/meta_optimizer.cc:786] Optimization results for grappler item: graph_to_optimize\n",
            "2019-12-22 09:14:52.296745: I tensorflow/core/grappler/optimizers/meta_optimizer.cc:788]   constant_folding: Graph size after: 174 nodes (-381), 173 edges (-408), time = 103.039ms.\n",
            "2019-12-22 09:14:52.296754: I tensorflow/core/grappler/optimizers/meta_optimizer.cc:788]   constant_folding: Graph size after: 174 nodes (0), 173 edges (0), time = 8.903ms.\n"
          ],
          "name": "stdout"
        }
      ]
    },
    {
      "cell_type": "code",
      "metadata": {
        "id": "c7Pdyyno5EmI",
        "colab_type": "code",
        "colab": {}
      },
      "source": [
        "#deeplab pretrained model\n",
        "#http://download.tensorflow.org/models/deeplabv3_pascal_train_aug_2018_01_04.tar.gz"
      ],
      "execution_count": 0,
      "outputs": []
    },
    {
      "cell_type": "code",
      "metadata": {
        "id": "WT5H7j5N5chG",
        "colab_type": "code",
        "outputId": "38de261a-dddd-4109-f8bf-e6a50ecea037",
        "colab": {
          "base_uri": "https://localhost:8080/",
          "height": 158
        }
      },
      "source": [
        "!curl 'http://download.tensorflow.org/models/deeplabv3_pascal_train_aug_2018_01_04.tar.gz' \\\n",
        "  | tar xzv -C /content"
      ],
      "execution_count": 7,
      "outputs": [
        {
          "output_type": "stream",
          "text": [
            "  % Total    % Received % Xferd  Average Speed   Time    Time     Time  Current\n",
            "                                 Dload  Upload   Total   Spent    Left  Speed\n",
            "\r  0     0    0     0    0     0      0      0 --:--:-- --:--:-- --:--:--     0deeplabv3_pascal_train_aug/\n",
            "deeplabv3_pascal_train_aug/model.ckpt.index\n",
            "deeplabv3_pascal_train_aug/frozen_inference_graph.pb\n",
            " 25  438M   25  109M    0     0  65.5M      0  0:00:06  0:00:01  0:00:05 65.5Mdeeplabv3_pascal_train_aug/model.ckpt.data-00000-of-00001\n",
            "100  438M  100  438M    0     0  58.8M      0  0:00:07  0:00:07 --:--:-- 55.8M\n"
          ],
          "name": "stdout"
        }
      ]
    },
    {
      "cell_type": "code",
      "metadata": {
        "id": "l6ZuAyY75vAM",
        "colab_type": "code",
        "outputId": "c09a3686-d686-42c4-9e02-5d391a93b93e",
        "colab": {
          "base_uri": "https://localhost:8080/",
          "height": 452
        }
      },
      "source": [
        "!tflite_convert \\\n",
        "  --output_file=/content/foo.tflite \\\n",
        "  --graph_def_file=/content/deeplabv3_pascal_train_aug \\\n",
        "  --input_arrays=input \\\n",
        "  --output_arrays=deeplabv3/Predictions/Reshape_1 \\\n",
        "  --saved_model_dir=/content/deeplabv3_pascal_train_aug \\"
      ],
      "execution_count": 16,
      "outputs": [
        {
          "output_type": "stream",
          "text": [
            "INFO:tensorflow:Saver not created because there are no variables in the graph to restore\n",
            "I1222 10:45:51.442835 140113500379008 saver.py:1503] Saver not created because there are no variables in the graph to restore\n",
            "2019-12-22 10:45:51.445007: I tensorflow/core/platform/cpu_feature_guard.cc:142] Your CPU supports instructions that this TensorFlow binary was not compiled to use: AVX2 FMA\n",
            "2019-12-22 10:45:51.449049: I tensorflow/core/platform/profile_utils/cpu_utils.cc:94] CPU Frequency: 2200000000 Hz\n",
            "2019-12-22 10:45:51.449891: I tensorflow/compiler/xla/service/service.cc:168] XLA service 0x1a25a8c0 executing computations on platform Host. Devices:\n",
            "2019-12-22 10:45:51.449927: I tensorflow/compiler/xla/service/service.cc:175]   StreamExecutor device (0): Host, Default Version\n",
            "Traceback (most recent call last):\n",
            "  File \"/usr/local/bin/tflite_convert\", line 8, in <module>\n",
            "    sys.exit(main())\n",
            "  File \"/usr/local/lib/python3.6/dist-packages/tensorflow_core/lite/python/tflite_convert.py\", line 515, in main\n",
            "    app.run(main=run_main, argv=sys.argv[:1])\n",
            "  File \"/usr/local/lib/python3.6/dist-packages/tensorflow_core/python/platform/app.py\", line 40, in run\n",
            "    _run(main=main, argv=argv, flags_parser=_parse_flags_tolerate_undef)\n",
            "  File \"/usr/local/lib/python3.6/dist-packages/absl/app.py\", line 299, in run\n",
            "    _run_main(main, args)\n",
            "  File \"/usr/local/lib/python3.6/dist-packages/absl/app.py\", line 250, in _run_main\n",
            "    sys.exit(main(argv))\n",
            "  File \"/usr/local/lib/python3.6/dist-packages/tensorflow_core/lite/python/tflite_convert.py\", line 502, in run_main\n",
            "    _convert_tf2_model(tflite_flags)\n",
            "  File \"/usr/local/lib/python3.6/dist-packages/tensorflow_core/lite/python/tflite_convert.py\", line 221, in _convert_tf2_model\n",
            "    tflite_model = converter.convert()\n",
            "  File \"/usr/local/lib/python3.6/dist-packages/tensorflow_core/lite/python/lite.py\", line 400, in convert\n",
            "    raise ValueError(\"This converter can only convert a single \"\n",
            "ValueError: This converter can only convert a single ConcreteFunction. Converting multiple functions is under development.\n"
          ],
          "name": "stdout"
        }
      ]
    },
    {
      "cell_type": "code",
      "metadata": {
        "id": "JpPH3U7-MNsv",
        "colab_type": "code",
        "colab": {}
      },
      "source": [
        ""
      ],
      "execution_count": 0,
      "outputs": []
    }
  ]
}