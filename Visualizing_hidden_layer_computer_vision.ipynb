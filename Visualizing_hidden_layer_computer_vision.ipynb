{
  "nbformat": 4,
  "nbformat_minor": 0,
  "metadata": {
    "colab": {
      "name": "Visualizing hidden layer -computer vision.ipynb",
      "provenance": []
    },
    "kernelspec": {
      "name": "python3",
      "display_name": "Python 3"
    }
  },
  "cells": [
    {
      "cell_type": "code",
      "metadata": {
        "id": "ri_wUmYYpkWX",
        "colab_type": "code",
        "outputId": "68eb359b-e820-4611-e04e-4b8850890de2",
        "colab": {
          "base_uri": "https://localhost:8080/",
          "height": 63
        }
      },
      "source": [
        "import tensorflow as tf\n",
        "from tensorflow import keras"
      ],
      "execution_count": 0,
      "outputs": [
        {
          "output_type": "display_data",
          "data": {
            "text/html": [
              "<p style=\"color: red;\">\n",
              "The default version of TensorFlow in Colab will soon switch to TensorFlow 2.x.<br>\n",
              "We recommend you <a href=\"https://www.tensorflow.org/guide/migrate\" target=\"_blank\">upgrade</a> now \n",
              "or ensure your notebook will continue to use TensorFlow 1.x via the <code>%tensorflow_version 1.x</code> magic:\n",
              "<a href=\"https://colab.research.google.com/notebooks/tensorflow_version.ipynb\" target=\"_blank\">more info</a>.</p>\n"
            ],
            "text/plain": [
              "<IPython.core.display.HTML object>"
            ]
          },
          "metadata": {
            "tags": []
          }
        }
      ]
    },
    {
      "cell_type": "code",
      "metadata": {
        "id": "qtmSPt31qB7M",
        "colab_type": "code",
        "outputId": "73e035f7-78b1-49e0-b9cf-50456bb4628c",
        "colab": {
          "base_uri": "https://localhost:8080/",
          "height": 34
        }
      },
      "source": [
        "print(tf.__version__)"
      ],
      "execution_count": 0,
      "outputs": [
        {
          "output_type": "stream",
          "text": [
            "1.15.0\n"
          ],
          "name": "stdout"
        }
      ]
    },
    {
      "cell_type": "code",
      "metadata": {
        "id": "TfUqMN0tqSOj",
        "colab_type": "code",
        "colab": {}
      },
      "source": [
        "mnist= keras.datasets.fashion_mnist"
      ],
      "execution_count": 0,
      "outputs": []
    },
    {
      "cell_type": "code",
      "metadata": {
        "id": "MxbyqSM5qwtZ",
        "colab_type": "code",
        "outputId": "851b6653-0456-4ef4-b2e0-7784c0204bd1",
        "colab": {
          "base_uri": "https://localhost:8080/",
          "height": 153
        }
      },
      "source": [
        "(training_image,training_label), (test_image,test_label)=mnist.load_data()"
      ],
      "execution_count": 0,
      "outputs": [
        {
          "output_type": "stream",
          "text": [
            "Downloading data from https://storage.googleapis.com/tensorflow/tf-keras-datasets/train-labels-idx1-ubyte.gz\n",
            "32768/29515 [=================================] - 0s 0us/step\n",
            "Downloading data from https://storage.googleapis.com/tensorflow/tf-keras-datasets/train-images-idx3-ubyte.gz\n",
            "26427392/26421880 [==============================] - 0s 0us/step\n",
            "Downloading data from https://storage.googleapis.com/tensorflow/tf-keras-datasets/t10k-labels-idx1-ubyte.gz\n",
            "8192/5148 [===============================================] - 0s 0us/step\n",
            "Downloading data from https://storage.googleapis.com/tensorflow/tf-keras-datasets/t10k-images-idx3-ubyte.gz\n",
            "4423680/4422102 [==============================] - 0s 0us/step\n"
          ],
          "name": "stdout"
        }
      ]
    },
    {
      "cell_type": "code",
      "metadata": {
        "id": "p6zWyWdjrKQJ",
        "colab_type": "code",
        "outputId": "3a80788e-283c-44db-fd2b-e1b89eb4f3c5",
        "colab": {
          "base_uri": "https://localhost:8080/",
          "height": 51
        }
      },
      "source": [
        "import matplotlib.pyplot as plt\n",
        "print(training_image.shape)\n",
        "print(test_image.shape)"
      ],
      "execution_count": 0,
      "outputs": [
        {
          "output_type": "stream",
          "text": [
            "(60000, 28, 28)\n",
            "(10000, 28, 28)\n"
          ],
          "name": "stdout"
        }
      ]
    },
    {
      "cell_type": "code",
      "metadata": {
        "id": "jhz1KkORrgeI",
        "colab_type": "code",
        "colab": {}
      },
      "source": [
        "plt.imshow(training_image[10])"
      ],
      "execution_count": 0,
      "outputs": []
    },
    {
      "cell_type": "code",
      "metadata": {
        "id": "AGjgYGWRrzOf",
        "colab_type": "code",
        "colab": {}
      },
      "source": [
        "print(training_image[4])"
      ],
      "execution_count": 0,
      "outputs": []
    },
    {
      "cell_type": "code",
      "metadata": {
        "id": "RXel2mFAr8iI",
        "colab_type": "code",
        "colab": {}
      },
      "source": [
        "training_image = training_image / 255\n",
        "test_image = test_image / 255\n"
      ],
      "execution_count": 0,
      "outputs": []
    },
    {
      "cell_type": "code",
      "metadata": {
        "id": "HkP4nL0puyzZ",
        "colab_type": "code",
        "outputId": "4ade1a09-4a3b-4449-f6b8-31acc0275bd8",
        "colab": {
          "base_uri": "https://localhost:8080/",
          "height": 34
        }
      },
      "source": [
        "print(training_image.shape)"
      ],
      "execution_count": 0,
      "outputs": [
        {
          "output_type": "stream",
          "text": [
            "(60000, 28, 28)\n"
          ],
          "name": "stdout"
        }
      ]
    },
    {
      "cell_type": "code",
      "metadata": {
        "id": "Dj--nbANvDmR",
        "colab_type": "code",
        "colab": {}
      },
      "source": [
        "training_image= training_image.reshape(60000,28,28,1)"
      ],
      "execution_count": 0,
      "outputs": []
    },
    {
      "cell_type": "code",
      "metadata": {
        "id": "TabE7LOqxmM9",
        "colab_type": "code",
        "colab": {}
      },
      "source": [
        "test_image = test_image.reshape(10000,28,28,1)"
      ],
      "execution_count": 0,
      "outputs": []
    },
    {
      "cell_type": "code",
      "metadata": {
        "id": "QsWI7ptKvVzX",
        "colab_type": "code",
        "outputId": "7b133968-f6f1-45b8-eb47-a901d0cbd1b3",
        "colab": {
          "base_uri": "https://localhost:8080/",
          "height": 34
        }
      },
      "source": [
        "print(training_image.shape)"
      ],
      "execution_count": 0,
      "outputs": [
        {
          "output_type": "stream",
          "text": [
            "(60000, 28, 28, 1)\n"
          ],
          "name": "stdout"
        }
      ]
    },
    {
      "cell_type": "code",
      "metadata": {
        "id": "ysjyO3R3vY8f",
        "colab_type": "code",
        "outputId": "51f797e6-da94-4f0e-e155-de39c8f997d5",
        "colab": {
          "base_uri": "https://localhost:8080/",
          "height": 34
        }
      },
      "source": [
        "#print(training_image[1])\n",
        "print(training_label[8])"
      ],
      "execution_count": 0,
      "outputs": [
        {
          "output_type": "stream",
          "text": [
            "5\n"
          ],
          "name": "stdout"
        }
      ]
    },
    {
      "cell_type": "code",
      "metadata": {
        "id": "7uJ0UbLbsWgl",
        "colab_type": "code",
        "colab": {}
      },
      "source": [
        "print(training_image[4])"
      ],
      "execution_count": 0,
      "outputs": []
    },
    {
      "cell_type": "code",
      "metadata": {
        "id": "42VPNIf5sZLd",
        "colab_type": "code",
        "outputId": "2e8fe3b8-e33d-4344-a598-4d89b3be818d",
        "colab": {
          "base_uri": "https://localhost:8080/",
          "height": 666
        }
      },
      "source": [
        "model = keras.models.Sequential([keras.layers.Conv2D(64,(3,3), activation='relu', input_shape=(28,28,1)),\n",
        "                                 keras.layers.MaxPooling2D(2,2),\n",
        "                                 keras.layers.Conv2D(64,(3,3),activation='relu'),\n",
        "                                 keras.layers.MaxPooling2D(2,2),\n",
        "                                 keras.layers.Flatten(),\n",
        "                                 keras.layers.Dense(128, activation='relu'),\n",
        "                                 keras.layers.Dense(10,'softmax')])\n",
        "\n",
        "model.compile(optimizer='adam', loss='sparse_categorical_crossentropy', metrics=['accuracy'])\n",
        "model.summary()\n",
        "model.fit(training_image, training_label, epochs=5)"
      ],
      "execution_count": 0,
      "outputs": [
        {
          "output_type": "stream",
          "text": [
            "WARNING:tensorflow:From /usr/local/lib/python3.6/dist-packages/tensorflow_core/python/ops/resource_variable_ops.py:1630: calling BaseResourceVariable.__init__ (from tensorflow.python.ops.resource_variable_ops) with constraint is deprecated and will be removed in a future version.\n",
            "Instructions for updating:\n",
            "If using Keras pass *_constraint arguments to layers.\n",
            "Model: \"sequential\"\n",
            "_________________________________________________________________\n",
            "Layer (type)                 Output Shape              Param #   \n",
            "=================================================================\n",
            "conv2d (Conv2D)              (None, 26, 26, 64)        640       \n",
            "_________________________________________________________________\n",
            "max_pooling2d (MaxPooling2D) (None, 13, 13, 64)        0         \n",
            "_________________________________________________________________\n",
            "conv2d_1 (Conv2D)            (None, 11, 11, 64)        36928     \n",
            "_________________________________________________________________\n",
            "max_pooling2d_1 (MaxPooling2 (None, 5, 5, 64)          0         \n",
            "_________________________________________________________________\n",
            "flatten (Flatten)            (None, 1600)              0         \n",
            "_________________________________________________________________\n",
            "dense (Dense)                (None, 128)               204928    \n",
            "_________________________________________________________________\n",
            "dense_1 (Dense)              (None, 10)                1290      \n",
            "=================================================================\n",
            "Total params: 243,786\n",
            "Trainable params: 243,786\n",
            "Non-trainable params: 0\n",
            "_________________________________________________________________\n",
            "Train on 60000 samples\n",
            "Epoch 1/5\n",
            "60000/60000 [==============================] - 95s 2ms/sample - loss: 0.4435 - acc: 0.8379\n",
            "Epoch 2/5\n",
            "60000/60000 [==============================] - 92s 2ms/sample - loss: 0.2989 - acc: 0.8899\n",
            "Epoch 3/5\n",
            "60000/60000 [==============================] - 91s 2ms/sample - loss: 0.2510 - acc: 0.9061\n",
            "Epoch 4/5\n",
            "60000/60000 [==============================] - 91s 2ms/sample - loss: 0.2188 - acc: 0.9178\n",
            "Epoch 5/5\n",
            "60000/60000 [==============================] - 91s 2ms/sample - loss: 0.1920 - acc: 0.9268\n"
          ],
          "name": "stdout"
        },
        {
          "output_type": "execute_result",
          "data": {
            "text/plain": [
              "<tensorflow.python.keras.callbacks.History at 0x7effa0724588>"
            ]
          },
          "metadata": {
            "tags": []
          },
          "execution_count": 16
        }
      ]
    },
    {
      "cell_type": "code",
      "metadata": {
        "id": "CG8BjeNqNYMR",
        "colab_type": "code",
        "outputId": "32dfecb0-5a84-486d-fd3e-ae59ded86c4e",
        "colab": {
          "base_uri": "https://localhost:8080/",
          "height": 51
        }
      },
      "source": [
        "model.evaluate(test_image,test_label)"
      ],
      "execution_count": 0,
      "outputs": [
        {
          "output_type": "stream",
          "text": [
            "10000/10000 [==============================] - 4s 417us/sample - loss: 0.2405 - acc: 0.9103\n"
          ],
          "name": "stdout"
        },
        {
          "output_type": "execute_result",
          "data": {
            "text/plain": [
              "[0.2405308268547058, 0.9103]"
            ]
          },
          "metadata": {
            "tags": []
          },
          "execution_count": 17
        }
      ]
    },
    {
      "cell_type": "code",
      "metadata": {
        "id": "ylaAnVl8IzDs",
        "colab_type": "code",
        "outputId": "302bd19b-68d3-4199-9c59-a117f1700d62",
        "colab": {
          "base_uri": "https://localhost:8080/",
          "height": 68
        }
      },
      "source": [
        "test_loss,test_accuracy = model.evaluate(test_image,test_label)\n",
        "print(\"Test loss: {} \\n Test Accuracy: {}\".format(test_loss,test_accuracy))"
      ],
      "execution_count": 0,
      "outputs": [
        {
          "output_type": "stream",
          "text": [
            "10000/10000 [==============================] - 4s 440us/sample - loss: 0.2405 - acc: 0.9103\n",
            "Test loss: 0.2405308268547058 \n",
            " Test Accuracy: 0.9103000164031982\n"
          ],
          "name": "stdout"
        }
      ]
    },
    {
      "cell_type": "code",
      "metadata": {
        "id": "NDwNA5BpMDrU",
        "colab_type": "code",
        "outputId": "7ea0d03e-c8cc-48d1-f90f-fbbf5389b23a",
        "colab": {
          "base_uri": "https://localhost:8080/",
          "height": 51
        }
      },
      "source": [
        "print(\"Test loss: {} \\nTest Accuracy: {}\".format(test_loss,test_accuracy))"
      ],
      "execution_count": 0,
      "outputs": [
        {
          "output_type": "stream",
          "text": [
            "Test loss: 0.2405308268547058 \n",
            "Test Accuracy: 0.9103000164031982\n"
          ],
          "name": "stdout"
        }
      ]
    },
    {
      "cell_type": "markdown",
      "metadata": {
        "id": "EIGJmSOUNnXn",
        "colab_type": "text"
      },
      "source": [
        "#Visualizing hidden layers (Covolution and pooling)"
      ]
    },
    {
      "cell_type": "code",
      "metadata": {
        "id": "B16ZcWOwM1SI",
        "colab_type": "code",
        "colab": {}
      },
      "source": [
        "fig,axis = plt.subplots(3,4)\n",
        "\n",
        "FIRST_IMAGE = 0\n",
        "SECOND_IMAGE = 7\n",
        "THIRD_IMAGE = 26\n",
        "CONVOLUTION_NUMBER = 1\n"
      ],
      "execution_count": 0,
      "outputs": []
    },
    {
      "cell_type": "code",
      "metadata": {
        "id": "6dfk6adBRgCp",
        "colab_type": "code",
        "colab": {}
      },
      "source": [
        "from keras import models"
      ],
      "execution_count": 0,
      "outputs": []
    },
    {
      "cell_type": "markdown",
      "metadata": {
        "id": "XCPFSAGkaXmF",
        "colab_type": "text"
      },
      "source": [
        "#####model.layers is used to visualize intermediate layers."
      ]
    },
    {
      "cell_type": "code",
      "metadata": {
        "id": "i6f1v3ySR3oX",
        "colab_type": "code",
        "colab": {}
      },
      "source": [
        "layer_output = [layer.output for layer in model.layers]\n",
        "activation_model = keras.models.Model(inputs = model.input, outputs = layer_output)\n"
      ],
      "execution_count": 0,
      "outputs": []
    },
    {
      "cell_type": "code",
      "metadata": {
        "id": "aHuUG1JweLX9",
        "colab_type": "code",
        "outputId": "26b58433-230a-4677-d205-c7dd2549bf1a",
        "colab": {
          "base_uri": "https://localhost:8080/",
          "height": 34
        }
      },
      "source": [
        "fig1= activation_model.predict(test_image[FIRST_IMAGE].reshape(1,28,28,1))[2]\n",
        "print(fig1.shape)"
      ],
      "execution_count": 0,
      "outputs": [
        {
          "output_type": "stream",
          "text": [
            "(1, 11, 11, 64)\n"
          ],
          "name": "stdout"
        }
      ]
    },
    {
      "cell_type": "code",
      "metadata": {
        "id": "zuw0CSUGf6hT",
        "colab_type": "code",
        "outputId": "b0166bbc-c3c3-4481-83b4-ddb0717ec61a",
        "colab": {
          "base_uri": "https://localhost:8080/",
          "height": 34
        }
      },
      "source": [
        "print(fig1.size)"
      ],
      "execution_count": 0,
      "outputs": [
        {
          "output_type": "stream",
          "text": [
            "7744\n"
          ],
          "name": "stdout"
        }
      ]
    },
    {
      "cell_type": "code",
      "metadata": {
        "id": "kgFuA3qtasu8",
        "colab_type": "code",
        "outputId": "d6e86469-144b-4753-ee65-3f36181f5db6",
        "colab": {
          "base_uri": "https://localhost:8080/",
          "height": 268
        }
      },
      "source": [
        "f, axarr = plt.subplots(3,4)\n",
        "FIRST_IMAGE=0\n",
        "SECOND_IMAGE=7\n",
        "THIRD_IMAGE=26\n",
        "CONVOLUTION_NUMBER = 3\n",
        "from tensorflow.keras import models\n",
        "layer_outputs = [layer.output for layer in model.layers]\n",
        "activation_model = tf.keras.models.Model(inputs = model.input, outputs = layer_outputs)\n",
        "for x in range(0,4):\n",
        "  fig1 = activation_model.predict(test_image[FIRST_IMAGE].reshape(1,28,28,1))[x]\n",
        "  axarr[0,x].imshow(fig1[0, :, :, CONVOLUTION_NUMBER], cmap='inferno')\n",
        "  axarr[0,x].grid(False)\n",
        "  fig2 = activation_model.predict(test_image[SECOND_IMAGE].reshape(1,28,28,1))[x]\n",
        "  axarr[1,x].imshow(fig2[0, :, :, CONVOLUTION_NUMBER], cmap='inferno')\n",
        "  axarr[1,x].grid(False)\n",
        "  fig3 = activation_model.predict(test_image[THIRD_IMAGE].reshape(1,28,28,1))[x]\n",
        "  axarr[2,x].imshow(fig3[0, :, :, CONVOLUTION_NUMBER], cmap='inferno')\n",
        "  axarr[2,x].grid(False)\n"
      ],
      "execution_count": 0,
      "outputs": [
        {
          "output_type": "display_data",
          "data": {
            "image/png": "[encoded data removed]",
            "text/plain": [
              "<Figure size 432x288 with 12 Axes>"
            ]
          },
          "metadata": {
            "tags": []
          }
        }
      ]
    },
    {
      "cell_type": "code",
      "metadata": {
        "id": "Cfm5Y81_C2MP",
        "colab_type": "code",
        "colab": {}
      },
      "source": [
        "model1= keras.models.Sequential([\n",
        "                                 keras.layers.Conv2D(32, (3,3), activation='relu',input_shape=(28,28,1)),\n",
        "                                 keras.layers.MaxPool2D(2,2),\n",
        "                                 keras.layers.Flatten(),\n",
        "                                 keras.layers.Dense(128,activation='relu'),\n",
        "                                 keras.layers.Dense(10)\n",
        "                                 ])"
      ],
      "execution_count": 0,
      "outputs": []
    }
  ]
}