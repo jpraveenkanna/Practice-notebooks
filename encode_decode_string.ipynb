{
  "cells": [
    {
      "cell_type": "markdown",
      "metadata": {
        "id": "view-in-github",
        "colab_type": "text"
      },
      "source": [
        "<a href=\"https://colab.research.google.com/github/jpraveenkanna/Practice-notebooks/blob/master/encode_decode_string.ipynb\" target=\"_parent\"><img src=\"https://colab.research.google.com/assets/colab-badge.svg\" alt=\"Open In Colab\"/></a>"
      ]
    },
    {
      "cell_type": "code",
      "execution_count": 4,
      "metadata": {
        "colab": {
          "base_uri": "https://localhost:8080/"
        },
        "id": "lIYdn1woOS1n",
        "outputId": "774bd261-4ff4-48f3-e393-b6e664f41ac7"
      },
      "outputs": [
        {
          "output_type": "stream",
          "name": "stdout",
          "text": [
            "#6leet..#5#code\n",
            "['leet..', '#code']\n"
          ]
        }
      ],
      "source": [
        "def encode(input):\n",
        "  res = \"\"\n",
        "  for val in input:\n",
        "    length = len(val)\n",
        "    res += f\"#{length}{val}\"\n",
        "  return res\n",
        "\n",
        "\n",
        "def decode(input):\n",
        "  ptr = 0\n",
        "  res = []\n",
        "  while ptr < len(input):\n",
        "    end_ptr = ptr+2+int(input[ptr+1])\n",
        "    val = input[ptr+2:end_ptr] \n",
        "    res.append(val)\n",
        "    ptr = end_ptr\n",
        "  return res\n",
        "\n",
        "#4leet#5##\n",
        "\n",
        "input_ = [\"leet..\",\"#code\"]\n",
        "a = encode(input_)\n",
        "print(a)\n",
        "b = decode(a)\n",
        "print(b)"
      ]
    },
    {
      "cell_type": "code",
      "source": [],
      "metadata": {
        "id": "39NPeKZSG-i_"
      },
      "execution_count": null,
      "outputs": []
    }
  ],
  "metadata": {
    "colab": {
      "name": "scratchpad",
      "provenance": [],
      "include_colab_link": true
    },
    "kernelspec": {
      "display_name": "Python 3",
      "name": "python3"
    }
  },
  "nbformat": 4,
  "nbformat_minor": 0
}